{
  "nbformat": 4,
  "nbformat_minor": 0,
  "metadata": {
    "kernelspec": {
      "display_name": "Python 3",
      "language": "python",
      "name": "python3"
    },
    "language_info": {
      "codemirror_mode": {
        "name": "ipython",
        "version": 3
      },
      "file_extension": ".py",
      "mimetype": "text/x-python",
      "name": "python",
      "nbconvert_exporter": "python",
      "pygments_lexer": "ipython3",
      "version": "3.5.5"
    },
    "colab": {
      "name": "01-operaciones.ipynb",
      "provenance": [],
      "include_colab_link": true
    }
  },
  "cells": [
    {
      "cell_type": "markdown",
      "metadata": {
        "id": "view-in-github",
        "colab_type": "text"
      },
      "source": [
        "<a href=\"https://colab.research.google.com/github/INFINITY-RUBER/Curso_Deep_Learning_Con_TernsorFlow_Machine-Learning_e_IA-/blob/master/scripts/tema03/01-operaciones.ipynb\" target=\"_parent\"><img src=\"https://colab.research.google.com/assets/colab-badge.svg\" alt=\"Open In Colab\"/></a>"
      ]
    },
    {
      "cell_type": "markdown",
      "metadata": {
        "id": "ZTkHZR4Q-bm5",
        "colab_type": "text"
      },
      "source": [
        "# Operaciones en el grafo de computación"
      ]
    },
    {
      "cell_type": "code",
      "metadata": {
        "id": "qjdGqaf_-kP9",
        "colab_type": "code",
        "colab": {}
      },
      "source": [
        "!pip install tensorflow==1.14\n",
        "\n"
      ],
      "execution_count": 0,
      "outputs": []
    },
    {
      "cell_type": "code",
      "metadata": {
        "id": "3apVfIhg-bm9",
        "colab_type": "code",
        "colab": {
          "base_uri": "https://localhost:8080/",
          "height": 34
        },
        "outputId": "8b187a11-af5a-4951-aa5d-b7c4dbefef1a"
      },
      "source": [
        "import tensorflow as tf\n",
        "print( tf.__version__)\n",
        "session = tf.Session()"
      ],
      "execution_count": 4,
      "outputs": [
        {
          "output_type": "stream",
          "text": [
            "1.14.0\n"
          ],
          "name": "stdout"
        }
      ]
    },
    {
      "cell_type": "code",
      "metadata": {
        "id": "CdAkdip9-bnJ",
        "colab_type": "code",
        "colab": {}
      },
      "source": [
        "import numpy as np"
      ],
      "execution_count": 0,
      "outputs": []
    },
    {
      "cell_type": "code",
      "metadata": {
        "id": "kGONM46_-bnR",
        "colab_type": "code",
        "colab": {}
      },
      "source": [
        "x_vals = np.array([2., 4., 6., 8., 10., 12.])"
      ],
      "execution_count": 0,
      "outputs": []
    },
    {
      "cell_type": "code",
      "metadata": {
        "id": "DhzMMbeb-bnY",
        "colab_type": "code",
        "colab": {}
      },
      "source": [
        "x_data = tf.placeholder(tf.float32)"
      ],
      "execution_count": 0,
      "outputs": []
    },
    {
      "cell_type": "code",
      "metadata": {
        "id": "uwrvqJ6K-bnh",
        "colab_type": "code",
        "colab": {}
      },
      "source": [
        "m_const = tf.constant(3.)"
      ],
      "execution_count": 0,
      "outputs": []
    },
    {
      "cell_type": "markdown",
      "metadata": {
        "id": "r-pJiS1s-bno",
        "colab_type": "text"
      },
      "source": [
        "$$y = mx = 3x$$"
      ]
    },
    {
      "cell_type": "code",
      "metadata": {
        "id": "vXkr01JC-bnp",
        "colab_type": "code",
        "colab": {}
      },
      "source": [
        "# PRODUCTO DE TENSORES\n",
        "my_product = tf.multiply(m_const, x_data)"
      ],
      "execution_count": 0,
      "outputs": []
    },
    {
      "cell_type": "code",
      "metadata": {
        "id": "TlwBgVtc-bnx",
        "colab_type": "code",
        "colab": {
          "base_uri": "https://localhost:8080/",
          "height": 34
        },
        "outputId": "cc007491-310a-4fd4-fd37-bf835d3b282d"
      },
      "source": [
        "my_product"
      ],
      "execution_count": 10,
      "outputs": [
        {
          "output_type": "execute_result",
          "data": {
            "text/plain": [
              "<tf.Tensor 'Mul:0' shape=<unknown> dtype=float32>"
            ]
          },
          "metadata": {
            "tags": []
          },
          "execution_count": 10
        }
      ]
    },
    {
      "cell_type": "code",
      "metadata": {
        "id": "lKqVb4eP-bn7",
        "colab_type": "code",
        "colab": {
          "base_uri": "https://localhost:8080/",
          "height": 118
        },
        "outputId": "9d0cbd87-6fbe-4e70-d059-f7a232a71898"
      },
      "source": [
        "for x_val in x_vals: # SUMINISTRAR LOS VALORES PARA EL PRODUCTO\n",
        "    print(session.run(my_product, feed_dict={x_data: x_val}))"
      ],
      "execution_count": 11,
      "outputs": [
        {
          "output_type": "stream",
          "text": [
            "6.0\n",
            "12.0\n",
            "18.0\n",
            "24.0\n",
            "30.0\n",
            "36.0\n"
          ],
          "name": "stdout"
        }
      ]
    },
    {
      "cell_type": "code",
      "metadata": {
        "id": "wGeZghz--boC",
        "colab_type": "code",
        "colab": {}
      },
      "source": [
        ""
      ],
      "execution_count": 0,
      "outputs": []
    }
  ]
}