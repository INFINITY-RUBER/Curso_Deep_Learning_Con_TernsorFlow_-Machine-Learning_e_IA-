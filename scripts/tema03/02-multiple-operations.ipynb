{
  "nbformat": 4,
  "nbformat_minor": 0,
  "metadata": {
    "kernelspec": {
      "display_name": "Python 3",
      "language": "python",
      "name": "python3"
    },
    "language_info": {
      "codemirror_mode": {
        "name": "ipython",
        "version": 3
      },
      "file_extension": ".py",
      "mimetype": "text/x-python",
      "name": "python",
      "nbconvert_exporter": "python",
      "pygments_lexer": "ipython3",
      "version": "3.5.5"
    },
    "colab": {
      "name": "02-multiple-operations.ipynb",
      "provenance": [],
      "include_colab_link": true
    },
    "accelerator": "GPU"
  },
  "cells": [
    {
      "cell_type": "markdown",
      "metadata": {
        "id": "view-in-github",
        "colab_type": "text"
      },
      "source": [
        "<a href=\"https://colab.research.google.com/github/INFINITY-RUBER/Curso_Deep_Learning_Con_TernsorFlow_Machine-Learning_e_IA-/blob/master/scripts/tema03/02-multiple-operations.ipynb\" target=\"_parent\"><img src=\"https://colab.research.google.com/assets/colab-badge.svg\" alt=\"Open In Colab\"/></a>"
      ]
    },
    {
      "cell_type": "code",
      "metadata": {
        "id": "8iSKUHCRRYon",
        "colab_type": "code",
        "colab": {}
      },
      "source": [
        "!pip install tensorflow==1.14"
      ],
      "execution_count": 0,
      "outputs": []
    },
    {
      "cell_type": "markdown",
      "metadata": {
        "id": "jmwnoI0cRVhp",
        "colab_type": "text"
      },
      "source": [
        "# Operaciones por capas"
      ]
    },
    {
      "cell_type": "code",
      "metadata": {
        "id": "Zhsya1D8RVhr",
        "colab_type": "code",
        "colab": {}
      },
      "source": [
        "import tensorflow as tf\n",
        "session = tf.Session()"
      ],
      "execution_count": 0,
      "outputs": []
    },
    {
      "cell_type": "markdown",
      "metadata": {
        "id": "Iu5IG-fGRVh3",
        "colab_type": "text"
      },
      "source": [
        "- $X \\in \\mathbb R_{3\\times 4}$"
      ]
    },
    {
      "cell_type": "code",
      "metadata": {
        "id": "rtBruyriRVh4",
        "colab_type": "code",
        "colab": {
          "base_uri": "https://localhost:8080/",
          "height": 67
        },
        "outputId": "d922b471-55b4-4e0d-eec7-35fb77ec12f7"
      },
      "source": [
        "import numpy as np\n",
        "my_array = np.array([[1.,3.,5.,7.],\n",
        "                     [-2.,0.,7.,6.],\n",
        "                     [-6.,-1.,0.,3.]])\n",
        "my_array # matrix (3 x 4)"
      ],
      "execution_count": 8,
      "outputs": [
        {
          "output_type": "execute_result",
          "data": {
            "text/plain": [
              "array([[ 1.,  3.,  5.,  7.],\n",
              "       [-2.,  0.,  7.,  6.],\n",
              "       [-6., -1.,  0.,  3.]])"
            ]
          },
          "metadata": {
            "tags": []
          },
          "execution_count": 8
        }
      ]
    },
    {
      "cell_type": "code",
      "metadata": {
        "id": "e6tj-IOtRViA",
        "colab_type": "code",
        "colab": {
          "base_uri": "https://localhost:8080/",
          "height": 134
        },
        "outputId": "118e5425-ef09-433a-9db3-11f7a66f7dc2"
      },
      "source": [
        "x_vals = np.array([my_array, my_array+1])\n",
        "x_vals # matrix (3 x 4)"
      ],
      "execution_count": 9,
      "outputs": [
        {
          "output_type": "execute_result",
          "data": {
            "text/plain": [
              "array([[[ 1.,  3.,  5.,  7.],\n",
              "        [-2.,  0.,  7.,  6.],\n",
              "        [-6., -1.,  0.,  3.]],\n",
              "\n",
              "       [[ 2.,  4.,  6.,  8.],\n",
              "        [-1.,  1.,  8.,  7.],\n",
              "        [-5.,  0.,  1.,  4.]]])"
            ]
          },
          "metadata": {
            "tags": []
          },
          "execution_count": 9
        }
      ]
    },
    {
      "cell_type": "code",
      "metadata": {
        "id": "A2jwiVmVRViI",
        "colab_type": "code",
        "colab": {}
      },
      "source": [
        "x_data = tf.placeholder(tf.float32, shape=(3,4))# placeholder de 3 filas y 4 columnas , None como dimencion significa que es variable la dimension"
      ],
      "execution_count": 0,
      "outputs": []
    },
    {
      "cell_type": "markdown",
      "metadata": {
        "id": "9to7QXD7RViP",
        "colab_type": "text"
      },
      "source": [
        "- $m_1 \\in \\mathbb R^4$\n",
        "- $m_2, a_1\\in \\mathbb R$"
      ]
    },
    {
      "cell_type": "code",
      "metadata": {
        "id": "lwJErN4_RViQ",
        "colab_type": "code",
        "colab": {}
      },
      "source": [
        "m1 = tf.constant([[1.], [0.], [-2.],[5.]])# vector columna (4 x 1)\n",
        "m2 = tf.constant([[7.]])#  (1 x 1)\n",
        "a1 = tf.constant([[15.]])# (1 x 1)"
      ],
      "execution_count": 0,
      "outputs": []
    },
    {
      "cell_type": "markdown",
      "metadata": {
        "id": "jDZenx1BRViX",
        "colab_type": "text"
      },
      "source": [
        "$$[(X\\cdot m_1)\\cdot m_2]+a_1$$"
      ]
    },
    {
      "cell_type": "code",
      "metadata": {
        "id": "o8xUUSZJRViY",
        "colab_type": "code",
        "colab": {}
      },
      "source": [
        "prod1 = tf.matmul(x_data, m1)\n",
        "prod2 = tf.matmul(prod1, m2)\n",
        "add1 = tf.add(prod2, a1)"
      ],
      "execution_count": 0,
      "outputs": []
    },
    {
      "cell_type": "code",
      "metadata": {
        "id": "sBJyYR5XRVih",
        "colab_type": "code",
        "colab": {
          "base_uri": "https://localhost:8080/",
          "height": 118
        },
        "outputId": "791d8df0-d2d6-4f20-8dfe-1f20b281eeda"
      },
      "source": [
        "for x_val in x_vals:\n",
        "    print(session.run(add1, feed_dict={x_data: x_val}))"
      ],
      "execution_count": 13,
      "outputs": [
        {
          "output_type": "stream",
          "text": [
            "[[197.]\n",
            " [113.]\n",
            " [ 78.]]\n",
            "[[225.]\n",
            " [141.]\n",
            " [106.]]\n"
          ],
          "name": "stdout"
        }
      ]
    },
    {
      "cell_type": "code",
      "metadata": {
        "id": "6xA58_c5RVio",
        "colab_type": "code",
        "colab": {}
      },
      "source": [
        ""
      ],
      "execution_count": 0,
      "outputs": []
    }
  ]
}