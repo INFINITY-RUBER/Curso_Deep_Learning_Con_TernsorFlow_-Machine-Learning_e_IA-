{
  "nbformat": 4,
  "nbformat_minor": 0,
  "metadata": {
    "kernelspec": {
      "display_name": "Python 3",
      "language": "python",
      "name": "python3"
    },
    "language_info": {
      "codemirror_mode": {
        "name": "ipython",
        "version": 3
      },
      "file_extension": ".py",
      "mimetype": "text/x-python",
      "name": "python",
      "nbconvert_exporter": "python",
      "pygments_lexer": "ipython3",
      "version": "3.5.5"
    },
    "colab": {
      "name": "06-training.ipynb",
      "provenance": [],
      "include_colab_link": true
    }
  },
  "cells": [
    {
      "cell_type": "markdown",
      "metadata": {
        "id": "view-in-github",
        "colab_type": "text"
      },
      "source": [
        "<a href=\"https://colab.research.google.com/github/INFINITY-RUBER/Curso_Deep_Learning_Con_TernsorFlow_Machine-Learning_e_IA-/blob/master/scripts/tema03/06-training.ipynb\" target=\"_parent\"><img src=\"https://colab.research.google.com/assets/colab-badge.svg\" alt=\"Open In Colab\"/></a>"
      ]
    },
    {
      "cell_type": "code",
      "metadata": {
        "id": "z2KY0CJ8DPVc",
        "colab_type": "code",
        "colab": {}
      },
      "source": [
        "!pip install tensorflow==1.14"
      ],
      "execution_count": 0,
      "outputs": []
    },
    {
      "cell_type": "markdown",
      "metadata": {
        "id": "fLxiXvrpDN8J",
        "colab_type": "text"
      },
      "source": [
        "# Entrenamiento estocástico y por bloques"
      ]
    },
    {
      "cell_type": "code",
      "metadata": {
        "id": "daJ-ekQADN8L",
        "colab_type": "code",
        "colab": {}
      },
      "source": [
        "import numpy as np\n",
        "import matplotlib.pyplot as plt\n",
        "import tensorflow as tf\n",
        "session = tf.Session()"
      ],
      "execution_count": 0,
      "outputs": []
    },
    {
      "cell_type": "code",
      "metadata": {
        "id": "j4xERqREDN8U",
        "colab_type": "code",
        "colab": {}
      },
      "source": [
        "batch_size = 25"
      ],
      "execution_count": 0,
      "outputs": []
    },
    {
      "cell_type": "code",
      "metadata": {
        "id": "CLZt-blmDN8a",
        "colab_type": "code",
        "colab": {}
      },
      "source": [
        "x_vals = np.random.normal(1.0, 0.1, 200)\n",
        "y_vals = np.repeat(10.0, 200)"
      ],
      "execution_count": 0,
      "outputs": []
    },
    {
      "cell_type": "code",
      "metadata": {
        "id": "hD7YeuGUDN8h",
        "colab_type": "code",
        "colab": {}
      },
      "source": [
        "x_data = tf.placeholder(shape=[None, 1], dtype = tf.float32)\n",
        "y_target = tf.placeholder(shape=[None, 1], dtype=tf.float32)\n",
        "A = tf.Variable(tf.random_normal(shape=[1,1]))"
      ],
      "execution_count": 0,
      "outputs": []
    },
    {
      "cell_type": "code",
      "metadata": {
        "id": "RvJVZiA1DN8o",
        "colab_type": "code",
        "colab": {}
      },
      "source": [
        "my_prediction = tf.matmul(x_data, A)"
      ],
      "execution_count": 0,
      "outputs": []
    },
    {
      "cell_type": "code",
      "metadata": {
        "id": "kspTUZdDDN8v",
        "colab_type": "code",
        "colab": {}
      },
      "source": [
        "# FUNCION DE PERDIDA\n",
        "loss = tf.reduce_mean(tf.square(my_prediction-y_target))# reduce_mean: reducior a un solo valora calculando la media"
      ],
      "execution_count": 0,
      "outputs": []
    },
    {
      "cell_type": "code",
      "metadata": {
        "id": "gIH-pyf1DN82",
        "colab_type": "code",
        "colab": {}
      },
      "source": [
        "my_optimizer = tf.train.GradientDescentOptimizer(learning_rate=0.025)\n",
        "train_step = my_optimizer.minimize(loss)"
      ],
      "execution_count": 0,
      "outputs": []
    },
    {
      "cell_type": "code",
      "metadata": {
        "id": "GjWmasoJDN9A",
        "colab_type": "code",
        "colab": {}
      },
      "source": [
        "init = tf.global_variables_initializer()"
      ],
      "execution_count": 0,
      "outputs": []
    },
    {
      "cell_type": "code",
      "metadata": {
        "id": "kLcpZ8ALDN9G",
        "colab_type": "code",
        "colab": {}
      },
      "source": [
        "session.run(init)"
      ],
      "execution_count": 0,
      "outputs": []
    },
    {
      "cell_type": "code",
      "metadata": {
        "id": "RGmuzB1TDN9L",
        "colab_type": "code",
        "colab": {
          "base_uri": "https://localhost:8080/",
          "height": 1000
        },
        "outputId": "1878a917-7431-4d55-9d8d-7bfb4c53bab9"
      },
      "source": [
        "# EL ENTRENAMIENTO POR BLOQUES:\n",
        "loss_batch = []\n",
        "for i in range(200):\n",
        "    rand_index = np.random.choice(200, size = batch_size)\n",
        "    rand_x = np.transpose([x_vals[rand_index]])\n",
        "    rand_y = np.transpose([y_vals[rand_index]])\n",
        "    session.run(train_step, feed_dict={x_data:rand_x, y_target:rand_y})\n",
        "    if (i+1)%5 == 0:\n",
        "        print(\"Paso #\"+str(i+1)+' A='+str(session.run(A)))\n",
        "        temp_loss = session.run(loss, feed_dict={x_data:rand_x, y_target:rand_y})\n",
        "        print(\"Loss: \"+str(temp_loss))\n",
        "        loss_batch.append(temp_loss)"
      ],
      "execution_count": 34,
      "outputs": [
        {
          "output_type": "stream",
          "text": [
            "Paso #5 A=[[2.8164134]]\n",
            "Loss: 51.5044\n",
            "Paso #10 A=[[4.4193773]]\n",
            "Loss: 32.614586\n",
            "Paso #15 A=[[5.67399]]\n",
            "Loss: 21.28525\n",
            "Paso #20 A=[[6.6439776]]\n",
            "Loss: 10.42443\n",
            "Paso #25 A=[[7.392861]]\n",
            "Loss: 7.5948553\n",
            "Paso #30 A=[[7.9647098]]\n",
            "Loss: 4.0197387\n",
            "Paso #35 A=[[8.402622]]\n",
            "Loss: 2.5631957\n",
            "Paso #40 A=[[8.749522]]\n",
            "Loss: 2.7581294\n",
            "Paso #45 A=[[9.047038]]\n",
            "Loss: 2.7052896\n",
            "Paso #50 A=[[9.262484]]\n",
            "Loss: 1.45542\n",
            "Paso #55 A=[[9.409717]]\n",
            "Loss: 0.57170165\n",
            "Paso #60 A=[[9.543932]]\n",
            "Loss: 1.3307277\n",
            "Paso #65 A=[[9.645735]]\n",
            "Loss: 1.0307968\n",
            "Paso #70 A=[[9.7393]]\n",
            "Loss: 0.7579573\n",
            "Paso #75 A=[[9.773131]]\n",
            "Loss: 1.0227455\n",
            "Paso #80 A=[[9.8338375]]\n",
            "Loss: 1.1249692\n",
            "Paso #85 A=[[9.86302]]\n",
            "Loss: 1.149787\n",
            "Paso #90 A=[[9.889319]]\n",
            "Loss: 0.64583725\n",
            "Paso #95 A=[[9.888662]]\n",
            "Loss: 1.1435848\n",
            "Paso #100 A=[[9.919438]]\n",
            "Loss: 0.55376977\n",
            "Paso #105 A=[[9.938085]]\n",
            "Loss: 1.0421137\n",
            "Paso #110 A=[[9.934745]]\n",
            "Loss: 0.5872683\n",
            "Paso #115 A=[[9.922988]]\n",
            "Loss: 0.5579542\n",
            "Paso #120 A=[[9.908825]]\n",
            "Loss: 1.0778813\n",
            "Paso #125 A=[[9.910637]]\n",
            "Loss: 0.70426726\n",
            "Paso #130 A=[[9.948261]]\n",
            "Loss: 0.44322726\n",
            "Paso #135 A=[[9.952209]]\n",
            "Loss: 0.9927755\n",
            "Paso #140 A=[[9.93439]]\n",
            "Loss: 1.36254\n",
            "Paso #145 A=[[9.942193]]\n",
            "Loss: 0.7306788\n",
            "Paso #150 A=[[9.948991]]\n",
            "Loss: 0.7104062\n",
            "Paso #155 A=[[9.954228]]\n",
            "Loss: 0.723833\n",
            "Paso #160 A=[[9.944582]]\n",
            "Loss: 0.8711119\n",
            "Paso #165 A=[[9.956597]]\n",
            "Loss: 1.3349717\n",
            "Paso #170 A=[[9.97821]]\n",
            "Loss: 1.0134192\n",
            "Paso #175 A=[[9.996015]]\n",
            "Loss: 0.8848779\n",
            "Paso #180 A=[[10.021459]]\n",
            "Loss: 0.45793545\n",
            "Paso #185 A=[[10.009806]]\n",
            "Loss: 0.54215467\n",
            "Paso #190 A=[[9.995671]]\n",
            "Loss: 0.39280006\n",
            "Paso #195 A=[[9.991244]]\n",
            "Loss: 0.8222449\n",
            "Paso #200 A=[[9.997464]]\n",
            "Loss: 0.8748305\n"
          ],
          "name": "stdout"
        }
      ]
    },
    {
      "cell_type": "code",
      "metadata": {
        "id": "KScRBUOzDN9T",
        "colab_type": "code",
        "colab": {
          "base_uri": "https://localhost:8080/",
          "height": 1000
        },
        "outputId": "392ba5ee-8483-43df-9469-1e24f9f7c01a"
      },
      "source": [
        "# METODO POR PERDITO STOCKASTICO (elije aleatorio un solo elemetno)\n",
        "loss_stochastic = []\n",
        "for i in range(200):\n",
        "    rand_index = np.random.choice(200, size=1)\n",
        "    rand_x = [x_vals[rand_index]]\n",
        "    rand_y = [y_vals[rand_index]]\n",
        "    session.run(train_step, feed_dict={x_data:rand_x, y_target:rand_y})\n",
        "    if (i+1)%5 == 0:\n",
        "        print(\"Paso #\"+str(i+1)+' A='+str(session.run(A)))\n",
        "        temp_loss = session.run(loss, feed_dict={x_data:rand_x, y_target:rand_y})\n",
        "        print(\"Loss: \"+str(temp_loss))\n",
        "        loss_stochastic.append(temp_loss)"
      ],
      "execution_count": 45,
      "outputs": [
        {
          "output_type": "stream",
          "text": [
            "Paso #5 A=[[3.4648173]]\n",
            "Loss: 42.343616\n",
            "Paso #10 A=[[4.9367795]]\n",
            "Loss: 32.136604\n",
            "Paso #15 A=[[6.0811863]]\n",
            "Loss: 14.566911\n",
            "Paso #20 A=[[6.963864]]\n",
            "Loss: 10.513366\n",
            "Paso #25 A=[[7.6512284]]\n",
            "Loss: 2.7506278\n",
            "Paso #30 A=[[8.14285]]\n",
            "Loss: 2.756391\n",
            "Paso #35 A=[[8.643411]]\n",
            "Loss: 2.7439601\n",
            "Paso #40 A=[[8.943946]]\n",
            "Loss: 0.027839271\n",
            "Paso #45 A=[[9.186192]]\n",
            "Loss: 0.10197118\n",
            "Paso #50 A=[[9.3519335]]\n",
            "Loss: 0.17801312\n",
            "Paso #55 A=[[9.617778]]\n",
            "Loss: 2.519392\n",
            "Paso #60 A=[[9.632128]]\n",
            "Loss: 0.7937736\n",
            "Paso #65 A=[[9.660272]]\n",
            "Loss: 2.9784894\n",
            "Paso #70 A=[[9.839921]]\n",
            "Loss: 0.9412317\n",
            "Paso #75 A=[[10.015671]]\n",
            "Loss: 1.5356654\n",
            "Paso #80 A=[[9.833382]]\n",
            "Loss: 0.3353078\n",
            "Paso #85 A=[[9.831227]]\n",
            "Loss: 0.49018133\n",
            "Paso #90 A=[[9.915969]]\n",
            "Loss: 0.012432841\n",
            "Paso #95 A=[[9.824347]]\n",
            "Loss: 0.92600167\n",
            "Paso #100 A=[[9.63708]]\n",
            "Loss: 0.8037834\n",
            "Paso #105 A=[[9.845038]]\n",
            "Loss: 0.08503014\n",
            "Paso #110 A=[[9.986786]]\n",
            "Loss: 3.9736269\n",
            "Paso #115 A=[[9.824263]]\n",
            "Loss: 1.5465003\n",
            "Paso #120 A=[[10.005811]]\n",
            "Loss: 1.2478032\n",
            "Paso #125 A=[[9.999348]]\n",
            "Loss: 0.16463484\n",
            "Paso #130 A=[[10.111881]]\n",
            "Loss: 0.54521555\n",
            "Paso #135 A=[[10.079444]]\n",
            "Loss: 0.07296618\n",
            "Paso #140 A=[[10.09423]]\n",
            "Loss: 1.3603153\n",
            "Paso #145 A=[[10.193533]]\n",
            "Loss: 1.1174912\n",
            "Paso #150 A=[[9.930711]]\n",
            "Loss: 5.3088856\n",
            "Paso #155 A=[[9.907646]]\n",
            "Loss: 0.050021447\n",
            "Paso #160 A=[[9.898659]]\n",
            "Loss: 0.8395494\n",
            "Paso #165 A=[[9.931918]]\n",
            "Loss: 0.53398174\n",
            "Paso #170 A=[[9.906754]]\n",
            "Loss: 0.36262017\n",
            "Paso #175 A=[[9.943653]]\n",
            "Loss: 0.11424743\n",
            "Paso #180 A=[[10.117321]]\n",
            "Loss: 1.2633237\n",
            "Paso #185 A=[[10.037285]]\n",
            "Loss: 1.1154578\n",
            "Paso #190 A=[[9.958102]]\n",
            "Loss: 0.8407155\n",
            "Paso #195 A=[[10.015204]]\n",
            "Loss: 0.3961579\n",
            "Paso #200 A=[[9.971024]]\n",
            "Loss: 0.34383145\n"
          ],
          "name": "stdout"
        }
      ]
    },
    {
      "cell_type": "code",
      "metadata": {
        "id": "DoJjdiRvDN9b",
        "colab_type": "code",
        "colab": {
          "base_uri": "https://localhost:8080/",
          "height": 265
        },
        "outputId": "96f6ebee-43c2-4760-ecad-7df59786a201"
      },
      "source": [
        "plt.plot(range(0,200,5), loss_stochastic, 'b-', label = \"Entrenamiento estocástico\")# 'b-': azul y rayitas\n",
        "plt.plot(range(0,200,5), loss_batch, 'r--', label = \"Entrenamiento por bloques de tamaño 25\")#'r--': rojo con raytas\n",
        "plt.legend(loc=\"upper right\", prop={'size':10})\n",
        "plt.show()"
      ],
      "execution_count": 46,
      "outputs": [
        {
          "output_type": "display_data",
          "data": {
            "image/png": "[encoded data removed]",
            "text/plain": [
              "<Figure size 432x288 with 1 Axes>"
            ]
          },
          "metadata": {
            "tags": [],
            "needs_background": "light"
          }
        }
      ]
    },
    {
      "cell_type": "code",
      "metadata": {
        "id": "MaQtyhU0DN9j",
        "colab_type": "code",
        "colab": {}
      },
      "source": [
        ""
      ],
      "execution_count": 0,
      "outputs": []
    }
  ]
}