{
  "nbformat": 4,
  "nbformat_minor": 0,
  "metadata": {
    "kernelspec": {
      "display_name": "Python 3",
      "language": "python",
      "name": "python3"
    },
    "language_info": {
      "codemirror_mode": {
        "name": "ipython",
        "version": 3
      },
      "file_extension": ".py",
      "mimetype": "text/x-python",
      "name": "python",
      "nbconvert_exporter": "python",
      "pygments_lexer": "ipython3",
      "version": "3.5.5"
    },
    "colab": {
      "name": "05-backpropagation.ipynb",
      "provenance": [],
      "include_colab_link": true
    }
  },
  "cells": [
    {
      "cell_type": "markdown",
      "metadata": {
        "id": "view-in-github",
        "colab_type": "text"
      },
      "source": [
        "<a href=\"https://colab.research.google.com/github/INFINITY-RUBER/Curso_Deep_Learning_Con_TernsorFlow_Machine-Learning_e_IA-/blob/master/scripts/tema03/05-backpropagation.ipynb\" target=\"_parent\"><img src=\"https://colab.research.google.com/assets/colab-badge.svg\" alt=\"Open In Colab\"/></a>"
      ]
    },
    {
      "cell_type": "code",
      "metadata": {
        "id": "X6GTVO-5tTOi",
        "colab_type": "code",
        "colab": {}
      },
      "source": [
        "!pip install tensorflow==1.14"
      ],
      "execution_count": 0,
      "outputs": []
    },
    {
      "cell_type": "markdown",
      "metadata": {
        "id": "duIcW9c9r0ko",
        "colab_type": "text"
      },
      "source": [
        "# Propagación hacia atrás"
      ]
    },
    {
      "cell_type": "code",
      "metadata": {
        "id": "Tzj7rTghr0k4",
        "colab_type": "code",
        "colab": {}
      },
      "source": [
        "import tensorflow as tf\n",
        "import numpy as np\n",
        "session = tf.Session()"
      ],
      "execution_count": 0,
      "outputs": []
    },
    {
      "cell_type": "markdown",
      "metadata": {
        "id": "tc9BxYh5r0la",
        "colab_type": "text"
      },
      "source": [
        "### Ejemplo de Regresión\n",
        "- $X \\sim N(1.0, 0.1)$\n",
        "- $y = Ax, A = 10$\n",
        "- target = 10\n",
        "- $L2$ función de pérdidas"
      ]
    },
    {
      "cell_type": "code",
      "metadata": {
        "id": "fxX_lpPir0lc",
        "colab_type": "code",
        "colab": {}
      },
      "source": [
        "x_vals = np.random.normal(loc=1, scale=0.1, size=200)\n",
        "y_vals = np.repeat(10., 200)"
      ],
      "execution_count": 0,
      "outputs": []
    },
    {
      "cell_type": "code",
      "metadata": {
        "id": "QpebmM0Ar0ln",
        "colab_type": "code",
        "colab": {}
      },
      "source": [
        "x_data = tf.placeholder(shape = [1], dtype=tf.float32)\n",
        "y_target = tf.placeholder(shape = [1], dtype=tf.float32)\n",
        "A = tf.Variable(tf.random_normal(shape=[1]))"
      ],
      "execution_count": 0,
      "outputs": []
    },
    {
      "cell_type": "code",
      "metadata": {
        "id": "mtGmlQR0r0lx",
        "colab_type": "code",
        "colab": {}
      },
      "source": [
        "my_pred = tf.multiply(A, x_data)"
      ],
      "execution_count": 0,
      "outputs": []
    },
    {
      "cell_type": "code",
      "metadata": {
        "id": "aS248bzrr0l8",
        "colab_type": "code",
        "colab": {}
      },
      "source": [
        "loss = tf.square(my_pred - y_target)"
      ],
      "execution_count": 0,
      "outputs": []
    },
    {
      "cell_type": "code",
      "metadata": {
        "id": "pRJpH1gar0mG",
        "colab_type": "code",
        "colab": {}
      },
      "source": [
        "my_optim = tf.train.GradientDescentOptimizer(learning_rate=0.025)\n",
        "train_step = my_optim.minimize(loss)"
      ],
      "execution_count": 0,
      "outputs": []
    },
    {
      "cell_type": "code",
      "metadata": {
        "id": "3lvZAkDor0mR",
        "colab_type": "code",
        "colab": {}
      },
      "source": [
        "init = tf.global_variables_initializer()\n",
        "session.run(init)"
      ],
      "execution_count": 0,
      "outputs": []
    },
    {
      "cell_type": "code",
      "metadata": {
        "id": "4aes2BG_r0mc",
        "colab_type": "code",
        "colab": {
          "base_uri": "https://localhost:8080/",
          "height": 269
        },
        "outputId": "47cd5800-d621-487c-d2a4-0a0416fb3956"
      },
      "source": [
        "for i in range(300):\n",
        "    rand_index = np.random.choice(200)\n",
        "    rand_x = [x_vals[rand_index]]\n",
        "    rand_y = [y_vals[rand_index]]\n",
        "    session.run(train_step, feed_dict={x_data : rand_x, y_target : rand_y})\n",
        "    if (i+1)%20==0:\n",
        "        print(\"Paso #\"+str(i+1)+\" A = \"+str(session.run(A)) + \n",
        "              \" Loss: \"+str(session.run(loss, feed_dict={x_data:rand_x, y_target: rand_y})))"
      ],
      "execution_count": 23,
      "outputs": [
        {
          "output_type": "stream",
          "text": [
            "Paso #20 A = [10.025274] Loss: [1.3480523]\n",
            "Paso #40 A = [10.110537] Loss: [0.04124388]\n",
            "Paso #60 A = [9.759566] Loss: [2.4133835]\n",
            "Paso #80 A = [9.776349] Loss: [1.6492008]\n",
            "Paso #100 A = [9.788009] Loss: [1.1830703]\n",
            "Paso #120 A = [9.811046] Loss: [0.02116115]\n",
            "Paso #140 A = [9.870975] Loss: [0.08383634]\n",
            "Paso #160 A = [9.981277] Loss: [2.9127967]\n",
            "Paso #180 A = [9.727399] Loss: [0.05148495]\n",
            "Paso #200 A = [9.989267] Loss: [2.9395902]\n",
            "Paso #220 A = [9.929722] Loss: [1.7407053]\n",
            "Paso #240 A = [9.928542] Loss: [0.08355492]\n",
            "Paso #260 A = [10.0615835] Loss: [0.16072607]\n",
            "Paso #280 A = [9.90349] Loss: [0.2407142]\n",
            "Paso #300 A = [9.793332] Loss: [0.35463956]\n"
          ],
          "name": "stdout"
        }
      ]
    },
    {
      "cell_type": "markdown",
      "metadata": {
        "id": "_UeGj92Wr0m-",
        "colab_type": "text"
      },
      "source": [
        "### Ejemplo de clasificación binaria\n",
        "- $X_1\\sim N(-2, 1), X_2 \\sim N(2,1)$\n",
        "- $target(X_1) = 0, target(X_2) = 1$\n",
        "- sigmoid(x+A) = $\\frac{1}{1+e^{-(x+A)}}$\n",
        "- Determinar el valor de $A$\n",
        "- Teóricamente $A\\simeq \\frac{m_1+m_2}{2}, m_1 = -2, m_2 = 2$"
      ]
    },
    {
      "cell_type": "code",
      "metadata": {
        "id": "j2w1arJLr0nA",
        "colab_type": "code",
        "colab": {}
      },
      "source": [
        "from tensorflow.python.framework import ops\n",
        "ops.reset_default_graph() # resetea los grafos manipulados anteriomente y deja una hojalimpia para trabajar\n",
        "session = tf.Session()"
      ],
      "execution_count": 0,
      "outputs": []
    },
    {
      "cell_type": "code",
      "metadata": {
        "id": "gjrVs0J2r0nW",
        "colab_type": "code",
        "colab": {}
      },
      "source": [
        "x_vals = np.concatenate((np.random.normal(-2,1,100), np.random.normal(2,1,100)))# Concatena los dos arreglos \n",
        "y_vals = np.concatenate((np.repeat(0., 100), np.repeat(1., 100)))# repite 100 ceros y repite 100 unos"
      ],
      "execution_count": 0,
      "outputs": []
    },
    {
      "cell_type": "code",
      "metadata": {
        "id": "S6Djapiz37uh",
        "colab_type": "code",
        "colab": {
          "base_uri": "https://localhost:8080/",
          "height": 50
        },
        "outputId": "d858a37c-fa97-4bc5-81bf-15950c536b6d"
      },
      "source": [
        "print(\"x_vals:\",type(x_vals))\n",
        "print(\"y_vals:\",type(x_vals))"
      ],
      "execution_count": 61,
      "outputs": [
        {
          "output_type": "stream",
          "text": [
            "x_vals: <class 'numpy.ndarray'>\n",
            "y_vals: <class 'numpy.ndarray'>\n"
          ],
          "name": "stdout"
        }
      ]
    },
    {
      "cell_type": "code",
      "metadata": {
        "id": "eUxswJiQr0ng",
        "colab_type": "code",
        "colab": {}
      },
      "source": [
        "x_data = tf.placeholder(shape = [1], dtype = tf.float32)\n",
        "y_target = tf.placeholder(shape = [1], dtype = tf.float32)\n",
        "A = tf.Variable(tf.random_normal(mean = 10, shape=[1]))"
      ],
      "execution_count": 0,
      "outputs": []
    },
    {
      "cell_type": "code",
      "metadata": {
        "id": "DUfKXxdar0nz",
        "colab_type": "code",
        "colab": {}
      },
      "source": [
        "my_prediction = tf.add(x_data, A)"
      ],
      "execution_count": 0,
      "outputs": []
    },
    {
      "cell_type": "code",
      "metadata": {
        "id": "0ynorR-Pr0oA",
        "colab_type": "code",
        "colab": {}
      },
      "source": [
        "my_prediction_expanded = tf.expand_dims(my_prediction, 0)\n",
        "y_target_expanded = tf.expand_dims(y_target,0 )"
      ],
      "execution_count": 0,
      "outputs": []
    },
    {
      "cell_type": "code",
      "metadata": {
        "id": "wA8GXhA5r0oI",
        "colab_type": "code",
        "colab": {
          "base_uri": "https://localhost:8080/",
          "height": 34
        },
        "outputId": "10db5f1b-711e-4875-d2bb-a60456ab9884"
      },
      "source": [
        "init = tf.initialize_all_variables()\n",
        "session.run(init)\n",
        "print(session.run(A))"
      ],
      "execution_count": 65,
      "outputs": [
        {
          "output_type": "stream",
          "text": [
            "[9.424094]\n"
          ],
          "name": "stdout"
        }
      ]
    },
    {
      "cell_type": "code",
      "metadata": {
        "id": "Bz3L7kDcr0oT",
        "colab_type": "code",
        "colab": {}
      },
      "source": [
        "# funcion de perdidas diferente al anterior (tf.square(my_pred - y_target))\n",
        "xentr = tf.nn.sigmoid_cross_entropy_with_logits(logits=my_prediction_expanded, labels=y_target_expanded)\n",
        "# xentr: ENTROPIA CRUZADA "
      ],
      "execution_count": 0,
      "outputs": []
    },
    {
      "cell_type": "code",
      "metadata": {
        "id": "pujovZohr0oa",
        "colab_type": "code",
        "colab": {}
      },
      "source": [
        "my_optim = tf.train.GradientDescentOptimizer(learning_rate=0.04)\n",
        "train_step = my_optim.minimize(xentr)"
      ],
      "execution_count": 0,
      "outputs": []
    },
    {
      "cell_type": "code",
      "metadata": {
        "id": "wPtxgz0Pr0oh",
        "colab_type": "code",
        "colab": {
          "base_uri": "https://localhost:8080/",
          "height": 353
        },
        "outputId": "22ed2d91-674d-4488-e344-ee454079753b"
      },
      "source": [
        "for i in range(2000):\n",
        "    rand_idx = np.random.choice(200)\n",
        "    rand_x = [x_vals[rand_idx]]\n",
        "    rand_y = [y_vals[rand_idx]]\n",
        "    session.run(train_step, feed_dict={x_data : rand_x, y_target : rand_y})\n",
        "    if (i+1)%100==0:\n",
        "        print(\"Paso #\"+str(i+1)+\", A = \"+str(session.run(A))+\", Loss = \"+\n",
        "             str(session.run(xentr, feed_dict={x_data : rand_x, y_target: rand_y})))"
      ],
      "execution_count": 68,
      "outputs": [
        {
          "output_type": "stream",
          "text": [
            "Paso #100, A = [7.072941], Loss = [[4.37046]]\n",
            "Paso #200, A = [5.0929594], Loss = [[0.00049179]]\n",
            "Paso #300, A = [3.3481958], Loss = [[0.00732599]]\n",
            "Paso #400, A = [2.0692015], Loss = [[0.42805985]]\n",
            "Paso #500, A = [1.2453051], Loss = [[0.24545135]]\n",
            "Paso #600, A = [0.7916904], Loss = [[1.0441221]]\n",
            "Paso #700, A = [0.37571657], Loss = [[0.0651329]]\n",
            "Paso #800, A = [0.0939815], Loss = [[0.21648698]]\n",
            "Paso #900, A = [-0.0173156], Loss = [[0.24481437]]\n",
            "Paso #1000, A = [-0.09190969], Loss = [[0.5537498]]\n",
            "Paso #1100, A = [-0.18038386], Loss = [[0.04760887]]\n",
            "Paso #1200, A = [-0.17738222], Loss = [[0.19822623]]\n",
            "Paso #1300, A = [-0.20507315], Loss = [[0.24445388]]\n",
            "Paso #1400, A = [-0.04494697], Loss = [[0.16750784]]\n",
            "Paso #1500, A = [-0.02182559], Loss = [[0.85850537]]\n",
            "Paso #1600, A = [-0.07116082], Loss = [[0.02991147]]\n",
            "Paso #1700, A = [-0.04115419], Loss = [[0.30086356]]\n",
            "Paso #1800, A = [-0.02422573], Loss = [[0.07612893]]\n",
            "Paso #1900, A = [-0.10689463], Loss = [[0.09306377]]\n",
            "Paso #2000, A = [-0.10282782], Loss = [[0.05617684]]\n"
          ],
          "name": "stdout"
        }
      ]
    },
    {
      "cell_type": "code",
      "metadata": {
        "id": "oxzumiGXr0op",
        "colab_type": "code",
        "colab": {}
      },
      "source": [
        ""
      ],
      "execution_count": 0,
      "outputs": []
    }
  ]
}