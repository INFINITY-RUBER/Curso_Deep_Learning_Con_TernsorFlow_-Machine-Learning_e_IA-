{
  "nbformat": 4,
  "nbformat_minor": 0,
  "metadata": {
    "kernelspec": {
      "display_name": "Python 3",
      "language": "python",
      "name": "python3"
    },
    "language_info": {
      "codemirror_mode": {
        "name": "ipython",
        "version": 3
      },
      "file_extension": ".py",
      "mimetype": "text/x-python",
      "name": "python",
      "nbconvert_exporter": "python",
      "pygments_lexer": "ipython3",
      "version": "3.5.5"
    },
    "colab": {
      "name": "07-iris.ipynb",
      "provenance": [],
      "include_colab_link": true
    }
  },
  "cells": [
    {
      "cell_type": "markdown",
      "metadata": {
        "id": "view-in-github",
        "colab_type": "text"
      },
      "source": [
        "<a href=\"https://colab.research.google.com/github/INFINITY-RUBER/Curso_Deep_Learning_Con_TernsorFlow_Machine-Learning_e_IA-/blob/master/scripts/tema03/07-iris.ipynb\" target=\"_parent\"><img src=\"https://colab.research.google.com/assets/colab-badge.svg\" alt=\"Open In Colab\"/></a>"
      ]
    },
    {
      "cell_type": "code",
      "metadata": {
        "id": "Sx_603dUKhZH",
        "colab_type": "code",
        "colab": {}
      },
      "source": [
        "!pip install tensorflow==1.14"
      ],
      "execution_count": 0,
      "outputs": []
    },
    {
      "cell_type": "markdown",
      "metadata": {
        "id": "OeL-OYBzKYiR",
        "colab_type": "text"
      },
      "source": [
        "# Clasificación de la especie *Iris Setosa*"
      ]
    },
    {
      "cell_type": "code",
      "metadata": {
        "id": "B4KCK6JqKYiU",
        "colab_type": "code",
        "colab": {}
      },
      "source": [
        "import matplotlib.pyplot as plt\n",
        "import numpy as np\n",
        "from sklearn import datasets\n",
        "import tensorflow as tf\n",
        "session = tf.Session()"
      ],
      "execution_count": 0,
      "outputs": []
    },
    {
      "cell_type": "markdown",
      "metadata": {
        "id": "b0WvSfYNKYif",
        "colab_type": "text"
      },
      "source": [
        "### Carga y manipulación de datos"
      ]
    },
    {
      "cell_type": "code",
      "metadata": {
        "id": "YK4txidCKYih",
        "colab_type": "code",
        "colab": {}
      },
      "source": [
        "iris = datasets.load_iris()\n",
        "binary_target = np.array([1.0 if x == 0 else 0.0 for x in iris.target])\n",
        "iris_2d = np.array([[x[2], x[3]] for x in iris.data])"
      ],
      "execution_count": 0,
      "outputs": []
    },
    {
      "cell_type": "code",
      "metadata": {
        "id": "3mNQqxWGLRhk",
        "colab_type": "code",
        "colab": {
          "base_uri": "https://localhost:8080/",
          "height": 54
        },
        "outputId": "f5ba7304-d82a-41ad-9c4d-7d5d26d9b2d3"
      },
      "source": [
        "iris_2d[0:2]"
      ],
      "execution_count": 9,
      "outputs": [
        {
          "output_type": "execute_result",
          "data": {
            "text/plain": [
              "array([[1.4, 0.2],\n",
              "       [1.4, 0.2]])"
            ]
          },
          "metadata": {
            "tags": []
          },
          "execution_count": 9
        }
      ]
    },
    {
      "cell_type": "markdown",
      "metadata": {
        "id": "72nkM65zKYio",
        "colab_type": "text"
      },
      "source": [
        "### Declarar variables"
      ]
    },
    {
      "cell_type": "code",
      "metadata": {
        "id": "ypYWT3xgKYip",
        "colab_type": "code",
        "colab": {}
      },
      "source": [
        "batch_size = 20\n",
        "x1_data = tf.placeholder(shape = [None, 1], dtype = tf.float32)\n",
        "x2_data = tf.placeholder(shape = [None, 1], dtype = tf.float32)\n",
        "y_target = tf.placeholder(shape = [None, 1], dtype = tf.float32)"
      ],
      "execution_count": 0,
      "outputs": []
    },
    {
      "cell_type": "markdown",
      "metadata": {
        "id": "omKpMDDMKYiv",
        "colab_type": "text"
      },
      "source": [
        "### Crear el modelo\n",
        "$$x_2 = Ax_1+b \\Rightarrow x_2-Ax_1-b=0$$"
      ]
    },
    {
      "cell_type": "code",
      "metadata": {
        "id": "dT-oeraSKYix",
        "colab_type": "code",
        "colab": {}
      },
      "source": [
        "A = tf.Variable(tf.random_normal(shape=[1,1]))\n",
        "b = tf.Variable(tf.random_normal(shape=[1,1]))"
      ],
      "execution_count": 0,
      "outputs": []
    },
    {
      "cell_type": "code",
      "metadata": {
        "id": "UZOGFUTCKYi3",
        "colab_type": "code",
        "colab": {}
      },
      "source": [
        "my_mult = tf.matmul(x2_data, A)\n",
        "my_add = tf.add(my_mult, b)\n",
        "my_prediction = tf.subtract(x1_data, my_add)"
      ],
      "execution_count": 0,
      "outputs": []
    },
    {
      "cell_type": "markdown",
      "metadata": {
        "id": "10r1KRCbKYi-",
        "colab_type": "text"
      },
      "source": [
        "## Función de pérdidas y propagación hacia atrás"
      ]
    },
    {
      "cell_type": "code",
      "metadata": {
        "id": "TClS4XmDKYi_",
        "colab_type": "code",
        "colab": {}
      },
      "source": [
        "xentropy = tf.nn.sigmoid_cross_entropy_with_logits(logits=my_prediction, labels=y_target)\n",
        "my_optimizer = tf.train.GradientDescentOptimizer(learning_rate=0.05)\n",
        "train_step = my_optimizer.minimize(xentropy)"
      ],
      "execution_count": 0,
      "outputs": []
    },
    {
      "cell_type": "markdown",
      "metadata": {
        "id": "op1PZTwVKYjI",
        "colab_type": "text"
      },
      "source": [
        "### Inicializar las variables"
      ]
    },
    {
      "cell_type": "code",
      "metadata": {
        "id": "zmB9nDyPKYjK",
        "colab_type": "code",
        "colab": {}
      },
      "source": [
        "init = tf.global_variables_initializer()\n",
        "session.run(init)"
      ],
      "execution_count": 0,
      "outputs": []
    },
    {
      "cell_type": "markdown",
      "metadata": {
        "id": "eC7_LF3mKYjV",
        "colab_type": "text"
      },
      "source": [
        "## Entrenar el modelo"
      ]
    },
    {
      "cell_type": "code",
      "metadata": {
        "id": "agD-YbGsKYjW",
        "colab_type": "code",
        "colab": {
          "base_uri": "https://localhost:8080/",
          "height": 199
        },
        "outputId": "bee6512f-5104-4495-87d4-0aa0297e57b7"
      },
      "source": [
        "for i in range(1000):\n",
        "    rand_idx = np.random.choice(len(iris_2d), size=batch_size)\n",
        "    rand_x = iris_2d[rand_idx]\n",
        "    rand_x1 = np.array([[x[0]] for x in rand_x])\n",
        "    rand_x2 = np.array([[x[1]] for x in rand_x])\n",
        "    rand_y = np.array([[y] for y in binary_target[rand_idx]])\n",
        "    session.run(train_step, feed_dict={x1_data:rand_x1, x2_data:rand_x2, y_target:rand_y})\n",
        "    if(i+1)%100==0: # imprime uno de 100\n",
        "        print('Paso #'+str(i+1)+\", A=\"+str(session.run(A))+\", b =\"+str(session.run(b)))"
      ],
      "execution_count": 18,
      "outputs": [
        {
          "output_type": "stream",
          "text": [
            "Paso #100, A=[[7.254893]], b =[[-2.3568904]]\n",
            "Paso #200, A=[[8.585913]], b =[[-3.6553142]]\n",
            "Paso #300, A=[[9.54605]], b =[[-4.2314997]]\n",
            "Paso #400, A=[[10.1792755]], b =[[-4.754321]]\n",
            "Paso #500, A=[[10.7158]], b =[[-5.114631]]\n",
            "Paso #600, A=[[11.17003]], b =[[-5.4077816]]\n",
            "Paso #700, A=[[11.514716]], b =[[-5.688522]]\n",
            "Paso #800, A=[[11.900828]], b =[[-5.8623405]]\n",
            "Paso #900, A=[[12.177246]], b =[[-6.1186705]]\n",
            "Paso #1000, A=[[12.448322]], b =[[-6.3409023]]\n"
          ],
          "name": "stdout"
        }
      ]
    },
    {
      "cell_type": "markdown",
      "metadata": {
        "id": "9S4D9KLtKYjd",
        "colab_type": "text"
      },
      "source": [
        "### Modelo final"
      ]
    },
    {
      "cell_type": "code",
      "metadata": {
        "id": "XzMb5TprKYje",
        "colab_type": "code",
        "colab": {}
      },
      "source": [
        "[[slope]] = session.run(A) # pendiente\n",
        "[[intercept]] = session.run(b)# la ordenada del origen"
      ],
      "execution_count": 0,
      "outputs": []
    },
    {
      "cell_type": "markdown",
      "metadata": {
        "id": "Kaky_deqKYjk",
        "colab_type": "text"
      },
      "source": [
        "#### Representación de la separación"
      ]
    },
    {
      "cell_type": "code",
      "metadata": {
        "id": "HUz8-8H7KYjl",
        "colab_type": "code",
        "colab": {}
      },
      "source": [
        "x = np.linspace(0,3,num = 100)# 100 puntos entre 0 y 3 \n",
        "abline_values = []\n",
        "for i in x:\n",
        "    abline_values.append(slope*i+intercept)\n",
        "    \n",
        "setosa_x = [a[1] for i,a in enumerate(iris_2d) if binary_target[i]==1]# binary_target: clasificacion binaria\n",
        "setosa_y = [a[0] for i,a in enumerate(iris_2d) if binary_target[i]==1]\n",
        "\n",
        "no_setosa_x = [a[1] for i,a in enumerate(iris_2d) if binary_target[i]==0]\n",
        "no_setosa_y = [a[0] for i,a in enumerate(iris_2d) if binary_target[i]==0]"
      ],
      "execution_count": 0,
      "outputs": []
    },
    {
      "cell_type": "code",
      "metadata": {
        "id": "4dPSa_K2QIlS",
        "colab_type": "code",
        "colab": {
          "base_uri": "https://localhost:8080/",
          "height": 265
        },
        "outputId": "74d41165-d704-4d51-c799-33edb2c4493a"
      },
      "source": [
        "plt.plot(setosa_x, setosa_y, 'rx', ms=10, mew=2, label='Setosa')\n",
        "plt.plot(no_setosa_x, no_setosa_y, 'ro', label = \"No setosa\")\n",
        "plt.plot(x, abline_values, 'b-')\n",
        "plt.show()"
      ],
      "execution_count": 23,
      "outputs": [
        {
          "output_type": "display_data",
          "data": {
            "image/png": "[encoded data removed]",
            "text/plain": [
              "<Figure size 432x288 with 1 Axes>"
            ]
          },
          "metadata": {
            "tags": [],
            "needs_background": "light"
          }
        }
      ]
    },
    {
      "cell_type": "code",
      "metadata": {
        "id": "fu7LJSN2KYjr",
        "colab_type": "code",
        "colab": {
          "base_uri": "https://localhost:8080/",
          "height": 309
        },
        "outputId": "f4623000-376d-4df0-92bc-3a38dd42c6ae"
      },
      "source": [
        "plt.plot(setosa_x, setosa_y, 'rx', ms=10, mew=2, label='Setosa')\n",
        "plt.plot(no_setosa_x, no_setosa_y, 'ro', label = \"No setosa\")\n",
        "plt.plot(x, abline_values, 'b-')\n",
        "plt.suptitle('Separación lineal de las Setosas', fontsize = 18)\n",
        "plt.xlabel(\"Longitud de los Pétalos\")\n",
        "plt.ylabel(\"Anchura de los Pétalos\")\n",
        "plt.legend(\"lower right\")\n",
        "plt.xlim([0,2.75])\n",
        "plt.ylim([0, 7.5])\n",
        "plt.show()"
      ],
      "execution_count": 24,
      "outputs": [
        {
          "output_type": "display_data",
          "data": {
            "image/png": "[encoded data removed]",
            "text/plain": [
              "<Figure size 432x288 with 1 Axes>"
            ]
          },
          "metadata": {
            "tags": [],
            "needs_background": "light"
          }
        }
      ]
    },
    {
      "cell_type": "code",
      "metadata": {
        "id": "vi8JBCfjKYjx",
        "colab_type": "code",
        "colab": {}
      },
      "source": [
        ""
      ],
      "execution_count": 0,
      "outputs": []
    }
  ]
}