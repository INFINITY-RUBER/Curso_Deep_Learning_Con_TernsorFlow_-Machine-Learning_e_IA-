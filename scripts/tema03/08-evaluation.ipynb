{
  "nbformat": 4,
  "nbformat_minor": 0,
  "metadata": {
    "kernelspec": {
      "display_name": "Python 3",
      "language": "python",
      "name": "python3"
    },
    "language_info": {
      "codemirror_mode": {
        "name": "ipython",
        "version": 3
      },
      "file_extension": ".py",
      "mimetype": "text/x-python",
      "name": "python",
      "nbconvert_exporter": "python",
      "pygments_lexer": "ipython3",
      "version": "3.5.5"
    },
    "colab": {
      "name": "08-evaluation.ipynb",
      "provenance": []
    }
  },
  "cells": [
    {
      "cell_type": "code",
      "metadata": {
        "id": "FqFsI81F5kuC",
        "colab_type": "code",
        "colab": {}
      },
      "source": [
        "!pip install tensorflow==1.14"
      ],
      "execution_count": 0,
      "outputs": []
    },
    {
      "cell_type": "markdown",
      "metadata": {
        "id": "yw6lk4qm4-CU",
        "colab_type": "text"
      },
      "source": [
        "# Evaluar el modelo"
      ]
    },
    {
      "cell_type": "code",
      "metadata": {
        "id": "HCJ2WI514-CW",
        "colab_type": "code",
        "colab": {}
      },
      "source": [
        "import matplotlib.pyplot as plt\n",
        "import numpy as np\n",
        "import tensorflow as tf\n",
        "session = tf.Session()"
      ],
      "execution_count": 0,
      "outputs": []
    },
    {
      "cell_type": "markdown",
      "metadata": {
        "id": "HAlA5HDV4-Cj",
        "colab_type": "text"
      },
      "source": [
        "### Caso de regresión"
      ]
    },
    {
      "cell_type": "code",
      "metadata": {
        "id": "B7AWWVxR4-Ck",
        "colab_type": "code",
        "colab": {}
      },
      "source": [
        "x_vals = np.random.normal(1.0, 0.1, 200)\n",
        "y_vals = np.repeat(10.0, 200)\n",
        "\n",
        "x_data = tf.placeholder(shape = [None, 1], dtype = tf.float32)\n",
        "y_target = tf.placeholder(shape = [None, 1], dtype = tf.float32)\n",
        "\n",
        "batch_size = 25"
      ],
      "execution_count": 0,
      "outputs": []
    },
    {
      "cell_type": "code",
      "metadata": {
        "id": "22mrTbrc_kKR",
        "colab_type": "code",
        "colab": {
          "base_uri": "https://localhost:8080/",
          "height": 35
        },
        "outputId": "c16354d3-1dec-422b-e059-013c7785f620"
      },
      "source": [
        "y_vals[0:3]"
      ],
      "execution_count": 15,
      "outputs": [
        {
          "output_type": "execute_result",
          "data": {
            "text/plain": [
              "array([10., 10., 10.])"
            ]
          },
          "metadata": {
            "tags": []
          },
          "execution_count": 15
        }
      ]
    },
    {
      "cell_type": "code",
      "metadata": {
        "id": "62XF-0X14-Cs",
        "colab_type": "code",
        "colab": {}
      },
      "source": [
        "train_idx = np.random.choice(len(x_vals), size=round(len(x_vals)*0.8),replace=False)\n",
        "# size=round(len(x_vals)*0.8)>> 80 % del tamaño de x_vals\n",
        "# replace=False >> sin repeticion"
      ],
      "execution_count": 0,
      "outputs": []
    },
    {
      "cell_type": "code",
      "metadata": {
        "id": "12BsVF504-Cz",
        "colab_type": "code",
        "colab": {
          "base_uri": "https://localhost:8080/",
          "height": 254
        },
        "outputId": "52b031ff-0fda-43ed-c43b-7470567390a3"
      },
      "source": [
        "train_idx"
      ],
      "execution_count": 8,
      "outputs": [
        {
          "output_type": "execute_result",
          "data": {
            "text/plain": [
              "array([ 12, 106,  29,  47,  78,  36, 165, 160,  21,   5,  85, 114,   1,\n",
              "       133,  52, 144,  16,  60, 171, 163,  71, 178, 113,  28, 136, 127,\n",
              "        24, 197,  15, 174, 108,  65,  18, 177, 112,  25, 103,  95, 129,\n",
              "        92,   0, 150, 168, 111, 166,  88,   3, 172,  32,  39, 155,  87,\n",
              "        34, 180, 148, 153,  74, 123,  55,  20, 157,  75,  76,  89, 159,\n",
              "        59, 109, 161,  48,  66,  35,  54, 132, 175, 192,   6,   4,  63,\n",
              "        70,  11,  72, 116, 198, 158, 154,  51,   9,  82, 149, 102, 110,\n",
              "       193, 119, 120,  83,  42, 107, 188, 179, 199, 138, 143, 167,  49,\n",
              "       147, 146, 128, 162, 124, 173,  79,  64,  69,  86,  62,  19,  84,\n",
              "        96, 118,  13,  43, 183,  97,  40, 191, 122,  90, 126,  31,  38,\n",
              "        73,  23, 164,  41,  77, 182, 121,  46,  98,  44, 195,  57,  56,\n",
              "        30, 145, 190,   8, 181,  33, 151,  81, 131,  37,  14, 185,  22,\n",
              "        45,  93,   2, 170])"
            ]
          },
          "metadata": {
            "tags": []
          },
          "execution_count": 8
        }
      ]
    },
    {
      "cell_type": "code",
      "metadata": {
        "id": "EAy9buwX4-C9",
        "colab_type": "code",
        "colab": {}
      },
      "source": [
        "test_idx = np.array(list(set(range(len(x_vals)))-set(train_idx)))\n",
        "# crea un lista del conjunto del rango del tamaño de (x_vals) menos los datos entrenamiento\n",
        "# (saca los datos que no estan en el grupo de entrenamiento)"
      ],
      "execution_count": 0,
      "outputs": []
    },
    {
      "cell_type": "code",
      "metadata": {
        "id": "zP_ybxhq4-DG",
        "colab_type": "code",
        "colab": {
          "base_uri": "https://localhost:8080/",
          "height": 90
        },
        "outputId": "f4fe3f6e-bf9c-4ad7-ac07-b7d215c648c3"
      },
      "source": [
        "test_idx"
      ],
      "execution_count": 10,
      "outputs": [
        {
          "output_type": "execute_result",
          "data": {
            "text/plain": [
              "array([130, 134,   7, 135, 137,  10, 139, 140, 141, 142,  17, 152,  26,\n",
              "        27, 156, 169, 176,  50,  53, 184,  58, 186, 187,  61, 189, 194,\n",
              "        67,  68, 196,  80,  91,  94,  99, 100, 101, 104, 105, 115, 117,\n",
              "       125])"
            ]
          },
          "metadata": {
            "tags": []
          },
          "execution_count": 10
        }
      ]
    },
    {
      "cell_type": "code",
      "metadata": {
        "id": "I_A1FBkB4-DO",
        "colab_type": "code",
        "colab": {}
      },
      "source": [
        "x_vals_train = x_vals[train_idx]\n",
        "x_vals_test = x_vals[test_idx]\n",
        "y_vals_train = y_vals[train_idx]\n",
        "y_vals_test = y_vals[test_idx]\n",
        "A = tf.Variable(tf.random_normal(shape=[1,1]))"
      ],
      "execution_count": 0,
      "outputs": []
    },
    {
      "cell_type": "code",
      "metadata": {
        "id": "8JyXXDvt4-DX",
        "colab_type": "code",
        "colab": {}
      },
      "source": [
        "my_prediction = tf.matmul(x_data, A) \n",
        "loss = tf.reduce_mean(tf.square(my_prediction-y_target)) # entrenamiento por bloques y funcion de perdida \n",
        "my_optim = tf.train.GradientDescentOptimizer(learning_rate=0.02)# my optimizacion\n",
        "train_step = my_optim.minimize(loss)# paso de entrenamiento\n",
        "init = tf.global_variables_initializer() # inicializamos las variables  \n",
        "session.run(init)"
      ],
      "execution_count": 0,
      "outputs": []
    },
    {
      "cell_type": "code",
      "metadata": {
        "id": "vRNyl6BP4-De",
        "colab_type": "code",
        "colab": {
          "base_uri": "https://localhost:8080/",
          "height": 199
        },
        "outputId": "abd5b235-09bf-42c0-d1ac-750653ffaed6"
      },
      "source": [
        "# FASE DE ENTRENAMIENTO:\n",
        "for i in range(200):\n",
        "    rand_idx = np.random.choice(len(x_vals_train), size=batch_size)\n",
        "    rand_x = np.transpose([x_vals_train[rand_idx]])\n",
        "    rand_y = np.transpose([y_vals_train[rand_idx]])\n",
        "    session.run(train_step, feed_dict={x_data : rand_x, y_target: rand_y})\n",
        "    if (i+1)%20==0:\n",
        "        print('Paso #'+str(i+1)+ \", A=\"+str(session.run(A))+\", Loss =\"+\n",
        "              str(session.run(loss, feed_dict={x_data:rand_x, y_target:rand_y})))"
      ],
      "execution_count": 25,
      "outputs": [
        {
          "output_type": "stream",
          "text": [
            "Paso #20, A=[[9.746287]], Loss =1.0355101\n",
            "Paso #40, A=[[9.726986]], Loss =0.6112347\n",
            "Paso #60, A=[[9.753065]], Loss =0.7501008\n",
            "Paso #80, A=[[9.761335]], Loss =1.1899475\n",
            "Paso #100, A=[[9.787536]], Loss =0.95722055\n",
            "Paso #120, A=[[9.784335]], Loss =0.71436113\n",
            "Paso #140, A=[[9.752776]], Loss =1.1787452\n",
            "Paso #160, A=[[9.790764]], Loss =1.0767192\n",
            "Paso #180, A=[[9.788125]], Loss =0.53037554\n",
            "Paso #200, A=[[9.767706]], Loss =0.9944553\n"
          ],
          "name": "stdout"
        }
      ]
    },
    {
      "cell_type": "markdown",
      "metadata": {
        "id": "7QJjJMJ14-Dm",
        "colab_type": "text"
      },
      "source": [
        "#### Evaluación del modelo con MSE\n",
        "(Funcion de perdida del cuadrado medio )"
      ]
    },
    {
      "cell_type": "code",
      "metadata": {
        "id": "d1fr_j3N4-Do",
        "colab_type": "code",
        "colab": {
          "base_uri": "https://localhost:8080/",
          "height": 54
        },
        "outputId": "0b30399c-acf6-4b81-a9bc-ebc786b61e6f"
      },
      "source": [
        "mse_train = session.run(loss, feed_dict={x_data: np.transpose([x_vals_train]), y_target: np.transpose([y_vals_train])})\n",
        "mse_test = session.run(loss, feed_dict={x_data: np.transpose([x_vals_test]), y_target: np.transpose([y_vals_test])})\n",
        "print(\"MSE en el conjunto de entrenamiento \"+str(np.round(mse_train, 3)))\n",
        "print(\"MSE en el conjunto de testing \"+str(np.round(mse_test, 3)))"
      ],
      "execution_count": 26,
      "outputs": [
        {
          "output_type": "stream",
          "text": [
            "MSE en el conjunto de entrenamiento 0.905\n",
            "MSE en el conjunto de testing 0.844\n"
          ],
          "name": "stdout"
        }
      ]
    },
    {
      "cell_type": "markdown",
      "metadata": {
        "id": "sS5S0QO-4-Dw",
        "colab_type": "text"
      },
      "source": [
        "# Caso de clasificación"
      ]
    },
    {
      "cell_type": "code",
      "metadata": {
        "id": "PF4MHOiP4-Dy",
        "colab_type": "code",
        "colab": {}
      },
      "source": [
        "# resetea la memoria del tensor\n",
        "from tensorflow.python.framework import ops\n",
        "ops.reset_default_graph()\n",
        "session = tf.Session()"
      ],
      "execution_count": 0,
      "outputs": []
    },
    {
      "cell_type": "code",
      "metadata": {
        "id": "BQq0a_o64-D9",
        "colab_type": "code",
        "colab": {}
      },
      "source": [
        "batch_size = 25\n",
        "x_vals = np.concatenate((np.random.normal(-2,1,100), np.random.normal(2,1,100)))\n",
        "y_vals = np.concatenate((np.repeat(0.0, 100), np.repeat(1.0,100)))\n",
        "\n",
        "x_data = tf.placeholder(shape=[1,None], dtype=tf.float32)\n",
        "y_target = tf.placeholder(shape=[1,None], dtype = tf.float32)"
      ],
      "execution_count": 0,
      "outputs": []
    },
    {
      "cell_type": "code",
      "metadata": {
        "id": "xFNnpR7X4-ED",
        "colab_type": "code",
        "colab": {}
      },
      "source": [
        "train_idx = np.random.choice(len(x_vals), size=round(len(x_vals)*0.8), replace=False)\n",
        "test_idx = np.array(list(set(range(len(x_vals)))-set(train_idx)))"
      ],
      "execution_count": 0,
      "outputs": []
    },
    {
      "cell_type": "code",
      "metadata": {
        "id": "FtQNVzZO4-EJ",
        "colab_type": "code",
        "colab": {}
      },
      "source": [
        "x_vals_train = x_vals[train_idx]\n",
        "x_vals_test = x_vals[test_idx]\n",
        "y_vals_train = y_vals[train_idx]\n",
        "y_vals_test = y_vals[test_idx]\n",
        "A = tf.Variable(tf.random_normal(mean=10, shape=[1]))"
      ],
      "execution_count": 0,
      "outputs": []
    },
    {
      "cell_type": "code",
      "metadata": {
        "id": "pUUisxK94-EO",
        "colab_type": "code",
        "colab": {}
      },
      "source": [
        "my_prediction = tf.add(x_data, A)\n",
        "init = tf.global_variables_initializer()\n",
        "session.run(init)"
      ],
      "execution_count": 0,
      "outputs": []
    },
    {
      "cell_type": "code",
      "metadata": {
        "id": "n2DFAPaz4-EU",
        "colab_type": "code",
        "colab": {}
      },
      "source": [
        "xentropy = tf.reduce_mean(tf.nn.sigmoid_cross_entropy_with_logits(logits=my_prediction, labels=y_target))\n",
        "my_optim = tf.train.GradientDescentOptimizer(learning_rate=0.05)\n",
        "train_step = my_optim.minimize(xentropy)"
      ],
      "execution_count": 0,
      "outputs": []
    },
    {
      "cell_type": "code",
      "metadata": {
        "id": "0uL37OiT4-Eb",
        "colab_type": "code",
        "colab": {
          "base_uri": "https://localhost:8080/",
          "height": 381
        },
        "outputId": "e05f1ebe-551e-4bf3-a0f6-6654fcae31c5"
      },
      "source": [
        "for i in range(2000):\n",
        "    rand_idx = np.random.choice(len(x_vals_train), size=batch_size)\n",
        "    rand_x = [x_vals_train[rand_idx]]\n",
        "    rand_y = [y_vals_train[rand_idx]]\n",
        "    session.run(train_step, feed_dict={x_data:rand_x, y_target:rand_y})\n",
        "    if(i+1)%100==0:\n",
        "        print(\"Paso #\"+str(i+1)+\", A = \"+str(session.run(A))+\n",
        "             \"Loss = \"+str(session.run(xentropy, feed_dict={x_data: rand_x, y_target:rand_y})))"
      ],
      "execution_count": 49,
      "outputs": [
        {
          "output_type": "stream",
          "text": [
            "Paso #100, A = [9.361151]Loss = 3.5909147\n",
            "Paso #200, A = [6.828812]Loss = 2.8222244\n",
            "Paso #300, A = [4.413332]Loss = 1.6069351\n",
            "Paso #400, A = [2.462751]Loss = 0.3110057\n",
            "Paso #500, A = [1.2676322]Loss = 0.45377156\n",
            "Paso #600, A = [0.6366206]Loss = 0.18967225\n",
            "Paso #700, A = [0.2976025]Loss = 0.1384612\n",
            "Paso #800, A = [0.1405232]Loss = 0.19825459\n",
            "Paso #900, A = [0.03308811]Loss = 0.21479398\n",
            "Paso #1000, A = [-0.02349778]Loss = 0.15040378\n",
            "Paso #1100, A = [-0.05202718]Loss = 0.19458139\n",
            "Paso #1200, A = [-0.01639368]Loss = 0.18643834\n",
            "Paso #1300, A = [-0.04186008]Loss = 0.17624694\n",
            "Paso #1400, A = [-0.07152124]Loss = 0.16716145\n",
            "Paso #1500, A = [-0.0587335]Loss = 0.2101121\n",
            "Paso #1600, A = [-0.05365586]Loss = 0.1896208\n",
            "Paso #1700, A = [-0.06399881]Loss = 0.24892464\n",
            "Paso #1800, A = [-0.05648068]Loss = 0.1627044\n",
            "Paso #1900, A = [-0.04665721]Loss = 0.23066996\n",
            "Paso #2000, A = [-0.07398354]Loss = 0.15035754\n"
          ],
          "name": "stdout"
        }
      ]
    },
    {
      "cell_type": "markdown",
      "metadata": {
        "id": "cRGCSmBC4-El",
        "colab_type": "text"
      },
      "source": [
        "#### Evaluar el modelo con la precisión (Accuracy)\n",
        "Porcentaje de asiertos\n",
        "\n"
      ]
    },
    {
      "cell_type": "code",
      "metadata": {
        "id": "dhXhFRs-4-Em",
        "colab_type": "code",
        "colab": {}
      },
      "source": [
        "y_prediction = tf.squeeze(tf.round(tf.nn.sigmoid(tf.add(x_data, A))))\n",
        "correct_prediction = tf.equal(y_prediction, y_target)\n",
        "accuracy = tf.reduce_mean(tf.cast(correct_prediction, tf.float32))"
      ],
      "execution_count": 0,
      "outputs": []
    },
    {
      "cell_type": "code",
      "metadata": {
        "id": "ibWWkBIr4-Es",
        "colab_type": "code",
        "colab": {}
      },
      "source": [
        "acc_train = session.run(accuracy, feed_dict={x_data:[x_vals_train], y_target: [y_vals_train]})\n",
        "acc_test = session.run(accuracy, feed_dict={x_data:[x_vals_test], y_target: [y_vals_test]})"
      ],
      "execution_count": 0,
      "outputs": []
    },
    {
      "cell_type": "code",
      "metadata": {
        "id": "9FiT7sof4-Ex",
        "colab_type": "code",
        "colab": {
          "base_uri": "https://localhost:8080/",
          "height": 54
        },
        "outputId": "e57748e7-5111-4bad-effd-031ec5474009"
      },
      "source": [
        "print(\"Precisión en el conjunto de entrenamiento: \"+str(acc_train))\n",
        "print(\"Precisión en el conjunto de testing: \"+ str(acc_test))"
      ],
      "execution_count": 52,
      "outputs": [
        {
          "output_type": "stream",
          "text": [
            "Precisión en el conjunto de entrenamiento: 0.96875\n",
            "Precisión en el conjunto de testing: 0.975\n"
          ],
          "name": "stdout"
        }
      ]
    },
    {
      "cell_type": "markdown",
      "metadata": {
        "id": "yn6x6lqJ4-E3",
        "colab_type": "text"
      },
      "source": [
        "#### Visualización de los modelos"
      ]
    },
    {
      "cell_type": "code",
      "metadata": {
        "id": "8WhBwkiV4-E4",
        "colab_type": "code",
        "colab": {
          "base_uri": "https://localhost:8080/",
          "height": 35
        },
        "outputId": "c3963465-5546-4e74-93dc-3c265b5b2799"
      },
      "source": [
        "A_result = session.run(A)\n",
        "A_result"
      ],
      "execution_count": 53,
      "outputs": [
        {
          "output_type": "execute_result",
          "data": {
            "text/plain": [
              "array([-0.07398354], dtype=float32)"
            ]
          },
          "metadata": {
            "tags": []
          },
          "execution_count": 53
        }
      ]
    },
    {
      "cell_type": "code",
      "metadata": {
        "id": "B9nECsa84-FA",
        "colab_type": "code",
        "colab": {
          "base_uri": "https://localhost:8080/",
          "height": 281
        },
        "outputId": "9e5f78d8-c8d3-4be2-8782-a39ad71d81f3"
      },
      "source": [
        "bins = np.linspace(-5,5,50)\n",
        "plt.hist(x_vals[0:100], bins, alpha=0.5, label = \"N(-2,1)\", color=\"red\")\n",
        "plt.hist(x_vals[100:200], bins, alpha=0.5, label=\"N(2,1)\", color=\"yellow\")\n",
        "plt.plot((A_result, A_result), (0, 10), \"k--\", linewidth = 4, label = \"A \"+str(np.round(A_result,2)))\n",
        "plt.legend(loc=\"upper right\")\n",
        "plt.title(\"Clasificador Binario de Precisión \"+str(np.round(acc_train,2)))\n",
        "plt.show()"
      ],
      "execution_count": 54,
      "outputs": [
        {
          "output_type": "display_data",
          "data": {
            "image/png": "[encoded data removed]",
            "text/plain": [
              "<Figure size 432x288 with 1 Axes>"
            ]
          },
          "metadata": {
            "tags": [],
            "needs_background": "light"
          }
        }
      ]
    },
    {
      "cell_type": "code",
      "metadata": {
        "id": "2gki1i_b4-FJ",
        "colab_type": "code",
        "colab": {}
      },
      "source": [
        ""
      ],
      "execution_count": 0,
      "outputs": []
    }
  ]
}