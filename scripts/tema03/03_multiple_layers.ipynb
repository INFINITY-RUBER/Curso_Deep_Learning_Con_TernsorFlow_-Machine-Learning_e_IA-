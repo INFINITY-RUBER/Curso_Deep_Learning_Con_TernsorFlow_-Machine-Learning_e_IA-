{
  "nbformat": 4,
  "nbformat_minor": 0,
  "metadata": {
    "kernelspec": {
      "display_name": "Python 3",
      "language": "python",
      "name": "python3"
    },
    "language_info": {
      "codemirror_mode": {
        "name": "ipython",
        "version": 3
      },
      "file_extension": ".py",
      "mimetype": "text/x-python",
      "name": "python",
      "nbconvert_exporter": "python",
      "pygments_lexer": "ipython3",
      "version": "3.5.5"
    },
    "colab": {
      "name": "03-multiple-layers.ipynb",
      "provenance": [],
      "include_colab_link": true
    }
  },
  "cells": [
    {
      "cell_type": "markdown",
      "metadata": {
        "id": "view-in-github",
        "colab_type": "text"
      },
      "source": [
        "<a href=\"https://colab.research.google.com/github/INFINITY-RUBER/Curso_Deep_Learning_Con_TernsorFlow_Machine-Learning_e_IA-/blob/master/scripts/tema03/03_multiple_layers.ipynb\" target=\"_parent\"><img src=\"https://colab.research.google.com/assets/colab-badge.svg\" alt=\"Open In Colab\"/></a>"
      ]
    },
    {
      "cell_type": "markdown",
      "metadata": {
        "id": "sfI8SWikXKxO",
        "colab_type": "text"
      },
      "source": [
        "# Trabajar con múltiples capas"
      ]
    },
    {
      "cell_type": "code",
      "metadata": {
        "id": "lD2h3McDXKxR",
        "colab_type": "code",
        "colab": {},
        "outputId": "fef68335-1a05-42ed-bed8-8c229de31d93"
      },
      "source": [
        "import tensorflow as tf\n",
        "import numpy as np\n",
        "session = tf.Session()"
      ],
      "execution_count": 0,
      "outputs": [
        {
          "output_type": "stream",
          "text": [
            "/anaconda3/lib/python3.5/importlib/_bootstrap.py:222: RuntimeWarning: compiletime version 3.6 of module 'tensorflow.python.framework.fast_tensor_util' does not match runtime version 3.5\n",
            "  return f(*args, **kwds)\n"
          ],
          "name": "stderr"
        }
      ]
    },
    {
      "cell_type": "code",
      "metadata": {
        "id": "BOBlqfLZXKxd",
        "colab_type": "code",
        "colab": {},
        "outputId": "fd0e00a6-17f0-47ba-8f5c-009640164c9b"
      },
      "source": [
        "x_shape = [1, 4, 4, 1]\n",
        "x_val = np.random.uniform(size=x_shape)\n",
        "x_val"
      ],
      "execution_count": 0,
      "outputs": [
        {
          "output_type": "execute_result",
          "data": {
            "text/plain": [
              "array([[[[0.90122833],\n",
              "         [0.46221915],\n",
              "         [0.69594599],\n",
              "         [0.51533402]],\n",
              "\n",
              "        [[0.9964723 ],\n",
              "         [0.63845703],\n",
              "         [0.44873744],\n",
              "         [0.95705102]],\n",
              "\n",
              "        [[0.75044379],\n",
              "         [0.14794225],\n",
              "         [0.68105061],\n",
              "         [0.27665435]],\n",
              "\n",
              "        [[0.9685354 ],\n",
              "         [0.49164261],\n",
              "         [0.98472023],\n",
              "         [0.37757609]]]])"
            ]
          },
          "metadata": {
            "tags": []
          },
          "execution_count": 2
        }
      ]
    },
    {
      "cell_type": "code",
      "metadata": {
        "id": "3NWly9QoXKxk",
        "colab_type": "code",
        "colab": {}
      },
      "source": [
        "x_data = tf.placeholder(tf.float32, shape=x_shape)"
      ],
      "execution_count": 0,
      "outputs": []
    },
    {
      "cell_type": "code",
      "metadata": {
        "id": "GjWOEHl5XKxr",
        "colab_type": "code",
        "colab": {}
      },
      "source": [
        "my_filter = tf.constant(0.25, shape = [2,2,1,1])\n",
        "my_strides = [1, 2, 2, 1]\n",
        "mov_avg_layer = tf.nn.conv2d(x_data, my_filter, my_strides, padding='SAME', name = \"Moving_Avg_Windows\")"
      ],
      "execution_count": 0,
      "outputs": []
    },
    {
      "cell_type": "markdown",
      "metadata": {
        "id": "Xh_xK5lnXKxy",
        "colab_type": "text"
      },
      "source": [
        "$$\\frac{W-F+2P}{S}+1$$\n",
        "- W: dimensión de entrada\n",
        "- F: dimensión del filtro\n",
        "- P: padding\n",
        "- S: stride"
      ]
    },
    {
      "cell_type": "code",
      "metadata": {
        "id": "IgembcjlXKx0",
        "colab_type": "code",
        "colab": {}
      },
      "source": [
        "def custom_layer(input_matrix):\n",
        "    input_matrix_squeezed = tf.squeeze(input_matrix)\n",
        "    A = tf.constant([[1.,2.],[3.,4]])\n",
        "    b = tf.constant(1., shape = [2,2])\n",
        "    temp1 = tf.matmul(A, input_matrix_squeezed)\n",
        "    temp2 = tf.add(temp1, b) ## Ax+b\n",
        "    return tf.sigmoid(temp2)"
      ],
      "execution_count": 0,
      "outputs": []
    },
    {
      "cell_type": "code",
      "metadata": {
        "id": "R7JGMTnAXKx6",
        "colab_type": "code",
        "colab": {}
      },
      "source": [
        "with tf.name_scope('Custom_Layer') as scope:\n",
        "    customlayer1 = custom_layer(mov_avg_layer)"
      ],
      "execution_count": 0,
      "outputs": []
    },
    {
      "cell_type": "code",
      "metadata": {
        "id": "V34SsxDIXKyD",
        "colab_type": "code",
        "colab": {},
        "outputId": "5598b7b9-c208-4832-84aa-cc28de5a6f3a"
      },
      "source": [
        "writer = tf.summary.FileWriter(\"multiple-layers\", session.graph)\n",
        "print(session.run(customlayer1, feed_dict={x_data: x_val}))\n",
        "writer.close()"
      ],
      "execution_count": 0,
      "outputs": [
        {
          "output_type": "stream",
          "text": [
            "[[0.94925565 0.943442  ]\n",
            " [0.9963426  0.99494743]]\n"
          ],
          "name": "stdout"
        }
      ]
    },
    {
      "cell_type": "code",
      "metadata": {
        "id": "qCB09edLXKyL",
        "colab_type": "code",
        "colab": {},
        "outputId": "8bd8ef26-95ec-421c-f3bc-a4c13f9f6b6b"
      },
      "source": [
        "print(session.run(mov_avg_layer, feed_dict={x_data: x_val}))"
      ],
      "execution_count": 0,
      "outputs": [
        {
          "output_type": "stream",
          "text": [
            "[[[[0.7495942]\n",
            "   [0.6542671]]\n",
            "\n",
            "  [[0.589641 ]\n",
            "   [0.5800003]]]]\n"
          ],
          "name": "stdout"
        }
      ]
    },
    {
      "cell_type": "code",
      "metadata": {
        "id": "I8ymp_AUXKyS",
        "colab_type": "code",
        "colab": {}
      },
      "source": [
        ""
      ],
      "execution_count": 0,
      "outputs": []
    }
  ]
}