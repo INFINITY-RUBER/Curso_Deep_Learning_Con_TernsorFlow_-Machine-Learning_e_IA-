{
  "nbformat": 4,
  "nbformat_minor": 0,
  "metadata": {
    "kernelspec": {
      "display_name": "Python 3",
      "language": "python",
      "name": "python3"
    },
    "language_info": {
      "codemirror_mode": {
        "name": "ipython",
        "version": 3
      },
      "file_extension": ".py",
      "mimetype": "text/x-python",
      "name": "python",
      "nbconvert_exporter": "python",
      "pygments_lexer": "ipython3",
      "version": "3.5.5"
    },
    "colab": {
      "name": "02-tensors.ipynb",
      "provenance": [],
      "include_colab_link": true
    }
  },
  "cells": [
    {
      "cell_type": "markdown",
      "metadata": {
        "id": "view-in-github",
        "colab_type": "text"
      },
      "source": [
        "<a href=\"https://colab.research.google.com/github/INFINITY-RUBER/Curso_Deep_Learning_Con_TernsorFlow_Machine-Learning_e_IA-/blob/master/scripts/tema01/02-tensors.ipynb\" target=\"_parent\"><img src=\"https://colab.research.google.com/assets/colab-badge.svg\" alt=\"Open In Colab\"/></a>"
      ]
    },
    {
      "cell_type": "markdown",
      "metadata": {
        "id": "gNoAKvoTtFrt",
        "colab_type": "text"
      },
      "source": [
        "# Tensores y variables"
      ]
    },
    {
      "cell_type": "code",
      "metadata": {
        "id": "EIE-p1BgtyvB",
        "colab_type": "code",
        "colab": {}
      },
      "source": [
        "!pip install tensorflow==1.14"
      ],
      "execution_count": 0,
      "outputs": []
    },
    {
      "cell_type": "code",
      "metadata": {
        "id": "Kr_y9Rnztdx3",
        "colab_type": "code",
        "colab": {
          "base_uri": "https://localhost:8080/",
          "height": 34
        },
        "outputId": "cad30a11-8cdf-455e-9a0f-589dd8d52562"
      },
      "source": [
        "tensorflow.__version__"
      ],
      "execution_count": 2,
      "outputs": [
        {
          "output_type": "execute_result",
          "data": {
            "text/plain": [
              "'1.14.0'"
            ]
          },
          "metadata": {
            "tags": []
          },
          "execution_count": 2
        }
      ]
    },
    {
      "cell_type": "code",
      "metadata": {
        "id": "PxfLMQ4WtFru",
        "colab_type": "code",
        "colab": {}
      },
      "source": [
        "import tensorflow as tf"
      ],
      "execution_count": 0,
      "outputs": []
    },
    {
      "cell_type": "markdown",
      "metadata": {
        "id": "LbURFnc7tFr2",
        "colab_type": "text"
      },
      "source": [
        "$\\vec{v} = (v_1, v_2, v_3,\\cdots, v_n)\\in \\mathbb R^n$ es un tensor unidimensional (vector)"
      ]
    },
    {
      "cell_type": "markdown",
      "metadata": {
        "id": "EUpAEWyatFr3",
        "colab_type": "text"
      },
      "source": [
        "$ M = \\begin{pmatrix} \n",
        "    1 & 2 & 3\\\\\n",
        "    4 & 5 & 6\n",
        "    \\end{pmatrix} \\in \\mathbb R_{2\\times 3}$ es un tensor bidimensional (matriz)"
      ]
    },
    {
      "cell_type": "markdown",
      "metadata": {
        "id": "TzvB569WtFr5",
        "colab_type": "text"
      },
      "source": [
        "$ T \\in \\mathbb R_{n_1\\times n_2\\times \\cdots \\times n_k}$ es un tensor $k$-dimesional"
      ]
    },
    {
      "cell_type": "markdown",
      "metadata": {
        "id": "zTPSMBadtFr6",
        "colab_type": "text"
      },
      "source": [
        "##  Tensores fijos"
      ]
    },
    {
      "cell_type": "code",
      "metadata": {
        "id": "jpmR76_gtFr7",
        "colab_type": "code",
        "colab": {
          "base_uri": "https://localhost:8080/",
          "height": 34
        },
        "outputId": "70049f64-9824-4ec6-a3e4-ac1f143095c6"
      },
      "source": [
        "# crear un tensor lleno de ceros ([1_dimension, 2_dimension, 3_dimension,...])\n",
        "zero_t = tf.zeros([3, 4, 6])\n",
        "zero_t"
      ],
      "execution_count": 4,
      "outputs": [
        {
          "output_type": "execute_result",
          "data": {
            "text/plain": [
              "<tf.Tensor 'zeros:0' shape=(3, 4, 6) dtype=float32>"
            ]
          },
          "metadata": {
            "tags": []
          },
          "execution_count": 4
        }
      ]
    },
    {
      "cell_type": "code",
      "metadata": {
        "id": "RzguHiymtFsC",
        "colab_type": "code",
        "colab": {
          "base_uri": "https://localhost:8080/",
          "height": 34
        },
        "outputId": "fa982d7b-bb27-4c43-99ff-d1e6b14ffb46"
      },
      "source": [
        "# un tensor de Unos.\n",
        "ones_t = tf.ones([3, 4])\n",
        "ones_t"
      ],
      "execution_count": 6,
      "outputs": [
        {
          "output_type": "execute_result",
          "data": {
            "text/plain": [
              "<tf.Tensor 'ones_1:0' shape=(3, 4) dtype=float32>"
            ]
          },
          "metadata": {
            "tags": []
          },
          "execution_count": 6
        }
      ]
    },
    {
      "cell_type": "code",
      "metadata": {
        "id": "qdgbriyBtFsJ",
        "colab_type": "code",
        "colab": {
          "base_uri": "https://localhost:8080/",
          "height": 34
        },
        "outputId": "662a51a5-94ab-443c-aa6c-40e54d0354a7"
      },
      "source": [
        "# un tesor rellenado de la  costante 1988\n",
        "filled_t = tf.fill([4,5,2], 1988)\n",
        "filled_t"
      ],
      "execution_count": 7,
      "outputs": [
        {
          "output_type": "execute_result",
          "data": {
            "text/plain": [
              "<tf.Tensor 'Fill:0' shape=(4, 5, 2) dtype=int32>"
            ]
          },
          "metadata": {
            "tags": []
          },
          "execution_count": 7
        }
      ]
    },
    {
      "cell_type": "code",
      "metadata": {
        "id": "ik0qpdtWtFsQ",
        "colab_type": "code",
        "colab": {
          "base_uri": "https://localhost:8080/",
          "height": 34
        },
        "outputId": "110c8b00-64ef-4b75-8661-bd0be75f50c8"
      },
      "source": [
        "# ternsor con costante, seria como un array\n",
        "cte_t = tf.constant([1,2,3,4,5])\n",
        "cte_t"
      ],
      "execution_count": 9,
      "outputs": [
        {
          "output_type": "execute_result",
          "data": {
            "text/plain": [
              "<tf.Tensor 'Const_1:0' shape=(5,) dtype=int32>"
            ]
          },
          "metadata": {
            "tags": []
          },
          "execution_count": 9
        }
      ]
    },
    {
      "cell_type": "markdown",
      "metadata": {
        "id": "TE7TOr3FtFsY",
        "colab_type": "text"
      },
      "source": [
        "## Tensores por tamaño"
      ]
    },
    {
      "cell_type": "code",
      "metadata": {
        "id": "3Y3O2MtWtFsZ",
        "colab_type": "code",
        "colab": {
          "base_uri": "https://localhost:8080/",
          "height": 34
        },
        "outputId": "0dc07ec9-ce04-4fd2-b421-6ced564d45dc"
      },
      "source": [
        "# crear un tensor con el tamaño de otro (like(Tensor_anterior))\n",
        "zero_sim = tf.zeros_like(cte_t)\n",
        "zero_sim"
      ],
      "execution_count": 11,
      "outputs": [
        {
          "output_type": "execute_result",
          "data": {
            "text/plain": [
              "<tf.Tensor 'zeros_like_1:0' shape=(5,) dtype=int32>"
            ]
          },
          "metadata": {
            "tags": []
          },
          "execution_count": 11
        }
      ]
    },
    {
      "cell_type": "code",
      "metadata": {
        "id": "sj-_kZJFtFsh",
        "colab_type": "code",
        "colab": {
          "base_uri": "https://localhost:8080/",
          "height": 34
        },
        "outputId": "8ec52e94-b446-4418-a338-c0b9b9e81606"
      },
      "source": [
        "ones_sim = tf.ones_like(cte_t)\n",
        "ones_sim"
      ],
      "execution_count": 12,
      "outputs": [
        {
          "output_type": "execute_result",
          "data": {
            "text/plain": [
              "<tf.Tensor 'ones_like:0' shape=(5,) dtype=int32>"
            ]
          },
          "metadata": {
            "tags": []
          },
          "execution_count": 12
        }
      ]
    },
    {
      "cell_type": "markdown",
      "metadata": {
        "id": "tcOoXOyXtFso",
        "colab_type": "text"
      },
      "source": [
        "## Tensor en forma de secuencia\n",
        "- linspace()\n",
        "- range()"
      ]
    },
    {
      "cell_type": "code",
      "metadata": {
        "id": "quFv73K2tFsp",
        "colab_type": "code",
        "colab": {
          "base_uri": "https://localhost:8080/",
          "height": 34
        },
        "outputId": "09cebba0-c667-4fe0-a491-1d373c17e283"
      },
      "source": [
        "# tf.linspace(inicio=0.0, stop = 1.0, diviciones  = 5) Genera la secuencia \n",
        "sec_t = tf.linspace(start=0.0, stop = 1.0, num = 5)\n",
        "sec_t"
      ],
      "execution_count": 13,
      "outputs": [
        {
          "output_type": "execute_result",
          "data": {
            "text/plain": [
              "<tf.Tensor 'LinSpace:0' shape=(5,) dtype=float32>"
            ]
          },
          "metadata": {
            "tags": []
          },
          "execution_count": 13
        }
      ]
    },
    {
      "cell_type": "markdown",
      "metadata": {
        "id": "hWew1w7ttFsv",
        "colab_type": "text"
      },
      "source": [
        "El resultado anterior sería el tensor $[0.0, 0.25, 0.5, 0.75, 1.0]$."
      ]
    },
    {
      "cell_type": "code",
      "metadata": {
        "id": "wNA0IQcutFsw",
        "colab_type": "code",
        "colab": {
          "base_uri": "https://localhost:8080/",
          "height": 34
        },
        "outputId": "2cf26957-9d68-44b2-8174-b0b97350a1c3"
      },
      "source": [
        "# con Range nunca toma el ultimo valor o valor limite\n",
        "range_seq = tf.range(start=5.0, limit = 15.0, delta = 4.0)\n",
        "range_seq"
      ],
      "execution_count": 14,
      "outputs": [
        {
          "output_type": "execute_result",
          "data": {
            "text/plain": [
              "<tf.Tensor 'range:0' shape=(3,) dtype=float32>"
            ]
          },
          "metadata": {
            "tags": []
          },
          "execution_count": 14
        }
      ]
    },
    {
      "cell_type": "markdown",
      "metadata": {
        "id": "G0KHkA07tFs2",
        "colab_type": "text"
      },
      "source": [
        "El resultado anterior sería el tensor $[5, 9, 13]$."
      ]
    },
    {
      "cell_type": "markdown",
      "metadata": {
        "id": "CXCr6rDZtFs4",
        "colab_type": "text"
      },
      "source": [
        "## Tensores aleatorios\n",
        "* random_crop\n",
        "* random_gamma\n",
        "* random_normal \n",
        "* random_normal_initializer\n",
        "* random_uniform\n",
        "* random_uniform_initializer"
      ]
    },
    {
      "cell_type": "code",
      "metadata": {
        "id": "MBheh3l7tFs5",
        "colab_type": "code",
        "colab": {
          "base_uri": "https://localhost:8080/",
          "height": 34
        },
        "outputId": "87455d98-4724-404d-8f95-ba7bfdb1f6dd"
      },
      "source": [
        "rand_unif_t = tf.random_uniform([3,4], minval=0, maxval=1)# no incuye maxval=1\n",
        "rand_unif_t"
      ],
      "execution_count": 16,
      "outputs": [
        {
          "output_type": "execute_result",
          "data": {
            "text/plain": [
              "<tf.Tensor 'random_uniform_1:0' shape=(3, 4) dtype=float32>"
            ]
          },
          "metadata": {
            "tags": []
          },
          "execution_count": 16
        }
      ]
    },
    {
      "cell_type": "code",
      "metadata": {
        "id": "K9EHlwrKtFs_",
        "colab_type": "code",
        "colab": {},
        "outputId": "95b4e550-2ad0-4857-bda1-88a0939903ed"
      },
      "source": [
        "rand_norm_t = tf.random_normal([3, 4], mean=0.0, stddev= 1.0)# _normal la campana de gauss\n",
        "rand_norm_t"
      ],
      "execution_count": 0,
      "outputs": [
        {
          "output_type": "execute_result",
          "data": {
            "text/plain": [
              "<tf.Tensor 'random_normal:0' shape=(3, 4) dtype=float32>"
            ]
          },
          "metadata": {
            "tags": []
          },
          "execution_count": 25
        }
      ]
    },
    {
      "cell_type": "code",
      "metadata": {
        "id": "Iul6I13ttFtF",
        "colab_type": "code",
        "colab": {},
        "outputId": "8f5c7834-21a2-4d61-9e2b-4a25d237a4bf"
      },
      "source": [
        "rand_trunc_normal_t = tf.truncated_normal([3,4], mean=0.0, stddev=1.0)\n",
        "rand_trunc_normal_t\n",
        "# mean= La media \n",
        "# stddev= Desviacion estandar "
      ],
      "execution_count": 0,
      "outputs": [
        {
          "output_type": "execute_result",
          "data": {
            "text/plain": [
              "<tf.Tensor 'truncated_normal_1:0' shape=(3, 4) dtype=float32>"
            ]
          },
          "metadata": {
            "tags": []
          },
          "execution_count": 27
        }
      ]
    },
    {
      "cell_type": "code",
      "metadata": {
        "id": "tszKczKptFtL",
        "colab_type": "code",
        "colab": {},
        "outputId": "9e2e9cab-06a8-4a52-bde4-2c4e19e13050"
      },
      "source": [
        "tf.random_shuffle(rand_unif_t)"
      ],
      "execution_count": 0,
      "outputs": [
        {
          "output_type": "execute_result",
          "data": {
            "text/plain": [
              "<tf.Tensor 'RandomShuffle:0' shape=(3, 4) dtype=float32>"
            ]
          },
          "metadata": {
            "tags": []
          },
          "execution_count": 28
        }
      ]
    },
    {
      "cell_type": "code",
      "metadata": {
        "id": "51h69GGQtFtR",
        "colab_type": "code",
        "colab": {},
        "outputId": "fea73761-3d2d-473d-8896-8d1f533b9594"
      },
      "source": [
        "# para cortar el tensor \n",
        "tf.random_crop(rand_norm_t, [2,6])"
      ],
      "execution_count": 0,
      "outputs": [
        {
          "output_type": "execute_result",
          "data": {
            "text/plain": [
              "<tf.Tensor 'random_crop_1:0' shape=(2, 6) dtype=float32>"
            ]
          },
          "metadata": {
            "tags": []
          },
          "execution_count": 30
        }
      ]
    },
    {
      "cell_type": "markdown",
      "metadata": {
        "id": "DJDE8cO4tFtX",
        "colab_type": "text"
      },
      "source": [
        "# Variables"
      ]
    },
    {
      "cell_type": "code",
      "metadata": {
        "id": "fTEXlw29tFtY",
        "colab_type": "code",
        "colab": {},
        "outputId": "c7ee48bb-6b3d-4b6a-d5c1-872b8f915a64"
      },
      "source": [
        "tf.Variable(rand_norm_t)"
      ],
      "execution_count": 0,
      "outputs": [
        {
          "output_type": "execute_result",
          "data": {
            "text/plain": [
              "<tf.Variable 'Variable:0' shape=(3, 4) dtype=float32_ref>"
            ]
          },
          "metadata": {
            "tags": []
          },
          "execution_count": 31
        }
      ]
    },
    {
      "cell_type": "code",
      "metadata": {
        "id": "-s2xOcFjtFth",
        "colab_type": "code",
        "colab": {},
        "outputId": "b9a4e7d9-7a14-44cb-e2ee-c6345f165e21"
      },
      "source": [
        "tf.convert_to_tensor(1988)"
      ],
      "execution_count": 0,
      "outputs": [
        {
          "output_type": "execute_result",
          "data": {
            "text/plain": [
              "<tf.Tensor 'Const_1:0' shape=() dtype=int32>"
            ]
          },
          "metadata": {
            "tags": []
          },
          "execution_count": 32
        }
      ]
    },
    {
      "cell_type": "code",
      "metadata": {
        "id": "J2yZQTlatFtn",
        "colab_type": "code",
        "colab": {},
        "outputId": "0cb42ab4-cfe3-4ab9-bd0d-562cbe4277e7"
      },
      "source": [
        "# CONVERTIR A TENSOR DE FORMA RAPIDA\n",
        "tf.convert_to_tensor([1,2,3,4,5])"
      ],
      "execution_count": 0,
      "outputs": [
        {
          "output_type": "execute_result",
          "data": {
            "text/plain": [
              "<tf.Tensor 'Const_2:0' shape=(5,) dtype=int32>"
            ]
          },
          "metadata": {
            "tags": []
          },
          "execution_count": 33
        }
      ]
    },
    {
      "cell_type": "code",
      "metadata": {
        "id": "guCrv-TctFts",
        "colab_type": "code",
        "colab": {}
      },
      "source": [
        ""
      ],
      "execution_count": 0,
      "outputs": []
    }
  ]
}