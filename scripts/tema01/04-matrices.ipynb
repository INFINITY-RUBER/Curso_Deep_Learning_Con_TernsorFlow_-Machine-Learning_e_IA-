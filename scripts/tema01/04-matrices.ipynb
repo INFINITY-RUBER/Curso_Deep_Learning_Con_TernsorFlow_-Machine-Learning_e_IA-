{
  "nbformat": 4,
  "nbformat_minor": 0,
  "metadata": {
    "kernelspec": {
      "display_name": "Python 3",
      "language": "python",
      "name": "python3"
    },
    "language_info": {
      "codemirror_mode": {
        "name": "ipython",
        "version": 3
      },
      "file_extension": ".py",
      "mimetype": "text/x-python",
      "name": "python",
      "nbconvert_exporter": "python",
      "pygments_lexer": "ipython3",
      "version": "3.5.5"
    },
    "colab": {
      "name": "04-matrices.ipynb",
      "provenance": [],
      "include_colab_link": true
    }
  },
  "cells": [
    {
      "cell_type": "markdown",
      "metadata": {
        "id": "view-in-github",
        "colab_type": "text"
      },
      "source": [
        "<a href=\"https://colab.research.google.com/github/INFINITY-RUBER/Curso_Deep_Learning_Con_TernsorFlow_Machine-Learning_e_IA-/blob/master/scripts/tema01/04-matrices.ipynb\" target=\"_parent\"><img src=\"https://colab.research.google.com/assets/colab-badge.svg\" alt=\"Open In Colab\"/></a>"
      ]
    },
    {
      "cell_type": "markdown",
      "metadata": {
        "id": "YD-_3-TLRnp-",
        "colab_type": "text"
      },
      "source": [
        "# Cómo trabajar con matrices"
      ]
    },
    {
      "cell_type": "code",
      "metadata": {
        "id": "S17QQadWR1FG",
        "colab_type": "code",
        "colab": {}
      },
      "source": [
        "!pip install tensorflow==1.14"
      ],
      "execution_count": 0,
      "outputs": []
    },
    {
      "cell_type": "code",
      "metadata": {
        "id": "dBFitG2qSIAh",
        "colab_type": "code",
        "colab": {
          "base_uri": "https://localhost:8080/",
          "height": 34
        },
        "outputId": "d72a2700-f0c1-4630-c1d5-4423b87eaf9c"
      },
      "source": [
        "tf.__version__"
      ],
      "execution_count": 2,
      "outputs": [
        {
          "output_type": "execute_result",
          "data": {
            "text/plain": [
              "'1.14.0'"
            ]
          },
          "metadata": {
            "tags": []
          },
          "execution_count": 2
        }
      ]
    },
    {
      "cell_type": "code",
      "metadata": {
        "id": "T_OJfVPnRnqA",
        "colab_type": "code",
        "colab": {}
      },
      "source": [
        "import tensorflow as tf\n",
        "session = tf.Session()"
      ],
      "execution_count": 0,
      "outputs": []
    },
    {
      "cell_type": "markdown",
      "metadata": {
        "id": "JHzmjUICRnqK",
        "colab_type": "text"
      },
      "source": [
        "### 1. Cómo crear matrices"
      ]
    },
    {
      "cell_type": "code",
      "metadata": {
        "id": "t5mD2QybRnqM",
        "colab_type": "code",
        "colab": {
          "base_uri": "https://localhost:8080/",
          "height": 84
        },
        "outputId": "0a5c6f4e-73ac-4491-bc79-69095efcf96c"
      },
      "source": [
        "identity = tf.diag([1.,1.,1.,1.])\n",
        "print(session.run(identity)) # crea una matris identidad"
      ],
      "execution_count": 4,
      "outputs": [
        {
          "output_type": "stream",
          "text": [
            "[[1. 0. 0. 0.]\n",
            " [0. 1. 0. 0.]\n",
            " [0. 0. 1. 0.]\n",
            " [0. 0. 0. 1.]]\n"
          ],
          "name": "stdout"
        }
      ]
    },
    {
      "cell_type": "code",
      "metadata": {
        "id": "CxMQlUt1RnqV",
        "colab_type": "code",
        "colab": {
          "base_uri": "https://localhost:8080/",
          "height": 67
        },
        "outputId": "d1a8e386-0ffa-4e50-a31c-1a68d4f3e446"
      },
      "source": [
        "A = tf.truncated_normal([3,4])\n",
        "print(session.run(A))"
      ],
      "execution_count": 5,
      "outputs": [
        {
          "output_type": "stream",
          "text": [
            "[[-0.2301007  -0.63401127 -1.048298   -1.1452522 ]\n",
            " [ 0.6471514   0.59793466 -0.17379223  0.80798   ]\n",
            " [ 1.4560295  -0.63798004  0.11949411  1.2146362 ]]\n"
          ],
          "name": "stdout"
        }
      ]
    },
    {
      "cell_type": "code",
      "metadata": {
        "id": "zIFBZLTrRnqc",
        "colab_type": "code",
        "colab": {
          "base_uri": "https://localhost:8080/",
          "height": 67
        },
        "outputId": "efa9a89b-1d49-44a9-e257-f2a49c6e1a99"
      },
      "source": [
        "B = tf.fill([3,4], 1988.)\n",
        "print(session.run(B))"
      ],
      "execution_count": 6,
      "outputs": [
        {
          "output_type": "stream",
          "text": [
            "[[1988. 1988. 1988. 1988.]\n",
            " [1988. 1988. 1988. 1988.]\n",
            " [1988. 1988. 1988. 1988.]]\n"
          ],
          "name": "stdout"
        }
      ]
    },
    {
      "cell_type": "code",
      "metadata": {
        "id": "T5RGWv-lRnqj",
        "colab_type": "code",
        "colab": {
          "base_uri": "https://localhost:8080/",
          "height": 84
        },
        "outputId": "95e3c547-2631-472b-dae3-ae304900c735"
      },
      "source": [
        "C = tf.random_uniform([4,3])# crea una matriz uniforme de 4 filas x 3 columnas\n",
        "print(session.run(C))"
      ],
      "execution_count": 9,
      "outputs": [
        {
          "output_type": "stream",
          "text": [
            "[[0.40494168 0.06496    0.10092688]\n",
            " [0.75844204 0.20864618 0.6499796 ]\n",
            " [0.3874582  0.1954751  0.9668968 ]\n",
            " [0.32903135 0.6690961  0.9750556 ]]\n"
          ],
          "name": "stdout"
        }
      ]
    },
    {
      "cell_type": "code",
      "metadata": {
        "id": "XNdOjUHDRnqq",
        "colab_type": "code",
        "colab": {
          "base_uri": "https://localhost:8080/",
          "height": 67
        },
        "outputId": "2dc87b56-d622-4ade-9335-669a9bbb37a6"
      },
      "source": [
        "# crear matris apartir de un objeto de datos\n",
        "import numpy as np\n",
        "data = np.array([[1.,2.,3.],[4.,5.,6.],[7.,8.,9.]])\n",
        "D = tf.convert_to_tensor(data)\n",
        "print(session.run(D))"
      ],
      "execution_count": 11,
      "outputs": [
        {
          "output_type": "stream",
          "text": [
            "[[1. 2. 3.]\n",
            " [4. 5. 6.]\n",
            " [7. 8. 9.]]\n"
          ],
          "name": "stdout"
        }
      ]
    },
    {
      "cell_type": "markdown",
      "metadata": {
        "id": "U3P7_Ts2Rnqz",
        "colab_type": "text"
      },
      "source": [
        "## 2. Operar con matrices"
      ]
    },
    {
      "cell_type": "code",
      "metadata": {
        "id": "bD42pa4GRnq3",
        "colab_type": "code",
        "colab": {
          "base_uri": "https://localhost:8080/",
          "height": 67
        },
        "outputId": "e3e61d46-4a92-4a7a-c16b-956271dbd6e1"
      },
      "source": [
        "print(session.run(A+B))"
      ],
      "execution_count": 12,
      "outputs": [
        {
          "output_type": "stream",
          "text": [
            "[[1989.4833 1987.0654 1988.8431 1986.6024]\n",
            " [1987.388  1987.1847 1986.8528 1987.5602]\n",
            " [1988.3042 1986.6919 1986.666  1989.407 ]]\n"
          ],
          "name": "stdout"
        }
      ]
    },
    {
      "cell_type": "code",
      "metadata": {
        "id": "eJ5dNh-sRnrD",
        "colab_type": "code",
        "colab": {
          "base_uri": "https://localhost:8080/",
          "height": 67
        },
        "outputId": "6b9bc5b8-f639-4952-bdd8-9fba0c56c76c"
      },
      "source": [
        "print(session.run(B-B))"
      ],
      "execution_count": 13,
      "outputs": [
        {
          "output_type": "stream",
          "text": [
            "[[0. 0. 0. 0.]\n",
            " [0. 0. 0. 0.]\n",
            " [0. 0. 0. 0.]]\n"
          ],
          "name": "stdout"
        }
      ]
    },
    {
      "cell_type": "code",
      "metadata": {
        "id": "9TBD7cJIRnrJ",
        "colab_type": "code",
        "colab": {
          "base_uri": "https://localhost:8080/",
          "height": 67
        },
        "outputId": "295036ff-d028-4914-b4c5-dcc699e02c7c"
      },
      "source": [
        "print(session.run(tf.matmul(A,C)))# multiplicar matris donde A[4X3] y C[3X4] "
      ],
      "execution_count": 14,
      "outputs": [
        {
          "output_type": "stream",
          "text": [
            "[[ 0.5881008   0.24439725  0.3943368 ]\n",
            " [-1.7099488  -0.6786355  -0.57544327]\n",
            " [-0.44714046 -0.50996083  0.96941733]]\n"
          ],
          "name": "stdout"
        }
      ]
    },
    {
      "cell_type": "code",
      "metadata": {
        "id": "R9EBDEBaRnrP",
        "colab_type": "code",
        "colab": {
          "base_uri": "https://localhost:8080/",
          "height": 67
        },
        "outputId": "d97f57e6-8baa-4f48-e728-000e58e2aec6"
      },
      "source": [
        "print(session.run(tf.matmul(A, identity)))"
      ],
      "execution_count": 15,
      "outputs": [
        {
          "output_type": "stream",
          "text": [
            "[[-1.6636072  -0.5542362   1.3789642  -0.24767213]\n",
            " [-0.01934127  0.49384278  0.45621446  0.05464964]\n",
            " [-0.02768271  1.0313135   0.7829085  -1.139209  ]]\n"
          ],
          "name": "stdout"
        }
      ]
    },
    {
      "cell_type": "markdown",
      "metadata": {
        "id": "AJRPLB9eRnrV",
        "colab_type": "text"
      },
      "source": [
        "# 3. Tranpuesta, determinante, inversa"
      ]
    },
    {
      "cell_type": "code",
      "metadata": {
        "id": "GBP-suF9RnrX",
        "colab_type": "code",
        "colab": {
          "base_uri": "https://localhost:8080/",
          "height": 67
        },
        "outputId": "e66e9a92-43e4-4115-e4f2-f126d1b166eb"
      },
      "source": [
        "# Tranpuesta\n",
        "print(session.run(tf.transpose(D)))"
      ],
      "execution_count": 16,
      "outputs": [
        {
          "output_type": "stream",
          "text": [
            "[[1. 4. 7.]\n",
            " [2. 5. 8.]\n",
            " [3. 6. 9.]]\n"
          ],
          "name": "stdout"
        }
      ]
    },
    {
      "cell_type": "code",
      "metadata": {
        "id": "wtnSpU5nRnrf",
        "colab_type": "code",
        "colab": {
          "base_uri": "https://localhost:8080/",
          "height": 84
        },
        "outputId": "569905ba-0f45-4b8b-8813-3ed110940c8d"
      },
      "source": [
        "#Tranpuesta\n",
        "print(session.run(tf.transpose(A)))"
      ],
      "execution_count": 19,
      "outputs": [
        {
          "output_type": "stream",
          "text": [
            "[[ 1.7893519   0.09932958 -1.7455466 ]\n",
            " [-0.9771057   0.70915806  0.51312894]\n",
            " [-0.02004225 -1.3351558   0.21852647]\n",
            " [-1.0193074  -0.9379225  -0.09104424]]\n"
          ],
          "name": "stdout"
        }
      ]
    },
    {
      "cell_type": "code",
      "metadata": {
        "id": "TwtqDoe7Rnrl",
        "colab_type": "code",
        "colab": {
          "base_uri": "https://localhost:8080/",
          "height": 34
        },
        "outputId": "8cccf8a5-91a9-42d6-b5b2-08b99e238918"
      },
      "source": [
        "# determinante\n",
        "print(session.run(tf.matrix_determinant(D)))"
      ],
      "execution_count": 21,
      "outputs": [
        {
          "output_type": "stream",
          "text": [
            "6.66133814775094e-16\n"
          ],
          "name": "stdout"
        }
      ]
    },
    {
      "cell_type": "code",
      "metadata": {
        "id": "kgOKxs3qRnrr",
        "colab_type": "code",
        "colab": {
          "base_uri": "https://localhost:8080/",
          "height": 67
        },
        "outputId": "36a273ad-c3af-4e63-eac5-3ce8b937ca36"
      },
      "source": [
        "E = tf.convert_to_tensor(np.array([[1.,2.,3.], [-3., -6., -1], [0., 5, -3]]))\n",
        "print(session.run(E))"
      ],
      "execution_count": 24,
      "outputs": [
        {
          "output_type": "stream",
          "text": [
            "[[ 1.  2.  3.]\n",
            " [-3. -6. -1.]\n",
            " [ 0.  5. -3.]]\n"
          ],
          "name": "stdout"
        }
      ]
    },
    {
      "cell_type": "code",
      "metadata": {
        "id": "JbIeA8ojWoEE",
        "colab_type": "code",
        "colab": {
          "base_uri": "https://localhost:8080/",
          "height": 34
        },
        "outputId": "fb663045-8c96-4c35-f50f-4addbeb4ca78"
      },
      "source": [
        "# determinante E\n",
        "print(session.run(tf.matrix_determinant(E)))"
      ],
      "execution_count": 26,
      "outputs": [
        {
          "output_type": "stream",
          "text": [
            "-40.0\n"
          ],
          "name": "stdout"
        }
      ]
    },
    {
      "cell_type": "code",
      "metadata": {
        "id": "kF4PCuy7Rnrx",
        "colab_type": "code",
        "colab": {
          "base_uri": "https://localhost:8080/",
          "height": 67
        },
        "outputId": "b029f10a-deb1-49f0-cc55-29c227b01a9a"
      },
      "source": [
        "# inversa\n",
        "print(session.run(tf.matrix_inverse(E)))"
      ],
      "execution_count": 30,
      "outputs": [
        {
          "output_type": "stream",
          "text": [
            "[[-0.575 -0.525 -0.4  ]\n",
            " [ 0.225  0.075  0.2  ]\n",
            " [ 0.375  0.125  0.   ]]\n"
          ],
          "name": "stdout"
        }
      ]
    },
    {
      "cell_type": "code",
      "metadata": {
        "id": "FjKOKWVUXMtI",
        "colab_type": "code",
        "colab": {
          "base_uri": "https://localhost:8080/",
          "height": 67
        },
        "outputId": "c283da26-13d7-40f4-a753-d6cf5666ffd3"
      },
      "source": [
        "print(session.run(tf.matmul(E,(session.run(tf.matrix_inverse(E))))))   # multiplicar matris donde A[4X3] y C[3X4] "
      ],
      "execution_count": 33,
      "outputs": [
        {
          "output_type": "stream",
          "text": [
            "[[ 1.00000000e+00  0.00000000e+00  0.00000000e+00]\n",
            " [-2.22044605e-16  1.00000000e+00  0.00000000e+00]\n",
            " [ 0.00000000e+00  5.55111512e-17  1.00000000e+00]]\n"
          ],
          "name": "stdout"
        }
      ]
    },
    {
      "cell_type": "markdown",
      "metadata": {
        "id": "KgLHNhh5Rnr3",
        "colab_type": "text"
      },
      "source": [
        "## 4. Descomposición"
      ]
    },
    {
      "cell_type": "code",
      "metadata": {
        "id": "SNUgQxsmRnr4",
        "colab_type": "code",
        "colab": {
          "base_uri": "https://localhost:8080/",
          "height": 84
        },
        "outputId": "531efb11-dc8c-4d5b-8eb0-7c2dffa27d06"
      },
      "source": [
        "print(session.run(tf.cholesky(identity)))"
      ],
      "execution_count": 34,
      "outputs": [
        {
          "output_type": "stream",
          "text": [
            "[[1. 0. 0. 0.]\n",
            " [0. 1. 0. 0.]\n",
            " [0. 0. 1. 0.]\n",
            " [0. 0. 0. 1.]]\n"
          ],
          "name": "stdout"
        }
      ]
    },
    {
      "cell_type": "markdown",
      "metadata": {
        "id": "81MHtIB4RnsF",
        "colab_type": "text"
      },
      "source": [
        "## 5. Valores y vectores propios"
      ]
    },
    {
      "cell_type": "code",
      "metadata": {
        "id": "CTBU1GH2RnsI",
        "colab_type": "code",
        "colab": {
          "base_uri": "https://localhost:8080/",
          "height": 34
        },
        "outputId": "c62bcaac-769f-41d9-f09d-6243ab89c9fd"
      },
      "source": [
        "print(session.run(tf.self_adjoint_eigvals(E)))"
      ],
      "execution_count": 35,
      "outputs": [
        {
          "output_type": "stream",
          "text": [
            "[-10.24888536  -0.66882335   2.91770871]\n"
          ],
          "name": "stdout"
        }
      ]
    },
    {
      "cell_type": "code",
      "metadata": {
        "id": "PXRc0bpBRnsR",
        "colab_type": "code",
        "colab": {
          "base_uri": "https://localhost:8080/",
          "height": 67
        },
        "outputId": "913b2c5d-c2e0-4bfe-ff67-3fc21f840edb"
      },
      "source": [
        "# Matrix de descomposicion de los vectores\n",
        "print(session.run(tf.self_adjoint_eig(E)))"
      ],
      "execution_count": 36,
      "outputs": [
        {
          "output_type": "stream",
          "text": [
            "(array([-10.24888536,  -0.66882335,   2.91770871]), array([[ 0.21442787,  0.60489799, -0.76688924],\n",
            "       [ 0.80402486,  0.3364893 ,  0.49022339],\n",
            "       [-0.55458517,  0.72171557,  0.41420034]]))\n"
          ],
          "name": "stdout"
        }
      ]
    },
    {
      "cell_type": "code",
      "metadata": {
        "id": "60Mv21nXRnsY",
        "colab_type": "code",
        "colab": {}
      },
      "source": [
        ""
      ],
      "execution_count": 0,
      "outputs": []
    }
  ]
}