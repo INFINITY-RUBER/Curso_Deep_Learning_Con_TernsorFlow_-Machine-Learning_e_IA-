{
  "nbformat": 4,
  "nbformat_minor": 0,
  "metadata": {
    "kernelspec": {
      "display_name": "Python 3",
      "language": "python",
      "name": "python3"
    },
    "language_info": {
      "codemirror_mode": {
        "name": "ipython",
        "version": 3
      },
      "file_extension": ".py",
      "mimetype": "text/x-python",
      "name": "python",
      "nbconvert_exporter": "python",
      "pygments_lexer": "ipython3",
      "version": "3.5.5"
    },
    "colab": {
      "name": "01-general-info.ipynb",
      "provenance": [],
      "include_colab_link": true
    }
  },
  "cells": [
    {
      "cell_type": "markdown",
      "metadata": {
        "id": "view-in-github",
        "colab_type": "text"
      },
      "source": [
        "<a href=\"https://colab.research.google.com/github/INFINITY-RUBER/Curso_Deep_Learning_Con_TernsorFlow_Machine-Learning_e_IA-/blob/master/01_general_info.ipynb\" target=\"_parent\"><img src=\"https://colab.research.google.com/assets/colab-badge.svg\" alt=\"Open In Colab\"/></a>"
      ]
    },
    {
      "cell_type": "markdown",
      "metadata": {
        "id": "0wCNGmdxegpB",
        "colab_type": "text"
      },
      "source": [
        "# Como funciona TensorFlow"
      ]
    },
    {
      "cell_type": "code",
      "metadata": {
        "id": "Ys0f9JNzelGn",
        "colab_type": "code",
        "colab": {}
      },
      "source": [
        "!pip install tensorflow==1.14"
      ],
      "execution_count": 0,
      "outputs": []
    },
    {
      "cell_type": "code",
      "metadata": {
        "id": "OBRQESIKegpE",
        "colab_type": "code",
        "colab": {
          "base_uri": "https://localhost:8080/",
          "height": 34
        },
        "outputId": "d5a5fe7e-2ca5-409a-a55d-170e1847e959"
      },
      "source": [
        "import tensorflow as tf\n",
        "tf.__version__"
      ],
      "execution_count": 3,
      "outputs": [
        {
          "output_type": "execute_result",
          "data": {
            "text/plain": [
              "'1.14.0'"
            ]
          },
          "metadata": {
            "tags": []
          },
          "execution_count": 3
        }
      ]
    },
    {
      "cell_type": "markdown",
      "metadata": {
        "id": "R5unMeNpegpN",
        "colab_type": "text"
      },
      "source": [
        "1. Importación o generación del conjunto de datos.\n",
        "2. Transformación y normalización de los datos.\n",
        "3. Dividir el conjunto de datos en conjunto de entrenamiento, de validación y de test.\n",
        "4. Definir los hiperparámetros del algoritmo"
      ]
    },
    {
      "cell_type": "code",
      "metadata": {
        "id": "KVFUpHFuegpO",
        "colab_type": "code",
        "colab": {}
      },
      "source": [
        "learning_rate = 0.01\n",
        "batch_size = 50\n",
        "iterations = 10000"
      ],
      "execution_count": 0,
      "outputs": []
    },
    {
      "cell_type": "markdown",
      "metadata": {
        "id": "hJlr3fF7egpW",
        "colab_type": "text"
      },
      "source": [
        "5. Inicializar variables y placeholders"
      ]
    },
    {
      "cell_type": "code",
      "metadata": {
        "id": "A-0FGPaiegpX",
        "colab_type": "code",
        "colab": {}
      },
      "source": [
        "x = tf.constant(30)\n",
        "x_input = tf.placeholder(tf.float32, [None, 3])\n",
        "y_input = tf.placeholder(tf.float32, [None, 5])"
      ],
      "execution_count": 0,
      "outputs": []
    },
    {
      "cell_type": "markdown",
      "metadata": {
        "id": "xtzqVs0Regpe",
        "colab_type": "text"
      },
      "source": [
        "6. Definir la estructura del modelo del algoritmo.\n",
        "$$y = mx+n$$"
      ]
    },
    {
      "cell_type": "code",
      "metadata": {
        "id": "Vwv91HH_egpg",
        "colab_type": "code",
        "colab": {}
      },
      "source": [
        "y_pred = tf.add(tf.multiply(m_matrix, x_input), n_vector)"
      ],
      "execution_count": 0,
      "outputs": []
    },
    {
      "cell_type": "markdown",
      "metadata": {
        "id": "Mz1x1VVXegpw",
        "colab_type": "text"
      },
      "source": [
        "7. Declarar la función de pérdidas (loss function)\n",
        "$$MSE = \\frac{\\sum_{i=1}^n(y_{actual,i}-y_{pred,i})^2}{n}$$"
      ]
    },
    {
      "cell_type": "code",
      "metadata": {
        "id": "X22-8sjvegpx",
        "colab_type": "code",
        "colab": {}
      },
      "source": [
        "loss = tf.reduce_mean(tf.square(y_actual - y_pred))"
      ],
      "execution_count": 0,
      "outputs": []
    },
    {
      "cell_type": "markdown",
      "metadata": {
        "id": "Ufz11iizegp5",
        "colab_type": "text"
      },
      "source": [
        "8. Inicializar y entrenar el modelo anterior. "
      ]
    },
    {
      "cell_type": "code",
      "metadata": {
        "id": "p69Yqbbpegp6",
        "colab_type": "code",
        "colab": {}
      },
      "source": [
        "with tf.Session(graph = graph) as session:\n",
        "    ...\n",
        "    session.run(...)\n",
        "    ...."
      ],
      "execution_count": 0,
      "outputs": []
    },
    {
      "cell_type": "code",
      "metadata": {
        "id": "VAwim4_iegqD",
        "colab_type": "code",
        "colab": {}
      },
      "source": [
        "session = tf.Session(graph = graph)\n",
        "...\n",
        "session.run(...)\n",
        "..."
      ],
      "execution_count": 0,
      "outputs": []
    },
    {
      "cell_type": "markdown",
      "metadata": {
        "id": "txVa1WcMegqL",
        "colab_type": "text"
      },
      "source": [
        "9. Evaluación del modelo \n",
        "10. Ajustar los hiper parámetros\n",
        "11. Publicar (subir a producción) y predecir nuevos resultados"
      ]
    }
  ]
}