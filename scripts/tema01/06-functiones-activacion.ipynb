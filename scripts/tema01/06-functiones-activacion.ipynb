{
  "nbformat": 4,
  "nbformat_minor": 0,
  "metadata": {
    "kernelspec": {
      "display_name": "Python 3",
      "language": "python",
      "name": "python3"
    },
    "language_info": {
      "codemirror_mode": {
        "name": "ipython",
        "version": 3
      },
      "file_extension": ".py",
      "mimetype": "text/x-python",
      "name": "python",
      "nbconvert_exporter": "python",
      "pygments_lexer": "ipython3",
      "version": "3.5.5"
    },
    "colab": {
      "name": "06-functiones-activacion.ipynb",
      "provenance": [],
      "include_colab_link": true
    }
  },
  "cells": [
    {
      "cell_type": "markdown",
      "metadata": {
        "id": "view-in-github",
        "colab_type": "text"
      },
      "source": [
        "<a href=\"https://colab.research.google.com/github/INFINITY-RUBER/Curso_Deep_Learning_Con_TernsorFlow_Machine-Learning_e_IA-/blob/master/scripts/tema01/06-functiones-activacion.ipynb\" target=\"_parent\"><img src=\"https://colab.research.google.com/assets/colab-badge.svg\" alt=\"Open In Colab\"/></a>"
      ]
    },
    {
      "cell_type": "markdown",
      "metadata": {
        "id": "aQhKFSLQsJU9",
        "colab_type": "text"
      },
      "source": [
        "# Funciones de activación"
      ]
    },
    {
      "cell_type": "code",
      "metadata": {
        "id": "Z0xby1nqsaoj",
        "colab_type": "code",
        "colab": {}
      },
      "source": [
        "!pip install tensorflow==1.14"
      ],
      "execution_count": 0,
      "outputs": []
    },
    {
      "cell_type": "code",
      "metadata": {
        "id": "LQpSTrAk7B61",
        "colab_type": "code",
        "colab": {}
      },
      "source": [
        "import tensorflow as tf\n",
        "session = tf.Session()"
      ],
      "execution_count": 0,
      "outputs": []
    },
    {
      "cell_type": "code",
      "metadata": {
        "id": "W3E_6MXosJU_",
        "colab_type": "code",
        "colab": {
          "base_uri": "https://localhost:8080/",
          "height": 34
        },
        "outputId": "223e14c0-8e48-4aca-8856-0da4863f85c3"
      },
      "source": [
        "\n",
        "tf.__version__"
      ],
      "execution_count": 4,
      "outputs": [
        {
          "output_type": "execute_result",
          "data": {
            "text/plain": [
              "'1.14.0'"
            ]
          },
          "metadata": {
            "tags": []
          },
          "execution_count": 4
        }
      ]
    },
    {
      "cell_type": "code",
      "metadata": {
        "id": "ZDaMsBu0sJVH",
        "colab_type": "code",
        "colab": {}
      },
      "source": [
        "import tensorflow.nn as nn"
      ],
      "execution_count": 0,
      "outputs": []
    },
    {
      "cell_type": "markdown",
      "metadata": {
        "id": "2gXKHhoVsJVQ",
        "colab_type": "text"
      },
      "source": [
        "### Función ReLU\n",
        "- Contínua\n",
        "- No derivable"
      ]
    },
    {
      "cell_type": "markdown",
      "metadata": {
        "id": "h58Uy_-ysJVR",
        "colab_type": "text"
      },
      "source": [
        "$$f(x) = max(0,x)$$"
      ]
    },
    {
      "cell_type": "code",
      "metadata": {
        "id": "ZqzX-ivusJVT",
        "colab_type": "code",
        "colab": {
          "base_uri": "https://localhost:8080/",
          "height": 34
        },
        "outputId": "1cedff8e-4122-4483-a72c-cdec110639b1"
      },
      "source": [
        "print(session.run(nn.relu([-5., 5., 15.])))"
      ],
      "execution_count": 6,
      "outputs": [
        {
          "output_type": "stream",
          "text": [
            "[ 0.  5. 15.]\n"
          ],
          "name": "stdout"
        }
      ]
    },
    {
      "cell_type": "markdown",
      "metadata": {
        "id": "JDlgRWmwsJVa",
        "colab_type": "text"
      },
      "source": [
        "$$f(x) = min(max(0,x),6)$$"
      ]
    },
    {
      "cell_type": "code",
      "metadata": {
        "id": "U7Ad-IX8sJVc",
        "colab_type": "code",
        "colab": {
          "base_uri": "https://localhost:8080/",
          "height": 34
        },
        "outputId": "cfdffc37-8115-433b-aaf0-e1603e64f2c7"
      },
      "source": [
        "print(session.run(nn.relu6([-5.,5.,15.])))"
      ],
      "execution_count": 7,
      "outputs": [
        {
          "output_type": "stream",
          "text": [
            "[0. 5. 6.]\n"
          ],
          "name": "stdout"
        }
      ]
    },
    {
      "cell_type": "markdown",
      "metadata": {
        "id": "fzKd39emsJVj",
        "colab_type": "text"
      },
      "source": [
        "### Función sigmoide (logística)\n",
        "- Contínua\n",
        "- Derivable\n",
        "- Rango de valores $(0,1)$"
      ]
    },
    {
      "cell_type": "markdown",
      "metadata": {
        "id": "50_NduEVsJVl",
        "colab_type": "text"
      },
      "source": [
        "$$f(x) = \\frac{1}{1+e^{-x}}$$"
      ]
    },
    {
      "cell_type": "code",
      "metadata": {
        "id": "BEgoxQkqsJVm",
        "colab_type": "code",
        "colab": {
          "base_uri": "https://localhost:8080/",
          "height": 34
        },
        "outputId": "d20745f5-abe1-461a-a89e-bf506ecdb0f6"
      },
      "source": [
        "print(session.run(nn.sigmoid([-2., -1.,0,1.,2.])))"
      ],
      "execution_count": 8,
      "outputs": [
        {
          "output_type": "stream",
          "text": [
            "[0.11920292 0.26894143 0.5        0.7310586  0.880797  ]\n"
          ],
          "name": "stdout"
        }
      ]
    },
    {
      "cell_type": "markdown",
      "metadata": {
        "id": "3Gz-U8ZHsJVt",
        "colab_type": "text"
      },
      "source": [
        "### Función Tangente hiperbólica\n",
        "- Contínua \n",
        "- Derivable\n",
        "- Rango de valores $(-1,1)$"
      ]
    },
    {
      "cell_type": "markdown",
      "metadata": {
        "id": "MvZBD2q7sJVv",
        "colab_type": "text"
      },
      "source": [
        "$$f(x) = tanh(x) = \\frac{e^x-e^{-x}}{e^x+e^{-x}}$$"
      ]
    },
    {
      "cell_type": "code",
      "metadata": {
        "id": "0oSL921ksJVw",
        "colab_type": "code",
        "colab": {},
        "outputId": "23a35bc2-45ce-4309-9700-278009c8a4c1"
      },
      "source": [
        "print(session.run(nn.tanh([-2.,-1.,0.,1.,2.])))"
      ],
      "execution_count": 0,
      "outputs": [
        {
          "output_type": "stream",
          "text": [
            "[-0.9640276 -0.7615942  0.         0.7615942  0.9640276]\n"
          ],
          "name": "stdout"
        }
      ]
    },
    {
      "cell_type": "markdown",
      "metadata": {
        "id": "zA37VhvMsJV5",
        "colab_type": "text"
      },
      "source": [
        "### Función softsign\n",
        "(signo suavisado)\n",
        "- Versión contínua de la función sign\n",
        "- No es derivable"
      ]
    },
    {
      "cell_type": "markdown",
      "metadata": {
        "id": "_SVNV_8osJV6",
        "colab_type": "text"
      },
      "source": [
        "$$f(x) = \\frac{x}{|x|+1}$$"
      ]
    },
    {
      "cell_type": "code",
      "metadata": {
        "id": "8wTDFwpmsJV7",
        "colab_type": "code",
        "colab": {
          "base_uri": "https://localhost:8080/",
          "height": 34
        },
        "outputId": "248705f9-49e3-41c7-d880-b7376ab78a4f"
      },
      "source": [
        "print(session.run(nn.softsign([-2., -1., 0., 1., 2.])))"
      ],
      "execution_count": 9,
      "outputs": [
        {
          "output_type": "stream",
          "text": [
            "[-0.6666667 -0.5        0.         0.5        0.6666667]\n"
          ],
          "name": "stdout"
        }
      ]
    },
    {
      "cell_type": "markdown",
      "metadata": {
        "id": "mApxoUjlsJWC",
        "colab_type": "text"
      },
      "source": [
        "### Función Softplus\n",
        "- Versión contínua y derivable de la función ReLU\n",
        "- Asíntota horizontal tiende a 0"
      ]
    },
    {
      "cell_type": "markdown",
      "metadata": {
        "id": "FcTkkrTAsJWD",
        "colab_type": "text"
      },
      "source": [
        "$$f(x) = ln(e^{x}+1)$$"
      ]
    },
    {
      "cell_type": "code",
      "metadata": {
        "id": "_Fo57Ht2sJWE",
        "colab_type": "code",
        "colab": {},
        "outputId": "79987c8b-5130-456d-9d6d-c81373edd5e6"
      },
      "source": [
        "print(session.run(nn.softplus([-2.,-1.,0.,1.,2])))"
      ],
      "execution_count": 0,
      "outputs": [
        {
          "output_type": "stream",
          "text": [
            "[0.12692805 0.31326166 0.6931472  1.3132616  2.126928  ]\n"
          ],
          "name": "stdout"
        }
      ]
    },
    {
      "cell_type": "markdown",
      "metadata": {
        "id": "0aqsWpOzsJWK",
        "colab_type": "text"
      },
      "source": [
        "### Función ELU (Exponencial lineal unitaria)\n",
        "- Similar a la softplus\n",
        "- Asíntota horizontal tiende a -1"
      ]
    },
    {
      "cell_type": "markdown",
      "metadata": {
        "id": "0vg1sawOsJWL",
        "colab_type": "text"
      },
      "source": [
        "$$f(x) = e^x+1 \\ si\\ x <0$$\n",
        "$$f(x) = x\\ si \\ x\\geq 0 $$"
      ]
    },
    {
      "cell_type": "code",
      "metadata": {
        "id": "po4yg7q-sJWN",
        "colab_type": "code",
        "colab": {
          "base_uri": "https://localhost:8080/",
          "height": 34
        },
        "outputId": "f36bc056-1569-4772-99d6-8dadbcf5645f"
      },
      "source": [
        "print(session.run(nn.elu([-2.,-1.,0,1.,2.])))"
      ],
      "execution_count": 10,
      "outputs": [
        {
          "output_type": "stream",
          "text": [
            "[-0.86466473 -0.63212055  0.          1.          2.        ]\n"
          ],
          "name": "stdout"
        }
      ]
    },
    {
      "cell_type": "markdown",
      "metadata": {
        "id": "o6pRRl2nsJWV",
        "colab_type": "text"
      },
      "source": [
        "### Gráfico de las funciones de activación\n",
        "![](https://github.com/INFINITY-RUBER/Curso_Deep_Learning_Con_TernsorFlow_Machine-Learning_e_IA-/blob/master/resources/02-act.png?raw=1)\n",
        "![](https://github.com/INFINITY-RUBER/Curso_Deep_Learning_Con_TernsorFlow_Machine-Learning_e_IA-/blob/master/resources/03-act.png?raw=1)"
      ]
    },
    {
      "cell_type": "code",
      "metadata": {
        "id": "pxcLlHWlsJWW",
        "colab_type": "code",
        "colab": {}
      },
      "source": [
        ""
      ],
      "execution_count": 0,
      "outputs": []
    }
  ]
}