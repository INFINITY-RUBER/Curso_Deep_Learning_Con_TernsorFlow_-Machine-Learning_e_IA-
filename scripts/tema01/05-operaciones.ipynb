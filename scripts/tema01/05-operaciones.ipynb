{
  "nbformat": 4,
  "nbformat_minor": 0,
  "metadata": {
    "kernelspec": {
      "display_name": "Python 3",
      "language": "python",
      "name": "python3"
    },
    "language_info": {
      "codemirror_mode": {
        "name": "ipython",
        "version": 3
      },
      "file_extension": ".py",
      "mimetype": "text/x-python",
      "name": "python",
      "nbconvert_exporter": "python",
      "pygments_lexer": "ipython3",
      "version": "3.5.5"
    },
    "colab": {
      "name": "05-operaciones.ipynb",
      "provenance": [],
      "include_colab_link": true
    }
  },
  "cells": [
    {
      "cell_type": "markdown",
      "metadata": {
        "id": "view-in-github",
        "colab_type": "text"
      },
      "source": [
        "<a href=\"https://colab.research.google.com/github/INFINITY-RUBER/Curso_Deep_Learning_Con_TernsorFlow_Machine-Learning_e_IA-/blob/master/scripts/tema01/05-operaciones.ipynb\" target=\"_parent\"><img src=\"https://colab.research.google.com/assets/colab-badge.svg\" alt=\"Open In Colab\"/></a>"
      ]
    },
    {
      "cell_type": "markdown",
      "metadata": {
        "id": "G-CUaaIHaqoc",
        "colab_type": "text"
      },
      "source": [
        "# Operaciones con TensorFlow"
      ]
    },
    {
      "cell_type": "code",
      "metadata": {
        "id": "mR9y3xFPaxUo",
        "colab_type": "code",
        "colab": {}
      },
      "source": [
        "!pip install tensorflow==1.14\n"
      ],
      "execution_count": 0,
      "outputs": []
    },
    {
      "cell_type": "code",
      "metadata": {
        "id": "w2l5AO4haqoe",
        "colab_type": "code",
        "colab": {
          "base_uri": "https://localhost:8080/",
          "height": 440
        },
        "outputId": "a5c24447-4fe0-425e-a990-022d68859b7e"
      },
      "source": [
        "import tensorflow as tf\n",
        "session = tf.Session()"
      ],
      "execution_count": 2,
      "outputs": [
        {
          "output_type": "stream",
          "text": [
            "/usr/local/lib/python3.6/dist-packages/tensorflow/python/framework/dtypes.py:516: FutureWarning: Passing (type, 1) or '1type' as a synonym of type is deprecated; in a future version of numpy, it will be understood as (type, (1,)) / '(1,)type'.\n",
            "  _np_qint8 = np.dtype([(\"qint8\", np.int8, 1)])\n",
            "/usr/local/lib/python3.6/dist-packages/tensorflow/python/framework/dtypes.py:517: FutureWarning: Passing (type, 1) or '1type' as a synonym of type is deprecated; in a future version of numpy, it will be understood as (type, (1,)) / '(1,)type'.\n",
            "  _np_quint8 = np.dtype([(\"quint8\", np.uint8, 1)])\n",
            "/usr/local/lib/python3.6/dist-packages/tensorflow/python/framework/dtypes.py:518: FutureWarning: Passing (type, 1) or '1type' as a synonym of type is deprecated; in a future version of numpy, it will be understood as (type, (1,)) / '(1,)type'.\n",
            "  _np_qint16 = np.dtype([(\"qint16\", np.int16, 1)])\n",
            "/usr/local/lib/python3.6/dist-packages/tensorflow/python/framework/dtypes.py:519: FutureWarning: Passing (type, 1) or '1type' as a synonym of type is deprecated; in a future version of numpy, it will be understood as (type, (1,)) / '(1,)type'.\n",
            "  _np_quint16 = np.dtype([(\"quint16\", np.uint16, 1)])\n",
            "/usr/local/lib/python3.6/dist-packages/tensorflow/python/framework/dtypes.py:520: FutureWarning: Passing (type, 1) or '1type' as a synonym of type is deprecated; in a future version of numpy, it will be understood as (type, (1,)) / '(1,)type'.\n",
            "  _np_qint32 = np.dtype([(\"qint32\", np.int32, 1)])\n",
            "/usr/local/lib/python3.6/dist-packages/tensorflow/python/framework/dtypes.py:525: FutureWarning: Passing (type, 1) or '1type' as a synonym of type is deprecated; in a future version of numpy, it will be understood as (type, (1,)) / '(1,)type'.\n",
            "  np_resource = np.dtype([(\"resource\", np.ubyte, 1)])\n",
            "/usr/local/lib/python3.6/dist-packages/tensorboard/compat/tensorflow_stub/dtypes.py:541: FutureWarning: Passing (type, 1) or '1type' as a synonym of type is deprecated; in a future version of numpy, it will be understood as (type, (1,)) / '(1,)type'.\n",
            "  _np_qint8 = np.dtype([(\"qint8\", np.int8, 1)])\n",
            "/usr/local/lib/python3.6/dist-packages/tensorboard/compat/tensorflow_stub/dtypes.py:542: FutureWarning: Passing (type, 1) or '1type' as a synonym of type is deprecated; in a future version of numpy, it will be understood as (type, (1,)) / '(1,)type'.\n",
            "  _np_quint8 = np.dtype([(\"quint8\", np.uint8, 1)])\n",
            "/usr/local/lib/python3.6/dist-packages/tensorboard/compat/tensorflow_stub/dtypes.py:543: FutureWarning: Passing (type, 1) or '1type' as a synonym of type is deprecated; in a future version of numpy, it will be understood as (type, (1,)) / '(1,)type'.\n",
            "  _np_qint16 = np.dtype([(\"qint16\", np.int16, 1)])\n",
            "/usr/local/lib/python3.6/dist-packages/tensorboard/compat/tensorflow_stub/dtypes.py:544: FutureWarning: Passing (type, 1) or '1type' as a synonym of type is deprecated; in a future version of numpy, it will be understood as (type, (1,)) / '(1,)type'.\n",
            "  _np_quint16 = np.dtype([(\"quint16\", np.uint16, 1)])\n",
            "/usr/local/lib/python3.6/dist-packages/tensorboard/compat/tensorflow_stub/dtypes.py:545: FutureWarning: Passing (type, 1) or '1type' as a synonym of type is deprecated; in a future version of numpy, it will be understood as (type, (1,)) / '(1,)type'.\n",
            "  _np_qint32 = np.dtype([(\"qint32\", np.int32, 1)])\n",
            "/usr/local/lib/python3.6/dist-packages/tensorboard/compat/tensorflow_stub/dtypes.py:550: FutureWarning: Passing (type, 1) or '1type' as a synonym of type is deprecated; in a future version of numpy, it will be understood as (type, (1,)) / '(1,)type'.\n",
            "  np_resource = np.dtype([(\"resource\", np.ubyte, 1)])\n"
          ],
          "name": "stderr"
        }
      ]
    },
    {
      "cell_type": "markdown",
      "metadata": {
        "id": "_sKhLPXNaqol",
        "colab_type": "text"
      },
      "source": [
        "### Operaciones aritméticas"
      ]
    },
    {
      "cell_type": "code",
      "metadata": {
        "id": "KPABgwSaaqon",
        "colab_type": "code",
        "colab": {}
      },
      "source": [
        "x = 3\n",
        "y = 4"
      ],
      "execution_count": 0,
      "outputs": []
    },
    {
      "cell_type": "code",
      "metadata": {
        "id": "Y1k_e1T7aqou",
        "colab_type": "code",
        "colab": {},
        "outputId": "06d7bc33-fb48-4e7d-fe53-54a06a2aa1b7"
      },
      "source": [
        "# SUMA\n",
        "print(session.run(tf.add(x,y)))"
      ],
      "execution_count": 0,
      "outputs": [
        {
          "output_type": "stream",
          "text": [
            "7\n"
          ],
          "name": "stdout"
        }
      ]
    },
    {
      "cell_type": "code",
      "metadata": {
        "id": "FenqvlNCaqo1",
        "colab_type": "code",
        "colab": {},
        "outputId": "b86b2f03-0c03-4d8d-a763-613cba3b4719"
      },
      "source": [
        "# RESTA\n",
        "print(session.run(tf.subtract(x,y)))"
      ],
      "execution_count": 0,
      "outputs": [
        {
          "output_type": "stream",
          "text": [
            "-1\n"
          ],
          "name": "stdout"
        }
      ]
    },
    {
      "cell_type": "code",
      "metadata": {
        "id": "Qnwb9gJtaqo8",
        "colab_type": "code",
        "colab": {},
        "outputId": "afd69d40-ea64-4ce7-cac4-bbca1a90bb51"
      },
      "source": [
        "# MULTIPLICACION\n",
        "print(session.run(tf.multiply(x,y)))"
      ],
      "execution_count": 0,
      "outputs": [
        {
          "output_type": "stream",
          "text": [
            "12\n"
          ],
          "name": "stdout"
        }
      ]
    },
    {
      "cell_type": "code",
      "metadata": {
        "id": "AiTtp2DzaqpD",
        "colab_type": "code",
        "colab": {},
        "outputId": "54549387-b2bd-48af-aae6-5a6698352c01"
      },
      "source": [
        "# DIVISIONES\n",
        "print(session.run(tf.div(x,y)))"
      ],
      "execution_count": 0,
      "outputs": [
        {
          "output_type": "stream",
          "text": [
            "0\n"
          ],
          "name": "stdout"
        }
      ]
    },
    {
      "cell_type": "code",
      "metadata": {
        "id": "__UVcoFbaqpJ",
        "colab_type": "code",
        "colab": {},
        "outputId": "b6548c8a-0511-490a-9cdc-6c6478278b4d"
      },
      "source": [
        "print(session.run(tf.truediv(x,y))) # # DIVISIONES VERDADERA"
      ],
      "execution_count": 0,
      "outputs": [
        {
          "output_type": "stream",
          "text": [
            "0.75\n"
          ],
          "name": "stdout"
        }
      ]
    },
    {
      "cell_type": "code",
      "metadata": {
        "id": "e1-BcG0-aqpS",
        "colab_type": "code",
        "colab": {
          "base_uri": "https://localhost:8080/",
          "height": 34
        },
        "outputId": "667ff20b-1537-40f9-aec9-71a7383b124d"
      },
      "source": [
        "print(session.run(tf.floordiv(7.0,3.0)))# DIVISIONES REDONDEADA"
      ],
      "execution_count": 4,
      "outputs": [
        {
          "output_type": "stream",
          "text": [
            "2.0\n"
          ],
          "name": "stdout"
        }
      ]
    },
    {
      "cell_type": "code",
      "metadata": {
        "id": "6SazgyhzaqpZ",
        "colab_type": "code",
        "colab": {
          "base_uri": "https://localhost:8080/",
          "height": 34
        },
        "outputId": "889a8d3f-0efc-43bb-ee11-b562afc9e386"
      },
      "source": [
        "print(session.run(tf.mod(23.0, 5.0)))# MODULO"
      ],
      "execution_count": 5,
      "outputs": [
        {
          "output_type": "stream",
          "text": [
            "3.0\n"
          ],
          "name": "stdout"
        }
      ]
    },
    {
      "cell_type": "code",
      "metadata": {
        "id": "0zwUg2Wgaqpf",
        "colab_type": "code",
        "colab": {
          "base_uri": "https://localhost:8080/",
          "height": 34
        },
        "outputId": "7763613a-1c07-404b-a66a-53f1a8378e5a"
      },
      "source": [
        "print(session.run(tf.cross([1.0,0.,0.], [0.,1.,0.])))# PRODUCTO CRUZ"
      ],
      "execution_count": 6,
      "outputs": [
        {
          "output_type": "stream",
          "text": [
            "[0. 0. 1.]\n"
          ],
          "name": "stdout"
        }
      ]
    },
    {
      "cell_type": "markdown",
      "metadata": {
        "id": "fGUkLqPBaqpl",
        "colab_type": "text"
      },
      "source": [
        "## Funciones matemáticas"
      ]
    },
    {
      "cell_type": "code",
      "metadata": {
        "id": "GuJfmWZLaqpm",
        "colab_type": "code",
        "colab": {}
      },
      "source": [
        "x = [-3.,-2.,-1.,0.,1.,2.]"
      ],
      "execution_count": 0,
      "outputs": []
    },
    {
      "cell_type": "code",
      "metadata": {
        "id": "SdEpclxraqpu",
        "colab_type": "code",
        "colab": {
          "base_uri": "https://localhost:8080/",
          "height": 34
        },
        "outputId": "21562f3b-aa82-4da4-c60f-049e04a6b8e0"
      },
      "source": [
        "# VALOR ABSOLUTO\n",
        "print(session.run(tf.abs(x)))"
      ],
      "execution_count": 18,
      "outputs": [
        {
          "output_type": "stream",
          "text": [
            "[3. 2. 1. 0. 1. 2.]\n"
          ],
          "name": "stdout"
        }
      ]
    },
    {
      "cell_type": "code",
      "metadata": {
        "id": "LFqcb2JJaqp0",
        "colab_type": "code",
        "colab": {
          "base_uri": "https://localhost:8080/",
          "height": 34
        },
        "outputId": "0218b42c-e5eb-4a2a-82e8-063b51aa130d"
      },
      "source": [
        "# REDONDEAR HACIA ARRIBA\n",
        "print(session.run(tf.ceil(6.4)))"
      ],
      "execution_count": 8,
      "outputs": [
        {
          "output_type": "stream",
          "text": [
            "7.0\n"
          ],
          "name": "stdout"
        }
      ]
    },
    {
      "cell_type": "code",
      "metadata": {
        "id": "8R_bq90baqp5",
        "colab_type": "code",
        "colab": {
          "base_uri": "https://localhost:8080/",
          "height": 34
        },
        "outputId": "ebe5835e-ad6b-485c-c5c4-1f5ccaa42706"
      },
      "source": [
        "# REDONDEAR HACIA BAJO\n",
        "print(session.run(tf.floor(6.4)))"
      ],
      "execution_count": 24,
      "outputs": [
        {
          "output_type": "stream",
          "text": [
            "6.0\n"
          ],
          "name": "stdout"
        }
      ]
    },
    {
      "cell_type": "code",
      "metadata": {
        "id": "qHvv4punaqqA",
        "colab_type": "code",
        "colab": {
          "base_uri": "https://localhost:8080/",
          "height": 34
        },
        "outputId": "920c7f47-b3cb-4c11-a2db-555c78ab3917"
      },
      "source": [
        "# REDONDEAR NORMAL\n",
        "print(session.run(tf.round(6.6)))"
      ],
      "execution_count": 12,
      "outputs": [
        {
          "output_type": "stream",
          "text": [
            "7.0\n"
          ],
          "name": "stdout"
        }
      ]
    },
    {
      "cell_type": "code",
      "metadata": {
        "id": "MtZ6JBwXaqqG",
        "colab_type": "code",
        "colab": {
          "base_uri": "https://localhost:8080/",
          "height": 34
        },
        "outputId": "06e34629-328f-481e-9b02-134edf3d4d8a"
      },
      "source": [
        "# TRIGONOMETRICAS \n",
        "print(session.run(tf.sin(x)))"
      ],
      "execution_count": 23,
      "outputs": [
        {
          "output_type": "stream",
          "text": [
            "[-0.14112    -0.9092974  -0.84147096  0.          0.84147096  0.9092974 ]\n"
          ],
          "name": "stdout"
        }
      ]
    },
    {
      "cell_type": "code",
      "metadata": {
        "id": "u9H5jO7zaqqM",
        "colab_type": "code",
        "colab": {
          "base_uri": "https://localhost:8080/",
          "height": 34
        },
        "outputId": "24a202e6-8f22-4c97-a5db-48448fda67d3"
      },
      "source": [
        "print(session.run(tf.cos(x)))"
      ],
      "execution_count": 22,
      "outputs": [
        {
          "output_type": "stream",
          "text": [
            "[-0.9899925  -0.41614684  0.5403023   1.          0.5403023  -0.41614684]\n"
          ],
          "name": "stdout"
        }
      ]
    },
    {
      "cell_type": "code",
      "metadata": {
        "id": "nCo0vHE5aqqU",
        "colab_type": "code",
        "colab": {
          "base_uri": "https://localhost:8080/",
          "height": 34
        },
        "outputId": "06f7ebe8-4a73-4441-a61d-26f3af5fbbea"
      },
      "source": [
        "print(session.run(tf.tan(x)))"
      ],
      "execution_count": 21,
      "outputs": [
        {
          "output_type": "stream",
          "text": [
            "[ 0.14254655  2.1850398  -1.5574077   0.          1.5574077  -2.1850398 ]\n"
          ],
          "name": "stdout"
        }
      ]
    },
    {
      "cell_type": "code",
      "metadata": {
        "id": "WsSG_RvQaqqZ",
        "colab_type": "code",
        "colab": {
          "base_uri": "https://localhost:8080/",
          "height": 34
        },
        "outputId": "8208a2b8-c105-474c-ab0e-841235c3ce6f"
      },
      "source": [
        "print(session.run(tf.exp(x)))"
      ],
      "execution_count": 20,
      "outputs": [
        {
          "output_type": "stream",
          "text": [
            "[0.04978707 0.13533528 0.36787945 1.         2.7182817  7.389056  ]\n"
          ],
          "name": "stdout"
        }
      ]
    },
    {
      "cell_type": "code",
      "metadata": {
        "id": "iye9WeiWaqqf",
        "colab_type": "code",
        "colab": {
          "base_uri": "https://localhost:8080/",
          "height": 34
        },
        "outputId": "7b2095d1-ca91-4f76-d388-7569f7d77fc2"
      },
      "source": [
        "print(session.run(tf.log(x)))"
      ],
      "execution_count": 19,
      "outputs": [
        {
          "output_type": "stream",
          "text": [
            "[      nan       nan       nan      -inf 0.        0.6931472]\n"
          ],
          "name": "stdout"
        }
      ]
    },
    {
      "cell_type": "code",
      "metadata": {
        "id": "HPxwYez-aqql",
        "colab_type": "code",
        "colab": {}
      },
      "source": [
        "y = [4., 3., 7., -4., -3., 7.]"
      ],
      "execution_count": 0,
      "outputs": []
    },
    {
      "cell_type": "code",
      "metadata": {
        "id": "NzWjUsnSaqqq",
        "colab_type": "code",
        "colab": {},
        "outputId": "0a379e0c-2616-4b74-930e-6681a6e6c3ea"
      },
      "source": [
        "print(session.run(tf.maximum(x,y)))# MAXIMO "
      ],
      "execution_count": 0,
      "outputs": [
        {
          "output_type": "stream",
          "text": [
            "[4. 3. 7. 0. 1. 7.]\n"
          ],
          "name": "stdout"
        }
      ]
    },
    {
      "cell_type": "code",
      "metadata": {
        "id": "Jxc2d5LSaqqw",
        "colab_type": "code",
        "colab": {},
        "outputId": "cee4d06f-b60f-40e4-e166-666f0d563c80"
      },
      "source": [
        "print(session.run(tf.minimum(x,y)))# MINIMO"
      ],
      "execution_count": 0,
      "outputs": [
        {
          "output_type": "stream",
          "text": [
            "[-3. -2. -1. -4. -3.  2.]\n"
          ],
          "name": "stdout"
        }
      ]
    },
    {
      "cell_type": "code",
      "metadata": {
        "id": "DV1DFGhlaqq2",
        "colab_type": "code",
        "colab": {
          "base_uri": "https://localhost:8080/",
          "height": 34
        },
        "outputId": "565ed0b5-fa1f-4ae1-bd70-e5a27f6103e7"
      },
      "source": [
        "print(session.run(tf.negative(x)))# GIRA EL SIGNO DEL TENSOR"
      ],
      "execution_count": 25,
      "outputs": [
        {
          "output_type": "stream",
          "text": [
            "[ 3.  2.  1. -0. -1. -2.]\n"
          ],
          "name": "stdout"
        }
      ]
    },
    {
      "cell_type": "code",
      "metadata": {
        "id": "LR_pD0F2aqq8",
        "colab_type": "code",
        "colab": {
          "base_uri": "https://localhost:8080/",
          "height": 34
        },
        "outputId": "90b4e5ea-7c3f-45bb-d1de-b0672d69ab5d"
      },
      "source": [
        "print(session.run(tf.pow(x, y)))# ELEVAR UN VECTOR AL OTRO"
      ],
      "execution_count": 27,
      "outputs": [
        {
          "output_type": "stream",
          "text": [
            "[81. 16.  1.  0.  1. 16.]\n"
          ],
          "name": "stdout"
        }
      ]
    },
    {
      "cell_type": "code",
      "metadata": {
        "id": "DxPHX1qTaqrE",
        "colab_type": "code",
        "colab": {},
        "outputId": "30520835-15c3-4ddb-ab4b-43724dafe3f7"
      },
      "source": [
        "print(session.run(tf.sqrt(x)))# RAIZ CUADRADO"
      ],
      "execution_count": 0,
      "outputs": [
        {
          "output_type": "stream",
          "text": [
            "[      nan       nan       nan 0.        1.        1.4142135]\n"
          ],
          "name": "stdout"
        }
      ]
    },
    {
      "cell_type": "code",
      "metadata": {
        "id": "JymcbV3gaqrJ",
        "colab_type": "code",
        "colab": {},
        "outputId": "b704f55a-c7dc-4235-b04e-8623f8a31b99"
      },
      "source": [
        "print(session.run(tf.rsqrt(x))) # 1/la raiz cuadrada"
      ],
      "execution_count": 0,
      "outputs": [
        {
          "output_type": "stream",
          "text": [
            "[       nan        nan        nan        inf 1.         0.70710677]\n"
          ],
          "name": "stdout"
        }
      ]
    },
    {
      "cell_type": "code",
      "metadata": {
        "id": "RDMpVZ1haqrO",
        "colab_type": "code",
        "colab": {},
        "outputId": "9749082d-a00f-4ede-d89a-89d8e65f015a"
      },
      "source": [
        "print(session.run(tf.square(x)))# cuadrado del tensor"
      ],
      "execution_count": 0,
      "outputs": [
        {
          "output_type": "stream",
          "text": [
            "[9. 4. 1. 0. 1. 4.]\n"
          ],
          "name": "stdout"
        }
      ]
    },
    {
      "cell_type": "code",
      "metadata": {
        "id": "U3I1kFHDaqrU",
        "colab_type": "code",
        "colab": {},
        "outputId": "2f747427-ad8e-42d0-d182-7293fda5076d"
      },
      "source": [
        "print(session.run(tf.sign(x)))# ver el signo del vector"
      ],
      "execution_count": 0,
      "outputs": [
        {
          "output_type": "stream",
          "text": [
            "[-1. -1. -1.  0.  1.  1.]\n"
          ],
          "name": "stdout"
        }
      ]
    },
    {
      "cell_type": "markdown",
      "metadata": {
        "id": "id2c5mOxaqrf",
        "colab_type": "text"
      },
      "source": [
        "## Otras funciones"
      ]
    },
    {
      "cell_type": "code",
      "metadata": {
        "id": "ZRU4BHYQaqrg",
        "colab_type": "code",
        "colab": {},
        "outputId": "52e8d3ad-7785-41ed-8e50-fb31eb353da1"
      },
      "source": [
        "print(session.run(tf.digamma(x)))# "
      ],
      "execution_count": 0,
      "outputs": [
        {
          "output_type": "stream",
          "text": [
            "[       inf        inf        inf        inf -0.5772159  0.4227842]\n"
          ],
          "name": "stdout"
        }
      ]
    },
    {
      "cell_type": "code",
      "metadata": {
        "id": "4Wcho-6Maqrm",
        "colab_type": "code",
        "colab": {},
        "outputId": "1cc95e61-eb83-459d-dc7f-b3d33c727c55"
      },
      "source": [
        "print(session.run(tf.lbeta(x)))"
      ],
      "execution_count": 0,
      "outputs": [
        {
          "output_type": "stream",
          "text": [
            "nan\n"
          ],
          "name": "stdout"
        }
      ]
    },
    {
      "cell_type": "code",
      "metadata": {
        "id": "d4MX8gWAaqrr",
        "colab_type": "code",
        "colab": {},
        "outputId": "36e54bd6-89a7-4920-f297-52944768d54e"
      },
      "source": [
        "print(session.run(tf.lgamma(x)))"
      ],
      "execution_count": 0,
      "outputs": [
        {
          "output_type": "stream",
          "text": [
            "[inf inf inf inf  0.  0.]\n"
          ],
          "name": "stdout"
        }
      ]
    },
    {
      "cell_type": "code",
      "metadata": {
        "id": "c_3DRN1Qaqrx",
        "colab_type": "code",
        "colab": {
          "base_uri": "https://localhost:8080/",
          "height": 34
        },
        "outputId": "f2271d47-a227-4505-c1b6-6c14a8dd4b82"
      },
      "source": [
        "print(session.run(tf.erf(x)))# error gauseano"
      ],
      "execution_count": 28,
      "outputs": [
        {
          "output_type": "stream",
          "text": [
            "[-0.9999779 -0.9953223 -0.8427008  0.         0.8427008  0.9953223]\n"
          ],
          "name": "stdout"
        }
      ]
    },
    {
      "cell_type": "code",
      "metadata": {
        "id": "MJgsBnr6aqr4",
        "colab_type": "code",
        "colab": {},
        "outputId": "3e6814bd-b1c0-428f-a3a4-448f1a13c5ef"
      },
      "source": [
        "print(session.run(tf.erfc(x)))"
      ],
      "execution_count": 0,
      "outputs": [
        {
          "output_type": "stream",
          "text": [
            "[1.999978   1.9953222  1.8427008  1.         0.1572992  0.00467773]\n"
          ],
          "name": "stdout"
        }
      ]
    },
    {
      "cell_type": "code",
      "metadata": {
        "id": "JaboPhNraqr9",
        "colab_type": "code",
        "colab": {
          "base_uri": "https://localhost:8080/",
          "height": 34
        },
        "outputId": "574eb36e-9995-438e-e433-e3deeb2d6ef2"
      },
      "source": [
        "print(session.run(tf.squared_difference(x,y)))# los cuadrados de las diferencias"
      ],
      "execution_count": 29,
      "outputs": [
        {
          "output_type": "stream",
          "text": [
            "[49. 36. 25. 16.  9.  4.]\n"
          ],
          "name": "stdout"
        }
      ]
    },
    {
      "cell_type": "code",
      "metadata": {
        "id": "ueuRs1SOaqsD",
        "colab_type": "code",
        "colab": {
          "base_uri": "https://localhost:8080/",
          "height": 34
        },
        "outputId": "cbb43cb6-4e7f-4a0e-aefc-0bd519efd798"
      },
      "source": [
        "print(session.run(tf.tan(3.14159265/4.)))"
      ],
      "execution_count": 30,
      "outputs": [
        {
          "output_type": "stream",
          "text": [
            "1.0\n"
          ],
          "name": "stdout"
        }
      ]
    },
    {
      "cell_type": "markdown",
      "metadata": {
        "id": "_VETks2SaqsJ",
        "colab_type": "text"
      },
      "source": [
        "## Funciones propias"
      ]
    },
    {
      "cell_type": "markdown",
      "metadata": {
        "id": "-jAjwRCMaqsK",
        "colab_type": "text"
      },
      "source": [
        "$$y = 5x^2-7x+15$$"
      ]
    },
    {
      "cell_type": "code",
      "metadata": {
        "id": "e6xcgYdZaqsL",
        "colab_type": "code",
        "colab": {}
      },
      "source": [
        "def custom_parabola(value):\n",
        "    return tf.subtract(5*tf.square(value), 7*value)+15"
      ],
      "execution_count": 0,
      "outputs": []
    },
    {
      "cell_type": "code",
      "metadata": {
        "id": "2wP7ZSQyaqsP",
        "colab_type": "code",
        "colab": {
          "base_uri": "https://localhost:8080/",
          "height": 34
        },
        "outputId": "f53f5222-50a5-4c63-e449-207ad7000b59"
      },
      "source": [
        "print(session.run(custom_parabola(5)))"
      ],
      "execution_count": 32,
      "outputs": [
        {
          "output_type": "stream",
          "text": [
            "105\n"
          ],
          "name": "stdout"
        }
      ]
    },
    {
      "cell_type": "code",
      "metadata": {
        "id": "NDR300Qn619D",
        "colab_type": "code",
        "colab": {}
      },
      "source": [
        ""
      ],
      "execution_count": 0,
      "outputs": []
    }
  ]
}