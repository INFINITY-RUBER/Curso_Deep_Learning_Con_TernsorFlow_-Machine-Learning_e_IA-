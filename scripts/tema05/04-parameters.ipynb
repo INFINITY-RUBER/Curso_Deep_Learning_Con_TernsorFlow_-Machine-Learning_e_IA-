{
  "nbformat": 4,
  "nbformat_minor": 0,
  "metadata": {
    "kernelspec": {
      "display_name": "Python 3",
      "language": "python",
      "name": "python3"
    },
    "language_info": {
      "codemirror_mode": {
        "name": "ipython",
        "version": 3
      },
      "file_extension": ".py",
      "mimetype": "text/x-python",
      "name": "python",
      "nbconvert_exporter": "python",
      "pygments_lexer": "ipython3",
      "version": "3.5.5"
    },
    "colab": {
      "name": "04-parameters.ipynb",
      "provenance": [],
      "include_colab_link": true
    }
  },
  "cells": [
    {
      "cell_type": "markdown",
      "metadata": {
        "id": "view-in-github",
        "colab_type": "text"
      },
      "source": [
        "<a href=\"https://colab.research.google.com/github/INFINITY-RUBER/Curso_Deep_Learning_Con_TernsorFlow_Machine-Learning_e_IA-/blob/master/scripts/tema05/04-parameters.ipynb\" target=\"_parent\"><img src=\"https://colab.research.google.com/assets/colab-badge.svg\" alt=\"Open In Colab\"/></a>"
      ]
    },
    {
      "cell_type": "code",
      "metadata": {
        "id": "I20e-55zFu8_",
        "colab_type": "code",
        "colab": {
          "base_uri": "https://localhost:8080/",
          "height": 746
        },
        "outputId": "c931c862-5dcb-4065-9c48-6faa16475408"
      },
      "source": [
        "pip install tensorflow==1.14"
      ],
      "execution_count": 1,
      "outputs": [
        {
          "output_type": "stream",
          "text": [
            "Collecting tensorflow==1.14\n",
            "\u001b[?25l  Downloading https://files.pythonhosted.org/packages/de/f0/96fb2e0412ae9692dbf400e5b04432885f677ad6241c088ccc5fe7724d69/tensorflow-1.14.0-cp36-cp36m-manylinux1_x86_64.whl (109.2MB)\n",
            "\u001b[K     |████████████████████████████████| 109.2MB 87kB/s \n",
            "\u001b[?25hRequirement already satisfied: google-pasta>=0.1.6 in /usr/local/lib/python3.6/dist-packages (from tensorflow==1.14) (0.2.0)\n",
            "Requirement already satisfied: wheel>=0.26 in /usr/local/lib/python3.6/dist-packages (from tensorflow==1.14) (0.34.2)\n",
            "Requirement already satisfied: astor>=0.6.0 in /usr/local/lib/python3.6/dist-packages (from tensorflow==1.14) (0.8.1)\n",
            "Requirement already satisfied: wrapt>=1.11.1 in /usr/local/lib/python3.6/dist-packages (from tensorflow==1.14) (1.12.1)\n",
            "Requirement already satisfied: grpcio>=1.8.6 in /usr/local/lib/python3.6/dist-packages (from tensorflow==1.14) (1.29.0)\n",
            "Requirement already satisfied: six>=1.10.0 in /usr/local/lib/python3.6/dist-packages (from tensorflow==1.14) (1.12.0)\n",
            "Requirement already satisfied: numpy<2.0,>=1.14.5 in /usr/local/lib/python3.6/dist-packages (from tensorflow==1.14) (1.18.4)\n",
            "Requirement already satisfied: gast>=0.2.0 in /usr/local/lib/python3.6/dist-packages (from tensorflow==1.14) (0.3.3)\n",
            "Requirement already satisfied: protobuf>=3.6.1 in /usr/local/lib/python3.6/dist-packages (from tensorflow==1.14) (3.10.0)\n",
            "Requirement already satisfied: keras-preprocessing>=1.0.5 in /usr/local/lib/python3.6/dist-packages (from tensorflow==1.14) (1.1.2)\n",
            "Requirement already satisfied: absl-py>=0.7.0 in /usr/local/lib/python3.6/dist-packages (from tensorflow==1.14) (0.9.0)\n",
            "Collecting tensorboard<1.15.0,>=1.14.0\n",
            "\u001b[?25l  Downloading https://files.pythonhosted.org/packages/91/2d/2ed263449a078cd9c8a9ba50ebd50123adf1f8cfbea1492f9084169b89d9/tensorboard-1.14.0-py3-none-any.whl (3.1MB)\n",
            "\u001b[K     |████████████████████████████████| 3.2MB 41.4MB/s \n",
            "\u001b[?25hRequirement already satisfied: keras-applications>=1.0.6 in /usr/local/lib/python3.6/dist-packages (from tensorflow==1.14) (1.0.8)\n",
            "Collecting tensorflow-estimator<1.15.0rc0,>=1.14.0rc0\n",
            "\u001b[?25l  Downloading https://files.pythonhosted.org/packages/3c/d5/21860a5b11caf0678fbc8319341b0ae21a07156911132e0e71bffed0510d/tensorflow_estimator-1.14.0-py2.py3-none-any.whl (488kB)\n",
            "\u001b[K     |████████████████████████████████| 491kB 54.5MB/s \n",
            "\u001b[?25hRequirement already satisfied: termcolor>=1.1.0 in /usr/local/lib/python3.6/dist-packages (from tensorflow==1.14) (1.1.0)\n",
            "Requirement already satisfied: setuptools in /usr/local/lib/python3.6/dist-packages (from protobuf>=3.6.1->tensorflow==1.14) (46.4.0)\n",
            "Requirement already satisfied: markdown>=2.6.8 in /usr/local/lib/python3.6/dist-packages (from tensorboard<1.15.0,>=1.14.0->tensorflow==1.14) (3.2.2)\n",
            "Requirement already satisfied: werkzeug>=0.11.15 in /usr/local/lib/python3.6/dist-packages (from tensorboard<1.15.0,>=1.14.0->tensorflow==1.14) (1.0.1)\n",
            "Requirement already satisfied: h5py in /usr/local/lib/python3.6/dist-packages (from keras-applications>=1.0.6->tensorflow==1.14) (2.10.0)\n",
            "Requirement already satisfied: importlib-metadata; python_version < \"3.8\" in /usr/local/lib/python3.6/dist-packages (from markdown>=2.6.8->tensorboard<1.15.0,>=1.14.0->tensorflow==1.14) (1.6.0)\n",
            "Requirement already satisfied: zipp>=0.5 in /usr/local/lib/python3.6/dist-packages (from importlib-metadata; python_version < \"3.8\"->markdown>=2.6.8->tensorboard<1.15.0,>=1.14.0->tensorflow==1.14) (3.1.0)\n",
            "Installing collected packages: tensorboard, tensorflow-estimator, tensorflow\n",
            "  Found existing installation: tensorboard 2.2.1\n",
            "    Uninstalling tensorboard-2.2.1:\n",
            "      Successfully uninstalled tensorboard-2.2.1\n",
            "  Found existing installation: tensorflow-estimator 2.2.0\n",
            "    Uninstalling tensorflow-estimator-2.2.0:\n",
            "      Successfully uninstalled tensorflow-estimator-2.2.0\n",
            "  Found existing installation: tensorflow 2.2.0\n",
            "    Uninstalling tensorflow-2.2.0:\n",
            "      Successfully uninstalled tensorflow-2.2.0\n",
            "Successfully installed tensorboard-1.14.0 tensorflow-1.14.0 tensorflow-estimator-1.14.0\n"
          ],
          "name": "stdout"
        }
      ]
    },
    {
      "cell_type": "markdown",
      "metadata": {
        "id": "SnrYA50HFk-e",
        "colab_type": "text"
      },
      "source": [
        "# Parámetros de un nucleo gaussiano"
      ]
    },
    {
      "cell_type": "code",
      "metadata": {
        "id": "YMZkJy5UFk-h",
        "colab_type": "code",
        "colab": {}
      },
      "source": [
        "import matplotlib.pyplot as plt\n",
        "import numpy as np\n",
        "import tensorflow as tf\n",
        "from sklearn  import datasets"
      ],
      "execution_count": 0,
      "outputs": []
    },
    {
      "cell_type": "code",
      "metadata": {
        "id": "M_5snNDPFk-p",
        "colab_type": "code",
        "colab": {}
      },
      "source": [
        "session = tf.Session()"
      ],
      "execution_count": 0,
      "outputs": []
    },
    {
      "cell_type": "code",
      "metadata": {
        "id": "WGlD55YDFk-w",
        "colab_type": "code",
        "colab": {}
      },
      "source": [
        "iris = datasets.load_iris()\n",
        "x_vals = np.array([[x[0], x[3]] for x in iris.data])\n",
        "y_vals = np.array([1 if y==0 else -1 for y in iris.target])\n",
        "\n",
        "class1_x = [x[0] for i,x in enumerate(x_vals) if y_vals[i]==1]\n",
        "class1_y = [x[1] for i,x in enumerate(x_vals) if y_vals[i]==1]\n",
        "class2_x = [x[0] for i,x in enumerate(x_vals) if y_vals[i]==-1]\n",
        "class2_y = [x[1] for i,x in enumerate(x_vals) if y_vals[i]==-1]"
      ],
      "execution_count": 0,
      "outputs": []
    },
    {
      "cell_type": "code",
      "metadata": {
        "id": "8mZE6N7HFk-3",
        "colab_type": "code",
        "colab": {}
      },
      "source": [
        "batch_size = 150\n",
        "\n",
        "x_data = tf.placeholder(shape=[None, 2], dtype=tf.float32)\n",
        "y_target = tf.placeholder(shape=[None, 1], dtype=tf.float32)\n",
        "\n",
        "prediction_grid = tf.placeholder(shape=[None,2], dtype=tf.float32)\n",
        "\n",
        "b = tf.Variable(tf.random_normal(shape=[1, batch_size]))"
      ],
      "execution_count": 0,
      "outputs": []
    },
    {
      "cell_type": "code",
      "metadata": {
        "id": "Ir5SqfUkFk--",
        "colab_type": "code",
        "colab": {}
      },
      "source": [
        "gammas = [1.0, 10.0, 25.0, 100.0]"
      ],
      "execution_count": 0,
      "outputs": []
    },
    {
      "cell_type": "code",
      "metadata": {
        "id": "P0Gr2nj0Fk_I",
        "colab_type": "code",
        "colab": {
          "base_uri": "https://localhost:8080/",
          "height": 163
        },
        "outputId": "28904258-b566-49dc-c9e7-d1f71d87bcb7"
      },
      "source": [
        "gamma = tf.constant(-9.0)\n",
        "\n",
        "dist = tf.reduce_sum(tf.square(x_data), 1)\n",
        "dist = tf.reshape(dist, [-1,1])\n",
        "sq_distance = tf.add(tf.subtract(dist, tf.multiply(2.0, tf.matmul(x_data, tf.transpose(x_data)))), \n",
        "                     tf.transpose(dist))\n",
        "my_kernel = tf.exp(tf.multiply(gamma, tf.abs(sq_distance)))\n",
        "\n",
        "first_sum = tf.reduce_sum(b)\n",
        "b_vect_cross = tf.matmul(tf.transpose(b), b)\n",
        "y_target_cross = tf.matmul(y_target, tf.transpose(y_target))\n",
        "second_sum = tf.reduce_sum(tf.multiply(my_kernel, tf.multiply(b_vect_cross, y_target_cross)))\n",
        "loss = tf.negative(tf.subtract(first_sum, second_sum))\n",
        "\n",
        "rA = tf.reshape(tf.reduce_sum(tf.square(x_data), 1), [-1, 1])\n",
        "rB = tf.reshape(tf.reduce_sum(tf.square(prediction_grid),1), [-1,1])\n",
        "\n",
        "pred_sq_dist = tf.add(tf.subtract(rA, tf.multiply(2.0, tf.matmul(x_data, tf.transpose(prediction_grid)))), \n",
        "                      tf.transpose(rB))\n",
        "pred_kernel = tf.exp(tf.multiply(gamma, tf.abs(pred_sq_dist)))\n",
        "\n",
        "prediction_output = tf.matmul(tf.multiply(tf.transpose(y_target), b), pred_kernel)\n",
        "prediction = tf.sign(prediction_output - tf.reduce_mean(prediction_output))\n",
        "\n",
        "accuracy = tf.reduce_mean(tf.cast(tf.equal(tf.squeeze(prediction), tf.squeeze(y_target)), tf.float32))\n",
        "\n",
        "my_optim = tf.train.GradientDescentOptimizer(0.01)\n",
        "train_step = my_optim.minimize(loss)\n",
        "init = tf.global_variables_initializer()\n",
        "session.run(init)\n",
        "\n",
        "loss_vect = []\n",
        "batch_acc = []\n",
        "for i in range(400):\n",
        "    rand_idx = np.random.choice(len(x_vals), size=batch_size)\n",
        "    rand_x = x_vals[rand_idx]\n",
        "    rand_y = np.transpose([y_vals[rand_idx]])\n",
        "    session.run(train_step, feed_dict={x_data: rand_x, y_target: rand_y})\n",
        "    \n",
        "    temp_loss = session.run(loss, feed_dict={x_data: rand_x, y_target: rand_y})\n",
        "    loss_vect.append(temp_loss)\n",
        "    \n",
        "    \n",
        "    acc_temp = session.run(accuracy, feed_dict={x_data: rand_x, y_target: rand_y, prediction_grid:rand_x})\n",
        "    batch_acc.append(acc_temp)\n",
        "    \n",
        "    if(i+1)%50==0:\n",
        "        print(\"Paso #\"+str(i+1)+ \", Pérdida = \"+str(temp_loss)+\", Precisión = \"+str(acc_temp))\n",
        "        \n",
        "        \n",
        "x_min, x_max = x_vals[:,0].min()-1, x_vals[:,0].max()+1\n",
        "y_min, y_max = x_vals[:,1].min()-1, x_vals[:,1].max()+1\n",
        "\n",
        "xx, yy = np.meshgrid(np.arange(x_min, x_max, 0.02), np.arange(y_min, y_max, 0.02))\n",
        "\n",
        "grid_points = np.c_[xx.ravel(), yy.ravel()]\n",
        "\n",
        "[grid_predictions] = session.run(prediction, feed_dict={x_data: x_vals,\n",
        "                                                   y_target: np.transpose([y_vals]),\n",
        "                                                   prediction_grid: grid_points})\n",
        "\n",
        "grid_predictions = grid_predictions.reshape(xx.shape)"
      ],
      "execution_count": 17,
      "outputs": [
        {
          "output_type": "stream",
          "text": [
            "Paso #50, Pérdida = 14.157659, Precisión = 0.8066667\n",
            "Paso #100, Pérdida = 0.58746386, Precisión = 0.87333333\n",
            "Paso #150, Pérdida = -2.0245738, Precisión = 1.0\n",
            "Paso #200, Pérdida = -2.5413089, Precisión = 1.0\n",
            "Paso #250, Pérdida = -2.7742515, Precisión = 1.0\n",
            "Paso #300, Pérdida = -3.110958, Precisión = 0.99333334\n",
            "Paso #350, Pérdida = -2.8660226, Precisión = 0.9866667\n",
            "Paso #400, Pérdida = -3.1001773, Precisión = 1.0\n"
          ],
          "name": "stdout"
        }
      ]
    },
    {
      "cell_type": "code",
      "metadata": {
        "id": "-JFvOagSFk_R",
        "colab_type": "code",
        "colab": {
          "base_uri": "https://localhost:8080/",
          "height": 296
        },
        "outputId": "cf3fbb0f-53e9-4451-dcd6-bcead32e7ebe"
      },
      "source": [
        "plt.contourf(xx, yy, grid_predictions, cmap = plt.cm.Paired, alpha = 0.7)\n",
        "plt.plot(class1_x, class1_y, 'ro', label = \"Iris Setosa\")\n",
        "plt.plot(class2_x, class2_y, 'bx', label = \"Iris no Setosa\")\n",
        "plt.title(\"SVM Gaussiano con Gamma = \"+str(-session.run(gamma)))\n",
        "plt.xlabel(\"Longitud de Pétalos\")\n",
        "plt.ylabel(\"Anchura de Sépalos\")\n",
        "plt.legend(loc=\"lower right\")\n",
        "plt.show()"
      ],
      "execution_count": 18,
      "outputs": [
        {
          "output_type": "display_data",
          "data": {
            "image/png": "[encoded data removed]",
            "text/plain": [
              "<Figure size 432x288 with 1 Axes>"
            ]
          },
          "metadata": {
            "tags": [],
            "needs_background": "light"
          }
        }
      ]
    }
  ]
}