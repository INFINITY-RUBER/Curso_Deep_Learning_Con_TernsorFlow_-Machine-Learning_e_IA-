{
  "nbformat": 4,
  "nbformat_minor": 0,
  "metadata": {
    "kernelspec": {
      "display_name": "Python 3",
      "language": "python",
      "name": "python3"
    },
    "language_info": {
      "codemirror_mode": {
        "name": "ipython",
        "version": 3
      },
      "file_extension": ".py",
      "mimetype": "text/x-python",
      "name": "python",
      "nbconvert_exporter": "python",
      "pygments_lexer": "ipython3",
      "version": "3.5.5"
    },
    "colab": {
      "name": "01-linear-svm.ipynb",
      "provenance": [],
      "include_colab_link": true
    }
  },
  "cells": [
    {
      "cell_type": "markdown",
      "metadata": {
        "id": "view-in-github",
        "colab_type": "text"
      },
      "source": [
        "<a href=\"https://colab.research.google.com/github/INFINITY-RUBER/Curso_Deep_Learning_Con_TernsorFlow_Machine-Learning_e_IA-/blob/master/scripts/tema05/01-linear-svm.ipynb\" target=\"_parent\"><img src=\"https://colab.research.google.com/assets/colab-badge.svg\" alt=\"Open In Colab\"/></a>"
      ]
    },
    {
      "cell_type": "code",
      "metadata": {
        "id": "_3pFiIm6plWK",
        "colab_type": "code",
        "colab": {}
      },
      "source": [
        "!pip install tensorflow==1.14"
      ],
      "execution_count": 0,
      "outputs": []
    },
    {
      "cell_type": "markdown",
      "metadata": {
        "id": "dlX40YH6pizX",
        "colab_type": "text"
      },
      "source": [
        "# SVM Lineal\n",
        "Super Vetor Machine"
      ]
    },
    {
      "cell_type": "markdown",
      "metadata": {
        "id": "7JC1ReAnpiza",
        "colab_type": "text"
      },
      "source": [
        "$$\\frac{1}{n}\\sum_{i=1}^n \\max(0,1-y_i(Ax_i-b))+\\alpha||A||^2$$"
      ]
    },
    {
      "cell_type": "markdown",
      "metadata": {
        "id": "Ksusass-pizb",
        "colab_type": "text"
      },
      "source": [
        "- $A$: es el vector de las pendientes en cada variable \n",
        "- $b$: es la ordenada en el origen (intercept)\n",
        "- $x=(x_1,x_2,\\cdots, x_n)$ es el vector de datos\n",
        "- $y_i$ es la clase del objeto (-1 o 1)\n",
        "- $\\alpha$: coeficiente de regularización y suavizado de la separación"
      ]
    },
    {
      "cell_type": "code",
      "metadata": {
        "id": "6dmqSSO-pizd",
        "colab_type": "code",
        "colab": {}
      },
      "source": [
        "import matplotlib.pyplot as plt\n",
        "import numpy as np\n",
        "import tensorflow as tf\n",
        "from sklearn import datasets"
      ],
      "execution_count": 0,
      "outputs": []
    },
    {
      "cell_type": "code",
      "metadata": {
        "id": "rbKBEd3sqqo5",
        "colab_type": "code",
        "colab": {
          "base_uri": "https://localhost:8080/",
          "height": 35
        },
        "outputId": "9b330b4c-1ca3-4485-d5c4-d33362379fc0"
      },
      "source": [
        "iris.data[0]"
      ],
      "execution_count": 29,
      "outputs": [
        {
          "output_type": "execute_result",
          "data": {
            "text/plain": [
              "array([5.1, 3.5, 1.4, 0.2])"
            ]
          },
          "metadata": {
            "tags": []
          },
          "execution_count": 29
        }
      ]
    },
    {
      "cell_type": "code",
      "metadata": {
        "id": "OKRvKUUGquKe",
        "colab_type": "code",
        "colab": {
          "base_uri": "https://localhost:8080/",
          "height": 145
        },
        "outputId": "e825b21d-a381-4ef6-bfff-4be1658da851"
      },
      "source": [
        "iris.target"
      ],
      "execution_count": 30,
      "outputs": [
        {
          "output_type": "execute_result",
          "data": {
            "text/plain": [
              "array([0, 0, 0, 0, 0, 0, 0, 0, 0, 0, 0, 0, 0, 0, 0, 0, 0, 0, 0, 0, 0, 0,\n",
              "       0, 0, 0, 0, 0, 0, 0, 0, 0, 0, 0, 0, 0, 0, 0, 0, 0, 0, 0, 0, 0, 0,\n",
              "       0, 0, 0, 0, 0, 0, 1, 1, 1, 1, 1, 1, 1, 1, 1, 1, 1, 1, 1, 1, 1, 1,\n",
              "       1, 1, 1, 1, 1, 1, 1, 1, 1, 1, 1, 1, 1, 1, 1, 1, 1, 1, 1, 1, 1, 1,\n",
              "       1, 1, 1, 1, 1, 1, 1, 1, 1, 1, 1, 1, 2, 2, 2, 2, 2, 2, 2, 2, 2, 2,\n",
              "       2, 2, 2, 2, 2, 2, 2, 2, 2, 2, 2, 2, 2, 2, 2, 2, 2, 2, 2, 2, 2, 2,\n",
              "       2, 2, 2, 2, 2, 2, 2, 2, 2, 2, 2, 2, 2, 2, 2, 2, 2, 2])"
            ]
          },
          "metadata": {
            "tags": []
          },
          "execution_count": 30
        }
      ]
    },
    {
      "cell_type": "code",
      "metadata": {
        "id": "1rlfnWiJpizm",
        "colab_type": "code",
        "colab": {}
      },
      "source": [
        "# SECION DEL GRAFO\n",
        "session = tf.Session()\n",
        "iris = datasets.load_iris()\n",
        "x_vals = np.array([[x[0], x[3]] for x in iris.data])\n",
        "y_vals = np.array([1 if y == 0 else -1 for y in iris.target])# Coloca 1 si Y = 0 y -1 para el resto"
      ],
      "execution_count": 0,
      "outputs": []
    },
    {
      "cell_type": "code",
      "metadata": {
        "id": "aMYqAQ35pizt",
        "colab_type": "code",
        "colab": {}
      },
      "source": [
        "# DIVIDIR EL DATA SET\n",
        "train_idx = np.random.choice(len(x_vals), round(len(x_vals)*0.8), replace=False)# 80%\n",
        "test_idx = np.array(list(set(range(len(x_vals)))-set(train_idx)))# RESTO\n",
        "x_vals_train = x_vals[train_idx]\n",
        "x_vals_test = x_vals[test_idx]\n",
        "y_vals_train = y_vals[train_idx]\n",
        "y_vals_test = y_vals[test_idx]"
      ],
      "execution_count": 0,
      "outputs": []
    },
    {
      "cell_type": "code",
      "metadata": {
        "id": "kHE5F194piz0",
        "colab_type": "code",
        "colab": {}
      },
      "source": [
        "batch_size = 100 # MUESTRA DE TAMAÑO\n",
        "\n",
        "x_data = tf.placeholder(shape=[None, 2], dtype=tf.float32)\n",
        "y_target = tf.placeholder(shape=[None, 1], dtype=tf.float32)\n",
        "\n",
        "A = tf.Variable(tf.random_normal(shape=[2,1]))\n",
        "b = tf.Variable(tf.random_normal(shape=[1,1]))"
      ],
      "execution_count": 0,
      "outputs": []
    },
    {
      "cell_type": "markdown",
      "metadata": {
        "id": "5d4W_mPFskYs",
        "colab_type": "text"
      },
      "source": [
        "$$\\frac{1}{n}\\sum_{i=1}^n \\max(0,1-y_i(Ax_i-b))+\\alpha||A||^2$$"
      ]
    },
    {
      "cell_type": "code",
      "metadata": {
        "id": "-2pfvoAhpiz7",
        "colab_type": "code",
        "colab": {}
      },
      "source": [
        "model_output = tf.subtract(tf.matmul(x_data,A), b)"
      ],
      "execution_count": 0,
      "outputs": []
    },
    {
      "cell_type": "markdown",
      "metadata": {
        "id": "jWClnrZNs-ba",
        "colab_type": "text"
      },
      "source": [
        "$$(Ax_i-b))$$"
      ]
    },
    {
      "cell_type": "code",
      "metadata": {
        "id": "GilKxhWlpi0B",
        "colab_type": "code",
        "colab": {}
      },
      "source": [
        "l2_norm = tf.reduce_sum(tf.square(A))\n",
        "alpha = tf.constant([0.1])\n",
        "classification_term = tf.reduce_mean(tf.maximum(0.0, tf.subtract(1.0, tf.multiply(model_output, y_target))))\n",
        "\n",
        "loss = tf.add(classification_term, tf.multiply(alpha, l2_norm))"
      ],
      "execution_count": 0,
      "outputs": []
    },
    {
      "cell_type": "code",
      "metadata": {
        "id": "e1-GJzNmpi0J",
        "colab_type": "code",
        "colab": {}
      },
      "source": [
        "prediction = tf.sign(model_output)\n",
        "accuracy = tf.reduce_mean(tf.cast(tf.equal(prediction, y_target), tf.float32))"
      ],
      "execution_count": 0,
      "outputs": []
    },
    {
      "cell_type": "code",
      "metadata": {
        "id": "Hcca5e4qpi0R",
        "colab_type": "code",
        "colab": {}
      },
      "source": [
        "my_optim = tf.train.GradientDescentOptimizer(0.01)\n",
        "train_step = my_optim.minimize(loss)\n",
        "\n",
        "init = tf.global_variables_initializer()\n",
        "session.run(init)"
      ],
      "execution_count": 0,
      "outputs": []
    },
    {
      "cell_type": "code",
      "metadata": {
        "id": "bt4JcuTXpi0X",
        "colab_type": "code",
        "colab": {
          "base_uri": "https://localhost:8080/",
          "height": 308
        },
        "outputId": "e17a842f-e2fd-4234-9221-f6bbe9366bbb"
      },
      "source": [
        "loss_vect = []\n",
        "train_acc = []\n",
        "test_acc = []\n",
        "\n",
        "for i in range(800):\n",
        "    rand_idx = np.random.choice(len(x_vals_train), size=batch_size)\n",
        "    rand_x = x_vals_train[rand_idx]\n",
        "    rand_y = np.transpose([y_vals_train[rand_idx]])\n",
        "    session.run(train_step, feed_dict = {x_data: rand_x, y_target: rand_y})\n",
        "    \n",
        "    temp_loss = session.run(loss, feed_dict = {x_data: rand_x, y_target: rand_y})\n",
        "    loss_vect.append(temp_loss)\n",
        "    \n",
        "    train_acc_temp = session.run(accuracy, feed_dict = {x_data: x_vals_train, y_target: np.transpose([y_vals_train])})\n",
        "    train_acc.append(train_acc_temp)\n",
        "    \n",
        "    test_acc_temp = session.run(accuracy, feed_dict= {x_data: x_vals_test, y_target: np.transpose([y_vals_test])})\n",
        "    test_acc.append(test_acc_temp)\n",
        "    \n",
        "    if(i+1)%100==0:\n",
        "        print(\"Paso #\"+str(i+1)+\", A = \"+str(session.run(A))+\", b = \"+str(session.run(b))+ \", Loss = \"+str(temp_loss))"
      ],
      "execution_count": 38,
      "outputs": [
        {
          "output_type": "stream",
          "text": [
            "Paso #100, A = [[ 0.23229352]\n",
            " [-0.78441864]], b = [[1.3176017]], Loss = [0.46411726]\n",
            "Paso #200, A = [[ 0.257052 ]\n",
            " [-0.8748013]], b = [[1.2425015]], Loss = [0.6243942]\n",
            "Paso #300, A = [[ 0.2511954 ]\n",
            " [-0.94787586]], b = [[1.1756018]], Loss = [0.4515216]\n",
            "Paso #400, A = [[ 0.25264442]\n",
            " [-0.99676836]], b = [[1.1102022]], Loss = [0.42166305]\n",
            "Paso #500, A = [[ 0.26020703]\n",
            " [-1.0435512 ]], b = [[1.0424024]], Loss = [0.4783779]\n",
            "Paso #600, A = [[ 0.24999079]\n",
            " [-1.0861603 ]], b = [[0.97890294]], Loss = [0.4948712]\n",
            "Paso #700, A = [[ 0.25265315]\n",
            " [-1.1208974 ]], b = [[0.9126032]], Loss = [0.47294343]\n",
            "Paso #800, A = [[ 0.2700852]\n",
            " [-1.1506888]], b = [[0.8432033]], Loss = [0.60190177]\n"
          ],
          "name": "stdout"
        }
      ]
    },
    {
      "cell_type": "code",
      "metadata": {
        "id": "vDnL7VuHpi0f",
        "colab_type": "code",
        "colab": {}
      },
      "source": [
        "[[a1],[a2]] = session.run(A)\n",
        "[[b]] = session.run(b)\n",
        "\n",
        "slope = -a2/a1\n",
        "y_intercept = b/a1\n",
        "\n",
        "\n",
        "x1_vals = [d[1] for d in x_vals]\n",
        "\n",
        "best_fit = []\n",
        "for i in x1_vals:\n",
        "    best_fit.append(slope*i + y_intercept)\n",
        "    \n",
        "setosa_x = [d[1] for i, d in enumerate(x_vals) if y_vals[i]==1]\n",
        "setosa_y = [d[0] for i, d in enumerate(x_vals) if y_vals[i]==1]\n",
        "no_setosa_x = [d[1] for i, d in enumerate(x_vals) if y_vals[i]==-1]\n",
        "no_setosa_y = [d[0] for i, d in enumerate(x_vals) if y_vals[i]==-1] "
      ],
      "execution_count": 0,
      "outputs": []
    },
    {
      "cell_type": "code",
      "metadata": {
        "id": "Oed3d2KXpi0l",
        "colab_type": "code",
        "colab": {
          "base_uri": "https://localhost:8080/",
          "height": 295
        },
        "outputId": "02e3ba32-e87c-47c6-d452-051d205bb030"
      },
      "source": [
        "plt.plot(setosa_x, setosa_y, 'o', label = \"Setosa\")\n",
        "plt.plot(no_setosa_x, no_setosa_y, 'x', label=\"No Setosa\")\n",
        "plt.plot(x1_vals, best_fit, 'r-', label = \"Separador Lineal\", linewidth=3) # PINTA LA RECTA\n",
        "plt.ylim([0,10])\n",
        "plt.legend(loc=\"lower right\")\n",
        "plt.xlabel(\"Anchura de Pétalo\")\n",
        "plt.ylabel(\"Longitud de Sépalo\")\n",
        "plt.title(\"Setosa vs No Setosa por medidas\")\n",
        "plt.show()"
      ],
      "execution_count": 40,
      "outputs": [
        {
          "output_type": "display_data",
          "data": {
            "image/png": "[encoded data removed]",
            "text/plain": [
              "<Figure size 432x288 with 1 Axes>"
            ]
          },
          "metadata": {
            "tags": [],
            "needs_background": "light"
          }
        }
      ]
    },
    {
      "cell_type": "code",
      "metadata": {
        "id": "OlU-CHVRpi0w",
        "colab_type": "code",
        "colab": {
          "base_uri": "https://localhost:8080/",
          "height": 295
        },
        "outputId": "43029db5-00f2-42cc-809d-6b7449f71cf8"
      },
      "source": [
        "plt.plot(train_acc, 'k-', label = \"Precisión en Entrenamiento\")\n",
        "plt.plot(test_acc, 'r--', label = \"Precisión en Test\")\n",
        "plt.title(\"Precisión en entrenamiento y test\")\n",
        "plt.xlabel(\"Número de iteración\")\n",
        "plt.ylabel(\"Precisión\")\n",
        "plt.legend(loc=\"lower right\")\n",
        "plt.ylim([0,1])\n",
        "plt.show()"
      ],
      "execution_count": 41,
      "outputs": [
        {
          "output_type": "display_data",
          "data": {
            "image/png": "[encoded data removed]",
            "text/plain": [
              "<Figure size 432x288 with 1 Axes>"
            ]
          },
          "metadata": {
            "tags": [],
            "needs_background": "light"
          }
        }
      ]
    },
    {
      "cell_type": "code",
      "metadata": {
        "id": "43yIVaLMpi03",
        "colab_type": "code",
        "colab": {
          "base_uri": "https://localhost:8080/",
          "height": 295
        },
        "outputId": "0f71f121-b5fe-43cd-94f2-c521b973a9df"
      },
      "source": [
        "plt.plot(loss_vect, 'k-')\n",
        "plt.title(\"Función de pérdida por iteración\")\n",
        "plt.xlabel(\"Número de iteración\")\n",
        "plt.ylabel(\"Función de Pérdidas\")\n",
        "plt.show()"
      ],
      "execution_count": 42,
      "outputs": [
        {
          "output_type": "display_data",
          "data": {
            "image/png": "[encoded data removed]",
            "text/plain": [
              "<Figure size 432x288 with 1 Axes>"
            ]
          },
          "metadata": {
            "tags": [],
            "needs_background": "light"
          }
        }
      ]
    }
  ]
}