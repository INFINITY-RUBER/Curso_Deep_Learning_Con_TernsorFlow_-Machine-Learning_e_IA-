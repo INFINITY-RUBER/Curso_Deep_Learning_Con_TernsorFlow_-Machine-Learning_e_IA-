{
  "nbformat": 4,
  "nbformat_minor": 0,
  "metadata": {
    "kernelspec": {
      "display_name": "Python 3",
      "language": "python",
      "name": "python3"
    },
    "language_info": {
      "codemirror_mode": {
        "name": "ipython",
        "version": 3
      },
      "file_extension": ".py",
      "mimetype": "text/x-python",
      "name": "python",
      "nbconvert_exporter": "python",
      "pygments_lexer": "ipython3",
      "version": "3.5.5"
    },
    "colab": {
      "name": "02-SVM-regresion.ipynb",
      "provenance": [],
      "include_colab_link": true
    }
  },
  "cells": [
    {
      "cell_type": "markdown",
      "metadata": {
        "id": "view-in-github",
        "colab_type": "text"
      },
      "source": [
        "<a href=\"https://colab.research.google.com/github/INFINITY-RUBER/Curso_Deep_Learning_Con_TernsorFlow_Machine-Learning_e_IA-/blob/master/scripts/tema05/02-SVM-regresion.ipynb\" target=\"_parent\"><img src=\"https://colab.research.google.com/assets/colab-badge.svg\" alt=\"Open In Colab\"/></a>"
      ]
    },
    {
      "cell_type": "code",
      "metadata": {
        "id": "NjfHJHEEyTmV",
        "colab_type": "code",
        "colab": {}
      },
      "source": [
        "!pip install tensorflow==1.14"
      ],
      "execution_count": 0,
      "outputs": []
    },
    {
      "cell_type": "markdown",
      "metadata": {
        "id": "9VAisHY2yRs-",
        "colab_type": "text"
      },
      "source": [
        "# SVM para problemas de regresión"
      ]
    },
    {
      "cell_type": "markdown",
      "metadata": {
        "id": "Ve-ppBp-yRtA",
        "colab_type": "text"
      },
      "source": [
        "$$loss = \\frac{1}{n}\\sum_{i=1}^n\\max(0,|y_i-(Ax_i+b)|-\\varepsilon)$$"
      ]
    },
    {
      "cell_type": "markdown",
      "metadata": {
        "id": "Vnnns-hOyRtB",
        "colab_type": "text"
      },
      "source": [
        "- $\\varepsilon$: la mitad del margen, que fuerza a que la función loss sea cero para todos los puntos dentro del corredor"
      ]
    },
    {
      "cell_type": "code",
      "metadata": {
        "id": "0sDrsxa_yRtD",
        "colab_type": "code",
        "colab": {}
      },
      "source": [
        "import matplotlib.pyplot as plt\n",
        "import numpy as np\n",
        "import tensorflow as tf\n",
        "from sklearn import datasets"
      ],
      "execution_count": 0,
      "outputs": []
    },
    {
      "cell_type": "code",
      "metadata": {
        "id": "2lGimpi8yRtL",
        "colab_type": "code",
        "colab": {}
      },
      "source": [
        "session = tf.Session()\n",
        "iris = datasets.load_iris()\n",
        "x_vals = np.array([x[3] for x in iris.data])\n",
        "y_vals = np.array([y[0] for y in iris.data])"
      ],
      "execution_count": 0,
      "outputs": []
    },
    {
      "cell_type": "code",
      "metadata": {
        "id": "D0SI11UlyRtU",
        "colab_type": "code",
        "colab": {
          "base_uri": "https://localhost:8080/",
          "height": 265
        },
        "outputId": "8e38685f-805a-4876-ee4e-5a3838d2e200"
      },
      "source": [
        "plt.plot(x_vals, y_vals, '*')\n",
        "plt.show()"
      ],
      "execution_count": 10,
      "outputs": [
        {
          "output_type": "display_data",
          "data": {
            "image/png": "[encoded data removed]",
            "text/plain": [
              "<Figure size 432x288 with 1 Axes>"
            ]
          },
          "metadata": {
            "tags": [],
            "needs_background": "light"
          }
        }
      ]
    },
    {
      "cell_type": "code",
      "metadata": {
        "id": "ZBS_PvaJyRtd",
        "colab_type": "code",
        "colab": {}
      },
      "source": [
        "train_idx = np.random.choice(len(x_vals), round(len(x_vals)*0.8), replace=False)\n",
        "test_idx = np.array(list(set(range(len(x_vals)))-set(train_idx)))\n",
        "x_vals_train = x_vals[train_idx]\n",
        "x_vals_test = x_vals[test_idx]\n",
        "y_vals_train = y_vals[train_idx]\n",
        "y_vals_test = y_vals[test_idx]"
      ],
      "execution_count": 0,
      "outputs": []
    },
    {
      "cell_type": "code",
      "metadata": {
        "id": "dTp29dCXyRtk",
        "colab_type": "code",
        "colab": {}
      },
      "source": [
        "batch_size = 50\n",
        "\n",
        "x_data = tf.placeholder(shape=[None, 1], dtype=tf.float32)\n",
        "y_target = tf.placeholder(shape=[None, 1], dtype=tf.float32)\n",
        "\n",
        "A = tf.Variable(tf.random_normal(shape=[1,1]))\n",
        "b = tf.Variable(tf.random_normal(shape=[1,1]))"
      ],
      "execution_count": 0,
      "outputs": []
    },
    {
      "cell_type": "markdown",
      "metadata": {
        "id": "q6fWN62NzlWi",
        "colab_type": "text"
      },
      "source": [
        "$$loss = \\frac{1}{n}\\sum_{i=1}^n\\max(0,|y_i-(Ax_i+b)|-\\varepsilon)$$"
      ]
    },
    {
      "cell_type": "code",
      "metadata": {
        "id": "6JOUyFbfyRtr",
        "colab_type": "code",
        "colab": {}
      },
      "source": [
        "model_output = tf.add(tf.matmul(x_data,A), b)"
      ],
      "execution_count": 0,
      "outputs": []
    },
    {
      "cell_type": "code",
      "metadata": {
        "id": "u1IvcDFtyRty",
        "colab_type": "code",
        "colab": {}
      },
      "source": [
        "epsilon = tf.constant([0.5])\n",
        "loss = tf.reduce_mean(tf.maximum(0.0, tf.subtract(tf.abs(tf.subtract(model_output, y_target)), epsilon)))"
      ],
      "execution_count": 0,
      "outputs": []
    },
    {
      "cell_type": "code",
      "metadata": {
        "id": "3x-jV2dXyRt9",
        "colab_type": "code",
        "colab": {}
      },
      "source": [
        "my_optim = tf.train.GradientDescentOptimizer(0.05)\n",
        "train_step = my_optim.minimize(loss)\n",
        "\n",
        "init = tf.global_variables_initializer()\n",
        "session.run(init)"
      ],
      "execution_count": 0,
      "outputs": []
    },
    {
      "cell_type": "code",
      "metadata": {
        "id": "qh33B3OGyRuH",
        "colab_type": "code",
        "colab": {
          "base_uri": "https://localhost:8080/",
          "height": 235
        },
        "outputId": "2d0f6c80-8aea-4260-f6fb-f937ed63bfee"
      },
      "source": [
        "train_loss = []\n",
        "test_loss = []\n",
        "\n",
        "for i in range(300):\n",
        "    rand_idx = np.random.choice(len(x_vals_train), size=batch_size)\n",
        "    rand_x = np.transpose([x_vals_train[rand_idx]])\n",
        "    rand_y = np.transpose([y_vals_train[rand_idx]])\n",
        "    session.run(train_step, feed_dict = {x_data: rand_x, y_target: rand_y})\n",
        "    \n",
        "    train_loss_temp = session.run(loss, feed_dict = {x_data: np.transpose([x_vals_train]),\n",
        "                                                     y_target: np.transpose([y_vals_train])})\n",
        "    train_loss.append(train_loss_temp)\n",
        "    \n",
        "    test_loss_temp = session.run(loss, feed_dict= {x_data: np.transpose([x_vals_test]),\n",
        "                                                   y_target: np.transpose([y_vals_test])})\n",
        "    test_loss.append(test_loss_temp)\n",
        "    \n",
        "    if(i+1)%50==0:\n",
        "        print(\"Paso #\"+str(i+1)+\", A = \"+str(session.run(A))+\", b = \"+str(session.run(b)))\n",
        "        print(\"Loss Train = \"+str(train_loss_temp)+ \", Loss Test = \"+str(test_loss_temp))"
      ],
      "execution_count": 18,
      "outputs": [
        {
          "output_type": "stream",
          "text": [
            "Paso #50, A = [[2.3788893]], b = [[2.332969]]\n",
            "Loss Train = 0.69258374, Loss Test = 0.7789262\n",
            "Paso #100, A = [[2.03079]], b = [[3.042969]]\n",
            "Loss Train = 0.45478424, Loss Test = 0.5023483\n",
            "Paso #150, A = [[1.6298906]], b = [[3.623969]]\n",
            "Loss Train = 0.2546422, Loss Test = 0.28095055\n",
            "Paso #200, A = [[1.3551905]], b = [[4.0759697]]\n",
            "Loss Train = 0.13930123, Loss Test = 0.15555164\n",
            "Paso #250, A = [[1.2058904]], b = [[4.32497]]\n",
            "Loss Train = 0.1018403, Loss Test = 0.10750613\n",
            "Paso #300, A = [[1.1077901]], b = [[4.457969]]\n",
            "Loss Train = 0.08958491, Loss Test = 0.0928928\n"
          ],
          "name": "stdout"
        }
      ]
    },
    {
      "cell_type": "code",
      "metadata": {
        "id": "zRN6ObPVyRuO",
        "colab_type": "code",
        "colab": {}
      },
      "source": [
        "[[slope]] = session.run(A)\n",
        "[[y_intercept]] = session.run(b)\n",
        "[width] = session.run(epsilon)\n",
        "\n",
        "best_fit = []\n",
        "best_fit_upper = []\n",
        "best_fit_lower = []\n",
        "for i in x_vals:\n",
        "    best_fit.append(slope*i+y_intercept)\n",
        "    best_fit_upper.append(slope*i+y_intercept+width)\n",
        "    best_fit_lower.append(slope*i+y_intercept-width)"
      ],
      "execution_count": 0,
      "outputs": []
    },
    {
      "cell_type": "code",
      "metadata": {
        "id": "cLPOBIpqyRuU",
        "colab_type": "code",
        "colab": {
          "base_uri": "https://localhost:8080/",
          "height": 295
        },
        "outputId": "92a41913-fb55-4ccc-a7ab-3cbd66b85ec5"
      },
      "source": [
        "plt.plot(x_vals, y_vals, 'o', label = \"Flores Iris\")\n",
        "plt.plot(x_vals, best_fit, 'r-', label = \"SVM Regresión Lineal\", linewidth=3)\n",
        "plt.plot(x_vals, best_fit_upper, 'r--', linewidth=1)\n",
        "plt.plot(x_vals, best_fit_lower, 'r--', linewidth=1)\n",
        "plt.ylim([0,10])\n",
        "plt.legend(loc=\"lower right\")\n",
        "plt.xlabel(\"Anchura de Pétalo\")\n",
        "plt.ylabel(\"Longitud de Sépalo\")\n",
        "plt.title(\"Predicción usando SVM\")\n",
        "plt.show()"
      ],
      "execution_count": 20,
      "outputs": [
        {
          "output_type": "display_data",
          "data": {
            "image/png": "[encoded data removed]",
            "text/plain": [
              "<Figure size 432x288 with 1 Axes>"
            ]
          },
          "metadata": {
            "tags": [],
            "needs_background": "light"
          }
        }
      ]
    },
    {
      "cell_type": "code",
      "metadata": {
        "id": "dU5a6CQkyRuc",
        "colab_type": "code",
        "colab": {
          "base_uri": "https://localhost:8080/",
          "height": 295
        },
        "outputId": "23c1ddd4-a408-4b0b-fa1d-8f53797fb291"
      },
      "source": [
        "plt.plot(train_loss, 'k-', label = \"Pérdidas en Entrenamiento\")\n",
        "plt.plot(test_loss, 'r--', label = \"Pérdidas en Test\")\n",
        "plt.title(\"Función de pérdidas L2 por iteración\")\n",
        "plt.xlabel(\"Número de iteración\")\n",
        "plt.ylabel(\"Función de Pérdidas en L2\")\n",
        "plt.legend(loc=\"upper right\")\n",
        "plt.show()"
      ],
      "execution_count": 21,
      "outputs": [
        {
          "output_type": "display_data",
          "data": {
            "image/png": "[encoded data removed]",
            "text/plain": [
              "<Figure size 432x288 with 1 Axes>"
            ]
          },
          "metadata": {
            "tags": [],
            "needs_background": "light"
          }
        }
      ]
    },
    {
      "cell_type": "code",
      "metadata": {
        "id": "ANN8X-bPyRuj",
        "colab_type": "code",
        "colab": {}
      },
      "source": [
        ""
      ],
      "execution_count": 0,
      "outputs": []
    }
  ]
}