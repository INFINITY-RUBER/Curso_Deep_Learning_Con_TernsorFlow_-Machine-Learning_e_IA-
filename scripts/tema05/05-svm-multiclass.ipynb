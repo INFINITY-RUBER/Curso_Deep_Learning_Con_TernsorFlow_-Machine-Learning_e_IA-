{
  "nbformat": 4,
  "nbformat_minor": 0,
  "metadata": {
    "kernelspec": {
      "display_name": "Python 3",
      "language": "python",
      "name": "python3"
    },
    "language_info": {
      "codemirror_mode": {
        "name": "ipython",
        "version": 3
      },
      "file_extension": ".py",
      "mimetype": "text/x-python",
      "name": "python",
      "nbconvert_exporter": "python",
      "pygments_lexer": "ipython3",
      "version": "3.5.5"
    },
    "colab": {
      "name": "05-svm-multiclass.ipynb",
      "provenance": [],
      "include_colab_link": true
    }
  },
  "cells": [
    {
      "cell_type": "markdown",
      "metadata": {
        "id": "view-in-github",
        "colab_type": "text"
      },
      "source": [
        "<a href=\"https://colab.research.google.com/github/INFINITY-RUBER/Curso_Deep_Learning_Con_TernsorFlow_Machine-Learning_e_IA-/blob/master/scripts/tema05/05-svm-multiclass.ipynb\" target=\"_parent\"><img src=\"https://colab.research.google.com/assets/colab-badge.svg\" alt=\"Open In Colab\"/></a>"
      ]
    },
    {
      "cell_type": "code",
      "metadata": {
        "id": "HzojEQnPC1od",
        "colab_type": "code",
        "colab": {}
      },
      "source": [
        "pip install tensorflow==1.14"
      ],
      "execution_count": 0,
      "outputs": []
    },
    {
      "cell_type": "markdown",
      "metadata": {
        "id": "4uq3Z-zcCYmK",
        "colab_type": "text"
      },
      "source": [
        "# SVM Multi Clase"
      ]
    },
    {
      "cell_type": "markdown",
      "metadata": {
        "id": "5jwWizVOCYmN",
        "colab_type": "text"
      },
      "source": [
        "- Una contra una: si tenemos $k$ categorías, entonces hay que crear ${k\\choose 2} = \\frac{k!}{(k-2)!2!}$ clasificadores"
      ]
    },
    {
      "cell_type": "markdown",
      "metadata": {
        "id": "U1zG-JmPCYmQ",
        "colab_type": "text"
      },
      "source": [
        "- Una contra todas: si tenemos $k$ categorías, hay que crear exactamente $k$ clasificadores, uno o no uno; dos o no dos, tres o no tres,... k o no k."
      ]
    },
    {
      "cell_type": "code",
      "metadata": {
        "id": "XC-dUvS4CYmS",
        "colab_type": "code",
        "colab": {}
      },
      "source": [
        "import matplotlib.pyplot as plt\n",
        "import numpy as np\n",
        "import tensorflow as tf\n",
        "from sklearn import datasets"
      ],
      "execution_count": 0,
      "outputs": []
    },
    {
      "cell_type": "code",
      "metadata": {
        "id": "zDTlnPDaCYmt",
        "colab_type": "code",
        "colab": {}
      },
      "source": [
        "session = tf.Session()"
      ],
      "execution_count": 0,
      "outputs": []
    },
    {
      "cell_type": "code",
      "metadata": {
        "id": "p4BA4KBpCYm5",
        "colab_type": "code",
        "colab": {}
      },
      "source": [
        "iris = datasets.load_iris()\n",
        "x_vals = np.array([[x[0], x[3]] for x in iris.data])\n",
        "y_vals1 = np.array([1 if y == 0 else -1 for y in iris.target])\n",
        "y_vals2 = np.array([1 if y == 1 else -1 for y in iris.target])\n",
        "y_vals3 = np.array([1 if y == 2 else -1 for y in iris.target])\n",
        "\n",
        "class1_x = [x[0] for i,x in enumerate(x_vals) if iris.target[i]==0]\n",
        "class1_y = [x[1] for i,x in enumerate(x_vals) if iris.target[i]==0]\n",
        "class2_x = [x[0] for i,x in enumerate(x_vals) if iris.target[i]==1]\n",
        "class2_y = [x[1] for i,x in enumerate(x_vals) if iris.target[i]==1]\n",
        "class3_x = [x[0] for i,x in enumerate(x_vals) if iris.target[i]==2]\n",
        "class3_y = [x[1] for i,x in enumerate(x_vals) if iris.target[i]==2]\n",
        "\n",
        "y_vals = np.array([y_vals1, y_vals2, y_vals3])"
      ],
      "execution_count": 0,
      "outputs": []
    },
    {
      "cell_type": "code",
      "metadata": {
        "id": "RaKfvyVFCYnF",
        "colab_type": "code",
        "colab": {
          "base_uri": "https://localhost:8080/",
          "height": 265
        },
        "outputId": "3adc3a41-6b9a-447c-f01f-a275d2798b53"
      },
      "source": [
        "plt.plot(class1_x, class1_y, 'ro', label = \"Setosa\")\n",
        "plt.plot(class2_x, class2_y, 'bx', label = \"Versicolor\")\n",
        "plt.plot(class3_x, class3_y, 'gv', label = \"Virginica\")\n",
        "plt.show()"
      ],
      "execution_count": 5,
      "outputs": [
        {
          "output_type": "display_data",
          "data": {
            "image/png": "[encoded data removed]",
            "text/plain": [
              "<Figure size 432x288 with 1 Axes>"
            ]
          },
          "metadata": {
            "tags": [],
            "needs_background": "light"
          }
        }
      ]
    },
    {
      "cell_type": "code",
      "metadata": {
        "id": "pbGyXl2xCYnT",
        "colab_type": "code",
        "colab": {}
      },
      "source": [
        "batch_size = 150\n",
        "\n",
        "x_data = tf.placeholder(shape=[None, 2], dtype=tf.float32)\n",
        "y_target = tf.placeholder(shape=[3, None], dtype=tf.float32)\n",
        "prediction_grid = tf.placeholder(shape = [None, 2], dtype=tf.float32)\n",
        "\n",
        "b = tf.Variable(tf.random_normal(shape=[3,batch_size]))"
      ],
      "execution_count": 0,
      "outputs": []
    },
    {
      "cell_type": "code",
      "metadata": {
        "id": "GTeIUacECYne",
        "colab_type": "code",
        "colab": {}
      },
      "source": [
        "gamma = tf.constant(-10.0)\n",
        "dist = tf.reduce_sum(tf.square(x_data),1)\n",
        "dist = tf.reshape(dist, [-1,1])\n",
        "sq_dist = tf.add(tf.subtract(dist, tf.multiply(2.0, tf.matmul(x_data, tf.transpose(x_data)))), tf.transpose(dist))\n",
        "my_kernel = tf.exp(tf.multiply(gamma, tf.abs(sq_dist)))"
      ],
      "execution_count": 0,
      "outputs": []
    },
    {
      "cell_type": "markdown",
      "metadata": {
        "id": "aRLAKeTxCYnq",
        "colab_type": "text"
      },
      "source": [
        "Antes podíamos hacer $x^T\\cdot x$"
      ]
    },
    {
      "cell_type": "code",
      "metadata": {
        "id": "JpCYKyWHCYns",
        "colab_type": "code",
        "colab": {}
      },
      "source": [
        "def reshape_matmul(mat):\n",
        "    v1 = tf.expand_dims(mat, 1)\n",
        "    v2 = tf.reshape(v1, [3, batch_size, 1])\n",
        "    return tf.matmul(v2, v1)"
      ],
      "execution_count": 0,
      "outputs": []
    },
    {
      "cell_type": "code",
      "metadata": {
        "id": "jAzGPY-LCYn2",
        "colab_type": "code",
        "colab": {}
      },
      "source": [
        "first_term = tf.reduce_sum(b)\n",
        "b_vec_cross = tf.matmul(tf.transpose(b),b)\n",
        "y_target_cross = reshape_matmul(y_target)\n",
        "\n",
        "second_term = tf.reduce_sum(tf.multiply(my_kernel, tf.multiply(b_vec_cross, y_target_cross)), [1,2])\n",
        "loss = tf.reduce_sum(tf.negative(tf.subtract(first_term, second_term)))"
      ],
      "execution_count": 0,
      "outputs": []
    },
    {
      "cell_type": "code",
      "metadata": {
        "id": "iGP13v2LCYoA",
        "colab_type": "code",
        "colab": {}
      },
      "source": [
        "rA = tf.reshape(tf.reduce_sum(tf.square(x_data), 1), [-1,1])\n",
        "rB = tf.reshape(tf.reduce_sum(tf.square(prediction_grid), 1), [-1,1])\n",
        "\n",
        "pred_sq_dist = tf.add(tf.subtract(rA, tf.multiply(2.0, tf.matmul(x_data, tf.transpose(prediction_grid)))),\n",
        "                      tf.transpose(rB))\n",
        "pred_kernel = tf.exp(tf.multiply(gamma, tf.abs(pred_sq_dist)))"
      ],
      "execution_count": 0,
      "outputs": []
    },
    {
      "cell_type": "code",
      "metadata": {
        "id": "4ELFZ_taCYoK",
        "colab_type": "code",
        "colab": {}
      },
      "source": [
        "prediction_output = tf.matmul(tf.multiply(y_target, b), pred_kernel)\n",
        "prediction = tf.argmax(prediction_output-tf.expand_dims(tf.reduce_mean(prediction_output, 1), 1), 0)"
      ],
      "execution_count": 0,
      "outputs": []
    },
    {
      "cell_type": "code",
      "metadata": {
        "id": "o7HRrQbQCYoU",
        "colab_type": "code",
        "colab": {}
      },
      "source": [
        "accuracy = tf.reduce_mean(tf.cast(tf.equal(prediction, tf.argmax(y_target,0)),tf.float32))"
      ],
      "execution_count": 0,
      "outputs": []
    },
    {
      "cell_type": "code",
      "metadata": {
        "id": "Y0EkVA2jCYog",
        "colab_type": "code",
        "colab": {}
      },
      "source": [
        "my_optim = tf.train.GradientDescentOptimizer(0.01)\n",
        "train_step = my_optim.minimize(loss)\n",
        "init = tf.global_variables_initializer()\n",
        "session.run(init)"
      ],
      "execution_count": 0,
      "outputs": []
    },
    {
      "cell_type": "code",
      "metadata": {
        "id": "_FytJ147CYoq",
        "colab_type": "code",
        "colab": {
          "base_uri": "https://localhost:8080/",
          "height": 163
        },
        "outputId": "2d22225b-7e75-4105-8765-2c07981726d0"
      },
      "source": [
        "loss_vect = []\n",
        "batch_acc = []\n",
        "for i in range(200):\n",
        "    rand_idx = np.random.choice(len(x_vals), size=batch_size)\n",
        "    rand_x = x_vals[rand_idx]\n",
        "    rand_y = y_vals[:,rand_idx]\n",
        "    session.run(train_step, feed_dict={x_data: rand_x, y_target: rand_y})\n",
        "    \n",
        "    temp_loss = session.run(loss, feed_dict={x_data: rand_x, y_target: rand_y})\n",
        "    loss_vect.append(temp_loss)\n",
        "    \n",
        "    acc_temp = session.run(accuracy, feed_dict={x_data:rand_x, y_target: rand_y, prediction_grid: rand_x})\n",
        "    batch_acc.append(acc_temp)\n",
        "    \n",
        "    if(i+1)%25==0:\n",
        "        print(\"Paso #\"+str(i+1)+\", Pérdida: \"+str(temp_loss)+\", Precisión: \"+str(acc_temp))"
      ],
      "execution_count": 14,
      "outputs": [
        {
          "output_type": "stream",
          "text": [
            "Paso #25, Pérdida: 31.733507, Precisión: 0.62666667\n",
            "Paso #50, Pérdida: -19.530224, Precisión: 0.74666667\n",
            "Paso #75, Pérdida: -31.9936, Precisión: 0.99333334\n",
            "Paso #100, Pérdida: -27.417383, Precisión: 0.9266667\n",
            "Paso #125, Pérdida: -32.461178, Precisión: 0.9\n",
            "Paso #150, Pérdida: -36.410027, Precisión: 0.96\n",
            "Paso #175, Pérdida: -32.7278, Precisión: 0.96666664\n",
            "Paso #200, Pérdida: -32.11399, Precisión: 0.9533333\n"
          ],
          "name": "stdout"
        }
      ]
    },
    {
      "cell_type": "code",
      "metadata": {
        "id": "JGCL5_mLCYo0",
        "colab_type": "code",
        "colab": {}
      },
      "source": [
        "x_min, x_max = x_vals[:,0].min()-1, x_vals[:,0].max()+1\n",
        "y_min, y_max = x_vals[:,1].min()-1, x_vals[:,1].max()+1\n",
        "\n",
        "xx, yy = np.meshgrid(np.arange(x_min, x_max, 0.02), np.arange(y_min, y_max, 0.02))\n",
        "grid_points = np.c_[xx.ravel(), yy.ravel()]\n",
        "\n",
        "grid_predictions = session.run(prediction, feed_dict={x_data:rand_x, y_target:rand_y, prediction_grid: grid_points})\n",
        "grid_predictions = grid_predictions.reshape(xx.shape)"
      ],
      "execution_count": 0,
      "outputs": []
    },
    {
      "cell_type": "code",
      "metadata": {
        "id": "hY4y6hQICYo9",
        "colab_type": "code",
        "colab": {
          "base_uri": "https://localhost:8080/",
          "height": 296
        },
        "outputId": "28ea5257-3045-4315-a690-1216fccd1d11"
      },
      "source": [
        "plt.contourf(xx,yy, grid_predictions, cmap = plt.cm.Paired, alpha = 0.8)\n",
        "plt.plot(class1_x, class1_y, 'ro', label = \"Setosa\")\n",
        "plt.plot(class2_x, class2_y, 'bx', label = \"Versicolor\")\n",
        "plt.plot(class3_x, class3_y, 'gv', label = \"Virginica\")\n",
        "plt.title(\"SVM Gausiano para clasificar Iris DataSet\")\n",
        "plt.xlabel(\"Longitud de Pétalos\")\n",
        "plt.ylabel(\"Anchura de Sépalos\")\n",
        "plt.legend(loc=\"lower right\")\n",
        "plt.xlim([3.5,8.5])\n",
        "plt.ylim([-0.5, 3.0])\n",
        "plt.show()"
      ],
      "execution_count": 16,
      "outputs": [
        {
          "output_type": "display_data",
          "data": {
            "image/png": "[encoded data removed]",
            "text/plain": [
              "<Figure size 432x288 with 1 Axes>"
            ]
          },
          "metadata": {
            "tags": [],
            "needs_background": "light"
          }
        }
      ]
    },
    {
      "cell_type": "code",
      "metadata": {
        "id": "PhtBtQeSCYpH",
        "colab_type": "code",
        "colab": {
          "base_uri": "https://localhost:8080/",
          "height": 281
        },
        "outputId": "2ff4b5db-6a84-48d7-ecc9-e281eb43b57f"
      },
      "source": [
        "plt.plot(loss_vect, 'k-')\n",
        "plt.title(\"Pérdidas por iteración\")\n",
        "plt.show()"
      ],
      "execution_count": 17,
      "outputs": [
        {
          "output_type": "display_data",
          "data": {
            "image/png": "[encoded data removed]",
            "text/plain": [
              "<Figure size 432x288 with 1 Axes>"
            ]
          },
          "metadata": {
            "tags": [],
            "needs_background": "light"
          }
        }
      ]
    },
    {
      "cell_type": "code",
      "metadata": {
        "id": "VP_Q7AATCYpY",
        "colab_type": "code",
        "colab": {
          "base_uri": "https://localhost:8080/",
          "height": 281
        },
        "outputId": "10b1606a-f3f1-423b-d05c-e506c928076d"
      },
      "source": [
        "plt.plot(batch_acc, 'k-')\n",
        "plt.title(\"Precisión\")\n",
        "plt.ylim([0,1])\n",
        "plt.show()"
      ],
      "execution_count": 18,
      "outputs": [
        {
          "output_type": "display_data",
          "data": {
            "image/png": "[encoded data removed]",
            "text/plain": [
              "<Figure size 432x288 with 1 Axes>"
            ]
          },
          "metadata": {
            "tags": [],
            "needs_background": "light"
          }
        }
      ]
    },
    {
      "cell_type": "code",
      "metadata": {
        "id": "Q6Lku1xbCYpm",
        "colab_type": "code",
        "colab": {}
      },
      "source": [
        ""
      ],
      "execution_count": 0,
      "outputs": []
    }
  ]
}