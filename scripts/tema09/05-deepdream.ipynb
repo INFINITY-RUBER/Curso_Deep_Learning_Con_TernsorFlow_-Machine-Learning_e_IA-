{
  "nbformat": 4,
  "nbformat_minor": 0,
  "metadata": {
    "kernelspec": {
      "display_name": "Python 3",
      "language": "python",
      "name": "python3"
    },
    "language_info": {
      "codemirror_mode": {
        "name": "ipython",
        "version": 3
      },
      "file_extension": ".py",
      "mimetype": "text/x-python",
      "name": "python",
      "nbconvert_exporter": "python",
      "pygments_lexer": "ipython3",
      "version": "3.5.5"
    },
    "colab": {
      "name": "05-deepdream.ipynb",
      "provenance": [],
      "toc_visible": true,
      "include_colab_link": true
    },
    "accelerator": "GPU"
  },
  "cells": [
    {
      "cell_type": "markdown",
      "metadata": {
        "id": "view-in-github",
        "colab_type": "text"
      },
      "source": [
        "<a href=\"https://colab.research.google.com/github/INFINITY-RUBER/Curso_Deep_Learning_Con_TernsorFlow_Machine-Learning_e_IA-/blob/master/scripts/tema09/05-deepdream.ipynb\" target=\"_parent\"><img src=\"https://colab.research.google.com/assets/colab-badge.svg\" alt=\"Open In Colab\"/></a>"
      ]
    },
    {
      "cell_type": "markdown",
      "metadata": {
        "id": "9o3Ju6lbHGEm",
        "colab_type": "text"
      },
      "source": [
        "# Deep Dream"
      ]
    },
    {
      "cell_type": "code",
      "metadata": {
        "id": "XlKGOBXwHQJK",
        "colab_type": "code",
        "colab": {
          "base_uri": "https://localhost:8080/",
          "height": 746
        },
        "outputId": "e449625d-0e62-4d10-8db7-4570a6258416"
      },
      "source": [
        "pip install tensorflow==1.14"
      ],
      "execution_count": 1,
      "outputs": [
        {
          "output_type": "stream",
          "text": [
            "Collecting tensorflow==1.14\n",
            "\u001b[?25l  Downloading https://files.pythonhosted.org/packages/de/f0/96fb2e0412ae9692dbf400e5b04432885f677ad6241c088ccc5fe7724d69/tensorflow-1.14.0-cp36-cp36m-manylinux1_x86_64.whl (109.2MB)\n",
            "\u001b[K     |████████████████████████████████| 109.2MB 38kB/s \n",
            "\u001b[?25hCollecting tensorboard<1.15.0,>=1.14.0\n",
            "\u001b[?25l  Downloading https://files.pythonhosted.org/packages/91/2d/2ed263449a078cd9c8a9ba50ebd50123adf1f8cfbea1492f9084169b89d9/tensorboard-1.14.0-py3-none-any.whl (3.1MB)\n",
            "\u001b[K     |████████████████████████████████| 3.2MB 35.7MB/s \n",
            "\u001b[?25hRequirement already satisfied: termcolor>=1.1.0 in /usr/local/lib/python3.6/dist-packages (from tensorflow==1.14) (1.1.0)\n",
            "Requirement already satisfied: keras-applications>=1.0.6 in /usr/local/lib/python3.6/dist-packages (from tensorflow==1.14) (1.0.8)\n",
            "Requirement already satisfied: numpy<2.0,>=1.14.5 in /usr/local/lib/python3.6/dist-packages (from tensorflow==1.14) (1.18.5)\n",
            "Requirement already satisfied: google-pasta>=0.1.6 in /usr/local/lib/python3.6/dist-packages (from tensorflow==1.14) (0.2.0)\n",
            "Requirement already satisfied: absl-py>=0.7.0 in /usr/local/lib/python3.6/dist-packages (from tensorflow==1.14) (0.9.0)\n",
            "Requirement already satisfied: six>=1.10.0 in /usr/local/lib/python3.6/dist-packages (from tensorflow==1.14) (1.12.0)\n",
            "Requirement already satisfied: protobuf>=3.6.1 in /usr/local/lib/python3.6/dist-packages (from tensorflow==1.14) (3.10.0)\n",
            "Requirement already satisfied: wrapt>=1.11.1 in /usr/local/lib/python3.6/dist-packages (from tensorflow==1.14) (1.12.1)\n",
            "Requirement already satisfied: grpcio>=1.8.6 in /usr/local/lib/python3.6/dist-packages (from tensorflow==1.14) (1.29.0)\n",
            "Requirement already satisfied: wheel>=0.26 in /usr/local/lib/python3.6/dist-packages (from tensorflow==1.14) (0.34.2)\n",
            "Requirement already satisfied: gast>=0.2.0 in /usr/local/lib/python3.6/dist-packages (from tensorflow==1.14) (0.3.3)\n",
            "Requirement already satisfied: astor>=0.6.0 in /usr/local/lib/python3.6/dist-packages (from tensorflow==1.14) (0.8.1)\n",
            "Collecting tensorflow-estimator<1.15.0rc0,>=1.14.0rc0\n",
            "\u001b[?25l  Downloading https://files.pythonhosted.org/packages/3c/d5/21860a5b11caf0678fbc8319341b0ae21a07156911132e0e71bffed0510d/tensorflow_estimator-1.14.0-py2.py3-none-any.whl (488kB)\n",
            "\u001b[K     |████████████████████████████████| 491kB 55.4MB/s \n",
            "\u001b[?25hRequirement already satisfied: keras-preprocessing>=1.0.5 in /usr/local/lib/python3.6/dist-packages (from tensorflow==1.14) (1.1.2)\n",
            "Requirement already satisfied: werkzeug>=0.11.15 in /usr/local/lib/python3.6/dist-packages (from tensorboard<1.15.0,>=1.14.0->tensorflow==1.14) (1.0.1)\n",
            "Requirement already satisfied: markdown>=2.6.8 in /usr/local/lib/python3.6/dist-packages (from tensorboard<1.15.0,>=1.14.0->tensorflow==1.14) (3.2.2)\n",
            "Requirement already satisfied: setuptools>=41.0.0 in /usr/local/lib/python3.6/dist-packages (from tensorboard<1.15.0,>=1.14.0->tensorflow==1.14) (47.1.1)\n",
            "Requirement already satisfied: h5py in /usr/local/lib/python3.6/dist-packages (from keras-applications>=1.0.6->tensorflow==1.14) (2.10.0)\n",
            "Requirement already satisfied: importlib-metadata; python_version < \"3.8\" in /usr/local/lib/python3.6/dist-packages (from markdown>=2.6.8->tensorboard<1.15.0,>=1.14.0->tensorflow==1.14) (1.6.0)\n",
            "Requirement already satisfied: zipp>=0.5 in /usr/local/lib/python3.6/dist-packages (from importlib-metadata; python_version < \"3.8\"->markdown>=2.6.8->tensorboard<1.15.0,>=1.14.0->tensorflow==1.14) (3.1.0)\n",
            "Installing collected packages: tensorboard, tensorflow-estimator, tensorflow\n",
            "  Found existing installation: tensorboard 2.2.2\n",
            "    Uninstalling tensorboard-2.2.2:\n",
            "      Successfully uninstalled tensorboard-2.2.2\n",
            "  Found existing installation: tensorflow-estimator 2.2.0\n",
            "    Uninstalling tensorflow-estimator-2.2.0:\n",
            "      Successfully uninstalled tensorflow-estimator-2.2.0\n",
            "  Found existing installation: tensorflow 2.2.0\n",
            "    Uninstalling tensorflow-2.2.0:\n",
            "      Successfully uninstalled tensorflow-2.2.0\n",
            "Successfully installed tensorboard-1.14.0 tensorflow-1.14.0 tensorflow-estimator-1.14.0\n"
          ],
          "name": "stdout"
        }
      ]
    },
    {
      "cell_type": "code",
      "metadata": {
        "id": "Yzfi8X69HWGo",
        "colab_type": "code",
        "colab": {}
      },
      "source": [
        "!cd model"
      ],
      "execution_count": 0,
      "outputs": []
    },
    {
      "cell_type": "code",
      "metadata": {
        "id": "Ohi05F9eHy4F",
        "colab_type": "code",
        "colab": {
          "base_uri": "https://localhost:8080/",
          "height": 310
        },
        "outputId": "eb5630ca-0527-456c-8985-d38e79b54af9"
      },
      "source": [
        "!wget http://www.vlfeat.org/matconvnet/models/beta16/imagenet-vgg-verydeep-19.mat"
      ],
      "execution_count": 8,
      "outputs": [
        {
          "output_type": "stream",
          "text": [
            "--2020-06-13 00:46:50--  http://www.vlfeat.org/matconvnet/models/beta16/imagenet-vgg-verydeep-19.mat\n",
            "Resolving www.vlfeat.org (www.vlfeat.org)... 64.90.48.57\n",
            "Connecting to www.vlfeat.org (www.vlfeat.org)|64.90.48.57|:80... connected.\n",
            "HTTP request sent, awaiting response... 301 Moved Permanently\n",
            "Location: https://www.vlfeat.org/matconvnet/models/beta16/imagenet-vgg-verydeep-19.mat [following]\n",
            "--2020-06-13 00:46:51--  https://www.vlfeat.org/matconvnet/models/beta16/imagenet-vgg-verydeep-19.mat\n",
            "Connecting to www.vlfeat.org (www.vlfeat.org)|64.90.48.57|:443... connected.\n",
            "HTTP request sent, awaiting response... 200 OK\n",
            "Length: 576042600 (549M)\n",
            "Saving to: ‘imagenet-vgg-verydeep-19.mat’\n",
            "\n",
            "imagenet-vgg-veryde 100%[===================>] 549.36M  18.3MB/s    in 31s     \n",
            "\n",
            "2020-06-13 00:47:23 (17.7 MB/s) - ‘imagenet-vgg-verydeep-19.mat’ saved [576042600/576042600]\n",
            "\n"
          ],
          "name": "stdout"
        }
      ]
    },
    {
      "cell_type": "code",
      "metadata": {
        "id": "bU7cW5OHHGEo",
        "colab_type": "code",
        "colab": {}
      },
      "source": [
        "import os\n",
        "import matplotlib.pyplot as plt\n",
        "import numpy as np\n",
        "import PIL.Image\n",
        "import tensorflow as tf\n",
        "from io import BytesIO"
      ],
      "execution_count": 0,
      "outputs": []
    },
    {
      "cell_type": "code",
      "metadata": {
        "id": "yQ6J9qcgHGEz",
        "colab_type": "code",
        "colab": {}
      },
      "source": [
        "graph = tf.Graph()\n",
        "session = tf.InteractiveSession(graph=graph)"
      ],
      "execution_count": 0,
      "outputs": []
    },
    {
      "cell_type": "code",
      "metadata": {
        "id": "8CIqNae1HGE6",
        "colab_type": "code",
        "colab": {}
      },
      "source": [
        "model_nn = \"../../models/inception5h/tensorflow_inception_graph.pb\"\n",
        "with tf.gfile.FastGFile(model_nn, 'rb') as f:\n",
        "    graph_def = tf.GraphDef()\n",
        "    graph_def.ParseFromString(f.read())"
      ],
      "execution_count": 0,
      "outputs": []
    },
    {
      "cell_type": "code",
      "metadata": {
        "id": "67Cte2GaHGFC",
        "colab_type": "code",
        "colab": {}
      },
      "source": [
        "t_input = tf.placeholder(np.float32, name='input')\n",
        "imagenet_mean = 117.0\n",
        "t_preprocessed = tf.expand_dims(t_input-imagenet_mean,0)\n",
        "tf.import_graph_def(graph_def, {'input':t_preprocessed})"
      ],
      "execution_count": 0,
      "outputs": []
    },
    {
      "cell_type": "code",
      "metadata": {
        "id": "Tosb7Ej2HGFK",
        "colab_type": "code",
        "colab": {}
      },
      "source": [
        "layers = [op.name for op in graph.get_operations() if op.type==\"Conv2D\" and \"import/\" in op.name]"
      ],
      "execution_count": 0,
      "outputs": []
    },
    {
      "cell_type": "code",
      "metadata": {
        "id": "VTbCRLdTHGFS",
        "colab_type": "code",
        "colab": {}
      },
      "source": [
        "layers"
      ],
      "execution_count": 0,
      "outputs": []
    },
    {
      "cell_type": "code",
      "metadata": {
        "id": "wd_cGg65HGFb",
        "colab_type": "code",
        "colab": {}
      },
      "source": [
        "feature_num = [int(graph.get_tensor_by_name(name+':0').get_shape()[-1]) for name in layers]"
      ],
      "execution_count": 0,
      "outputs": []
    },
    {
      "cell_type": "code",
      "metadata": {
        "id": "7ofqOM8aHGFk",
        "colab_type": "code",
        "colab": {}
      },
      "source": [
        "feature_num"
      ],
      "execution_count": 0,
      "outputs": []
    },
    {
      "cell_type": "code",
      "metadata": {
        "id": "CG2h1lMSHGFq",
        "colab_type": "code",
        "colab": {}
      },
      "source": [
        "layer = \"mixed4d_3x3_bottleneck_pre_relu\"\n",
        "channel = 139\n",
        "im_noise = np.random.uniform(size = (224,224,3))+100.0"
      ],
      "execution_count": 0,
      "outputs": []
    },
    {
      "cell_type": "code",
      "metadata": {
        "id": "Bux3ulQ2HGFw",
        "colab_type": "code",
        "colab": {}
      },
      "source": [
        "def show_array(a, fmt = \"jpeg\"):\n",
        "    a = np.uint8(np.clip(a,0,1)*255)\n",
        "    f = BytesIO()\n",
        "    PIL.Image.fromarray(a).save(f, fmt)\n",
        "    plt.imshow(a)"
      ],
      "execution_count": 0,
      "outputs": []
    },
    {
      "cell_type": "code",
      "metadata": {
        "id": "twIyU_XaHGF4",
        "colab_type": "code",
        "colab": {}
      },
      "source": [
        "def T(layer):\n",
        "    return graph.get_tensor_by_name(\"import/%s:0\"%layer)"
      ],
      "execution_count": 0,
      "outputs": []
    },
    {
      "cell_type": "code",
      "metadata": {
        "id": "NuWxxsFCHGGA",
        "colab_type": "code",
        "colab": {}
      },
      "source": [
        "def tf_func(*argtypes):\n",
        "    placeholders = list(map(tf.placeholder, argtypes))\n",
        "    def wrap(f):\n",
        "        out = f(*placeholders)\n",
        "        def wrapper(*args, **kw):\n",
        "            return out.eval(dict(zip(placeholders, args)), session=kw.get('session'))\n",
        "        return wrapper\n",
        "    return wrap"
      ],
      "execution_count": 0,
      "outputs": []
    },
    {
      "cell_type": "code",
      "metadata": {
        "id": "nVB42y1XHGGH",
        "colab_type": "code",
        "colab": {}
      },
      "source": [
        "def resize(img, size):\n",
        "    img = tf.expand_dims(img,0)\n",
        "    return tf.image.resize_bilinear(img, size)[0,:,:,:]"
      ],
      "execution_count": 0,
      "outputs": []
    },
    {
      "cell_type": "code",
      "metadata": {
        "id": "BPstrQndHGGM",
        "colab_type": "code",
        "colab": {}
      },
      "source": [
        "def calc_grad_tiled(img, t_grad, tile_size=512):\n",
        "    sz = tile_size\n",
        "    h,w = img.shape[:2]\n",
        "    sx, sy = np.random.randint(sz,size = 2)\n",
        "    img_shift = np.roll(np.roll(img,sx,1),sy,0)\n",
        "    grad = np.zeros_like(img)\n",
        "    for y in range(0, max(h-sz//2, sz), sz):\n",
        "        for x in range(0, max(w-sz//2, sz), sz):\n",
        "            sub = img_shift[y:y+sz, x:x+sz]\n",
        "            g = session.run(t_grad, {t_input:sub})\n",
        "            grad[y:y+sz, x:x+sz] = g\n",
        "    return np.roll(np.roll(grad, -sx, 1), -sy,0)"
      ],
      "execution_count": 0,
      "outputs": []
    },
    {
      "cell_type": "code",
      "metadata": {
        "id": "EppF1PKpHGGT",
        "colab_type": "code",
        "colab": {}
      },
      "source": [
        "def render_deepdream(t_obj, img0=im_noise, iter_n = 10, step = 1.5, octave_n = 4, octave_scale = 1.4):\n",
        "    t_score = tf.reduce_mean(t_obj)\n",
        "    t_grad = tf.gradients(t_score, t_input)[0]\n",
        "    img = img0\n",
        "    octaves = []\n",
        "    for i in range(octave_n-1):\n",
        "        hw = img.shape[:2]\n",
        "        lo = resize(img, np.int32(np.float(hw)/octave_scale))\n",
        "        hi = img-resize(lo, hw)\n",
        "        img = lo\n",
        "        octaves.append(hi)\n",
        "    \n",
        "    for octave in range(octave_n):\n",
        "        if octave > 0:\n",
        "            hi = octaves[-octave]#empezamos desde el último octave la reconstrucción\n",
        "            img = resize(img, hi.shape[:2]) + hi\n",
        "        for i in range(iter_n):\n",
        "            g = calc_grad_tiled(img, t_grad)\n",
        "            img += g*(step / (np.abs(g).mean()+1e-7))\n",
        "            print(\".\", end=\" \")\n",
        "        show_array(img/255.0)"
      ],
      "execution_count": 0,
      "outputs": []
    },
    {
      "cell_type": "code",
      "metadata": {
        "id": "TK2PNJiuHGGZ",
        "colab_type": "code",
        "colab": {}
      },
      "source": [
        "resize = tf_func(np.float32, np.int32)(resize)"
      ],
      "execution_count": 0,
      "outputs": []
    },
    {
      "cell_type": "code",
      "metadata": {
        "id": "6KkRRUMQHGGe",
        "colab_type": "code",
        "colab": {}
      },
      "source": [
        ""
      ],
      "execution_count": 0,
      "outputs": []
    }
  ]
}