{
  "nbformat": 4,
  "nbformat_minor": 0,
  "metadata": {
    "kernelspec": {
      "display_name": "Python 3",
      "language": "python",
      "name": "python3"
    },
    "language_info": {
      "codemirror_mode": {
        "name": "ipython",
        "version": 3
      },
      "file_extension": ".py",
      "mimetype": "text/x-python",
      "name": "python",
      "nbconvert_exporter": "python",
      "pygments_lexer": "ipython3",
      "version": "3.5.5"
    },
    "colab": {
      "name": "05-deepdream.ipynb",
      "provenance": [],
      "include_colab_link": true
    },
    "accelerator": "GPU"
  },
  "cells": [
    {
      "cell_type": "markdown",
      "metadata": {
        "id": "view-in-github",
        "colab_type": "text"
      },
      "source": [
        "<a href=\"https://colab.research.google.com/github/INFINITY-RUBER/Curso_Deep_Learning_Con_TernsorFlow_Machine-Learning_e_IA-/blob/master/scripts/tema09/05-deepdream.ipynb\" target=\"_parent\"><img src=\"https://colab.research.google.com/assets/colab-badge.svg\" alt=\"Open In Colab\"/></a>"
      ]
    },
    {
      "cell_type": "code",
      "metadata": {
        "id": "XlKGOBXwHQJK",
        "colab_type": "code",
        "colab": {}
      },
      "source": [
        "#pip install tensorflow==1.14"
      ],
      "execution_count": 0,
      "outputs": []
    },
    {
      "cell_type": "markdown",
      "metadata": {
        "id": "9o3Ju6lbHGEm",
        "colab_type": "text"
      },
      "source": [
        "# Deep Dream"
      ]
    },
    {
      "cell_type": "code",
      "metadata": {
        "id": "Yzfi8X69HWGo",
        "colab_type": "code",
        "colab": {}
      },
      "source": [
        "!mkdir models/inception"
      ],
      "execution_count": 0,
      "outputs": []
    },
    {
      "cell_type": "code",
      "metadata": {
        "id": "Ohi05F9eHy4F",
        "colab_type": "code",
        "colab": {
          "base_uri": "https://localhost:8080/",
          "height": 346
        },
        "outputId": "158cb0f4-6f1a-4dcc-dc04-9c44ac2710a2"
      },
      "source": [
        "!wget models/inception https://storage.googleapis.com/download.tensorflow.org/models/inception5h.zip"
      ],
      "execution_count": 8,
      "outputs": [
        {
          "output_type": "stream",
          "text": [
            "--2020-06-13 02:07:37--  http://models/inception\n",
            "Resolving models (models)... failed: Name or service not known.\n",
            "wget: unable to resolve host address ‘models’\n",
            "--2020-06-13 02:07:37--  https://storage.googleapis.com/download.tensorflow.org/models/inception5h.zip\n",
            "Resolving storage.googleapis.com (storage.googleapis.com)... 142.250.13.128, 2a00:1450:400c:c04::80\n",
            "Connecting to storage.googleapis.com (storage.googleapis.com)|142.250.13.128|:443... connected.\n",
            "HTTP request sent, awaiting response... 200 OK\n",
            "Length: 49937555 (48M) [application/zip]\n",
            "Saving to: ‘inception5h.zip’\n",
            "\n",
            "inception5h.zip     100%[===================>]  47.62M  37.3MB/s    in 1.3s    \n",
            "\n",
            "2020-06-13 02:07:39 (37.3 MB/s) - ‘inception5h.zip’ saved [49937555/49937555]\n",
            "\n",
            "FINISHED --2020-06-13 02:07:39--\n",
            "Total wall clock time: 2.1s\n",
            "Downloaded: 1 files, 48M in 1.3s (37.3 MB/s)\n"
          ],
          "name": "stdout"
        }
      ]
    },
    {
      "cell_type": "code",
      "metadata": {
        "id": "fxmVcseCMxJg",
        "colab_type": "code",
        "colab": {
          "base_uri": "https://localhost:8080/",
          "height": 90
        },
        "outputId": "4ac4fd78-d1d2-4036-89df-0a2102e82098"
      },
      "source": [
        "!unzip inception5h.zip"
      ],
      "execution_count": 12,
      "outputs": [
        {
          "output_type": "stream",
          "text": [
            "Archive:  inception5h.zip\n",
            "  inflating: imagenet_comp_graph_label_strings.txt  \n",
            "  inflating: tensorflow_inception_graph.pb  \n",
            "  inflating: LICENSE                 \n"
          ],
          "name": "stdout"
        }
      ]
    },
    {
      "cell_type": "code",
      "metadata": {
        "id": "bU7cW5OHHGEo",
        "colab_type": "code",
        "colab": {}
      },
      "source": [
        "import os\n",
        "import matplotlib.pyplot as plt\n",
        "import numpy as np\n",
        "import PIL.Image\n",
        "import tensorflow as tf\n",
        "from io import BytesIO"
      ],
      "execution_count": 0,
      "outputs": []
    },
    {
      "cell_type": "code",
      "metadata": {
        "id": "yQ6J9qcgHGEz",
        "colab_type": "code",
        "colab": {}
      },
      "source": [
        "graph = tf.Graph()\n",
        "session = tf.InteractiveSession(graph=graph)"
      ],
      "execution_count": 0,
      "outputs": []
    },
    {
      "cell_type": "code",
      "metadata": {
        "id": "8CIqNae1HGE6",
        "colab_type": "code",
        "colab": {}
      },
      "source": [
        "model_nn = \"models/inception5h/tensorflow_inception_graph.pb\"\n",
        "with tf.gfile.FastGFile(model_nn, 'rb') as f:\n",
        "    graph_def = tf.GraphDef()\n",
        "    graph_def.ParseFromString(f.read())\n",
        "    # vamos a leer de ese fichero .pb toda la info relativa de los nodos"
      ],
      "execution_count": 0,
      "outputs": []
    },
    {
      "cell_type": "code",
      "metadata": {
        "id": "67Cte2GaHGFC",
        "colab_type": "code",
        "colab": {}
      },
      "source": [
        "t_input = tf.placeholder(np.float32, name='input')\n",
        "imagenet_mean = 117.0\n",
        "t_preprocessed = tf.expand_dims(t_input-imagenet_mean,0)\n",
        "tf.import_graph_def(graph_def, {'input':t_preprocessed})"
      ],
      "execution_count": 0,
      "outputs": []
    },
    {
      "cell_type": "code",
      "metadata": {
        "id": "Tosb7Ej2HGFK",
        "colab_type": "code",
        "colab": {}
      },
      "source": [
        "layers = [op.name for op in graph.get_operations() if op.type==\"Conv2D\" and \"import/\" in op.name]"
      ],
      "execution_count": 0,
      "outputs": []
    },
    {
      "cell_type": "code",
      "metadata": {
        "id": "VTbCRLdTHGFS",
        "colab_type": "code",
        "colab": {
          "base_uri": "https://localhost:8080/",
          "height": 1000
        },
        "outputId": "cb21be0a-8744-4672-dd09-8305fb736269"
      },
      "source": [
        "layers"
      ],
      "execution_count": 23,
      "outputs": [
        {
          "output_type": "execute_result",
          "data": {
            "text/plain": [
              "['import/conv2d0_pre_relu/conv',\n",
              " 'import/conv2d1_pre_relu/conv',\n",
              " 'import/conv2d2_pre_relu/conv',\n",
              " 'import/mixed3a_1x1_pre_relu/conv',\n",
              " 'import/mixed3a_3x3_bottleneck_pre_relu/conv',\n",
              " 'import/mixed3a_3x3_pre_relu/conv',\n",
              " 'import/mixed3a_5x5_bottleneck_pre_relu/conv',\n",
              " 'import/mixed3a_5x5_pre_relu/conv',\n",
              " 'import/mixed3a_pool_reduce_pre_relu/conv',\n",
              " 'import/mixed3b_1x1_pre_relu/conv',\n",
              " 'import/mixed3b_3x3_bottleneck_pre_relu/conv',\n",
              " 'import/mixed3b_3x3_pre_relu/conv',\n",
              " 'import/mixed3b_5x5_bottleneck_pre_relu/conv',\n",
              " 'import/mixed3b_5x5_pre_relu/conv',\n",
              " 'import/mixed3b_pool_reduce_pre_relu/conv',\n",
              " 'import/mixed4a_1x1_pre_relu/conv',\n",
              " 'import/mixed4a_3x3_bottleneck_pre_relu/conv',\n",
              " 'import/mixed4a_3x3_pre_relu/conv',\n",
              " 'import/mixed4a_5x5_bottleneck_pre_relu/conv',\n",
              " 'import/mixed4a_5x5_pre_relu/conv',\n",
              " 'import/mixed4a_pool_reduce_pre_relu/conv',\n",
              " 'import/mixed4b_1x1_pre_relu/conv',\n",
              " 'import/mixed4b_3x3_bottleneck_pre_relu/conv',\n",
              " 'import/mixed4b_3x3_pre_relu/conv',\n",
              " 'import/mixed4b_5x5_bottleneck_pre_relu/conv',\n",
              " 'import/mixed4b_5x5_pre_relu/conv',\n",
              " 'import/mixed4b_pool_reduce_pre_relu/conv',\n",
              " 'import/mixed4c_1x1_pre_relu/conv',\n",
              " 'import/mixed4c_3x3_bottleneck_pre_relu/conv',\n",
              " 'import/mixed4c_3x3_pre_relu/conv',\n",
              " 'import/mixed4c_5x5_bottleneck_pre_relu/conv',\n",
              " 'import/mixed4c_5x5_pre_relu/conv',\n",
              " 'import/mixed4c_pool_reduce_pre_relu/conv',\n",
              " 'import/mixed4d_1x1_pre_relu/conv',\n",
              " 'import/mixed4d_3x3_bottleneck_pre_relu/conv',\n",
              " 'import/mixed4d_3x3_pre_relu/conv',\n",
              " 'import/mixed4d_5x5_bottleneck_pre_relu/conv',\n",
              " 'import/mixed4d_5x5_pre_relu/conv',\n",
              " 'import/mixed4d_pool_reduce_pre_relu/conv',\n",
              " 'import/mixed4e_1x1_pre_relu/conv',\n",
              " 'import/mixed4e_3x3_bottleneck_pre_relu/conv',\n",
              " 'import/mixed4e_3x3_pre_relu/conv',\n",
              " 'import/mixed4e_5x5_bottleneck_pre_relu/conv',\n",
              " 'import/mixed4e_5x5_pre_relu/conv',\n",
              " 'import/mixed4e_pool_reduce_pre_relu/conv',\n",
              " 'import/mixed5a_1x1_pre_relu/conv',\n",
              " 'import/mixed5a_3x3_bottleneck_pre_relu/conv',\n",
              " 'import/mixed5a_3x3_pre_relu/conv',\n",
              " 'import/mixed5a_5x5_bottleneck_pre_relu/conv',\n",
              " 'import/mixed5a_5x5_pre_relu/conv',\n",
              " 'import/mixed5a_pool_reduce_pre_relu/conv',\n",
              " 'import/mixed5b_1x1_pre_relu/conv',\n",
              " 'import/mixed5b_3x3_bottleneck_pre_relu/conv',\n",
              " 'import/mixed5b_3x3_pre_relu/conv',\n",
              " 'import/mixed5b_5x5_bottleneck_pre_relu/conv',\n",
              " 'import/mixed5b_5x5_pre_relu/conv',\n",
              " 'import/mixed5b_pool_reduce_pre_relu/conv',\n",
              " 'import/head0_bottleneck_pre_relu/conv',\n",
              " 'import/head1_bottleneck_pre_relu/conv']"
            ]
          },
          "metadata": {
            "tags": []
          },
          "execution_count": 23
        }
      ]
    },
    {
      "cell_type": "markdown",
      "metadata": {
        "id": "exGEXt0wlHKY",
        "colab_type": "text"
      },
      "source": [
        "## ACTIVAR GPU DE COLAB"
      ]
    },
    {
      "cell_type": "markdown",
      "metadata": {
        "id": "3Qpe9FW2m7UD",
        "colab_type": "text"
      },
      "source": [
        ""
      ]
    },
    {
      "cell_type": "code",
      "metadata": {
        "id": "SgJs7A7SiJnM",
        "colab_type": "code",
        "colab": {
          "base_uri": "https://localhost:8080/",
          "height": 35
        },
        "outputId": "d0df72d2-5e99-4ab3-d691-1f9ed5410862"
      },
      "source": [
        "import tensorflow as tf\n",
        "tf.test.gpu_device_name()"
      ],
      "execution_count": 50,
      "outputs": [
        {
          "output_type": "execute_result",
          "data": {
            "text/plain": [
              "''"
            ]
          },
          "metadata": {
            "tags": []
          },
          "execution_count": 50
        }
      ]
    },
    {
      "cell_type": "code",
      "metadata": {
        "id": "7UMQZEH0fSTN",
        "colab_type": "code",
        "colab": {
          "base_uri": "https://localhost:8080/",
          "height": 235
        },
        "outputId": "cc5174dd-4ff0-42ce-e363-d1b574be0aa0"
      },
      "source": [
        "from tensorflow.python.client import device_lib\n",
        "device_lib.list_local_devices()"
      ],
      "execution_count": 51,
      "outputs": [
        {
          "output_type": "execute_result",
          "data": {
            "text/plain": [
              "[name: \"/device:CPU:0\"\n",
              " device_type: \"CPU\"\n",
              " memory_limit: 268435456\n",
              " locality {\n",
              " }\n",
              " incarnation: 5324713073385642325, name: \"/device:XLA_CPU:0\"\n",
              " device_type: \"XLA_CPU\"\n",
              " memory_limit: 17179869184\n",
              " locality {\n",
              " }\n",
              " incarnation: 7633786780155657016\n",
              " physical_device_desc: \"device: XLA_CPU device\"]"
            ]
          },
          "metadata": {
            "tags": []
          },
          "execution_count": 51
        }
      ]
    },
    {
      "cell_type": "code",
      "metadata": {
        "id": "3nD87nLNfwSJ",
        "colab_type": "code",
        "colab": {
          "base_uri": "https://localhost:8080/",
          "height": 235
        },
        "outputId": "b8edb5e5-04ea-4dfc-f4e3-64901a1d5939"
      },
      "source": [
        "from tensorflow.python.client import device_lib\n",
        "device_lib.list_local_devices()"
      ],
      "execution_count": 33,
      "outputs": [
        {
          "output_type": "execute_result",
          "data": {
            "text/plain": [
              "[name: \"/device:CPU:0\"\n",
              " device_type: \"CPU\"\n",
              " memory_limit: 268435456\n",
              " locality {\n",
              " }\n",
              " incarnation: 12639515992280515938, name: \"/device:XLA_CPU:0\"\n",
              " device_type: \"XLA_CPU\"\n",
              " memory_limit: 17179869184\n",
              " locality {\n",
              " }\n",
              " incarnation: 10778483703771150237\n",
              " physical_device_desc: \"device: XLA_CPU device\"]"
            ]
          },
          "metadata": {
            "tags": []
          },
          "execution_count": 33
        }
      ]
    },
    {
      "cell_type": "code",
      "metadata": {
        "id": "wd_cGg65HGFb",
        "colab_type": "code",
        "colab": {}
      },
      "source": [
        "feature_num = [int(graph.get_tensor_by_name(name+':0').get_shape()[-1]) for name in layers]"
      ],
      "execution_count": 0,
      "outputs": []
    },
    {
      "cell_type": "code",
      "metadata": {
        "id": "7ofqOM8aHGFk",
        "colab_type": "code",
        "colab": {
          "base_uri": "https://localhost:8080/",
          "height": 1000
        },
        "outputId": "1a28f6c8-c0ad-4f2d-b141-7955ca79238e"
      },
      "source": [
        "feature_num"
      ],
      "execution_count": 53,
      "outputs": [
        {
          "output_type": "execute_result",
          "data": {
            "text/plain": [
              "[64,\n",
              " 64,\n",
              " 192,\n",
              " 64,\n",
              " 96,\n",
              " 128,\n",
              " 16,\n",
              " 32,\n",
              " 32,\n",
              " 128,\n",
              " 128,\n",
              " 192,\n",
              " 32,\n",
              " 96,\n",
              " 64,\n",
              " 192,\n",
              " 96,\n",
              " 204,\n",
              " 16,\n",
              " 48,\n",
              " 64,\n",
              " 160,\n",
              " 112,\n",
              " 224,\n",
              " 24,\n",
              " 64,\n",
              " 64,\n",
              " 128,\n",
              " 128,\n",
              " 256,\n",
              " 24,\n",
              " 64,\n",
              " 64,\n",
              " 112,\n",
              " 144,\n",
              " 288,\n",
              " 32,\n",
              " 64,\n",
              " 64,\n",
              " 256,\n",
              " 160,\n",
              " 320,\n",
              " 32,\n",
              " 128,\n",
              " 128,\n",
              " 256,\n",
              " 160,\n",
              " 320,\n",
              " 48,\n",
              " 128,\n",
              " 128,\n",
              " 384,\n",
              " 192,\n",
              " 384,\n",
              " 48,\n",
              " 128,\n",
              " 128,\n",
              " 128,\n",
              " 128]"
            ]
          },
          "metadata": {
            "tags": []
          },
          "execution_count": 53
        }
      ]
    },
    {
      "cell_type": "code",
      "metadata": {
        "id": "CG2h1lMSHGFq",
        "colab_type": "code",
        "colab": {}
      },
      "source": [
        "layer = \"mixed4d_3x3_bottleneck_pre_relu\"\n",
        "channel = 139\n",
        "im_noise = np.random.uniform(size = (224,224,3))+100.0"
      ],
      "execution_count": 0,
      "outputs": []
    },
    {
      "cell_type": "code",
      "metadata": {
        "id": "Bux3ulQ2HGFw",
        "colab_type": "code",
        "colab": {}
      },
      "source": [
        "def show_array(a, fmt = \"jpeg\"):\n",
        "    a = np.uint8(np.clip(a,0,1)*255)\n",
        "    f = BytesIO()\n",
        "    PIL.Image.fromarray(a).save(f, fmt)\n",
        "    plt.imshow(a)"
      ],
      "execution_count": 0,
      "outputs": []
    },
    {
      "cell_type": "code",
      "metadata": {
        "id": "twIyU_XaHGF4",
        "colab_type": "code",
        "colab": {}
      },
      "source": [
        "def T(layer):\n",
        "    return graph.get_tensor_by_name(\"import/%s:0\"%layer)"
      ],
      "execution_count": 0,
      "outputs": []
    },
    {
      "cell_type": "code",
      "metadata": {
        "id": "NuWxxsFCHGGA",
        "colab_type": "code",
        "colab": {}
      },
      "source": [
        "def tf_func(*argtypes):\n",
        "    placeholders = list(map(tf.placeholder, argtypes))\n",
        "    def wrap(f):\n",
        "        out = f(*placeholders)\n",
        "        def wrapper(*args, **kw):\n",
        "            return out.eval(dict(zip(placeholders, args)), session=kw.get('session'))\n",
        "        return wrapper\n",
        "    return wrap"
      ],
      "execution_count": 0,
      "outputs": []
    },
    {
      "cell_type": "code",
      "metadata": {
        "id": "nVB42y1XHGGH",
        "colab_type": "code",
        "colab": {}
      },
      "source": [
        "def resize(img, size):\n",
        "    img = tf.expand_dims(img,0)\n",
        "    return tf.image.resize_bilinear(img, size)[0,:,:,:]"
      ],
      "execution_count": 0,
      "outputs": []
    },
    {
      "cell_type": "code",
      "metadata": {
        "id": "BPstrQndHGGM",
        "colab_type": "code",
        "colab": {}
      },
      "source": [
        "def calc_grad_tiled(img, t_grad, tile_size=512):\n",
        "    sz = tile_size\n",
        "    h,w = img.shape[:2]\n",
        "    sx, sy = np.random.randint(sz,size = 2)\n",
        "    img_shift = np.roll(np.roll(img,sx,1),sy,0)\n",
        "    grad = np.zeros_like(img)\n",
        "    for y in range(0, max(h-sz//2, sz), sz):\n",
        "        for x in range(0, max(w-sz//2, sz), sz):\n",
        "            sub = img_shift[y:y+sz, x:x+sz]\n",
        "            g = session.run(t_grad, {t_input:sub})\n",
        "            grad[y:y+sz, x:x+sz] = g\n",
        "    return np.roll(np.roll(grad, -sx, 1), -sy,0)"
      ],
      "execution_count": 0,
      "outputs": []
    },
    {
      "cell_type": "code",
      "metadata": {
        "id": "EppF1PKpHGGT",
        "colab_type": "code",
        "colab": {}
      },
      "source": [
        "def render_deepdream(t_obj, img0=im_noise, iter_n = 10, step = 1.5, octave_n = 4, octave_scale = 1.4):\n",
        "    t_score = tf.reduce_mean(t_obj)\n",
        "    t_grad = tf.gradients(t_score, t_input)[0]\n",
        "    img = img0\n",
        "    octaves = []\n",
        "    for i in range(octave_n-1):\n",
        "        hw = img.shape[:2]\n",
        "        lo = resize(img, np.int32(np.float(hw)/octave_scale))\n",
        "        hi = img-resize(lo, hw)\n",
        "        img = lo\n",
        "        octaves.append(hi)\n",
        "    \n",
        "    for octave in range(octave_n):\n",
        "        if octave > 0:\n",
        "            hi = octaves[-octave]#empezamos desde el último octave la reconstrucción\n",
        "            img = resize(img, hi.shape[:2]) + hi\n",
        "        for i in range(iter_n):\n",
        "            g = calc_grad_tiled(img, t_grad)\n",
        "            img += g*(step / (np.abs(g).mean()+1e-7))\n",
        "            print(\".\", end=\" \")\n",
        "        show_array(img/255.0)"
      ],
      "execution_count": 0,
      "outputs": []
    },
    {
      "cell_type": "code",
      "metadata": {
        "id": "TK2PNJiuHGGZ",
        "colab_type": "code",
        "colab": {}
      },
      "source": [
        "resize = tf_func(np.float32, np.int32)(resize)"
      ],
      "execution_count": 0,
      "outputs": []
    },
    {
      "cell_type": "code",
      "metadata": {
        "id": "6KkRRUMQHGGe",
        "colab_type": "code",
        "colab": {}
      },
      "source": [
        ""
      ],
      "execution_count": 0,
      "outputs": []
    }
  ]
}