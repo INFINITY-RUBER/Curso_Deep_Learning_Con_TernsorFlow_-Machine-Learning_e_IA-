{
  "nbformat": 4,
  "nbformat_minor": 0,
  "metadata": {
    "kernelspec": {
      "display_name": "Python 3",
      "language": "python",
      "name": "python3"
    },
    "language_info": {
      "codemirror_mode": {
        "name": "ipython",
        "version": 3
      },
      "file_extension": ".py",
      "mimetype": "text/x-python",
      "name": "python",
      "nbconvert_exporter": "python",
      "pygments_lexer": "ipython3",
      "version": "3.5.5"
    },
    "colab": {
      "name": "05-address-matching.ipynb",
      "provenance": [],
      "include_colab_link": true
    }
  },
  "cells": [
    {
      "cell_type": "markdown",
      "metadata": {
        "id": "view-in-github",
        "colab_type": "text"
      },
      "source": [
        "<a href=\"https://colab.research.google.com/github/INFINITY-RUBER/Curso_Deep_Learning_Con_TernsorFlow_Machine-Learning_e_IA-/blob/master/scripts/tema06/05-address-matching.ipynb\" target=\"_parent\"><img src=\"https://colab.research.google.com/assets/colab-badge.svg\" alt=\"Open In Colab\"/></a>"
      ]
    },
    {
      "cell_type": "code",
      "metadata": {
        "id": "yuPUzpjTb-a3",
        "colab_type": "code",
        "colab": {
          "base_uri": "https://localhost:8080/",
          "height": 746
        },
        "outputId": "c49b4b1b-7691-4063-ed5e-08bfa2761c6c"
      },
      "source": [
        "pip install tensorflow==1.14"
      ],
      "execution_count": 1,
      "outputs": [
        {
          "output_type": "stream",
          "text": [
            "Collecting tensorflow==1.14\n",
            "\u001b[?25l  Downloading https://files.pythonhosted.org/packages/de/f0/96fb2e0412ae9692dbf400e5b04432885f677ad6241c088ccc5fe7724d69/tensorflow-1.14.0-cp36-cp36m-manylinux1_x86_64.whl (109.2MB)\n",
            "\u001b[K     |████████████████████████████████| 109.2MB 74kB/s \n",
            "\u001b[?25hCollecting tensorflow-estimator<1.15.0rc0,>=1.14.0rc0\n",
            "\u001b[?25l  Downloading https://files.pythonhosted.org/packages/3c/d5/21860a5b11caf0678fbc8319341b0ae21a07156911132e0e71bffed0510d/tensorflow_estimator-1.14.0-py2.py3-none-any.whl (488kB)\n",
            "\u001b[K     |████████████████████████████████| 491kB 38.0MB/s \n",
            "\u001b[?25hRequirement already satisfied: wheel>=0.26 in /usr/local/lib/python3.6/dist-packages (from tensorflow==1.14) (0.34.2)\n",
            "Requirement already satisfied: absl-py>=0.7.0 in /usr/local/lib/python3.6/dist-packages (from tensorflow==1.14) (0.9.0)\n",
            "Requirement already satisfied: keras-applications>=1.0.6 in /usr/local/lib/python3.6/dist-packages (from tensorflow==1.14) (1.0.8)\n",
            "Requirement already satisfied: wrapt>=1.11.1 in /usr/local/lib/python3.6/dist-packages (from tensorflow==1.14) (1.12.1)\n",
            "Requirement already satisfied: astor>=0.6.0 in /usr/local/lib/python3.6/dist-packages (from tensorflow==1.14) (0.8.1)\n",
            "Requirement already satisfied: grpcio>=1.8.6 in /usr/local/lib/python3.6/dist-packages (from tensorflow==1.14) (1.29.0)\n",
            "Collecting tensorboard<1.15.0,>=1.14.0\n",
            "\u001b[?25l  Downloading https://files.pythonhosted.org/packages/91/2d/2ed263449a078cd9c8a9ba50ebd50123adf1f8cfbea1492f9084169b89d9/tensorboard-1.14.0-py3-none-any.whl (3.1MB)\n",
            "\u001b[K     |████████████████████████████████| 3.2MB 41.4MB/s \n",
            "\u001b[?25hRequirement already satisfied: six>=1.10.0 in /usr/local/lib/python3.6/dist-packages (from tensorflow==1.14) (1.12.0)\n",
            "Requirement already satisfied: google-pasta>=0.1.6 in /usr/local/lib/python3.6/dist-packages (from tensorflow==1.14) (0.2.0)\n",
            "Requirement already satisfied: termcolor>=1.1.0 in /usr/local/lib/python3.6/dist-packages (from tensorflow==1.14) (1.1.0)\n",
            "Requirement already satisfied: keras-preprocessing>=1.0.5 in /usr/local/lib/python3.6/dist-packages (from tensorflow==1.14) (1.1.2)\n",
            "Requirement already satisfied: gast>=0.2.0 in /usr/local/lib/python3.6/dist-packages (from tensorflow==1.14) (0.3.3)\n",
            "Requirement already satisfied: protobuf>=3.6.1 in /usr/local/lib/python3.6/dist-packages (from tensorflow==1.14) (3.10.0)\n",
            "Requirement already satisfied: numpy<2.0,>=1.14.5 in /usr/local/lib/python3.6/dist-packages (from tensorflow==1.14) (1.18.4)\n",
            "Requirement already satisfied: h5py in /usr/local/lib/python3.6/dist-packages (from keras-applications>=1.0.6->tensorflow==1.14) (2.10.0)\n",
            "Requirement already satisfied: setuptools>=41.0.0 in /usr/local/lib/python3.6/dist-packages (from tensorboard<1.15.0,>=1.14.0->tensorflow==1.14) (47.1.1)\n",
            "Requirement already satisfied: markdown>=2.6.8 in /usr/local/lib/python3.6/dist-packages (from tensorboard<1.15.0,>=1.14.0->tensorflow==1.14) (3.2.2)\n",
            "Requirement already satisfied: werkzeug>=0.11.15 in /usr/local/lib/python3.6/dist-packages (from tensorboard<1.15.0,>=1.14.0->tensorflow==1.14) (1.0.1)\n",
            "Requirement already satisfied: importlib-metadata; python_version < \"3.8\" in /usr/local/lib/python3.6/dist-packages (from markdown>=2.6.8->tensorboard<1.15.0,>=1.14.0->tensorflow==1.14) (1.6.0)\n",
            "Requirement already satisfied: zipp>=0.5 in /usr/local/lib/python3.6/dist-packages (from importlib-metadata; python_version < \"3.8\"->markdown>=2.6.8->tensorboard<1.15.0,>=1.14.0->tensorflow==1.14) (3.1.0)\n",
            "Installing collected packages: tensorflow-estimator, tensorboard, tensorflow\n",
            "  Found existing installation: tensorflow-estimator 2.2.0\n",
            "    Uninstalling tensorflow-estimator-2.2.0:\n",
            "      Successfully uninstalled tensorflow-estimator-2.2.0\n",
            "  Found existing installation: tensorboard 2.2.2\n",
            "    Uninstalling tensorboard-2.2.2:\n",
            "      Successfully uninstalled tensorboard-2.2.2\n",
            "  Found existing installation: tensorflow 2.2.0\n",
            "    Uninstalling tensorflow-2.2.0:\n",
            "      Successfully uninstalled tensorflow-2.2.0\n",
            "Successfully installed tensorboard-1.14.0 tensorflow-1.14.0 tensorflow-estimator-1.14.0\n"
          ],
          "name": "stdout"
        }
      ]
    },
    {
      "cell_type": "markdown",
      "metadata": {
        "id": "v2JPVF-ub8gi",
        "colab_type": "text"
      },
      "source": [
        "# Correspondencia en direcciones postales"
      ]
    },
    {
      "cell_type": "code",
      "metadata": {
        "id": "7T3JUmIZb8gk",
        "colab_type": "code",
        "colab": {}
      },
      "source": [
        "import random\n",
        "import string\n",
        "import numpy as np\n",
        "import tensorflow as tf"
      ],
      "execution_count": 0,
      "outputs": []
    },
    {
      "cell_type": "code",
      "metadata": {
        "id": "7eXoox6Mb8gt",
        "colab_type": "code",
        "colab": {}
      },
      "source": [
        "n = 10\n",
        "street_names = [\"diagon\", \"elm\", \"abbey\", \"gran\", \"python\"]\n",
        "street_type = [\"callejon\", \"calle\", \"carrera\", \"via\", \"avenida\"]\n",
        "street_zips = [random.randint(20000, 29999) for i in range(5)]\n",
        "numbers = [random.randint(1,999) for i in range(n)] # numeros aleatorios enteros"
      ],
      "execution_count": 0,
      "outputs": []
    },
    {
      "cell_type": "code",
      "metadata": {
        "id": "VHL0PHeMb8g0",
        "colab_type": "code",
        "colab": {}
      },
      "source": [
        "streets = [random.choice(street_names) for i in range(n)]\n",
        "street_prefs = [random.choice(street_type) for i in range(n)]\n",
        "zips = [random.choice(street_zips) for i in range(n)]\n",
        "full_streets = [x + \" \" + y + \" \" + str(z) for x,y,z in zip(street_prefs, streets, numbers)]# Junta y recorre tres Array\n",
        "reference_data = [list(x) for x in zip(full_streets, zips)]"
      ],
      "execution_count": 0,
      "outputs": []
    },
    {
      "cell_type": "code",
      "metadata": {
        "id": "fsR_m30vb8g7",
        "colab_type": "code",
        "colab": {
          "base_uri": "https://localhost:8080/",
          "height": 199
        },
        "outputId": "5a6defb8-34b0-46ce-c960-9b325d69edf7"
      },
      "source": [
        "reference_data"
      ],
      "execution_count": 9,
      "outputs": [
        {
          "output_type": "execute_result",
          "data": {
            "text/plain": [
              "[['calle abbey 556', 21023],\n",
              " ['avenida abbey 853', 21023],\n",
              " ['calle abbey 824', 23032],\n",
              " ['callejon abbey 388', 24682],\n",
              " ['avenida elm 803', 21023],\n",
              " ['avenida elm 258', 24682],\n",
              " ['carrera abbey 750', 21023],\n",
              " ['calle elm 202', 24682],\n",
              " ['carrera abbey 575', 25808],\n",
              " ['callejon abbey 825', 23032]]"
            ]
          },
          "metadata": {
            "tags": []
          },
          "execution_count": 9
        }
      ]
    },
    {
      "cell_type": "code",
      "metadata": {
        "id": "PKQfZ-OIb8hE",
        "colab_type": "code",
        "colab": {}
      },
      "source": [
        "def create_typo(s, prob=0.75):\n",
        "    if random.uniform(0,1)<0.75:\n",
        "        rand_idx = random.choice(range(len(s)))\n",
        "        s_list = list(s)\n",
        "        s_list[rand_idx] = random.choice(string.ascii_lowercase)# string.ascii_lowercase (cualquier letra en minuscuala)\n",
        "        s = ''.join(s_list)\n",
        "    return s"
      ],
      "execution_count": 0,
      "outputs": []
    },
    {
      "cell_type": "code",
      "metadata": {
        "id": "G7Q_u8CNb8hL",
        "colab_type": "code",
        "colab": {}
      },
      "source": [
        "typo_streets = [create_typo(x) for x in streets]"
      ],
      "execution_count": 0,
      "outputs": []
    },
    {
      "cell_type": "code",
      "metadata": {
        "id": "DEVo_oL8nXvS",
        "colab_type": "code",
        "colab": {
          "base_uri": "https://localhost:8080/",
          "height": 199
        },
        "outputId": "f7521242-b498-4055-cdc3-89cf8f415230"
      },
      "source": [
        "typo_streets"
      ],
      "execution_count": 39,
      "outputs": [
        {
          "output_type": "execute_result",
          "data": {
            "text/plain": [
              "['abbey',\n",
              " 'apbey',\n",
              " 'abbxy',\n",
              " 'abbey',\n",
              " 'evm',\n",
              " 'plm',\n",
              " 'abbgy',\n",
              " 'klm',\n",
              " 'abbeh',\n",
              " 'abbey']"
            ]
          },
          "metadata": {
            "tags": []
          },
          "execution_count": 39
        }
      ]
    },
    {
      "cell_type": "code",
      "metadata": {
        "id": "vb2B9YYtb8hS",
        "colab_type": "code",
        "colab": {}
      },
      "source": [
        "typo_full_streets = [x+\" \"+y+\" \"+str(z) for x,y,z in zip(street_prefs, typo_streets, numbers)]\n",
        "test_data = [list(x) for x in zip(typo_full_streets, zips)]"
      ],
      "execution_count": 0,
      "outputs": []
    },
    {
      "cell_type": "code",
      "metadata": {
        "scrolled": true,
        "id": "3WtV9-gBb8hZ",
        "colab_type": "code",
        "colab": {
          "base_uri": "https://localhost:8080/",
          "height": 199
        },
        "outputId": "558db143-c384-45f6-895d-1c8ee6da0fa8"
      },
      "source": [
        "test_data"
      ],
      "execution_count": 19,
      "outputs": [
        {
          "output_type": "execute_result",
          "data": {
            "text/plain": [
              "[['calle abbey 556', 21023],\n",
              " ['avenida apbey 853', 21023],\n",
              " ['calle abbxy 824', 23032],\n",
              " ['callejon abbey 388', 24682],\n",
              " ['avenida evm 803', 21023],\n",
              " ['avenida plm 258', 24682],\n",
              " ['carrera abbgy 750', 21023],\n",
              " ['calle klm 202', 24682],\n",
              " ['carrera abbeh 575', 25808],\n",
              " ['callejon abbey 825', 23032]]"
            ]
          },
          "metadata": {
            "tags": []
          },
          "execution_count": 19
        }
      ]
    },
    {
      "cell_type": "code",
      "metadata": {
        "id": "osxZMc5wb8hg",
        "colab_type": "code",
        "colab": {}
      },
      "source": [
        "session = tf.Session()"
      ],
      "execution_count": 0,
      "outputs": []
    },
    {
      "cell_type": "code",
      "metadata": {
        "id": "UYNN5-teb8ho",
        "colab_type": "code",
        "colab": {}
      },
      "source": [
        "test_address = tf.sparse_placeholder(dtype = tf.string)# contendra las palabras de la direccion\n",
        "test_zip = tf.placeholder(shape = [None, 1], dtype=tf.float32)# codigo postal es un numero\n",
        "\n",
        "ref_address = tf.sparse_placeholder(dtype = tf.string)  # contendra las palabras de la direccion de referencia\n",
        "ref_zip = tf.placeholder(shape=[None, n], dtype=tf.float32 )"
      ],
      "execution_count": 0,
      "outputs": []
    },
    {
      "cell_type": "code",
      "metadata": {
        "id": "Db51Gp5wb8hy",
        "colab_type": "code",
        "colab": {}
      },
      "source": [
        "zip_dist = tf.square(tf.subtract(ref_zip, test_zip))\n",
        "address_dist = tf.edit_distance(test_address, ref_address, normalize=True)"
      ],
      "execution_count": 0,
      "outputs": []
    },
    {
      "cell_type": "markdown",
      "metadata": {
        "id": "NzUC_eRfb8h9",
        "colab_type": "text"
      },
      "source": [
        "- $S(x,y) = 0$ si $x$ e $y$ son totalmente diferentes (no se parecen en nada)\n",
        "- $S(x,x) = 1$, ya que todo objeto es similar (si no igual) a si mismo.\n",
        "- $S(x,y) = \\frac{D - d(x,y)}{D-d}$ donde $D$ es la mayor distancia entre dos objetos posibles, y $d$ es la menor."
      ]
    },
    {
      "cell_type": "code",
      "metadata": {
        "id": "4l-LruINb8h-",
        "colab_type": "code",
        "colab": {}
      },
      "source": [
        "zip_max = tf.gather(tf.squeeze(zip_dist), tf.argmax(zip_dist, 1))\n",
        "zip_min = tf.gather(tf.squeeze(zip_dist), tf.argmin(zip_dist, 1))\n"
      ],
      "execution_count": 0,
      "outputs": []
    },
    {
      "cell_type": "markdown",
      "metadata": {
        "id": "dl84sQ3WiHFk",
        "colab_type": "text"
      },
      "source": [
        "- $S(x,y) = \\frac{D - d(x,y)}{D-d}$ donde $D$ es la mayor distancia entre dos objetos posibles, y $d$ es la menor."
      ]
    },
    {
      "cell_type": "code",
      "metadata": {
        "id": "WXO_KQEgh_sl",
        "colab_type": "code",
        "colab": {}
      },
      "source": [
        "zip_sim = tf.divide(tf.subtract(zip_max, zip_dist), tf.subtract(zip_max, zip_min))# similaridad"
      ],
      "execution_count": 0,
      "outputs": []
    },
    {
      "cell_type": "code",
      "metadata": {
        "id": "fQusCh2vb8iE",
        "colab_type": "code",
        "colab": {}
      },
      "source": [
        "address_sim = tf.subtract(1.0, address_dist)"
      ],
      "execution_count": 0,
      "outputs": []
    },
    {
      "cell_type": "markdown",
      "metadata": {
        "id": "2isx52Oab8iJ",
        "colab_type": "text"
      },
      "source": [
        "### SIMILARIDAD\n",
        "\n",
        "$$S(x,y) = \\sum_{i=1}^k w_iS_k(x,y):\\quad \\sum_{i=1}^kw_i = 1$$"
      ]
    },
    {
      "cell_type": "code",
      "metadata": {
        "id": "9oQCCIMJb8iL",
        "colab_type": "code",
        "colab": {}
      },
      "source": [
        "address_wi = 0.5# PESO\n",
        "zip_wi = 1.0 -address_wi"
      ],
      "execution_count": 0,
      "outputs": []
    },
    {
      "cell_type": "code",
      "metadata": {
        "id": "ezEeW6X9b8iR",
        "colab_type": "code",
        "colab": {}
      },
      "source": [
        "# Similarada ponderada\n",
        "weighted_sim = tf.add(tf.transpose(tf.multiply(address_wi, address_sim)),tf.multiply(zip_wi, zip_sim))# se traspone por que es un vector"
      ],
      "execution_count": 0,
      "outputs": []
    },
    {
      "cell_type": "code",
      "metadata": {
        "id": "icWbivE7b8ib",
        "colab_type": "code",
        "colab": {}
      },
      "source": [
        "# EL VECIONO MAS CERCANO\n",
        "top_match_idx = tf.argmax(weighted_sim, 1)"
      ],
      "execution_count": 0,
      "outputs": []
    },
    {
      "cell_type": "code",
      "metadata": {
        "id": "H3IgTXJzb8ii",
        "colab_type": "code",
        "colab": {}
      },
      "source": [
        "# OBJETOS NECESARIOS PARA EL ALGORIMOS\n",
        "def sparse_from_word_vector(word_vector):\n",
        "    num_words = len(word_vector)\n",
        "    idx = [[xi, 0, yi] for xi, x in enumerate(word_vector) for yi, y in enumerate(x)]\n",
        "    chars = list(''.join(word_vector))# genera una lista con las letras del elemento\n",
        "    return tf.SparseTensorValue(idx, chars, [num_words,1,1])"
      ],
      "execution_count": 0,
      "outputs": []
    },
    {
      "cell_type": "code",
      "metadata": {
        "id": "jNr-K7Ujb8io",
        "colab_type": "code",
        "colab": {}
      },
      "source": [
        "reference_address = [x[0] for x in reference_data]\n",
        "reference_zips = np.array([[x[1] for x in reference_data]])"
      ],
      "execution_count": 0,
      "outputs": []
    },
    {
      "cell_type": "code",
      "metadata": {
        "id": "0V5xoNb0b8it",
        "colab_type": "code",
        "colab": {}
      },
      "source": [
        "sparse_ref_set = sparse_from_word_vector(reference_address)"
      ],
      "execution_count": 0,
      "outputs": []
    },
    {
      "cell_type": "code",
      "metadata": {
        "id": "LH7ZbWLfb8iy",
        "colab_type": "code",
        "colab": {
          "base_uri": "https://localhost:8080/",
          "height": 563
        },
        "outputId": "a5385ad2-9f2d-419d-a5e1-d24b280863f2"
      },
      "source": [
        "for i in range(n):\n",
        "    test_address_entry = test_data[i][0]\n",
        "    test_zip_entry = [[test_data[i][1]]]\n",
        "    \n",
        "    test_address_rep = [test_address_entry]*n\n",
        "    sparse_test_set = sparse_from_word_vector(test_address_rep)\n",
        "    \n",
        "    feed_dict = {test_address: sparse_test_set,\n",
        "                test_zip: test_zip_entry,\n",
        "                ref_address: sparse_ref_set,\n",
        "                ref_zip: reference_zips}\n",
        "    \n",
        "    best_match = session.run(top_match_idx, feed_dict=feed_dict)# GENERA EL VECINO UNICO CERCANO\n",
        "    best_address = reference_address[best_match[0]]\n",
        "    [best_zip] = reference_zips[0][best_match]\n",
        "    [[test_zip_aux]] = test_zip_entry\n",
        "    \n",
        "    print(\"Dirección original: \"+str(test_address_entry)+ \", \"+str(test_zip_aux))\n",
        "    print(\"Dirección corregida: \"+str(best_address)+\", \"+str(best_zip)+\"\\n\")"
      ],
      "execution_count": 38,
      "outputs": [
        {
          "output_type": "stream",
          "text": [
            "Dirección original: calle abbey 556, 21023\n",
            "Dirección corregida: calle abbey 556, 21023\n",
            "\n",
            "Dirección original: avenida apbey 853, 21023\n",
            "Dirección corregida: avenida abbey 853, 21023\n",
            "\n",
            "Dirección original: calle abbxy 824, 23032\n",
            "Dirección corregida: calle abbey 824, 23032\n",
            "\n",
            "Dirección original: callejon abbey 388, 24682\n",
            "Dirección corregida: callejon abbey 388, 24682\n",
            "\n",
            "Dirección original: avenida evm 803, 21023\n",
            "Dirección corregida: avenida elm 803, 21023\n",
            "\n",
            "Dirección original: avenida plm 258, 24682\n",
            "Dirección corregida: avenida elm 258, 24682\n",
            "\n",
            "Dirección original: carrera abbgy 750, 21023\n",
            "Dirección corregida: carrera abbey 750, 21023\n",
            "\n",
            "Dirección original: calle klm 202, 24682\n",
            "Dirección corregida: calle elm 202, 24682\n",
            "\n",
            "Dirección original: carrera abbeh 575, 25808\n",
            "Dirección corregida: carrera abbey 575, 25808\n",
            "\n",
            "Dirección original: callejon abbey 825, 23032\n",
            "Dirección corregida: callejon abbey 825, 23032\n",
            "\n"
          ],
          "name": "stdout"
        }
      ]
    },
    {
      "cell_type": "code",
      "metadata": {
        "id": "cy6WAedTb8jA",
        "colab_type": "code",
        "colab": {}
      },
      "source": [
        ""
      ],
      "execution_count": 0,
      "outputs": []
    }
  ]
}