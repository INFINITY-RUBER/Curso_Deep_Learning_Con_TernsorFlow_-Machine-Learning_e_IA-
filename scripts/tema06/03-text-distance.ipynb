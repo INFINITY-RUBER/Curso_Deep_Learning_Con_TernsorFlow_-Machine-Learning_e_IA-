{
  "nbformat": 4,
  "nbformat_minor": 0,
  "metadata": {
    "kernelspec": {
      "display_name": "Python 3",
      "language": "python",
      "name": "python3"
    },
    "language_info": {
      "codemirror_mode": {
        "name": "ipython",
        "version": 3
      },
      "file_extension": ".py",
      "mimetype": "text/x-python",
      "name": "python",
      "nbconvert_exporter": "python",
      "pygments_lexer": "ipython3",
      "version": "3.5.5"
    },
    "colab": {
      "name": "03-text-distance.ipynb",
      "provenance": [],
      "include_colab_link": true
    }
  },
  "cells": [
    {
      "cell_type": "markdown",
      "metadata": {
        "id": "view-in-github",
        "colab_type": "text"
      },
      "source": [
        "<a href=\"https://colab.research.google.com/github/INFINITY-RUBER/Curso_Deep_Learning_Con_TernsorFlow_Machine-Learning_e_IA-/blob/master/scripts/tema06/03-text-distance.ipynb\" target=\"_parent\"><img src=\"https://colab.research.google.com/assets/colab-badge.svg\" alt=\"Open In Colab\"/></a>"
      ]
    },
    {
      "cell_type": "code",
      "metadata": {
        "id": "3FNRCTat3po2",
        "colab_type": "code",
        "colab": {}
      },
      "source": [
        "pip install tensorflow==1.14"
      ],
      "execution_count": 0,
      "outputs": []
    },
    {
      "cell_type": "markdown",
      "metadata": {
        "id": "2RDtXsCS1CJP",
        "colab_type": "text"
      },
      "source": [
        "# Distancia de Levenshtein"
      ]
    },
    {
      "cell_type": "markdown",
      "metadata": {
        "id": "Mao72lXR1CJR",
        "colab_type": "text"
      },
      "source": [
        "$x,y\\in S$ donde $S$ es el conjunto de Strings, entonces $d(x,y)$ se define como el número de operaciones (ediciones) para convertir la palabra $x$ en la palabra $y$, donde las ediciones posibles de la palabra son:\n",
        "- insertar un nuevo caracter\n",
        "- eliminar un caracter de la palabra\n",
        "- sustituir un caracter por otro"
      ]
    },
    {
      "cell_type": "code",
      "metadata": {
        "id": "9WyA1NQm1CJT",
        "colab_type": "code",
        "colab": {
          "base_uri": "https://localhost:8080/",
          "height": 474
        },
        "outputId": "fed65dbb-ac9a-4cfc-fbd3-2f59c7f78600"
      },
      "source": [
        "import tensorflow as tf\n",
        "session = tf.Session()"
      ],
      "execution_count": 2,
      "outputs": [
        {
          "output_type": "stream",
          "text": [
            "/usr/local/lib/python3.6/dist-packages/tensorflow/python/framework/dtypes.py:516: FutureWarning: Passing (type, 1) or '1type' as a synonym of type is deprecated; in a future version of numpy, it will be understood as (type, (1,)) / '(1,)type'.\n",
            "  _np_qint8 = np.dtype([(\"qint8\", np.int8, 1)])\n",
            "/usr/local/lib/python3.6/dist-packages/tensorflow/python/framework/dtypes.py:517: FutureWarning: Passing (type, 1) or '1type' as a synonym of type is deprecated; in a future version of numpy, it will be understood as (type, (1,)) / '(1,)type'.\n",
            "  _np_quint8 = np.dtype([(\"quint8\", np.uint8, 1)])\n",
            "/usr/local/lib/python3.6/dist-packages/tensorflow/python/framework/dtypes.py:518: FutureWarning: Passing (type, 1) or '1type' as a synonym of type is deprecated; in a future version of numpy, it will be understood as (type, (1,)) / '(1,)type'.\n",
            "  _np_qint16 = np.dtype([(\"qint16\", np.int16, 1)])\n",
            "/usr/local/lib/python3.6/dist-packages/tensorflow/python/framework/dtypes.py:519: FutureWarning: Passing (type, 1) or '1type' as a synonym of type is deprecated; in a future version of numpy, it will be understood as (type, (1,)) / '(1,)type'.\n",
            "  _np_quint16 = np.dtype([(\"quint16\", np.uint16, 1)])\n",
            "/usr/local/lib/python3.6/dist-packages/tensorflow/python/framework/dtypes.py:520: FutureWarning: Passing (type, 1) or '1type' as a synonym of type is deprecated; in a future version of numpy, it will be understood as (type, (1,)) / '(1,)type'.\n",
            "  _np_qint32 = np.dtype([(\"qint32\", np.int32, 1)])\n",
            "/usr/local/lib/python3.6/dist-packages/tensorflow/python/framework/dtypes.py:525: FutureWarning: Passing (type, 1) or '1type' as a synonym of type is deprecated; in a future version of numpy, it will be understood as (type, (1,)) / '(1,)type'.\n",
            "  np_resource = np.dtype([(\"resource\", np.ubyte, 1)])\n",
            "/usr/local/lib/python3.6/dist-packages/tensorboard/compat/tensorflow_stub/dtypes.py:541: FutureWarning: Passing (type, 1) or '1type' as a synonym of type is deprecated; in a future version of numpy, it will be understood as (type, (1,)) / '(1,)type'.\n",
            "  _np_qint8 = np.dtype([(\"qint8\", np.int8, 1)])\n",
            "/usr/local/lib/python3.6/dist-packages/tensorboard/compat/tensorflow_stub/dtypes.py:542: FutureWarning: Passing (type, 1) or '1type' as a synonym of type is deprecated; in a future version of numpy, it will be understood as (type, (1,)) / '(1,)type'.\n",
            "  _np_quint8 = np.dtype([(\"quint8\", np.uint8, 1)])\n",
            "/usr/local/lib/python3.6/dist-packages/tensorboard/compat/tensorflow_stub/dtypes.py:543: FutureWarning: Passing (type, 1) or '1type' as a synonym of type is deprecated; in a future version of numpy, it will be understood as (type, (1,)) / '(1,)type'.\n",
            "  _np_qint16 = np.dtype([(\"qint16\", np.int16, 1)])\n",
            "/usr/local/lib/python3.6/dist-packages/tensorboard/compat/tensorflow_stub/dtypes.py:544: FutureWarning: Passing (type, 1) or '1type' as a synonym of type is deprecated; in a future version of numpy, it will be understood as (type, (1,)) / '(1,)type'.\n",
            "  _np_quint16 = np.dtype([(\"quint16\", np.uint16, 1)])\n",
            "/usr/local/lib/python3.6/dist-packages/tensorboard/compat/tensorflow_stub/dtypes.py:545: FutureWarning: Passing (type, 1) or '1type' as a synonym of type is deprecated; in a future version of numpy, it will be understood as (type, (1,)) / '(1,)type'.\n",
            "  _np_qint32 = np.dtype([(\"qint32\", np.int32, 1)])\n",
            "/usr/local/lib/python3.6/dist-packages/tensorboard/compat/tensorflow_stub/dtypes.py:550: FutureWarning: Passing (type, 1) or '1type' as a synonym of type is deprecated; in a future version of numpy, it will be understood as (type, (1,)) / '(1,)type'.\n",
            "  np_resource = np.dtype([(\"resource\", np.ubyte, 1)])\n"
          ],
          "name": "stderr"
        }
      ]
    },
    {
      "cell_type": "code",
      "metadata": {
        "id": "5AgDh6YJ1CJc",
        "colab_type": "code",
        "colab": {}
      },
      "source": [
        "hypothesis = list('casa')\n",
        "truth = list('calle')"
      ],
      "execution_count": 0,
      "outputs": []
    },
    {
      "cell_type": "code",
      "metadata": {
        "id": "4gj3XJKf4chF",
        "colab_type": "code",
        "outputId": "88a4112f-ceaf-4ce0-9a52-d31ee1aa3dad",
        "colab": {
          "base_uri": "https://localhost:8080/",
          "height": 35
        }
      },
      "source": [
        "print(hypothesis,truth)"
      ],
      "execution_count": 4,
      "outputs": [
        {
          "output_type": "stream",
          "text": [
            "['c', 'a', 's', 'a'] ['c', 'a', 'l', 'l', 'e']\n"
          ],
          "name": "stdout"
        }
      ]
    },
    {
      "cell_type": "code",
      "metadata": {
        "id": "1vz038Y61CJj",
        "colab_type": "code",
        "colab": {}
      },
      "source": [
        "# CREACION DE VECTORES SPARCE\n",
        "h1 = tf.SparseTensor([[0,0,0], [0,0,1], [0,0,2], [0,0,3]],\n",
        "                    hypothesis, [1,1,1])\n",
        "t1 = tf.SparseTensor([[0,0,0], [0,0,1], [0,0,2], [0,0,3], [0,0,4]],\n",
        "                    truth, [1,1,1])"
      ],
      "execution_count": 0,
      "outputs": []
    },
    {
      "cell_type": "code",
      "metadata": {
        "id": "mgiuV3e86A1z",
        "colab_type": "code",
        "outputId": "2f6ae1d3-70cc-4d29-cc79-04a06ef691dd",
        "colab": {
          "base_uri": "https://localhost:8080/",
          "height": 55
        }
      },
      "source": [
        "print(t1)"
      ],
      "execution_count": 6,
      "outputs": [
        {
          "output_type": "stream",
          "text": [
            "SparseTensor(indices=Tensor(\"SparseTensor_1/indices:0\", shape=(5, 3), dtype=int64), values=Tensor(\"SparseTensor_1/values:0\", shape=(5,), dtype=string), dense_shape=Tensor(\"SparseTensor_1/dense_shape:0\", shape=(3,), dtype=int64))\n"
          ],
          "name": "stdout"
        }
      ]
    },
    {
      "cell_type": "code",
      "metadata": {
        "id": "Xt0sz73M1CJq",
        "colab_type": "code",
        "outputId": "de78b376-e61d-4d56-cafa-13e25fb1a541",
        "colab": {
          "base_uri": "https://localhost:8080/",
          "height": 35
        }
      },
      "source": [
        "print(session.run(tf.edit_distance(h1, t1, normalize=False)))"
      ],
      "execution_count": 7,
      "outputs": [
        {
          "output_type": "stream",
          "text": [
            "[[3.]]\n"
          ],
          "name": "stdout"
        }
      ]
    },
    {
      "cell_type": "code",
      "metadata": {
        "id": "AmRXWhvz1CJy",
        "colab_type": "code",
        "outputId": "639877fe-809c-4693-8dcb-40d97271d2ee",
        "colab": {
          "base_uri": "https://localhost:8080/",
          "height": 35
        }
      },
      "source": [
        "print(session.run(tf.edit_distance(h1, t1, normalize=True)))"
      ],
      "execution_count": 8,
      "outputs": [
        {
          "output_type": "stream",
          "text": [
            "[[0.6]]\n"
          ],
          "name": "stdout"
        }
      ]
    },
    {
      "cell_type": "code",
      "metadata": {
        "id": "ig8o-wFg8D66",
        "colab_type": "code",
        "outputId": "e992a6c9-bf92-4b22-cf63-daa809972ab4",
        "colab": {
          "base_uri": "https://localhost:8080/",
          "height": 90
        }
      },
      "source": [
        "session.run(h1)"
      ],
      "execution_count": 9,
      "outputs": [
        {
          "output_type": "execute_result",
          "data": {
            "text/plain": [
              "SparseTensorValue(indices=array([[0, 0, 0],\n",
              "       [0, 0, 1],\n",
              "       [0, 0, 2],\n",
              "       [0, 0, 3]]), values=array([b'c', b'a', b's', b'a'], dtype=object), dense_shape=array([1, 1, 1]))"
            ]
          },
          "metadata": {
            "tags": []
          },
          "execution_count": 9
        }
      ]
    },
    {
      "cell_type": "code",
      "metadata": {
        "id": "hLAiAWVA1CKH",
        "colab_type": "code",
        "outputId": "ae38a920-4aad-4c36-8e54-2a40cbba1032",
        "colab": {
          "base_uri": "https://localhost:8080/",
          "height": 108
        }
      },
      "source": [
        "session.run(t1)"
      ],
      "execution_count": 10,
      "outputs": [
        {
          "output_type": "execute_result",
          "data": {
            "text/plain": [
              "SparseTensorValue(indices=array([[0, 0, 0],\n",
              "       [0, 0, 1],\n",
              "       [0, 0, 2],\n",
              "       [0, 0, 3],\n",
              "       [0, 0, 4]]), values=array([b'c', b'a', b'l', b'l', b'e'], dtype=object), dense_shape=array([1, 1, 1]))"
            ]
          },
          "metadata": {
            "tags": []
          },
          "execution_count": 10
        }
      ]
    },
    {
      "cell_type": "code",
      "metadata": {
        "id": "-hJIc5_31CKO",
        "colab_type": "code",
        "colab": {}
      },
      "source": [
        "hypothesis2 = list('casacalle')\n",
        "truth2 = list('callescalles')"
      ],
      "execution_count": 0,
      "outputs": []
    },
    {
      "cell_type": "code",
      "metadata": {
        "id": "6ac6Imjj1CKY",
        "colab_type": "code",
        "colab": {}
      },
      "source": [
        "h2 = tf.SparseTensor([[0,0,0], [0,0,1], [0,0,2], [0,0,3], # casa\n",
        "                      [0,1,0], [0,1,1], [0,1,2],[0,1,3],[0,1,4]],#calle\n",
        "                    hypothesis2, [1,2,4])\n",
        "t2 = tf.SparseTensor([[0,0,0], [0,0,1],[0,0,2],[0,0,3],[0,0,4], [0,0,5], #calles\n",
        "                      [0,1,0],[0,1,1],[0,1,2],[0,1,3],[0,1,4],[0,1,5]],#calles\n",
        "                    truth2, [1,2,6])"
      ],
      "execution_count": 0,
      "outputs": []
    },
    {
      "cell_type": "code",
      "metadata": {
        "id": "LUHrKzJ61CKe",
        "colab_type": "code",
        "outputId": "c7ab1928-6ee8-4354-c409-31630ddabb81",
        "colab": {
          "base_uri": "https://localhost:8080/",
          "height": 35
        }
      },
      "source": [
        "# DISTANCIAS ENTRE \"casa A calles\" Y \"calle A calles\"\n",
        "print(session.run(tf.edit_distance(h2,t2,normalize=False)))"
      ],
      "execution_count": 17,
      "outputs": [
        {
          "output_type": "stream",
          "text": [
            "[[4. 1.]]\n"
          ],
          "name": "stdout"
        }
      ]
    },
    {
      "cell_type": "code",
      "metadata": {
        "id": "Gp_VyWSU1CKk",
        "colab_type": "code",
        "outputId": "337c3fd7-267a-4ede-c63d-420f09d22195",
        "colab": {
          "base_uri": "https://localhost:8080/",
          "height": 35
        }
      },
      "source": [
        "# DISTANCIAS NORMALIZADA\n",
        "print(session.run(tf.edit_distance(h2,t2,normalize=True)))"
      ],
      "execution_count": 18,
      "outputs": [
        {
          "output_type": "stream",
          "text": [
            "[[0.6666667  0.16666667]]\n"
          ],
          "name": "stdout"
        }
      ]
    },
    {
      "cell_type": "code",
      "metadata": {
        "id": "Tq1Np0yX1CKr",
        "colab_type": "code",
        "colab": {}
      },
      "source": [
        "hypothesis_words = [\"casa\", \"casita\", \"caseron\", \"tensor\", \"python\"]\n",
        "truth_word = \"algoritmo\""
      ],
      "execution_count": 0,
      "outputs": []
    },
    {
      "cell_type": "code",
      "metadata": {
        "id": "3B6hPZ5q1CKy",
        "colab_type": "code",
        "colab": {}
      },
      "source": [
        "# CREASION DE INDICES PARA MATRIX DE LETRAS\n",
        "num_h_words = len(hypothesis_words)\n",
        "h_idx = [[xi,0,yi] for xi,x in enumerate(hypothesis_words) for yi, y in enumerate(x)]\n",
        "h_idx"
      ],
      "execution_count": 0,
      "outputs": []
    },
    {
      "cell_type": "code",
      "metadata": {
        "id": "cNbQ5vW51CK6",
        "colab_type": "code",
        "outputId": "47caa4fd-818a-46bb-959b-1013ec631bc1",
        "colab": {
          "base_uri": "https://localhost:8080/",
          "height": 55
        }
      },
      "source": [
        "#PASAR A LISTA A LISTA DE LETRAS LAS PLABRAS\n",
        "h_chars = list(''.join(hypothesis_words))\n",
        "print(h_chars)"
      ],
      "execution_count": 49,
      "outputs": [
        {
          "output_type": "stream",
          "text": [
            "['c', 'a', 's', 'a', 'c', 'a', 's', 'i', 't', 'a', 'c', 'a', 's', 'e', 'r', 'o', 'n', 't', 'e', 'n', 's', 'o', 'r', 'p', 'y', 't', 'h', 'o', 'n']\n"
          ],
          "name": "stdout"
        }
      ]
    },
    {
      "cell_type": "code",
      "metadata": {
        "id": "4MmrlPRJ1CK_",
        "colab_type": "code",
        "colab": {}
      },
      "source": [
        "h3 = tf.SparseTensor(h_idx, h_chars, [num_h_words, 1, 1])"
      ],
      "execution_count": 0,
      "outputs": []
    },
    {
      "cell_type": "code",
      "metadata": {
        "id": "f8kvW2TMn_Uo",
        "colab_type": "code",
        "colab": {
          "base_uri": "https://localhost:8080/",
          "height": 55
        },
        "outputId": "878a8c98-dfd3-4ef4-bab5-624c7485a2ae"
      },
      "source": [
        "print(h3)"
      ],
      "execution_count": 34,
      "outputs": [
        {
          "output_type": "stream",
          "text": [
            "SparseTensor(indices=Tensor(\"SparseTensor_5/indices:0\", shape=(29, 3), dtype=int64), values=Tensor(\"SparseTensor_5/values:0\", shape=(29,), dtype=string), dense_shape=Tensor(\"SparseTensor_5/dense_shape:0\", shape=(3,), dtype=int64))\n"
          ],
          "name": "stdout"
        }
      ]
    },
    {
      "cell_type": "code",
      "metadata": {
        "id": "mfLNCKXvohNk",
        "colab_type": "code",
        "colab": {
          "base_uri": "https://localhost:8080/",
          "height": 35
        },
        "outputId": "98a64d53-fced-498b-a840-88d7026927ad"
      },
      "source": [
        "# MULTIPLICAR LAS PALABRAS\n",
        "truth_word_vect = truth_word*num_h_words\n",
        "truth_word_vect"
      ],
      "execution_count": 39,
      "outputs": [
        {
          "output_type": "execute_result",
          "data": {
            "text/plain": [
              "'algoritmoalgoritmoalgoritmoalgoritmoalgoritmo'"
            ]
          },
          "metadata": {
            "tags": []
          },
          "execution_count": 39
        }
      ]
    },
    {
      "cell_type": "code",
      "metadata": {
        "id": "LdGhZYvn1CLF",
        "colab_type": "code",
        "outputId": "3ec0154f-15e4-4b40-dc03-18f35de7ea8c",
        "colab": {
          "base_uri": "https://localhost:8080/",
          "height": 35
        }
      },
      "source": [
        "truth_word_vect = [truth_word]*num_h_words\n",
        "truth_word_vect"
      ],
      "execution_count": 44,
      "outputs": [
        {
          "output_type": "execute_result",
          "data": {
            "text/plain": [
              "['algoritmo', 'algoritmo', 'algoritmo', 'algoritmo', 'algoritmo']"
            ]
          },
          "metadata": {
            "tags": []
          },
          "execution_count": 44
        }
      ]
    },
    {
      "cell_type": "code",
      "metadata": {
        "id": "mHA0xycN1CLL",
        "colab_type": "code",
        "outputId": "e33fe4e4-faf3-4992-f07d-c1e1ea3f4d92",
        "colab": {
          "base_uri": "https://localhost:8080/",
          "height": 55
        }
      },
      "source": [
        "# CREAMOS LOS INDENTIFICADORES PARA \"truth_word_vect\"\n",
        "t_idx = [[xi,0,yi] for xi,x in enumerate(truth_word_vect) for yi, y in enumerate(x)]\n",
        "print(t_idx)"
      ],
      "execution_count": 46,
      "outputs": [
        {
          "output_type": "stream",
          "text": [
            "[[0, 0, 0], [0, 0, 1], [0, 0, 2], [0, 0, 3], [0, 0, 4], [0, 0, 5], [0, 0, 6], [0, 0, 7], [0, 0, 8], [1, 0, 0], [1, 0, 1], [1, 0, 2], [1, 0, 3], [1, 0, 4], [1, 0, 5], [1, 0, 6], [1, 0, 7], [1, 0, 8], [2, 0, 0], [2, 0, 1], [2, 0, 2], [2, 0, 3], [2, 0, 4], [2, 0, 5], [2, 0, 6], [2, 0, 7], [2, 0, 8], [3, 0, 0], [3, 0, 1], [3, 0, 2], [3, 0, 3], [3, 0, 4], [3, 0, 5], [3, 0, 6], [3, 0, 7], [3, 0, 8], [4, 0, 0], [4, 0, 1], [4, 0, 2], [4, 0, 3], [4, 0, 4], [4, 0, 5], [4, 0, 6], [4, 0, 7], [4, 0, 8]]\n"
          ],
          "name": "stdout"
        }
      ]
    },
    {
      "cell_type": "code",
      "metadata": {
        "id": "oBGcRn851CLR",
        "colab_type": "code",
        "colab": {
          "base_uri": "https://localhost:8080/",
          "height": 55
        },
        "outputId": "6745cc23-d80e-4835-c9be-5c6c8c72adab"
      },
      "source": [
        "t_chars = list(''.join(truth_word_vect))\n",
        "print(t_chars)"
      ],
      "execution_count": 47,
      "outputs": [
        {
          "output_type": "stream",
          "text": [
            "['a', 'l', 'g', 'o', 'r', 'i', 't', 'm', 'o', 'a', 'l', 'g', 'o', 'r', 'i', 't', 'm', 'o', 'a', 'l', 'g', 'o', 'r', 'i', 't', 'm', 'o', 'a', 'l', 'g', 'o', 'r', 'i', 't', 'm', 'o', 'a', 'l', 'g', 'o', 'r', 'i', 't', 'm', 'o']\n"
          ],
          "name": "stdout"
        }
      ]
    },
    {
      "cell_type": "code",
      "metadata": {
        "id": "zv1CaOGK1CLY",
        "colab_type": "code",
        "colab": {}
      },
      "source": [
        "t3 = tf.SparseTensor(t_idx, t_chars, [num_h_words,1,1])"
      ],
      "execution_count": 0,
      "outputs": []
    },
    {
      "cell_type": "code",
      "metadata": {
        "id": "M_pglwOw1CLd",
        "colab_type": "code",
        "outputId": "5bf54a61-89b5-4685-bfaf-00c4bf951900",
        "colab": {
          "base_uri": "https://localhost:8080/",
          "height": 108
        }
      },
      "source": [
        "print(session.run(tf.edit_distance(h3, t3, normalize=False)))"
      ],
      "execution_count": 51,
      "outputs": [
        {
          "output_type": "stream",
          "text": [
            "[[9.]\n",
            " [7.]\n",
            " [8.]\n",
            " [8.]\n",
            " [8.]]\n"
          ],
          "name": "stdout"
        }
      ]
    },
    {
      "cell_type": "code",
      "metadata": {
        "id": "uD1sp5ff1CLi",
        "colab_type": "code",
        "outputId": "a2e0efa6-56fb-469e-a2b8-831e835b98af",
        "colab": {
          "base_uri": "https://localhost:8080/",
          "height": 108
        }
      },
      "source": [
        "print(session.run(tf.edit_distance(h3, t3, normalize=True)))"
      ],
      "execution_count": 52,
      "outputs": [
        {
          "output_type": "stream",
          "text": [
            "[[1.       ]\n",
            " [0.7777778]\n",
            " [0.8888889]\n",
            " [0.8888889]\n",
            " [0.8888889]]\n"
          ],
          "name": "stdout"
        }
      ]
    },
    {
      "cell_type": "code",
      "metadata": {
        "id": "_xvB_Ajv1CLo",
        "colab_type": "code",
        "colab": {}
      },
      "source": [
        "def create_sparse_words_vect(word_list):\n",
        "    num_words = len(word_list)\n",
        "    idx = [[xi,0,yi] for xi,x in enumerate(word_list) for yi, y in enumerate(x)]\n",
        "    chars = list(''.join(word_list))\n",
        "    return tf.SparseTensorValue(idx, chars, [num_words, 1, 1])"
      ],
      "execution_count": 0,
      "outputs": []
    },
    {
      "cell_type": "code",
      "metadata": {
        "id": "GZvjeA2C1CLu",
        "colab_type": "code",
        "colab": {}
      },
      "source": [
        "hyp_string_sp = create_sparse_words_vect(hypothesis_words)\n",
        "tr_string_sp = create_sparse_words_vect([truth_word]*len(hypothesis_words))"
      ],
      "execution_count": 0,
      "outputs": []
    },
    {
      "cell_type": "code",
      "metadata": {
        "id": "ksBgK-nI1CLz",
        "colab_type": "code",
        "colab": {}
      },
      "source": [
        "h_input = tf.sparse_placeholder(dtype=tf.string)\n",
        "t_input = tf.sparse_placeholder(dtype=tf.string)"
      ],
      "execution_count": 0,
      "outputs": []
    },
    {
      "cell_type": "code",
      "metadata": {
        "id": "2Ai5d9Yq1CL4",
        "colab_type": "code",
        "colab": {}
      },
      "source": [
        "edit_distance = tf.edit_distance(h_input, t_input, normalize=True)"
      ],
      "execution_count": 0,
      "outputs": []
    },
    {
      "cell_type": "code",
      "metadata": {
        "id": "x6GzuFLC1CL-",
        "colab_type": "code",
        "colab": {}
      },
      "source": [
        "feed_dict = {h_input:hyp_string_sp, t_input:tr_string_sp}"
      ],
      "execution_count": 0,
      "outputs": []
    },
    {
      "cell_type": "code",
      "metadata": {
        "id": "-JWF4TRQ1CMH",
        "colab_type": "code",
        "outputId": "41511214-b422-4cf9-e688-4bdf5ddcbd72",
        "colab": {
          "base_uri": "https://localhost:8080/",
          "height": 108
        }
      },
      "source": [
        "print(session.run(edit_distance, feed_dict=feed_dict))"
      ],
      "execution_count": 60,
      "outputs": [
        {
          "output_type": "stream",
          "text": [
            "[[1.       ]\n",
            " [0.7777778]\n",
            " [0.8888889]\n",
            " [0.8888889]\n",
            " [0.8888889]]\n"
          ],
          "name": "stdout"
        }
      ]
    },
    {
      "cell_type": "markdown",
      "metadata": {
        "id": "zaqEuBKg1CMM",
        "colab_type": "text"
      },
      "source": [
        "# Otras distancias para comparar palabras"
      ]
    },
    {
      "cell_type": "markdown",
      "metadata": {
        "id": "5ld3s6rn1CMN",
        "colab_type": "text"
      },
      "source": [
        "### Distancia de Hamming\n",
        "- Número de caracteres iguales en la misma posición. \n",
        "- Las dos palabras deben ser de la misma longitud\n",
        "$$D(s_1,s_2) = \\sum_{i=1}^n I_i$$\n",
        "donde $I_i=1$ si las dos palabras tienen el mismo caracter en la posición i-ésima  y 0 en otro caso"
      ]
    },
    {
      "cell_type": "markdown",
      "metadata": {
        "id": "MGQTYqby1CMO",
        "colab_type": "text"
      },
      "source": [
        "### Distancia del Coseno\n",
        "- Obtenemos el producto escalar del vector de k-gramas de cada palabra dividida por la norma dos de los mismos\n",
        "$$D(s_1,s_2) = 1 - \\frac{k(s_1)\\cdot k(s_2)}{||k(s_1)||||k(s_2)||}$$"
      ]
    },
    {
      "cell_type": "markdown",
      "metadata": {
        "id": "Tz3c4zvK1CMP",
        "colab_type": "text"
      },
      "source": [
        "### Distancia de Jaccard\n",
        "- Numero de caracteres en común entre las dos palabras dividido por la unión total de caracteres de ambas palabras\n",
        "$$D(s_1,s_2) = \\frac{|s_1\\cap s_2|}{|s_1\\cup s_2|}$$"
      ]
    },
    {
      "cell_type": "code",
      "metadata": {
        "id": "KGw661WR1CMQ",
        "colab_type": "code",
        "colab": {}
      },
      "source": [
        ""
      ],
      "execution_count": 0,
      "outputs": []
    }
  ]
}