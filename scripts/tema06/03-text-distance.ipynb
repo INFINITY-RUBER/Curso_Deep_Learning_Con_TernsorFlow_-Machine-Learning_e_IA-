{
  "nbformat": 4,
  "nbformat_minor": 0,
  "metadata": {
    "kernelspec": {
      "display_name": "Python 3",
      "language": "python",
      "name": "python3"
    },
    "language_info": {
      "codemirror_mode": {
        "name": "ipython",
        "version": 3
      },
      "file_extension": ".py",
      "mimetype": "text/x-python",
      "name": "python",
      "nbconvert_exporter": "python",
      "pygments_lexer": "ipython3",
      "version": "3.5.5"
    },
    "colab": {
      "name": "03-text-distance.ipynb",
      "provenance": [],
      "include_colab_link": true
    }
  },
  "cells": [
    {
      "cell_type": "markdown",
      "metadata": {
        "id": "view-in-github",
        "colab_type": "text"
      },
      "source": [
        "<a href=\"https://colab.research.google.com/github/INFINITY-RUBER/Curso_Deep_Learning_Con_TernsorFlow_Machine-Learning_e_IA-/blob/master/scripts/tema06/03-text-distance.ipynb\" target=\"_parent\"><img src=\"https://colab.research.google.com/assets/colab-badge.svg\" alt=\"Open In Colab\"/></a>"
      ]
    },
    {
      "cell_type": "code",
      "metadata": {
        "id": "3FNRCTat3po2",
        "colab_type": "code",
        "colab": {}
      },
      "source": [
        "pip install tensorflow==1.14"
      ],
      "execution_count": 0,
      "outputs": []
    },
    {
      "cell_type": "markdown",
      "metadata": {
        "id": "2RDtXsCS1CJP",
        "colab_type": "text"
      },
      "source": [
        "# Distancia de Levenshtein"
      ]
    },
    {
      "cell_type": "markdown",
      "metadata": {
        "id": "Mao72lXR1CJR",
        "colab_type": "text"
      },
      "source": [
        "$x,y\\in S$ donde $S$ es el conjunto de Strings, entonces $d(x,y)$ se define como el número de operaciones (ediciones) para convertir la palabra $x$ en la palabra $y$, donde las ediciones posibles de la palabra son:\n",
        "- insertar un nuevo caracter\n",
        "- eliminar un caracter de la palabra\n",
        "- sustituir un caracter por otro"
      ]
    },
    {
      "cell_type": "code",
      "metadata": {
        "id": "9WyA1NQm1CJT",
        "colab_type": "code",
        "colab": {}
      },
      "source": [
        "import tensorflow as tf\n",
        "session = tf.Session()"
      ],
      "execution_count": 0,
      "outputs": []
    },
    {
      "cell_type": "code",
      "metadata": {
        "id": "5AgDh6YJ1CJc",
        "colab_type": "code",
        "colab": {}
      },
      "source": [
        "hypothesis = list('casa')\n",
        "truth = list('calle')"
      ],
      "execution_count": 0,
      "outputs": []
    },
    {
      "cell_type": "code",
      "metadata": {
        "id": "4gj3XJKf4chF",
        "colab_type": "code",
        "colab": {
          "base_uri": "https://localhost:8080/",
          "height": 35
        },
        "outputId": "54cd2b6f-73d0-40bc-aba9-0d9729d1e983"
      },
      "source": [
        "print(hypothesis,truth)"
      ],
      "execution_count": 8,
      "outputs": [
        {
          "output_type": "stream",
          "text": [
            "['c', 'a', 's', 'a'] ['c', 'a', 'l', 'l', 'e']\n"
          ],
          "name": "stdout"
        }
      ]
    },
    {
      "cell_type": "code",
      "metadata": {
        "id": "1vz038Y61CJj",
        "colab_type": "code",
        "colab": {}
      },
      "source": [
        "# CREACION DE VECTORES SPARCE\n",
        "h1 = tf.SparseTensor([[0,0,0], [0,0,1], [0,0,2], [0,0,3]],\n",
        "                    hypothesis, [1,1,1])\n",
        "t1 = tf.SparseTensor([[0,0,0], [0,0,1], [0,0,2], [0,0,3], [0,0,4]],\n",
        "                    truth, [1,1,1])"
      ],
      "execution_count": 0,
      "outputs": []
    },
    {
      "cell_type": "code",
      "metadata": {
        "id": "mgiuV3e86A1z",
        "colab_type": "code",
        "colab": {
          "base_uri": "https://localhost:8080/",
          "height": 55
        },
        "outputId": "61e9337a-27c4-4ca0-df20-c9773d8b2867"
      },
      "source": [
        "print(t1)"
      ],
      "execution_count": 14,
      "outputs": [
        {
          "output_type": "stream",
          "text": [
            "SparseTensor(indices=Tensor(\"SparseTensor_1/indices:0\", shape=(5, 3), dtype=int64), values=Tensor(\"SparseTensor_1/values:0\", shape=(5,), dtype=string), dense_shape=Tensor(\"SparseTensor_1/dense_shape:0\", shape=(3,), dtype=int64))\n"
          ],
          "name": "stdout"
        }
      ]
    },
    {
      "cell_type": "code",
      "metadata": {
        "id": "Xt0sz73M1CJq",
        "colab_type": "code",
        "colab": {
          "base_uri": "https://localhost:8080/",
          "height": 35
        },
        "outputId": "4d4a6ae6-b156-4b89-a010-e930ceef5b27"
      },
      "source": [
        "print(session.run(tf.edit_distance(h1, t1, normalize=False)))"
      ],
      "execution_count": 15,
      "outputs": [
        {
          "output_type": "stream",
          "text": [
            "[[3.]]\n"
          ],
          "name": "stdout"
        }
      ]
    },
    {
      "cell_type": "code",
      "metadata": {
        "id": "AmRXWhvz1CJy",
        "colab_type": "code",
        "colab": {
          "base_uri": "https://localhost:8080/",
          "height": 35
        },
        "outputId": "8d12c24c-d7bc-44f6-d627-f701f6fb5ee8"
      },
      "source": [
        "print(session.run(tf.edit_distance(h1, t1, normalize=True)))"
      ],
      "execution_count": 16,
      "outputs": [
        {
          "output_type": "stream",
          "text": [
            "[[0.6]]\n"
          ],
          "name": "stdout"
        }
      ]
    },
    {
      "cell_type": "code",
      "metadata": {
        "id": "ig8o-wFg8D66",
        "colab_type": "code",
        "colab": {
          "base_uri": "https://localhost:8080/",
          "height": 90
        },
        "outputId": "284195b4-95a8-4bdb-a7c4-9475a93cd857"
      },
      "source": [
        "session.run(h1)"
      ],
      "execution_count": 19,
      "outputs": [
        {
          "output_type": "execute_result",
          "data": {
            "text/plain": [
              "SparseTensorValue(indices=array([[0, 0, 0],\n",
              "       [0, 0, 1],\n",
              "       [0, 0, 2],\n",
              "       [0, 0, 3]]), values=array([b'c', b'a', b's', b'a'], dtype=object), dense_shape=array([1, 1, 1]))"
            ]
          },
          "metadata": {
            "tags": []
          },
          "execution_count": 19
        }
      ]
    },
    {
      "cell_type": "code",
      "metadata": {
        "id": "hLAiAWVA1CKH",
        "colab_type": "code",
        "colab": {
          "base_uri": "https://localhost:8080/",
          "height": 108
        },
        "outputId": "131754cb-3c98-4a9f-c02c-be7a5a0bc93a"
      },
      "source": [
        "session.run(t1)"
      ],
      "execution_count": 18,
      "outputs": [
        {
          "output_type": "execute_result",
          "data": {
            "text/plain": [
              "SparseTensorValue(indices=array([[0, 0, 0],\n",
              "       [0, 0, 1],\n",
              "       [0, 0, 2],\n",
              "       [0, 0, 3],\n",
              "       [0, 0, 4]]), values=array([b'c', b'a', b'l', b'l', b'e'], dtype=object), dense_shape=array([1, 1, 1]))"
            ]
          },
          "metadata": {
            "tags": []
          },
          "execution_count": 18
        }
      ]
    },
    {
      "cell_type": "code",
      "metadata": {
        "id": "-hJIc5_31CKO",
        "colab_type": "code",
        "colab": {}
      },
      "source": [
        "hypothesis2 = list('casacalle')\n",
        "truth2 = list('callescalles')"
      ],
      "execution_count": 0,
      "outputs": []
    },
    {
      "cell_type": "code",
      "metadata": {
        "id": "6ac6Imjj1CKY",
        "colab_type": "code",
        "colab": {}
      },
      "source": [
        "h2 = tf.SparseTensor([[0,0,0], [0,0,1], [0,0,2], [0,0,3], # casa\n",
        "                      [0,1,0], [0,1,1], [0,1,2],[0,1,3],[0,1,4]],#calle\n",
        "                    hypothesis2, [1,2,4])\n",
        "t2 = tf.SparseTensor([[0,0,0], [0,0,1],[0,0,2],[0,0,3],[0,0,4], [0,0,5], #calles\n",
        "                      [0,1,0],[0,1,1],[0,1,2],[0,1,3],[0,1,4],[0,1,5]],#calles\n",
        "                    truth2, [1,2,6])"
      ],
      "execution_count": 0,
      "outputs": []
    },
    {
      "cell_type": "code",
      "metadata": {
        "id": "LUHrKzJ61CKe",
        "colab_type": "code",
        "colab": {
          "base_uri": "https://localhost:8080/",
          "height": 35
        },
        "outputId": "a629404f-0a76-4b0f-da57-3383c6dff38b"
      },
      "source": [
        "# DISTANCIAS ENTRE \"casa A calles\" Y \"calle A calles\"\n",
        "print(session.run(tf.edit_distance(h2,t2,normalize=False)))"
      ],
      "execution_count": 23,
      "outputs": [
        {
          "output_type": "stream",
          "text": [
            "[[4. 1.]]\n"
          ],
          "name": "stdout"
        }
      ]
    },
    {
      "cell_type": "code",
      "metadata": {
        "id": "Gp_VyWSU1CKk",
        "colab_type": "code",
        "colab": {
          "base_uri": "https://localhost:8080/",
          "height": 35
        },
        "outputId": "3731c067-d8cd-4580-c817-17de6dd52021"
      },
      "source": [
        "# DISTANCIAS NORMALIZADA\n",
        "print(session.run(tf.edit_distance(h2,t2,normalize=True)))"
      ],
      "execution_count": 25,
      "outputs": [
        {
          "output_type": "stream",
          "text": [
            "[[0.6666667  0.16666667]]\n"
          ],
          "name": "stdout"
        }
      ]
    },
    {
      "cell_type": "code",
      "metadata": {
        "id": "Tq1Np0yX1CKr",
        "colab_type": "code",
        "colab": {}
      },
      "source": [
        "hypothesis_words = [\"casa\", \"casita\", \"caseron\", \"tensor\", \"python\"]\n",
        "truth_word = \"algoritmo\""
      ],
      "execution_count": 0,
      "outputs": []
    },
    {
      "cell_type": "code",
      "metadata": {
        "id": "3B6hPZ5q1CKy",
        "colab_type": "code",
        "colab": {},
        "outputId": "48d7366a-d711-4961-95d4-474b893211b9"
      },
      "source": [
        "num_h_words = len(hypothesis_words)\n",
        "h_idx = [[xi,0,yi] for xi,x in enumerate(hypothesis_words) for yi,y in enumerate(x)]\n",
        "h_idx"
      ],
      "execution_count": 0,
      "outputs": [
        {
          "output_type": "execute_result",
          "data": {
            "text/plain": [
              "[[0, 0, 0],\n",
              " [0, 0, 1],\n",
              " [0, 0, 2],\n",
              " [0, 0, 3],\n",
              " [1, 0, 0],\n",
              " [1, 0, 1],\n",
              " [1, 0, 2],\n",
              " [1, 0, 3],\n",
              " [1, 0, 4],\n",
              " [1, 0, 5],\n",
              " [2, 0, 0],\n",
              " [2, 0, 1],\n",
              " [2, 0, 2],\n",
              " [2, 0, 3],\n",
              " [2, 0, 4],\n",
              " [2, 0, 5],\n",
              " [2, 0, 6],\n",
              " [3, 0, 0],\n",
              " [3, 0, 1],\n",
              " [3, 0, 2],\n",
              " [3, 0, 3],\n",
              " [3, 0, 4],\n",
              " [3, 0, 5],\n",
              " [4, 0, 0],\n",
              " [4, 0, 1],\n",
              " [4, 0, 2],\n",
              " [4, 0, 3],\n",
              " [4, 0, 4],\n",
              " [4, 0, 5]]"
            ]
          },
          "metadata": {
            "tags": []
          },
          "execution_count": 20
        }
      ]
    },
    {
      "cell_type": "code",
      "metadata": {
        "id": "cNbQ5vW51CK6",
        "colab_type": "code",
        "colab": {},
        "outputId": "2329b447-32a0-4cfa-d4bb-bd528a8919a4"
      },
      "source": [
        "h_chars = list(''.join(hypothesis_words))\n",
        "h_chars"
      ],
      "execution_count": 0,
      "outputs": [
        {
          "output_type": "execute_result",
          "data": {
            "text/plain": [
              "['c',\n",
              " 'a',\n",
              " 's',\n",
              " 'a',\n",
              " 'c',\n",
              " 'a',\n",
              " 's',\n",
              " 'i',\n",
              " 't',\n",
              " 'a',\n",
              " 'c',\n",
              " 'a',\n",
              " 's',\n",
              " 'e',\n",
              " 'r',\n",
              " 'o',\n",
              " 'n',\n",
              " 't',\n",
              " 'e',\n",
              " 'n',\n",
              " 's',\n",
              " 'o',\n",
              " 'r',\n",
              " 'p',\n",
              " 'y',\n",
              " 't',\n",
              " 'h',\n",
              " 'o',\n",
              " 'n']"
            ]
          },
          "metadata": {
            "tags": []
          },
          "execution_count": 21
        }
      ]
    },
    {
      "cell_type": "code",
      "metadata": {
        "id": "4MmrlPRJ1CK_",
        "colab_type": "code",
        "colab": {}
      },
      "source": [
        "h3 = tf.SparseTensor(h_idx, h_chars, [num_h_words, 1, 1])"
      ],
      "execution_count": 0,
      "outputs": []
    },
    {
      "cell_type": "code",
      "metadata": {
        "id": "LdGhZYvn1CLF",
        "colab_type": "code",
        "colab": {},
        "outputId": "42ce36a5-64c7-4cea-a47b-fe2a3288c6f9"
      },
      "source": [
        "truth_word_vect = [truth_word]*num_h_words\n",
        "truth_word_vect"
      ],
      "execution_count": 0,
      "outputs": [
        {
          "output_type": "execute_result",
          "data": {
            "text/plain": [
              "'algoritmoalgoritmoalgoritmoalgoritmoalgoritmo'"
            ]
          },
          "metadata": {
            "tags": []
          },
          "execution_count": 23
        }
      ]
    },
    {
      "cell_type": "code",
      "metadata": {
        "id": "mHA0xycN1CLL",
        "colab_type": "code",
        "colab": {},
        "outputId": "4b9d3905-a9a3-446f-b4f9-e8570750d448"
      },
      "source": [
        "t_idx = [[xi,0,yi] for xi,x in enumerate(truth_word_vect) for yi, y in enumerate(x)]\n",
        "t_idx"
      ],
      "execution_count": 0,
      "outputs": [
        {
          "output_type": "execute_result",
          "data": {
            "text/plain": [
              "[[0, 0, 0],\n",
              " [0, 0, 1],\n",
              " [0, 0, 2],\n",
              " [0, 0, 3],\n",
              " [0, 0, 4],\n",
              " [0, 0, 5],\n",
              " [0, 0, 6],\n",
              " [0, 0, 7],\n",
              " [0, 0, 8],\n",
              " [1, 0, 0],\n",
              " [1, 0, 1],\n",
              " [1, 0, 2],\n",
              " [1, 0, 3],\n",
              " [1, 0, 4],\n",
              " [1, 0, 5],\n",
              " [1, 0, 6],\n",
              " [1, 0, 7],\n",
              " [1, 0, 8],\n",
              " [2, 0, 0],\n",
              " [2, 0, 1],\n",
              " [2, 0, 2],\n",
              " [2, 0, 3],\n",
              " [2, 0, 4],\n",
              " [2, 0, 5],\n",
              " [2, 0, 6],\n",
              " [2, 0, 7],\n",
              " [2, 0, 8],\n",
              " [3, 0, 0],\n",
              " [3, 0, 1],\n",
              " [3, 0, 2],\n",
              " [3, 0, 3],\n",
              " [3, 0, 4],\n",
              " [3, 0, 5],\n",
              " [3, 0, 6],\n",
              " [3, 0, 7],\n",
              " [3, 0, 8],\n",
              " [4, 0, 0],\n",
              " [4, 0, 1],\n",
              " [4, 0, 2],\n",
              " [4, 0, 3],\n",
              " [4, 0, 4],\n",
              " [4, 0, 5],\n",
              " [4, 0, 6],\n",
              " [4, 0, 7],\n",
              " [4, 0, 8]]"
            ]
          },
          "metadata": {
            "tags": []
          },
          "execution_count": 26
        }
      ]
    },
    {
      "cell_type": "code",
      "metadata": {
        "id": "oBGcRn851CLR",
        "colab_type": "code",
        "colab": {}
      },
      "source": [
        "t_chars = list(''.join(truth_word_vect))"
      ],
      "execution_count": 0,
      "outputs": []
    },
    {
      "cell_type": "code",
      "metadata": {
        "id": "zv1CaOGK1CLY",
        "colab_type": "code",
        "colab": {}
      },
      "source": [
        "t3 = tf.SparseTensor(t_idx, t_chars, [num_h_words,1,1])"
      ],
      "execution_count": 0,
      "outputs": []
    },
    {
      "cell_type": "code",
      "metadata": {
        "id": "M_pglwOw1CLd",
        "colab_type": "code",
        "colab": {},
        "outputId": "5692ff5d-769e-43d9-82a3-905c0aeb7c67"
      },
      "source": [
        "print(session.run(tf.edit_distance(h3, t3, normalize=False)))"
      ],
      "execution_count": 0,
      "outputs": [
        {
          "output_type": "stream",
          "text": [
            "[[9.]\n",
            " [7.]\n",
            " [8.]\n",
            " [8.]\n",
            " [8.]]\n"
          ],
          "name": "stdout"
        }
      ]
    },
    {
      "cell_type": "code",
      "metadata": {
        "id": "uD1sp5ff1CLi",
        "colab_type": "code",
        "colab": {},
        "outputId": "5d4a8df2-7ccf-408d-b643-b04024d0c6f2"
      },
      "source": [
        "print(session.run(tf.edit_distance(h3, t3, normalize=True)))"
      ],
      "execution_count": 0,
      "outputs": [
        {
          "output_type": "stream",
          "text": [
            "[[1.       ]\n",
            " [0.7777778]\n",
            " [0.8888889]\n",
            " [0.8888889]\n",
            " [0.8888889]]\n"
          ],
          "name": "stdout"
        }
      ]
    },
    {
      "cell_type": "code",
      "metadata": {
        "id": "_xvB_Ajv1CLo",
        "colab_type": "code",
        "colab": {}
      },
      "source": [
        "def create_sparse_words_vect(word_list):\n",
        "    num_words = len(word_list)\n",
        "    idx = [[xi,0,yi] for xi,x in enumerate(word_list) for yi, y in enumerate(x)]\n",
        "    chars = list(''.join(word_list))\n",
        "    return tf.SparseTensorValue(idx, chars, [num_words, 1, 1])"
      ],
      "execution_count": 0,
      "outputs": []
    },
    {
      "cell_type": "code",
      "metadata": {
        "id": "GZvjeA2C1CLu",
        "colab_type": "code",
        "colab": {}
      },
      "source": [
        "hyp_string_sp = create_sparse_words_vect(hypothesis_words)\n",
        "tr_string_sp = create_sparse_words_vect([truth_word]*len(hypothesis_words))"
      ],
      "execution_count": 0,
      "outputs": []
    },
    {
      "cell_type": "code",
      "metadata": {
        "id": "ksBgK-nI1CLz",
        "colab_type": "code",
        "colab": {}
      },
      "source": [
        "h_input = tf.sparse_placeholder(dtype=tf.string)\n",
        "t_input = tf.sparse_placeholder(dtype=tf.string)"
      ],
      "execution_count": 0,
      "outputs": []
    },
    {
      "cell_type": "code",
      "metadata": {
        "id": "2Ai5d9Yq1CL4",
        "colab_type": "code",
        "colab": {}
      },
      "source": [
        "edit_distance = tf.edit_distance(h_input, t_input, normalize=True)"
      ],
      "execution_count": 0,
      "outputs": []
    },
    {
      "cell_type": "code",
      "metadata": {
        "id": "x6GzuFLC1CL-",
        "colab_type": "code",
        "colab": {}
      },
      "source": [
        "feed_dict = {h_input:hyp_string_sp, t_input:tr_string_sp}"
      ],
      "execution_count": 0,
      "outputs": []
    },
    {
      "cell_type": "code",
      "metadata": {
        "id": "-JWF4TRQ1CMH",
        "colab_type": "code",
        "colab": {},
        "outputId": "b2710f3a-1c5a-4f29-df10-6c0e5d48a977"
      },
      "source": [
        "print(session.run(edit_distance, feed_dict=feed_dict))"
      ],
      "execution_count": 0,
      "outputs": [
        {
          "output_type": "stream",
          "text": [
            "[[1.       ]\n",
            " [0.7777778]\n",
            " [0.8888889]\n",
            " [0.8888889]\n",
            " [0.8888889]]\n"
          ],
          "name": "stdout"
        }
      ]
    },
    {
      "cell_type": "markdown",
      "metadata": {
        "id": "zaqEuBKg1CMM",
        "colab_type": "text"
      },
      "source": [
        "# Otras distancias para comparar palabras"
      ]
    },
    {
      "cell_type": "markdown",
      "metadata": {
        "id": "5ld3s6rn1CMN",
        "colab_type": "text"
      },
      "source": [
        "### Distancia de Hamming\n",
        "- Número de caracteres iguales en la misma posición. \n",
        "- Las dos palabras deben ser de la misma longitud\n",
        "$$D(s_1,s_2) = \\sum_{i=1}^n I_i$$\n",
        "donde $I_i=1$ si las dos palabras tienen el mismo caracter en la posición i-ésima  y 0 en otro caso"
      ]
    },
    {
      "cell_type": "markdown",
      "metadata": {
        "id": "MGQTYqby1CMO",
        "colab_type": "text"
      },
      "source": [
        "### Distancia del Coseno\n",
        "- Obtenemos el producto escalar del vector de k-gramas de cada palabra dividida por la norma dos de los mismos\n",
        "$$D(s_1,s_2) = 1 - \\frac{k(s_1)\\cdot k(s_2)}{||k(s_1)||||k(s_2)||}$$"
      ]
    },
    {
      "cell_type": "markdown",
      "metadata": {
        "id": "Tz3c4zvK1CMP",
        "colab_type": "text"
      },
      "source": [
        "### Distancia de Jaccard\n",
        "- Numero de caracteres en común entre las dos palabras dividido por la unión total de caracteres de ambas palabras\n",
        "$$D(s_1,s_2) = \\frac{|s_1\\cap s_2|}{|s_1\\cup s_2|}$$"
      ]
    },
    {
      "cell_type": "code",
      "metadata": {
        "id": "KGw661WR1CMQ",
        "colab_type": "code",
        "colab": {}
      },
      "source": [
        ""
      ],
      "execution_count": 0,
      "outputs": []
    }
  ]
}