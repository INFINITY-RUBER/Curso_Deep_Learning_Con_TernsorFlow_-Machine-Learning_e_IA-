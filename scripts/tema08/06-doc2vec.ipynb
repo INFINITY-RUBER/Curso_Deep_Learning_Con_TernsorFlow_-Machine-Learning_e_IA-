{
  "nbformat": 4,
  "nbformat_minor": 0,
  "metadata": {
    "kernelspec": {
      "display_name": "Python 3",
      "language": "python",
      "name": "python3"
    },
    "language_info": {
      "codemirror_mode": {
        "name": "ipython",
        "version": 3
      },
      "file_extension": ".py",
      "mimetype": "text/x-python",
      "name": "python",
      "nbconvert_exporter": "python",
      "pygments_lexer": "ipython3",
      "version": "3.5.5"
    },
    "colab": {
      "name": "06-doc2vec.ipynb",
      "provenance": [],
      "include_colab_link": true
    },
    "accelerator": "GPU"
  },
  "cells": [
    {
      "cell_type": "markdown",
      "metadata": {
        "id": "view-in-github",
        "colab_type": "text"
      },
      "source": [
        "<a href=\"https://colab.research.google.com/github/INFINITY-RUBER/Curso_Deep_Learning_Con_TernsorFlow_Machine-Learning_e_IA-/blob/master/scripts/tema08/06-doc2vec.ipynb\" target=\"_parent\"><img src=\"https://colab.research.google.com/assets/colab-badge.svg\" alt=\"Open In Colab\"/></a>"
      ]
    },
    {
      "cell_type": "markdown",
      "metadata": {
        "id": "LSc7IqTn3CAm",
        "colab_type": "text"
      },
      "source": [
        "# Doc2Vec"
      ]
    },
    {
      "cell_type": "code",
      "metadata": {
        "id": "U1nTx8553NIe",
        "colab_type": "code",
        "colab": {}
      },
      "source": [
        "#!pip install tensorflow==1.14\n"
      ],
      "execution_count": 0,
      "outputs": []
    },
    {
      "cell_type": "code",
      "metadata": {
        "id": "FKMYEE_c55Va",
        "colab_type": "code",
        "colab": {
          "base_uri": "https://localhost:8080/",
          "height": 54
        },
        "outputId": "95e09b60-f789-468f-ff5a-e23ebc2582e0"
      },
      "source": [
        "import tensorflow as tf\n",
        "import matplotlib.pyplot as plt\n",
        "import numpy as np\n",
        "import string\n",
        "import nltk\n",
        "nltk.download('stopwords')\n",
        "from nltk.corpus import stopwords\n",
        "import pickle\n",
        "import os\n",
        "import nlp_helpers # libreria que creamos anteriormente"
      ],
      "execution_count": 87,
      "outputs": [
        {
          "output_type": "stream",
          "text": [
            "[nltk_data] Downloading package stopwords to /root/nltk_data...\n",
            "[nltk_data]   Package stopwords is already up-to-date!\n"
          ],
          "name": "stdout"
        }
      ]
    },
    {
      "cell_type": "code",
      "metadata": {
        "id": "s5VmY4xl3CAo",
        "colab_type": "code",
        "colab": {
          "base_uri": "https://localhost:8080/",
          "height": 54
        },
        "outputId": "cf69d515-5adb-4bbe-b8d7-b9e68bba37e7"
      },
      "source": [
        "print(tf.__version__)\n",
        "#from nltk.corpus import stopwords\n",
        "import tensorflow as tf\n",
        "tf.test.gpu_device_name()"
      ],
      "execution_count": 88,
      "outputs": [
        {
          "output_type": "stream",
          "text": [
            "1.14.0\n"
          ],
          "name": "stdout"
        },
        {
          "output_type": "execute_result",
          "data": {
            "text/plain": [
              "''"
            ]
          },
          "metadata": {
            "tags": []
          },
          "execution_count": 88
        }
      ]
    },
    {
      "cell_type": "code",
      "metadata": {
        "id": "ntYfBUYi_wKt",
        "colab_type": "code",
        "colab": {}
      },
      "source": [
        "from tensorflow.python.client import device_lib\n",
        "device_lib.list_local_devices()"
      ],
      "execution_count": 0,
      "outputs": []
    },
    {
      "cell_type": "code",
      "metadata": {
        "id": "XnjeXJ923CA2",
        "colab_type": "code",
        "colab": {}
      },
      "source": [
        "session = tf.Session()"
      ],
      "execution_count": 0,
      "outputs": []
    },
    {
      "cell_type": "code",
      "metadata": {
        "id": "T5c9LeMf3CA-",
        "colab_type": "code",
        "colab": {}
      },
      "source": [
        "texts, target = nlp_helpers.load_movies_data()"
      ],
      "execution_count": 0,
      "outputs": []
    },
    {
      "cell_type": "code",
      "metadata": {
        "id": "rQIhZc0B3CBF",
        "colab_type": "code",
        "colab": {}
      },
      "source": [
        "batch_size = 500\n",
        "vocabulary_size = 7500\n",
        "generations = 20000\n",
        "model_learning_rate = 0.001\n",
        "embedding_size = 200\n",
        "doc_embedding_size = 100\n",
        "concatenated_size = embedding_size + doc_embedding_size\n",
        "num_sampled = int(batch_size/2)\n",
        "window_size = 3\n",
        "\n",
        "save_embedding_every = 1000\n",
        "print_valid_every = 2000\n",
        "print_loss_every = 500\n",
        "\n",
        "stops = stopwords.words('english')\n",
        "valid_words = ['love', 'hate', 'happy', 'sad', 'man', 'woman', 'movie']"
      ],
      "execution_count": 0,
      "outputs": []
    },
    {
      "cell_type": "code",
      "metadata": {
        "id": "0flnaUaV3CBL",
        "colab_type": "code",
        "colab": {}
      },
      "source": [
        "texts = nlp_helpers.normalize_text(texts, stops)\n",
        "target = [target[ix] for ix, x in enumerate(texts) if len(x.split())>window_size]\n",
        "texts = [x for x in texts if len(x.split())>window_size]\n",
        "assert(len(target)==len(texts))"
      ],
      "execution_count": 0,
      "outputs": []
    },
    {
      "cell_type": "code",
      "metadata": {
        "id": "mdqchiSG3CBS",
        "colab_type": "code",
        "colab": {
          "base_uri": "https://localhost:8080/",
          "height": 35
        },
        "outputId": "fedbae3c-0897-4741-f789-cc5532a27a41"
      },
      "source": [
        "word_dictionary = nlp_helpers.build_dictionary(texts, vocabulary_size)\n",
        "word_dictionary_rev = dict(zip(word_dictionary.values(), word_dictionary.keys()))\n",
        "text_data = nlp2_helpers.text_to_numbers(texts, word_dictionary)\n",
        "valid_examples = [word_dictionary[x] for x in valid_words]\n",
        "valid_examples"
      ],
      "execution_count": 95,
      "outputs": [
        {
          "output_type": "execute_result",
          "data": {
            "text/plain": [
              "[28, 980, 791, 354, 131, 565, 2]"
            ]
          },
          "metadata": {
            "tags": []
          },
          "execution_count": 95
        }
      ]
    },
    {
      "cell_type": "code",
      "metadata": {
        "id": "DZDrOqA93CBd",
        "colab_type": "code",
        "colab": {}
      },
      "source": [
        "embeddings = tf.Variable(tf.random_uniform([vocabulary_size, embedding_size], -1.0, 1.0))\n",
        "doc_embeddings = tf.Variable(tf.random_uniform([len(texts), doc_embedding_size], -1.0,1.0))\n",
        "nce_weights = tf.Variable(tf.truncated_normal([vocabulary_size, concatenated_size],\n",
        "                                             stddev=1.0/np.sqrt(concatenated_size)))\n",
        "nce_biases = tf.Variable(tf.zeros([vocabulary_size]))"
      ],
      "execution_count": 0,
      "outputs": []
    },
    {
      "cell_type": "code",
      "metadata": {
        "id": "wqvg7PXP3CBm",
        "colab_type": "code",
        "colab": {}
      },
      "source": [
        "x_inputs = tf.placeholder(tf.int32, shape=[None, window_size+1])\n",
        "y_target = tf.placeholder(tf.int32, shape = [None, 1])\n",
        "valid_dataset = tf.constant(valid_examples, dtype=tf.int32)"
      ],
      "execution_count": 0,
      "outputs": []
    },
    {
      "cell_type": "code",
      "metadata": {
        "id": "bCd-n0QK3CBs",
        "colab_type": "code",
        "colab": {}
      },
      "source": [
        "embed = tf.zeros([batch_size, embedding_size])\n",
        "for element in range(window_size):\n",
        "    embed += tf.nn.embedding_lookup(embeddings, x_inputs[:, element])\n",
        "doc_idx = tf.slice(x_inputs, [0, window_size], [batch_size,1])\n",
        "doc_embed = tf.nn.embedding_lookup(doc_embeddings, doc_idx)\n",
        "final_embed = tf.concat([embed, tf.squeeze(doc_embed)], axis=1)"
      ],
      "execution_count": 0,
      "outputs": []
    },
    {
      "cell_type": "code",
      "metadata": {
        "id": "we8kWUVU3CBy",
        "colab_type": "code",
        "colab": {}
      },
      "source": [
        "loss = tf.reduce_mean(tf.nn.nce_loss(weights=nce_weights, biases=nce_biases,\n",
        "                                    labels = y_target, inputs = final_embed,\n",
        "                                    num_sampled=num_sampled, num_classes = vocabulary_size))"
      ],
      "execution_count": 0,
      "outputs": []
    },
    {
      "cell_type": "code",
      "metadata": {
        "id": "UXr_5hjQ3CB5",
        "colab_type": "code",
        "colab": {}
      },
      "source": [
        "optim = tf.train.GradientDescentOptimizer(learning_rate=model_learning_rate)\n",
        "train_step = optim.minimize(loss)"
      ],
      "execution_count": 0,
      "outputs": []
    },
    {
      "cell_type": "code",
      "metadata": {
        "id": "0fV4JEoA3CCB",
        "colab_type": "code",
        "colab": {}
      },
      "source": [
        "norm = tf.sqrt(tf.reduce_sum(tf.square(embeddings),1, keepdims=True))\n",
        "normalized_embeddings = embeddings/norm\n",
        "valid_embeddings = tf.nn.embedding_lookup(normalized_embeddings, valid_dataset)\n",
        "similarity = tf.matmul(valid_embeddings, normalized_embeddings, transpose_b=True)"
      ],
      "execution_count": 0,
      "outputs": []
    },
    {
      "cell_type": "code",
      "metadata": {
        "id": "BOsbyw6Q3CCL",
        "colab_type": "code",
        "colab": {}
      },
      "source": [
        "saver = tf.train.Saver({\"embeddings\":embeddings, \"doc_embeddings\":doc_embeddings})\n",
        "init = tf.global_variables_initializer()\n",
        "session.run(init)"
      ],
      "execution_count": 0,
      "outputs": []
    },
    {
      "cell_type": "code",
      "metadata": {
        "id": "1JqfOcjR3CCU",
        "colab_type": "code",
        "colab": {
          "base_uri": "https://localhost:8080/",
          "height": 1000
        },
        "outputId": "113bcc94-8c26-4daf-ebac-ac2ebcfb0416"
      },
      "source": [
        "loss_vect = []\n",
        "loss_x_vect = []\n",
        "for i in range(generations):\n",
        "    batch_inputs, batch_labels = nlp_helpers.generate_batch_data(text_data, batch_size, window_size, 'doc2vec')\n",
        "    feed_dict = {x_inputs: batch_inputs, y_target: batch_labels}\n",
        "    session.run(train_step, feed_dict=feed_dict)\n",
        "    \n",
        "    if(i+1) % print_loss_every == 0:\n",
        "        loss_val = session.run(loss, feed_dict=feed_dict)\n",
        "        loss_vect.append(loss_val)\n",
        "        loss_x_vect.append(i+1)\n",
        "        print(\"Pérdidas en el paso {}: {}\".format(i+1, loss_val))\n",
        "        \n",
        "    if(i+1) % print_valid_every == 0:\n",
        "        sim = session.run(similarity, feed_dict=feed_dict)\n",
        "        for j in range(len(valid_words)):\n",
        "            valid_word = word_dictionary_rev[valid_examples[j]]\n",
        "            top_k = 5\n",
        "            nearest = (-sim[j,:]).argsort()[1:top_k+1]\n",
        "            log_str = \"Palabras más cercanas a {}: \".format(valid_word)\n",
        "            for k in range(top_k):\n",
        "                close_word = word_dictionary_rev[nearest[k]]\n",
        "                log_str = '{}\\n -{}'.format(log_str, close_word)\n",
        "            print(log_str)\n",
        "    if (i+1) % save_embedding_every == 0:\n",
        "        with open(os.path.join(\"../../datasets\", 'doc2vec_movie_vocab.pkl'), 'wb') as f:\n",
        "            pickle.dump(word_dictionary, f)\n",
        "        model_checkpoint_path = os.path.join(\"../../datasets\", 'doc2vec_movie_embeddings.ckpt')\n",
        "        save_path = saver.save(session, model_checkpoint_path)\n",
        "        print(\"Modelo guardado en: {}\".format(save_path))"
      ],
      "execution_count": 104,
      "outputs": [
        {
          "output_type": "stream",
          "text": [
            "Pérdidas en el paso 500: 182.13194274902344\n",
            "Pérdidas en el paso 1000: 57.32429504394531\n",
            "Modelo guardado en: ../../datasets/doc2vec_movie_embeddings.ckpt\n",
            "Pérdidas en el paso 1500: 32.22222900390625\n",
            "Pérdidas en el paso 2000: 15.282027244567871\n",
            "Palabras más cercanas a love: \n",
            " -diaz\n",
            " -tropes\n",
            " -bottom\n",
            " -odds\n",
            " -washingtons\n",
            "Palabras más cercanas a hate: \n",
            " -dire\n",
            " -claim\n",
            " -visit\n",
            " -damned\n",
            " -darker\n",
            "Palabras más cercanas a happy: \n",
            " -palmas\n",
            " -remembered\n",
            " -success\n",
            " -importantly\n",
            " -variation\n",
            "Palabras más cercanas a sad: \n",
            " -folks\n",
            " -plot\n",
            " -discomfort\n",
            " -temptation\n",
            " -pause\n",
            "Palabras más cercanas a man: \n",
            " -theatre\n",
            " -turns\n",
            " -fortunately\n",
            " -shootemup\n",
            " -lurid\n",
            "Palabras más cercanas a woman: \n",
            " -cry\n",
            " -alist\n",
            " -tiny\n",
            " -r\n",
            " -laissezpasser\n",
            "Palabras más cercanas a movie: \n",
            " -standards\n",
            " -lectures\n",
            " -errol\n",
            " -leads\n",
            " -mild\n",
            "Modelo guardado en: ../../datasets/doc2vec_movie_embeddings.ckpt\n",
            "Pérdidas en el paso 2500: 12.671266555786133\n",
            "Pérdidas en el paso 3000: 11.978609085083008\n",
            "Modelo guardado en: ../../datasets/doc2vec_movie_embeddings.ckpt\n",
            "Pérdidas en el paso 3500: 8.75925350189209\n",
            "Pérdidas en el paso 4000: 7.4930853843688965\n",
            "Palabras más cercanas a love: \n",
            " -diaz\n",
            " -tropes\n",
            " -bottom\n",
            " -odds\n",
            " -washingtons\n",
            "Palabras más cercanas a hate: \n",
            " -dire\n",
            " -claim\n",
            " -visit\n",
            " -damned\n",
            " -darker\n",
            "Palabras más cercanas a happy: \n",
            " -palmas\n",
            " -remembered\n",
            " -success\n",
            " -importantly\n",
            " -variation\n",
            "Palabras más cercanas a sad: \n",
            " -folks\n",
            " -plot\n",
            " -discomfort\n",
            " -temptation\n",
            " -pause\n",
            "Palabras más cercanas a man: \n",
            " -theatre\n",
            " -turns\n",
            " -fortunately\n",
            " -shootemup\n",
            " -lurid\n",
            "Palabras más cercanas a woman: \n",
            " -cry\n",
            " -alist\n",
            " -tiny\n",
            " -r\n",
            " -laissezpasser\n",
            "Palabras más cercanas a movie: \n",
            " -standards\n",
            " -lectures\n",
            " -errol\n",
            " -leads\n",
            " -mild\n",
            "Modelo guardado en: ../../datasets/doc2vec_movie_embeddings.ckpt\n",
            "Pérdidas en el paso 4500: 7.338576793670654\n",
            "Pérdidas en el paso 5000: 7.244622707366943\n",
            "Modelo guardado en: ../../datasets/doc2vec_movie_embeddings.ckpt\n",
            "Pérdidas en el paso 5500: 5.946495532989502\n",
            "Pérdidas en el paso 6000: 3.6907782554626465\n",
            "Palabras más cercanas a love: \n",
            " -diaz\n",
            " -tropes\n",
            " -bottom\n",
            " -odds\n",
            " -washingtons\n",
            "Palabras más cercanas a hate: \n",
            " -dire\n",
            " -claim\n",
            " -visit\n",
            " -damned\n",
            " -darker\n",
            "Palabras más cercanas a happy: \n",
            " -palmas\n",
            " -remembered\n",
            " -success\n",
            " -importantly\n",
            " -variation\n",
            "Palabras más cercanas a sad: \n",
            " -folks\n",
            " -plot\n",
            " -discomfort\n",
            " -temptation\n",
            " -pause\n",
            "Palabras más cercanas a man: \n",
            " -theatre\n",
            " -turns\n",
            " -fortunately\n",
            " -shootemup\n",
            " -lurid\n",
            "Palabras más cercanas a woman: \n",
            " -cry\n",
            " -alist\n",
            " -tiny\n",
            " -r\n",
            " -laissezpasser\n",
            "Palabras más cercanas a movie: \n",
            " -standards\n",
            " -lectures\n",
            " -errol\n",
            " -leads\n",
            " -mild\n",
            "Modelo guardado en: ../../datasets/doc2vec_movie_embeddings.ckpt\n",
            "Pérdidas en el paso 6500: 5.563593864440918\n",
            "Pérdidas en el paso 7000: 4.301260948181152\n",
            "Modelo guardado en: ../../datasets/doc2vec_movie_embeddings.ckpt\n",
            "Pérdidas en el paso 7500: 4.659964561462402\n",
            "Pérdidas en el paso 8000: 4.396757125854492\n",
            "Palabras más cercanas a love: \n",
            " -diaz\n",
            " -tropes\n",
            " -bottom\n",
            " -odds\n",
            " -washingtons\n",
            "Palabras más cercanas a hate: \n",
            " -dire\n",
            " -claim\n",
            " -visit\n",
            " -damned\n",
            " -darker\n",
            "Palabras más cercanas a happy: \n",
            " -palmas\n",
            " -remembered\n",
            " -success\n",
            " -importantly\n",
            " -variation\n",
            "Palabras más cercanas a sad: \n",
            " -folks\n",
            " -plot\n",
            " -discomfort\n",
            " -temptation\n",
            " -pause\n",
            "Palabras más cercanas a man: \n",
            " -theatre\n",
            " -turns\n",
            " -fortunately\n",
            " -shootemup\n",
            " -lurid\n",
            "Palabras más cercanas a woman: \n",
            " -cry\n",
            " -alist\n",
            " -tiny\n",
            " -r\n",
            " -laissezpasser\n",
            "Palabras más cercanas a movie: \n",
            " -standards\n",
            " -lectures\n",
            " -errol\n",
            " -leads\n",
            " -mild\n",
            "Modelo guardado en: ../../datasets/doc2vec_movie_embeddings.ckpt\n",
            "Pérdidas en el paso 8500: 4.075429439544678\n",
            "Pérdidas en el paso 9000: 5.798999786376953\n",
            "Modelo guardado en: ../../datasets/doc2vec_movie_embeddings.ckpt\n",
            "Pérdidas en el paso 9500: 3.6876425743103027\n",
            "Pérdidas en el paso 10000: 3.002727746963501\n",
            "Palabras más cercanas a love: \n",
            " -diaz\n",
            " -tropes\n",
            " -bottom\n",
            " -odds\n",
            " -washingtons\n",
            "Palabras más cercanas a hate: \n",
            " -dire\n",
            " -claim\n",
            " -visit\n",
            " -damned\n",
            " -darker\n",
            "Palabras más cercanas a happy: \n",
            " -palmas\n",
            " -remembered\n",
            " -success\n",
            " -importantly\n",
            " -variation\n",
            "Palabras más cercanas a sad: \n",
            " -folks\n",
            " -plot\n",
            " -discomfort\n",
            " -temptation\n",
            " -pause\n",
            "Palabras más cercanas a man: \n",
            " -theatre\n",
            " -turns\n",
            " -fortunately\n",
            " -shootemup\n",
            " -lurid\n",
            "Palabras más cercanas a woman: \n",
            " -cry\n",
            " -alist\n",
            " -tiny\n",
            " -r\n",
            " -laissezpasser\n",
            "Palabras más cercanas a movie: \n",
            " -standards\n",
            " -lectures\n",
            " -errol\n",
            " -leads\n",
            " -mild\n",
            "Modelo guardado en: ../../datasets/doc2vec_movie_embeddings.ckpt\n",
            "Pérdidas en el paso 10500: 4.074256896972656\n",
            "Pérdidas en el paso 11000: 3.965648651123047\n",
            "Modelo guardado en: ../../datasets/doc2vec_movie_embeddings.ckpt\n",
            "Pérdidas en el paso 11500: 3.3356759548187256\n",
            "Pérdidas en el paso 12000: 2.6037144660949707\n",
            "Palabras más cercanas a love: \n",
            " -diaz\n",
            " -tropes\n",
            " -bottom\n",
            " -odds\n",
            " -washingtons\n",
            "Palabras más cercanas a hate: \n",
            " -dire\n",
            " -claim\n",
            " -visit\n",
            " -damned\n",
            " -darker\n",
            "Palabras más cercanas a happy: \n",
            " -palmas\n",
            " -remembered\n",
            " -success\n",
            " -importantly\n",
            " -variation\n",
            "Palabras más cercanas a sad: \n",
            " -folks\n",
            " -plot\n",
            " -discomfort\n",
            " -temptation\n",
            " -pause\n",
            "Palabras más cercanas a man: \n",
            " -theatre\n",
            " -turns\n",
            " -fortunately\n",
            " -shootemup\n",
            " -lurid\n",
            "Palabras más cercanas a woman: \n",
            " -cry\n",
            " -alist\n",
            " -tiny\n",
            " -r\n",
            " -laissezpasser\n",
            "Palabras más cercanas a movie: \n",
            " -standards\n",
            " -lectures\n",
            " -errol\n",
            " -leads\n",
            " -mild\n",
            "Modelo guardado en: ../../datasets/doc2vec_movie_embeddings.ckpt\n",
            "Pérdidas en el paso 12500: 4.099305629730225\n",
            "Pérdidas en el paso 13000: 2.2541003227233887\n",
            "Modelo guardado en: ../../datasets/doc2vec_movie_embeddings.ckpt\n",
            "Pérdidas en el paso 13500: 2.536059856414795\n",
            "Pérdidas en el paso 14000: 2.680577039718628\n",
            "Palabras más cercanas a love: \n",
            " -diaz\n",
            " -tropes\n",
            " -bottom\n",
            " -odds\n",
            " -washingtons\n",
            "Palabras más cercanas a hate: \n",
            " -dire\n",
            " -claim\n",
            " -visit\n",
            " -damned\n",
            " -darker\n",
            "Palabras más cercanas a happy: \n",
            " -palmas\n",
            " -remembered\n",
            " -success\n",
            " -importantly\n",
            " -variation\n",
            "Palabras más cercanas a sad: \n",
            " -folks\n",
            " -plot\n",
            " -discomfort\n",
            " -temptation\n",
            " -pause\n",
            "Palabras más cercanas a man: \n",
            " -theatre\n",
            " -turns\n",
            " -fortunately\n",
            " -shootemup\n",
            " -lurid\n",
            "Palabras más cercanas a woman: \n",
            " -cry\n",
            " -alist\n",
            " -tiny\n",
            " -r\n",
            " -laissezpasser\n",
            "Palabras más cercanas a movie: \n",
            " -standards\n",
            " -lectures\n",
            " -errol\n",
            " -leads\n",
            " -mild\n",
            "Modelo guardado en: ../../datasets/doc2vec_movie_embeddings.ckpt\n",
            "Pérdidas en el paso 14500: 3.4861984252929688\n",
            "Pérdidas en el paso 15000: 2.481048583984375\n",
            "Modelo guardado en: ../../datasets/doc2vec_movie_embeddings.ckpt\n",
            "Pérdidas en el paso 15500: 2.422548532485962\n",
            "Pérdidas en el paso 16000: 3.0776524543762207\n",
            "Palabras más cercanas a love: \n",
            " -diaz\n",
            " -tropes\n",
            " -bottom\n",
            " -odds\n",
            " -washingtons\n",
            "Palabras más cercanas a hate: \n",
            " -dire\n",
            " -claim\n",
            " -visit\n",
            " -damned\n",
            " -darker\n",
            "Palabras más cercanas a happy: \n",
            " -palmas\n",
            " -remembered\n",
            " -success\n",
            " -importantly\n",
            " -variation\n",
            "Palabras más cercanas a sad: \n",
            " -folks\n",
            " -plot\n",
            " -discomfort\n",
            " -temptation\n",
            " -pause\n",
            "Palabras más cercanas a man: \n",
            " -theatre\n",
            " -turns\n",
            " -fortunately\n",
            " -shootemup\n",
            " -lurid\n",
            "Palabras más cercanas a woman: \n",
            " -cry\n",
            " -alist\n",
            " -tiny\n",
            " -r\n",
            " -laissezpasser\n",
            "Palabras más cercanas a movie: \n",
            " -standards\n",
            " -lectures\n",
            " -errol\n",
            " -leads\n",
            " -mild\n",
            "Modelo guardado en: ../../datasets/doc2vec_movie_embeddings.ckpt\n",
            "Pérdidas en el paso 16500: 3.395793914794922\n",
            "Pérdidas en el paso 17000: 1.675033450126648\n",
            "Modelo guardado en: ../../datasets/doc2vec_movie_embeddings.ckpt\n",
            "Pérdidas en el paso 17500: 2.95357084274292\n",
            "Pérdidas en el paso 18000: 3.0736162662506104\n",
            "Palabras más cercanas a love: \n",
            " -diaz\n",
            " -tropes\n",
            " -bottom\n",
            " -odds\n",
            " -washingtons\n",
            "Palabras más cercanas a hate: \n",
            " -dire\n",
            " -claim\n",
            " -visit\n",
            " -damned\n",
            " -darker\n",
            "Palabras más cercanas a happy: \n",
            " -palmas\n",
            " -remembered\n",
            " -success\n",
            " -importantly\n",
            " -variation\n",
            "Palabras más cercanas a sad: \n",
            " -folks\n",
            " -plot\n",
            " -discomfort\n",
            " -temptation\n",
            " -pause\n",
            "Palabras más cercanas a man: \n",
            " -theatre\n",
            " -turns\n",
            " -fortunately\n",
            " -shootemup\n",
            " -lurid\n",
            "Palabras más cercanas a woman: \n",
            " -cry\n",
            " -alist\n",
            " -tiny\n",
            " -r\n",
            " -laissezpasser\n",
            "Palabras más cercanas a movie: \n",
            " -standards\n",
            " -lectures\n",
            " -errol\n",
            " -leads\n",
            " -mild\n",
            "Modelo guardado en: ../../datasets/doc2vec_movie_embeddings.ckpt\n",
            "Pérdidas en el paso 18500: 1.8687939643859863\n",
            "Pérdidas en el paso 19000: 1.7987779378890991\n",
            "Modelo guardado en: ../../datasets/doc2vec_movie_embeddings.ckpt\n",
            "Pérdidas en el paso 19500: 1.965071678161621\n",
            "Pérdidas en el paso 20000: 2.0439367294311523\n",
            "Palabras más cercanas a love: \n",
            " -diaz\n",
            " -tropes\n",
            " -bottom\n",
            " -odds\n",
            " -washingtons\n",
            "Palabras más cercanas a hate: \n",
            " -dire\n",
            " -claim\n",
            " -visit\n",
            " -damned\n",
            " -darker\n",
            "Palabras más cercanas a happy: \n",
            " -palmas\n",
            " -remembered\n",
            " -success\n",
            " -importantly\n",
            " -variation\n",
            "Palabras más cercanas a sad: \n",
            " -folks\n",
            " -plot\n",
            " -discomfort\n",
            " -temptation\n",
            " -pause\n",
            "Palabras más cercanas a man: \n",
            " -theatre\n",
            " -turns\n",
            " -fortunately\n",
            " -shootemup\n",
            " -lurid\n",
            "Palabras más cercanas a woman: \n",
            " -cry\n",
            " -alist\n",
            " -tiny\n",
            " -r\n",
            " -laissezpasser\n",
            "Palabras más cercanas a movie: \n",
            " -standards\n",
            " -lectures\n",
            " -errol\n",
            " -leads\n",
            " -mild\n",
            "Modelo guardado en: ../../datasets/doc2vec_movie_embeddings.ckpt\n"
          ],
          "name": "stdout"
        }
      ]
    },
    {
      "cell_type": "code",
      "metadata": {
        "id": "C_BhyjyDUoXI",
        "colab_type": "code",
        "colab": {
          "base_uri": "https://localhost:8080/",
          "height": 126
        },
        "outputId": "3a6d0a60-4766-4042-eb25-bab480619292"
      },
      "source": [
        "!ls ../../datasets"
      ],
      "execution_count": 105,
      "outputs": [
        {
          "output_type": "stream",
          "text": [
            "checkpoint\n",
            "doc2vec_movie_embeddings.ckpt.data-00000-of-00001\n",
            "doc2vec_movie_embeddings.ckpt.index\n",
            "doc2vec_movie_embeddings.ckpt.meta\n",
            "doc2vec_movie_vocab.pkl\n",
            "movies_data\n"
          ],
          "name": "stdout"
        }
      ]
    },
    {
      "cell_type": "code",
      "metadata": {
        "id": "3--E8fS4VjH6",
        "colab_type": "code",
        "colab": {}
      },
      "source": [
        ""
      ],
      "execution_count": 0,
      "outputs": []
    },
    {
      "cell_type": "code",
      "metadata": {
        "id": "ztaAS38b3CCf",
        "colab_type": "code",
        "colab": {
          "base_uri": "https://localhost:8080/",
          "height": 281
        },
        "outputId": "9013d356-76b6-43ff-e8aa-1d0e28cbb782"
      },
      "source": [
        "plt.plot(loss_x_vect, loss_vect, 'k-', label = \"Función de pérdidas\")\n",
        "plt.title(\"Pérdidas en entrenamiento\")\n",
        "plt.show()"
      ],
      "execution_count": 111,
      "outputs": [
        {
          "output_type": "display_data",
          "data": {
            "image/png": "[encoded data removed]",
            "text/plain": [
              "<Figure size 432x288 with 1 Axes>"
            ]
          },
          "metadata": {
            "tags": [],
            "needs_background": "light"
          }
        }
      ]
    },
    {
      "cell_type": "markdown",
      "metadata": {
        "id": "1Vzws2Gy3CCl",
        "colab_type": "text"
      },
      "source": [
        "## Análisis de sentimiento con doc2vec"
      ]
    },
    {
      "cell_type": "code",
      "metadata": {
        "id": "ucnxaBLi3CCm",
        "colab_type": "code",
        "colab": {}
      },
      "source": [
        "max_words = 20\n",
        "logistic_batch_size = 500 "
      ],
      "execution_count": 0,
      "outputs": []
    },
    {
      "cell_type": "code",
      "metadata": {
        "id": "zkdJsAgc3CCs",
        "colab_type": "code",
        "colab": {}
      },
      "source": [
        "train_idx = np.sort(np.random.choice(len(target), round(0.8*len(target)), replace = False))\n",
        "test_idx = np.sort(np.array(list(set(range(len(target)))-set(train_idx))))"
      ],
      "execution_count": 0,
      "outputs": []
    },
    {
      "cell_type": "code",
      "metadata": {
        "id": "AXS6VWw33CCz",
        "colab_type": "code",
        "colab": {}
      },
      "source": [
        "texts_train = [x for ix, x in enumerate(texts) if ix in train_idx]\n",
        "texts_test = [x for ix, x in enumerate(texts) if ix in test_idx]\n",
        "target_train = np.array([x for ix, x in enumerate(target) if ix in train_idx])\n",
        "target_test = np.array([x for ix, x in enumerate(target) if ix in test_idx])"
      ],
      "execution_count": 0,
      "outputs": []
    },
    {
      "cell_type": "code",
      "metadata": {
        "id": "JHVN3hjd3CC4",
        "colab_type": "code",
        "colab": {}
      },
      "source": [
        "text_data_train = np.array(nlp_helpers.text_to_numbers(texts_train, word_dictionary))\n",
        "text_data_test = np.array(nlp_helpers.text_to_numbers(texts_test, word_dictionary))\n",
        "\n",
        "text_data_train = np.array([x[0:max_words] for x in [y + [0]*max_words for y in text_data_train]])\n",
        "text_data_test = np.array([x[0:max_words] for x in [y + [0]*max_words for y in text_data_test]])"
      ],
      "execution_count": 0,
      "outputs": []
    },
    {
      "cell_type": "code",
      "metadata": {
        "id": "95Y9XdMo3CC9",
        "colab_type": "code",
        "colab": {}
      },
      "source": [
        "log_x_inputs = tf.placeholder(tf.int32, shape=[None, max_words+1])\n",
        "log_y_target = tf.placeholder(tf.int32, shape=[None,1])"
      ],
      "execution_count": 0,
      "outputs": []
    },
    {
      "cell_type": "code",
      "metadata": {
        "id": "eOEdD0v-3CDC",
        "colab_type": "code",
        "colab": {}
      },
      "source": [
        "log_embed = tf.zeros([logistic_batch_size, embedding_size])\n",
        "for element in range(max_words):\n",
        "    log_embed += tf.nn.embedding_lookup(embeddings, log_x_inputs[:, element])\n",
        "log_doc_idx = tf.slice(log_x_inputs, [0, max_words], [logistic_batch_size, 1])\n",
        "log_doc_embed = tf.nn.embedding_lookup(doc_embeddings, log_doc_idx)\n",
        "log_final_embed = tf.concat([log_embed, tf.squeeze(log_doc_embed)], axis = 1)"
      ],
      "execution_count": 0,
      "outputs": []
    },
    {
      "cell_type": "code",
      "metadata": {
        "id": "Laojw1mf3CDH",
        "colab_type": "code",
        "colab": {}
      },
      "source": [
        "A = tf.Variable(tf.random_normal(shape=[concatenated_size, 1]))\n",
        "b = tf.Variable(tf.random_normal(shape=[1,1]))\n",
        "model_output = tf.add(tf.matmul(log_final_embed, A), b)\n",
        "logistic_loss = tf.reduce_mean(tf.nn.sigmoid_cross_entropy_with_logits(logits=model_output, \n",
        "                                                                       labels=tf.cast(log_y_target, tf.float32)))"
      ],
      "execution_count": 0,
      "outputs": []
    },
    {
      "cell_type": "code",
      "metadata": {
        "id": "quJUzqqx3CDN",
        "colab_type": "code",
        "colab": {}
      },
      "source": [
        "prediction = tf.round(tf.sigmoid(model_output))\n",
        "predictions_correct = tf.cast(tf.equal(prediction, tf.cast(log_y_target, tf.float32)), tf.float32)\n",
        "accuracy = tf.reduce_mean(predictions_correct)"
      ],
      "execution_count": 0,
      "outputs": []
    },
    {
      "cell_type": "code",
      "metadata": {
        "id": "yIgsUb6k3CDj",
        "colab_type": "code",
        "colab": {}
      },
      "source": [
        "# optimizador\n",
        "logistic_opt = tf.train.GradientDescentOptimizer(learning_rate=0.01)\n",
        "logistic_train_step = logistic_opt.minimize(logistic_loss, var_list=[A,b])"
      ],
      "execution_count": 0,
      "outputs": []
    },
    {
      "cell_type": "code",
      "metadata": {
        "id": "af1RUxxp3CDt",
        "colab_type": "code",
        "colab": {}
      },
      "source": [
        "init = tf.global_variables_initializer()\n",
        "session.run(init)"
      ],
      "execution_count": 0,
      "outputs": []
    },
    {
      "cell_type": "code",
      "metadata": {
        "id": "x9WHYYdH3CD1",
        "colab_type": "code",
        "colab": {
          "base_uri": "https://localhost:8080/",
          "height": 381
        },
        "outputId": "19e56fee-87b5-4621-bf5f-3aedd293026a"
      },
      "source": [
        "train_loss = []\n",
        "test_loss = []\n",
        "train_acc = []\n",
        "test_acc = []\n",
        "i_data = []\n",
        "\n",
        "for i in range(10000):\n",
        "    rand_idx = np.random.choice(text_data_train.shape[0], size = logistic_batch_size)\n",
        "    rand_x = text_data_train[rand_idx]\n",
        "    rand_x_doc_idx = train_idx[rand_idx]\n",
        "    rand_x = np.hstack((rand_x, np.transpose([rand_x_doc_idx])))# unir horizontalmente\n",
        "    rand_y = np.transpose([target_train[rand_idx]])\n",
        "    \n",
        "    feed_dict={log_x_inputs: rand_x, log_y_target: rand_y}\n",
        "    session.run(logistic_train_step, feed_dict=feed_dict)\n",
        "    \n",
        "    if(i+1)%100==0:\n",
        "        \n",
        "        rand_idx_test = np.random.choice(text_data_test.shape[0], size = logistic_batch_size)\n",
        "        rand_x_test = text_data_test[rand_idx_test]\n",
        "        rand_x_doc_idx_test = test_idx[rand_idx_test]\n",
        "        rand_x_test = np.hstack((rand_x_test, np.transpose([rand_x_doc_idx_test])))\n",
        "        rand_y_test = np.transpose([target_test[rand_idx_test]])\n",
        "\n",
        "        feed_dict_test={log_x_inputs: rand_x_test, log_y_target: rand_y_test}\n",
        "    \n",
        "        \n",
        "        i_data.append(i+1)\n",
        "        \n",
        "        train_loss_temp = session.run(logistic_loss, feed_dict=feed_dict)\n",
        "        train_loss.append(train_loss_temp)\n",
        "        \n",
        "        test_loss_temp = session.run(logistic_loss, feed_dict=feed_dict_test)\n",
        "        test_loss.append(test_loss_temp)\n",
        "        \n",
        "        train_acc_temp = session.run(accuracy, feed_dict=feed_dict)\n",
        "        train_acc.append(train_acc_temp)\n",
        "        \n",
        "        test_acc_temp = session.run(accuracy, feed_dict=feed_dict_test)\n",
        "        test_acc.append(test_acc_temp)\n",
        "        \n",
        "    if(i+1)%500==0:\n",
        "        acc_and_loss = [i+1, train_loss_temp, test_loss_temp, train_acc_temp, test_acc_temp]\n",
        "        acc_and_loss = [np.round(x,3) for x in acc_and_loss]\n",
        "        print(\"Paso #{}, Train Loss {}, Test Loss {}. Train Acc {}, Test Acc{}\".format(*acc_and_loss))"
      ],
      "execution_count": 124,
      "outputs": [
        {
          "output_type": "stream",
          "text": [
            "Paso #500, Train Loss 11.130000114440918, Test Loss 9.574999809265137. Train Acc 0.5120000243186951, Test Acc0.5640000104904175\n",
            "Paso #1000, Train Loss 11.029999732971191, Test Loss 10.189000129699707. Train Acc 0.48399999737739563, Test Acc0.5299999713897705\n",
            "Paso #1500, Train Loss 10.097000122070312, Test Loss 9.553999900817871. Train Acc 0.4819999933242798, Test Acc0.5120000243186951\n",
            "Paso #2000, Train Loss 10.109999656677246, Test Loss 9.482999801635742. Train Acc 0.5059999823570251, Test Acc0.5419999957084656\n",
            "Paso #2500, Train Loss 7.86899995803833, Test Loss 8.666999816894531. Train Acc 0.49399998784065247, Test Acc0.492000013589859\n",
            "Paso #3000, Train Loss 6.4029998779296875, Test Loss 6.031000137329102. Train Acc 0.4880000054836273, Test Acc0.5180000066757202\n",
            "Paso #3500, Train Loss 10.6850004196167, Test Loss 10.727999687194824. Train Acc 0.5080000162124634, Test Acc0.5120000243186951\n",
            "Paso #4000, Train Loss 9.607999801635742, Test Loss 10.020000457763672. Train Acc 0.515999972820282, Test Acc0.515999972820282\n",
            "Paso #4500, Train Loss 9.66100025177002, Test Loss 9.852999687194824. Train Acc 0.49799999594688416, Test Acc0.4959999918937683\n",
            "Paso #5000, Train Loss 9.062000274658203, Test Loss 8.571999549865723. Train Acc 0.5120000243186951, Test Acc0.5299999713897705\n",
            "Paso #5500, Train Loss 9.70199966430664, Test Loss 9.947999954223633. Train Acc 0.4779999852180481, Test Acc0.47600001096725464\n",
            "Paso #6000, Train Loss 9.086000442504883, Test Loss 8.368000030517578. Train Acc 0.47200000286102295, Test Acc0.5099999904632568\n",
            "Paso #6500, Train Loss 8.397000312805176, Test Loss 7.258999824523926. Train Acc 0.47600001096725464, Test Acc0.5199999809265137\n",
            "Paso #7000, Train Loss 10.491000175476074, Test Loss 10.793999671936035. Train Acc 0.5120000243186951, Test Acc0.5\n",
            "Paso #7500, Train Loss 11.486000061035156, Test Loss 10.65999984741211. Train Acc 0.4880000054836273, Test Acc0.5199999809265137\n",
            "Paso #8000, Train Loss 10.91100025177002, Test Loss 11.045000076293945. Train Acc 0.5040000081062317, Test Acc0.5199999809265137\n",
            "Paso #8500, Train Loss 10.468999862670898, Test Loss 9.25100040435791. Train Acc 0.4620000123977661, Test Acc0.5220000147819519\n",
            "Paso #9000, Train Loss 10.446000099182129, Test Loss 10.6899995803833. Train Acc 0.5139999985694885, Test Acc0.5120000243186951\n",
            "Paso #9500, Train Loss 9.755999565124512, Test Loss 10.517000198364258. Train Acc 0.5059999823570251, Test Acc0.5040000081062317\n",
            "Paso #10000, Train Loss 11.201000213623047, Test Loss 11.218000411987305. Train Acc 0.527999997138977, Test Acc0.5360000133514404\n"
          ],
          "name": "stdout"
        }
      ]
    },
    {
      "cell_type": "code",
      "metadata": {
        "id": "kTsWyyYa3CD6",
        "colab_type": "code",
        "colab": {
          "base_uri": "https://localhost:8080/",
          "height": 295
        },
        "outputId": "7a2a57f6-425e-434f-f5d4-dc7846da23c0"
      },
      "source": [
        "plt.plot(i_data, train_loss, 'r-', label=\"Train Loss\")\n",
        "plt.plot(i_data, test_loss, 'b--', label=\"Test Loss\")\n",
        "plt.title(\"Entropía cruzada en función de pérdidas de doc2vec\")\n",
        "plt.xlabel(\"Iteración\")\n",
        "plt.ylabel(\"Pérdida en Entropía Cruzada\")\n",
        "plt.legend(loc = \"upper right\")\n",
        "plt.show()"
      ],
      "execution_count": 126,
      "outputs": [
        {
          "output_type": "display_data",
          "data": {
            "image/png": "[encoded data removed]",
            "text/plain": [
              "<Figure size 432x288 with 1 Axes>"
            ]
          },
          "metadata": {
            "tags": [],
            "needs_background": "light"
          }
        }
      ]
    },
    {
      "cell_type": "code",
      "metadata": {
        "id": "eQnkk6py3CEB",
        "colab_type": "code",
        "colab": {
          "base_uri": "https://localhost:8080/",
          "height": 295
        },
        "outputId": "383d9025-f8bd-4ffe-dfd6-40b8937b90ac"
      },
      "source": [
        "plt.plot(i_data, train_acc, 'r-', label=\"Precisión Train\")\n",
        "plt.plot(i_data, test_acc, 'b--', label=\"Precisión Test\")\n",
        "plt.title(\"Precisión del algoritmo en doc2vec\")\n",
        "plt.xlabel(\"Iteración\")\n",
        "plt.ylabel(\"Precisión\")\n",
        "plt.legend(loc = \"lower right\")\n",
        "plt.show()"
      ],
      "execution_count": 127,
      "outputs": [
        {
          "output_type": "display_data",
          "data": {
            "image/png": "[encoded data removed]",
            "text/plain": [
              "<Figure size 432x288 with 1 Axes>"
            ]
          },
          "metadata": {
            "tags": [],
            "needs_background": "light"
          }
        }
      ]
    },
    {
      "cell_type": "code",
      "metadata": {
        "id": "QbG9722P3CEH",
        "colab_type": "code",
        "colab": {}
      },
      "source": [
        ""
      ],
      "execution_count": 0,
      "outputs": []
    }
  ]
}