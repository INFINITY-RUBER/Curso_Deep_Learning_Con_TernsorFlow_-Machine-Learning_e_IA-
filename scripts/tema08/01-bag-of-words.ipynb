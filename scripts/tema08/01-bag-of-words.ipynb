{
  "nbformat": 4,
  "nbformat_minor": 0,
  "metadata": {
    "kernelspec": {
      "display_name": "Python 3",
      "language": "python",
      "name": "python3"
    },
    "language_info": {
      "codemirror_mode": {
        "name": "ipython",
        "version": 3
      },
      "file_extension": ".py",
      "mimetype": "text/x-python",
      "name": "python",
      "nbconvert_exporter": "python",
      "pygments_lexer": "ipython3",
      "version": "3.5.5"
    },
    "colab": {
      "name": "01-bag-of-words.ipynb",
      "provenance": [],
      "include_colab_link": true
    }
  },
  "cells": [
    {
      "cell_type": "markdown",
      "metadata": {
        "id": "view-in-github",
        "colab_type": "text"
      },
      "source": [
        "<a href=\"https://colab.research.google.com/github/INFINITY-RUBER/Curso_Deep_Learning_Con_TernsorFlow_Machine-Learning_e_IA-/blob/master/scripts/tema08/01-bag-of-words.ipynb\" target=\"_parent\"><img src=\"https://colab.research.google.com/assets/colab-badge.svg\" alt=\"Open In Colab\"/></a>"
      ]
    },
    {
      "cell_type": "code",
      "metadata": {
        "id": "CNJmlbDGwNP_",
        "colab_type": "code",
        "colab": {}
      },
      "source": [
        "#pip install tensorflow==1.14"
      ],
      "execution_count": 0,
      "outputs": []
    },
    {
      "cell_type": "markdown",
      "metadata": {
        "id": "Ypl45VaHunfT",
        "colab_type": "text"
      },
      "source": [
        "# Bag of Words para Spam/Ham"
      ]
    },
    {
      "cell_type": "code",
      "metadata": {
        "id": "XVQCGb5eunfW",
        "colab_type": "code",
        "colab": {}
      },
      "source": [
        "import tensorflow as tf\n",
        "import matplotlib.pyplot as plt\n",
        "import os\n",
        "import numpy as np\n",
        "import csv\n",
        "import string\n",
        "import requests\n",
        "import io\n",
        "from zipfile import ZipFile\n",
        "from tensorflow.contrib import learn"
      ],
      "execution_count": 0,
      "outputs": []
    },
    {
      "cell_type": "code",
      "metadata": {
        "id": "AkszaCzMunff",
        "colab_type": "code",
        "colab": {}
      },
      "source": [
        "save_file_name = os.path.join('sample_data','spam_data.csv')\n",
        "#save_file_name = os.path.join('..','..','datasets', 'spam_data.csv')\n",
        "if os.path.isfile(save_file_name):\n",
        "    #el fichero existe y solo hay que cargarlo\n",
        "    text_data = []\n",
        "    with open(save_file_name, 'r') as temp_output_file:\n",
        "        reader = csv.reader(temp_output_file)\n",
        "        for row in reader:\n",
        "            text_data.append(row)\n",
        "else: \n",
        "    ##el fichero no existe y debemos descargarlo\n",
        "    url = \"https://archive.ics.uci.edu/ml/machine-learning-databases/00228/smsspamcollection.zip\"\n",
        "    req = requests.get(url)\n",
        "    z = ZipFile(io.BytesIO(req.content))\n",
        "    file = z.read('SMSSpamCollection')\n",
        "    ##Transformar el fichero binario a texto\n",
        "    text_data = file.decode()\n",
        "    text_data = text_data.encode('ascii', errors='ignore')\n",
        "    text_data = text_data.decode().split('\\n')\n",
        "    text_data = [x.split('\\t') for x in text_data if len(x)>=1]\n",
        "    ##Guardar datos en CSV\n",
        "    with open(save_file_name, 'w') as temp_output_file:\n",
        "        writer = csv.writer(temp_output_file)\n",
        "        writer.writerows(text_data)\n",
        "\n",
        "        "
      ],
      "execution_count": 0,
      "outputs": []
    },
    {
      "cell_type": "code",
      "metadata": {
        "id": "zyE_j1P4unfn",
        "colab_type": "code",
        "colab": {
          "base_uri": "https://localhost:8080/",
          "height": 165
        },
        "outputId": "313e362f-ef06-40fc-fd02-c899ea26be75"
      },
      "source": [
        "text_data[0:5]"
      ],
      "execution_count": 5,
      "outputs": [
        {
          "output_type": "execute_result",
          "data": {
            "text/plain": [
              "[['ham',\n",
              "  'Go until jurong point, crazy.. Available only in bugis n great world la e buffet... Cine there got amore wat...'],\n",
              " ['ham', 'Ok lar... Joking wif u oni...'],\n",
              " ['spam',\n",
              "  \"Free entry in 2 a wkly comp to win FA Cup final tkts 21st May 2005. Text FA to 87121 to receive entry question(std txt rate)T&C's apply 08452810075over18's\"],\n",
              " ['ham', 'U dun say so early hor... U c already then say...'],\n",
              " ['ham', \"Nah I don't think he goes to usf, he lives around here though\"]]"
            ]
          },
          "metadata": {
            "tags": []
          },
          "execution_count": 5
        }
      ]
    },
    {
      "cell_type": "code",
      "metadata": {
        "id": "Q1FseZTGunfx",
        "colab_type": "code",
        "colab": {}
      },
      "source": [
        "texts = [x[1] for x in text_data]\n",
        "target = [x[0] for x in text_data]"
      ],
      "execution_count": 0,
      "outputs": []
    },
    {
      "cell_type": "code",
      "metadata": {
        "id": "kntCVIqjunf4",
        "colab_type": "code",
        "colab": {
          "base_uri": "https://localhost:8080/",
          "height": 146
        },
        "outputId": "e7136fbf-fb39-4970-b51f-80a6b2b0ecbc"
      },
      "source": [
        "print(type(texts))\n",
        "texts[0:5]"
      ],
      "execution_count": 7,
      "outputs": [
        {
          "output_type": "stream",
          "text": [
            "<class 'list'>\n"
          ],
          "name": "stdout"
        },
        {
          "output_type": "execute_result",
          "data": {
            "text/plain": [
              "['Go until jurong point, crazy.. Available only in bugis n great world la e buffet... Cine there got amore wat...',\n",
              " 'Ok lar... Joking wif u oni...',\n",
              " \"Free entry in 2 a wkly comp to win FA Cup final tkts 21st May 2005. Text FA to 87121 to receive entry question(std txt rate)T&C's apply 08452810075over18's\",\n",
              " 'U dun say so early hor... U c already then say...',\n",
              " \"Nah I don't think he goes to usf, he lives around here though\"]"
            ]
          },
          "metadata": {
            "tags": []
          },
          "execution_count": 7
        }
      ]
    },
    {
      "cell_type": "code",
      "metadata": {
        "id": "utKqf4XSunf_",
        "colab_type": "code",
        "colab": {
          "base_uri": "https://localhost:8080/",
          "height": 35
        },
        "outputId": "f9eef77c-cf24-4cbb-a859-0a9bc68da0cd"
      },
      "source": [
        "target[0:10]"
      ],
      "execution_count": 8,
      "outputs": [
        {
          "output_type": "execute_result",
          "data": {
            "text/plain": [
              "['ham', 'ham', 'spam', 'ham', 'ham', 'spam', 'ham', 'ham', 'spam', 'spam']"
            ]
          },
          "metadata": {
            "tags": []
          },
          "execution_count": 8
        }
      ]
    },
    {
      "cell_type": "code",
      "metadata": {
        "id": "kt0M_R9s1UvB",
        "colab_type": "code",
        "colab": {
          "base_uri": "https://localhost:8080/",
          "height": 35
        },
        "outputId": "bec13122-bc5e-4e97-e9c4-281813b440f1"
      },
      "source": [
        "target = [1 if x == 'spam' else 0 for x in target] # pasamos  Spam a cero y unos\n",
        "target[0:10]"
      ],
      "execution_count": 9,
      "outputs": [
        {
          "output_type": "execute_result",
          "data": {
            "text/plain": [
              "[0, 0, 1, 0, 0, 1, 0, 0, 1, 1]"
            ]
          },
          "metadata": {
            "tags": []
          },
          "execution_count": 9
        }
      ]
    },
    {
      "cell_type": "markdown",
      "metadata": {
        "id": "QnamzMBHungG",
        "colab_type": "text"
      },
      "source": [
        "### Pre procesado del texto"
      ]
    },
    {
      "cell_type": "code",
      "metadata": {
        "id": "_1XSa05U7Xz_",
        "colab_type": "code",
        "colab": {
          "base_uri": "https://localhost:8080/",
          "height": 92
        },
        "outputId": "2bbda759-1f32-4a7d-97cf-1b34893d68b7"
      },
      "source": [
        "# EJEMPLO DE QUITAR LOS SIGNOS DE PUNTUACION\n",
        "ejemplo = 'Go until jurong point, crazy.. Available only in bugis n great world la e buffet... Cine there got amore wat...'\n",
        "print(ejemplo)\n",
        "ejemplo1 = [''.join(c for c in x if c not in string.punctuation) for x in ejemplo]\n",
        "print(ejemplo1)\n",
        "text = [' '.join(x.split()) for x in ejemplo1]\n",
        "print(text)"
      ],
      "execution_count": 10,
      "outputs": [
        {
          "output_type": "stream",
          "text": [
            "Go until jurong point, crazy.. Available only in bugis n great world la e buffet... Cine there got amore wat...\n",
            "['G', 'o', ' ', 'u', 'n', 't', 'i', 'l', ' ', 'j', 'u', 'r', 'o', 'n', 'g', ' ', 'p', 'o', 'i', 'n', 't', '', ' ', 'c', 'r', 'a', 'z', 'y', '', '', ' ', 'A', 'v', 'a', 'i', 'l', 'a', 'b', 'l', 'e', ' ', 'o', 'n', 'l', 'y', ' ', 'i', 'n', ' ', 'b', 'u', 'g', 'i', 's', ' ', 'n', ' ', 'g', 'r', 'e', 'a', 't', ' ', 'w', 'o', 'r', 'l', 'd', ' ', 'l', 'a', ' ', 'e', ' ', 'b', 'u', 'f', 'f', 'e', 't', '', '', '', ' ', 'C', 'i', 'n', 'e', ' ', 't', 'h', 'e', 'r', 'e', ' ', 'g', 'o', 't', ' ', 'a', 'm', 'o', 'r', 'e', ' ', 'w', 'a', 't', '', '', '']\n",
            "['G', 'o', '', 'u', 'n', 't', 'i', 'l', '', 'j', 'u', 'r', 'o', 'n', 'g', '', 'p', 'o', 'i', 'n', 't', '', '', 'c', 'r', 'a', 'z', 'y', '', '', '', 'A', 'v', 'a', 'i', 'l', 'a', 'b', 'l', 'e', '', 'o', 'n', 'l', 'y', '', 'i', 'n', '', 'b', 'u', 'g', 'i', 's', '', 'n', '', 'g', 'r', 'e', 'a', 't', '', 'w', 'o', 'r', 'l', 'd', '', 'l', 'a', '', 'e', '', 'b', 'u', 'f', 'f', 'e', 't', '', '', '', '', 'C', 'i', 'n', 'e', '', 't', 'h', 'e', 'r', 'e', '', 'g', 'o', 't', '', 'a', 'm', 'o', 'r', 'e', '', 'w', 'a', 't', '', '', '']\n"
          ],
          "name": "stdout"
        }
      ]
    },
    {
      "cell_type": "code",
      "metadata": {
        "id": "ZhQQ-oE3ungH",
        "colab_type": "code",
        "colab": {}
      },
      "source": [
        "texts = [x.lower() for x in texts] # Convertir los textos a minúscula\n",
        "texts = [''.join(c for c in x if c not in string.punctuation) for x in texts] # Eliminamos signos de puntuación\n",
        "texts = [''.join(c for c in x if c not in '0123456789') for x in texts] # Eliminamos los números\n",
        "texts = [' '.join(x.split()) for x in texts] # Eliminar espacios en blanco y separadores extras"
      ],
      "execution_count": 0,
      "outputs": []
    },
    {
      "cell_type": "code",
      "metadata": {
        "id": "v20SCT2XungP",
        "colab_type": "code",
        "colab": {
          "base_uri": "https://localhost:8080/",
          "height": 281
        },
        "outputId": "fac33373-fe95-43ef-f91b-a53174fd6fba"
      },
      "source": [
        "texts_lengths = [len(x.split()) for x in texts]\n",
        "texts_lengths = [x for x in texts_lengths if x < 50]\n",
        "plt.hist(texts_lengths, bins=25)\n",
        "plt.title(\"Histograma del número de palabras por frase\")\n",
        "plt.show()"
      ],
      "execution_count": 20,
      "outputs": [
        {
          "output_type": "display_data",
          "data": {
            "image/png": "[encoded data removed]",
            "text/plain": [
              "<Figure size 432x288 with 1 Axes>"
            ]
          },
          "metadata": {
            "tags": [],
            "needs_background": "light"
          }
        }
      ]
    },
    {
      "cell_type": "code",
      "metadata": {
        "id": "CQ7QX2_xungW",
        "colab_type": "code",
        "colab": {}
      },
      "source": [
        "sentence_size = 40\n",
        "min_word_freq = 3"
      ],
      "execution_count": 0,
      "outputs": []
    },
    {
      "cell_type": "code",
      "metadata": {
        "id": "dJLblYVUungd",
        "colab_type": "code",
        "colab": {}
      },
      "source": [
        "vocab_processor = learn.preprocessing.VocabularyProcessor(sentence_size, min_frequency=min_word_freq)\n",
        "vocab_processor.fit_transform(texts)\n",
        "transformed_texts = np.array([x for x in vocab_processor.transform(texts)])\n",
        "embedding_size = len(np.unique(transformed_texts))"
      ],
      "execution_count": 0,
      "outputs": []
    },
    {
      "cell_type": "code",
      "metadata": {
        "id": "FitoSmMGungk",
        "colab_type": "code",
        "colab": {
          "base_uri": "https://localhost:8080/",
          "height": 35
        },
        "outputId": "8795855c-5b7a-4569-a227-38ff82b068a3"
      },
      "source": [
        "embedding_size # PALABRAS UNICAS"
      ],
      "execution_count": 24,
      "outputs": [
        {
          "output_type": "execute_result",
          "data": {
            "text/plain": [
              "2108"
            ]
          },
          "metadata": {
            "tags": []
          },
          "execution_count": 24
        }
      ]
    },
    {
      "cell_type": "code",
      "metadata": {
        "id": "kFeX4QjCungs",
        "colab_type": "code",
        "colab": {
          "base_uri": "https://localhost:8080/",
          "height": 145
        },
        "outputId": "4c41ae50-992d-4a9d-d028-90b088702be6"
      },
      "source": [
        "transformed_texts"
      ],
      "execution_count": 25,
      "outputs": [
        {
          "output_type": "execute_result",
          "data": {
            "text/plain": [
              "array([[  44,  455,    0, ...,    0,    0,    0],\n",
              "       [  47,  315, 1440, ...,    0,    0,    0],\n",
              "       [  46,  465,    9, ...,    0,    0,    0],\n",
              "       ...,\n",
              "       [   0,   59,    9, ...,    0,    0,    0],\n",
              "       [   5,  493,  108, ...,    0,    0,    0],\n",
              "       [   0,   40,  474, ...,    0,    0,    0]])"
            ]
          },
          "metadata": {
            "tags": []
          },
          "execution_count": 25
        }
      ]
    },
    {
      "cell_type": "code",
      "metadata": {
        "id": "HudHez25ungy",
        "colab_type": "code",
        "colab": {}
      },
      "source": [
        "texts"
      ],
      "execution_count": 0,
      "outputs": []
    },
    {
      "cell_type": "code",
      "metadata": {
        "id": "5GKJFWa1ung4",
        "colab_type": "code",
        "colab": {}
      },
      "source": [
        "train_idx = np.random.choice(len(texts), round(len(texts)*0.8), replace=False)\n",
        "test_idx = np.array(list(set(range(len(texts)))-set(train_idx)))\n",
        "\n",
        "texts_train = [x for ix, x in enumerate(texts) if ix in train_idx]\n",
        "texts_test = [x for ix, x in enumerate(texts) if ix in test_idx]\n",
        "target_train = [x for ix, x in enumerate(target) if ix in train_idx ]\n",
        "target_test = [x for ix, x in enumerate(target) if ix in test_idx]"
      ],
      "execution_count": 0,
      "outputs": []
    },
    {
      "cell_type": "code",
      "metadata": {
        "id": "sDrJvRAxung-",
        "colab_type": "code",
        "colab": {}
      },
      "source": [
        "identity_matrix = tf.diag(tf.ones(shape = [embedding_size]))"
      ],
      "execution_count": 0,
      "outputs": []
    },
    {
      "cell_type": "code",
      "metadata": {
        "id": "gZeg5TrHunhE",
        "colab_type": "code",
        "colab": {}
      },
      "source": [
        "A = tf.Variable(tf.random_normal(shape=[embedding_size,1]))\n",
        "b = tf.Variable(tf.random_normal(shape=[1,1]))"
      ],
      "execution_count": 0,
      "outputs": []
    },
    {
      "cell_type": "code",
      "metadata": {
        "id": "YDG5UFs8unhL",
        "colab_type": "code",
        "colab": {}
      },
      "source": [
        "x_data = tf.placeholder(shape=[sentence_size], dtype=tf.int32)\n",
        "y_target = tf.placeholder(shape = [1,1], dtype = tf.float32)"
      ],
      "execution_count": 0,
      "outputs": []
    },
    {
      "cell_type": "code",
      "metadata": {
        "id": "BMh_FAx9unhS",
        "colab_type": "code",
        "colab": {}
      },
      "source": [
        "x_embed = tf.nn.embedding_lookup(identity_matrix, x_data)# Tranformo la matriz en un vector de unos y ceros\n",
        "x_col_sums = tf.reduce_sum(x_embed,0)"
      ],
      "execution_count": 0,
      "outputs": []
    },
    {
      "cell_type": "code",
      "metadata": {
        "id": "zy0yPucGunhY",
        "colab_type": "code",
        "colab": {}
      },
      "source": [
        "x_col_sum_2D = tf.expand_dims(x_col_sums,0)\n",
        "model_output = tf.add(tf.matmul(x_col_sum_2D, A), b)"
      ],
      "execution_count": 0,
      "outputs": []
    },
    {
      "cell_type": "code",
      "metadata": {
        "id": "reTkO3JDunhd",
        "colab_type": "code",
        "colab": {}
      },
      "source": [
        "loss = tf.reduce_mean(tf.nn.sigmoid_cross_entropy_with_logits(logits=model_output, labels=y_target))"
      ],
      "execution_count": 0,
      "outputs": []
    },
    {
      "cell_type": "code",
      "metadata": {
        "id": "VxBv2nNzunhj",
        "colab_type": "code",
        "colab": {}
      },
      "source": [
        "prediction = tf.sigmoid(model_output)"
      ],
      "execution_count": 0,
      "outputs": []
    },
    {
      "cell_type": "code",
      "metadata": {
        "id": "SUfjSCCEunhp",
        "colab_type": "code",
        "colab": {}
      },
      "source": [
        "my_optim = tf.train.GradientDescentOptimizer(0.001)\n",
        "train_step = my_optim.minimize(loss)"
      ],
      "execution_count": 0,
      "outputs": []
    },
    {
      "cell_type": "code",
      "metadata": {
        "id": "aIg7Ger2unhu",
        "colab_type": "code",
        "colab": {}
      },
      "source": [
        "session = tf.Session()\n",
        "init = tf.global_variables_initializer()\n",
        "session.run(init)"
      ],
      "execution_count": 0,
      "outputs": []
    },
    {
      "cell_type": "code",
      "metadata": {
        "id": "wnqmzNcPunhz",
        "colab_type": "code",
        "colab": {
          "base_uri": "https://localhost:8080/",
          "height": 1000
        },
        "outputId": "1662bada-261a-4f12-a473-fcbecb880538"
      },
      "source": [
        "loss_vect = []\n",
        "train_acc_all = []\n",
        "train_acc_avg = []\n",
        "for ix, t in enumerate(vocab_processor.fit_transform(texts_train)):\n",
        "    y_data = [[target_train[ix]]]\n",
        "    session.run(train_step, feed_dict={x_data:t, y_target:y_data})\n",
        "    \n",
        "    temp_loss = session.run(loss, feed_dict={x_data:t, y_target:y_data})\n",
        "    loss_vect.append(temp_loss)\n",
        "    \n",
        "    if(ix+1)%10==0:\n",
        "        print(\"Observación de entrenamiento #{}, Perdidas = {}\".format(ix+1, temp_loss))\n",
        "    \n",
        "    [[temp_pred]] = session.run(prediction, feed_dict={x_data:t, y_target:y_data})\n",
        "    train_acc_temp = target_train[ix]==np.round(temp_pred)\n",
        "    train_acc_all.append(train_acc_temp)\n",
        "    if len(train_acc_all)>=50:\n",
        "        train_acc_avg.append(np.mean(train_acc_all[-50:]))\n",
        "        train_acc_all = []"
      ],
      "execution_count": 42,
      "outputs": [
        {
          "output_type": "stream",
          "text": [
            "Observación de entrenamiento #10, Perdidas = 0.6581526398658752\n",
            "Observación de entrenamiento #20, Perdidas = 12.518935203552246\n",
            "Observación de entrenamiento #30, Perdidas = 0.300697386264801\n",
            "Observación de entrenamiento #40, Perdidas = 0.010377372615039349\n",
            "Observación de entrenamiento #50, Perdidas = 3.068955659866333\n",
            "Observación de entrenamiento #60, Perdidas = 0.006913474295288324\n",
            "Observación de entrenamiento #70, Perdidas = 0.0061323982663452625\n",
            "Observación de entrenamiento #80, Perdidas = 0.0006953065167181194\n",
            "Observación de entrenamiento #90, Perdidas = 5.614883775706403e-07\n",
            "Observación de entrenamiento #100, Perdidas = 0.0001785149797797203\n",
            "Observación de entrenamiento #110, Perdidas = 2.429659366607666\n",
            "Observación de entrenamiento #120, Perdidas = 0.16097690165042877\n",
            "Observación de entrenamiento #130, Perdidas = 8.254305839538574\n",
            "Observación de entrenamiento #140, Perdidas = 0.6017782688140869\n",
            "Observación de entrenamiento #150, Perdidas = 1.573388934135437\n",
            "Observación de entrenamiento #160, Perdidas = 0.012463505379855633\n",
            "Observación de entrenamiento #170, Perdidas = 0.0028776659164577723\n",
            "Observación de entrenamiento #180, Perdidas = 3.6272833347320557\n",
            "Observación de entrenamiento #190, Perdidas = 0.06976016610860825\n",
            "Observación de entrenamiento #200, Perdidas = 0.00010211277549387887\n",
            "Observación de entrenamiento #210, Perdidas = 0.0025213113985955715\n",
            "Observación de entrenamiento #220, Perdidas = 0.001359628397040069\n",
            "Observación de entrenamiento #230, Perdidas = 0.00010242398275295272\n",
            "Observación de entrenamiento #240, Perdidas = 3.0037304895813577e-05\n",
            "Observación de entrenamiento #250, Perdidas = 0.00014371552970260382\n",
            "Observación de entrenamiento #260, Perdidas = 0.0008420112426392734\n",
            "Observación de entrenamiento #270, Perdidas = 0.007313972804695368\n",
            "Observación de entrenamiento #280, Perdidas = 7.1967902183532715\n",
            "Observación de entrenamiento #290, Perdidas = 0.10422919690608978\n",
            "Observación de entrenamiento #300, Perdidas = 8.673293113708496\n",
            "Observación de entrenamiento #310, Perdidas = 2.7747738361358643\n",
            "Observación de entrenamiento #320, Perdidas = 2.847562609531451e-05\n",
            "Observación de entrenamiento #330, Perdidas = 0.3630010783672333\n",
            "Observación de entrenamiento #340, Perdidas = 2.836275339126587\n",
            "Observación de entrenamiento #350, Perdidas = 0.045717112720012665\n",
            "Observación de entrenamiento #360, Perdidas = 0.011252546682953835\n",
            "Observación de entrenamiento #370, Perdidas = 0.0058531383983790874\n",
            "Observación de entrenamiento #380, Perdidas = 0.00010679077240638435\n",
            "Observación de entrenamiento #390, Perdidas = 3.0492223231703974e-05\n",
            "Observación de entrenamiento #400, Perdidas = 0.008877715095877647\n",
            "Observación de entrenamiento #410, Perdidas = 8.408844947814941\n",
            "Observación de entrenamiento #420, Perdidas = 5.581806182861328\n",
            "Observación de entrenamiento #430, Perdidas = 7.653842449188232\n",
            "Observación de entrenamiento #440, Perdidas = 0.01976378820836544\n",
            "Observación de entrenamiento #450, Perdidas = 0.000999877112917602\n",
            "Observación de entrenamiento #460, Perdidas = 0.012928206473588943\n",
            "Observación de entrenamiento #470, Perdidas = 9.16267090360634e-05\n",
            "Observación de entrenamiento #480, Perdidas = 6.160036563873291\n",
            "Observación de entrenamiento #490, Perdidas = 0.04981360211968422\n",
            "Observación de entrenamiento #500, Perdidas = 0.14612562954425812\n",
            "Observación de entrenamiento #510, Perdidas = 0.06368078291416168\n",
            "Observación de entrenamiento #520, Perdidas = 0.39829227328300476\n",
            "Observación de entrenamiento #530, Perdidas = 0.04912596568465233\n",
            "Observación de entrenamiento #540, Perdidas = 0.00019877887098118663\n",
            "Observación de entrenamiento #550, Perdidas = 0.1985894739627838\n",
            "Observación de entrenamiento #560, Perdidas = 1.1946755647659302\n",
            "Observación de entrenamiento #570, Perdidas = 0.0015821291599422693\n",
            "Observación de entrenamiento #580, Perdidas = 5.5761042005997297e-08\n",
            "Observación de entrenamiento #590, Perdidas = 10.008600234985352\n",
            "Observación de entrenamiento #600, Perdidas = 0.0001278538693441078\n",
            "Observación de entrenamiento #610, Perdidas = 0.00739320321008563\n",
            "Observación de entrenamiento #620, Perdidas = 9.264161235478241e-06\n",
            "Observación de entrenamiento #630, Perdidas = 0.02304445579648018\n",
            "Observación de entrenamiento #640, Perdidas = 0.010837830603122711\n",
            "Observación de entrenamiento #650, Perdidas = 0.0005970915663056076\n",
            "Observación de entrenamiento #660, Perdidas = 0.4888378977775574\n",
            "Observación de entrenamiento #670, Perdidas = 7.0435895919799805\n",
            "Observación de entrenamiento #680, Perdidas = 0.6790041923522949\n",
            "Observación de entrenamiento #690, Perdidas = 0.8081106543540955\n",
            "Observación de entrenamiento #700, Perdidas = 0.0004958561039529741\n",
            "Observación de entrenamiento #710, Perdidas = 2.3551619052886963\n",
            "Observación de entrenamiento #720, Perdidas = 11.549888610839844\n",
            "Observación de entrenamiento #730, Perdidas = 0.1259988397359848\n",
            "Observación de entrenamiento #740, Perdidas = 0.0013453615829348564\n",
            "Observación de entrenamiento #750, Perdidas = 0.9040032029151917\n",
            "Observación de entrenamiento #760, Perdidas = 0.07834702730178833\n",
            "Observación de entrenamiento #770, Perdidas = 0.009035952389240265\n",
            "Observación de entrenamiento #780, Perdidas = 9.293521881103516\n",
            "Observación de entrenamiento #790, Perdidas = 0.0007191009353846312\n",
            "Observación de entrenamiento #800, Perdidas = 0.0035559488460421562\n",
            "Observación de entrenamiento #810, Perdidas = 1.7352087497711182\n",
            "Observación de entrenamiento #820, Perdidas = 0.01603041961789131\n",
            "Observación de entrenamiento #830, Perdidas = 3.1707963943481445\n",
            "Observación de entrenamiento #840, Perdidas = 8.955208613770083e-05\n",
            "Observación de entrenamiento #850, Perdidas = 5.9573283195495605\n",
            "Observación de entrenamiento #860, Perdidas = 0.0004648244648706168\n",
            "Observación de entrenamiento #870, Perdidas = 0.7559583187103271\n",
            "Observación de entrenamiento #880, Perdidas = 0.10357775539159775\n",
            "Observación de entrenamiento #890, Perdidas = 9.227150917053223\n",
            "Observación de entrenamiento #900, Perdidas = 3.977428674697876\n",
            "Observación de entrenamiento #910, Perdidas = 0.00044177554082125425\n",
            "Observación de entrenamiento #920, Perdidas = 0.02378557249903679\n",
            "Observación de entrenamiento #930, Perdidas = 0.06587618589401245\n",
            "Observación de entrenamiento #940, Perdidas = 0.02040152996778488\n",
            "Observación de entrenamiento #950, Perdidas = 10.216341018676758\n",
            "Observación de entrenamiento #960, Perdidas = 0.0002715011069085449\n",
            "Observación de entrenamiento #970, Perdidas = 0.005576631054282188\n",
            "Observación de entrenamiento #980, Perdidas = 0.0010510956635698676\n",
            "Observación de entrenamiento #990, Perdidas = 0.00357394409365952\n",
            "Observación de entrenamiento #1000, Perdidas = 0.000267193274339661\n",
            "Observación de entrenamiento #1010, Perdidas = 0.5561545491218567\n",
            "Observación de entrenamiento #1020, Perdidas = 0.005361882038414478\n",
            "Observación de entrenamiento #1030, Perdidas = 8.055878424784169e-05\n",
            "Observación de entrenamiento #1040, Perdidas = 0.012847809121012688\n",
            "Observación de entrenamiento #1050, Perdidas = 0.0005271881236694753\n",
            "Observación de entrenamiento #1060, Perdidas = 5.370502948760986\n",
            "Observación de entrenamiento #1070, Perdidas = 3.620956704253331e-06\n",
            "Observación de entrenamiento #1080, Perdidas = 2.1474217646755278e-05\n",
            "Observación de entrenamiento #1090, Perdidas = 2.5902711513481336e-06\n",
            "Observación de entrenamiento #1100, Perdidas = 2.074498843285255e-05\n",
            "Observación de entrenamiento #1110, Perdidas = 0.027210311964154243\n",
            "Observación de entrenamiento #1120, Perdidas = 0.0020837371703237295\n",
            "Observación de entrenamiento #1130, Perdidas = 3.74395094695501e-05\n",
            "Observación de entrenamiento #1140, Perdidas = 3.4150829315185547\n",
            "Observación de entrenamiento #1150, Perdidas = 0.13979725539684296\n",
            "Observación de entrenamiento #1160, Perdidas = 0.008551855571568012\n",
            "Observación de entrenamiento #1170, Perdidas = 1.1398609558455064e-06\n",
            "Observación de entrenamiento #1180, Perdidas = 3.4653677940368652\n",
            "Observación de entrenamiento #1190, Perdidas = 0.017237870022654533\n",
            "Observación de entrenamiento #1200, Perdidas = 0.0008808678248897195\n",
            "Observación de entrenamiento #1210, Perdidas = 1.2468126442399807e-05\n",
            "Observación de entrenamiento #1220, Perdidas = 0.004761349875479937\n",
            "Observación de entrenamiento #1230, Perdidas = 1.0204832553863525\n",
            "Observación de entrenamiento #1240, Perdidas = 0.0005339208291843534\n",
            "Observación de entrenamiento #1250, Perdidas = 0.0018306121928617358\n",
            "Observación de entrenamiento #1260, Perdidas = 0.0006567711243405938\n",
            "Observación de entrenamiento #1270, Perdidas = 0.26513999700546265\n",
            "Observación de entrenamiento #1280, Perdidas = 0.16616851091384888\n",
            "Observación de entrenamiento #1290, Perdidas = 3.0133449399727397e-05\n",
            "Observación de entrenamiento #1300, Perdidas = 0.00015072627866175026\n",
            "Observación de entrenamiento #1310, Perdidas = 5.8807477951049805\n",
            "Observación de entrenamiento #1320, Perdidas = 0.0019989600405097008\n",
            "Observación de entrenamiento #1330, Perdidas = 0.3723350167274475\n",
            "Observación de entrenamiento #1340, Perdidas = 9.090003914025147e-06\n",
            "Observación de entrenamiento #1350, Perdidas = 0.00903660524636507\n",
            "Observación de entrenamiento #1360, Perdidas = 1.3705686330795288\n",
            "Observación de entrenamiento #1370, Perdidas = 0.0009385787416249514\n",
            "Observación de entrenamiento #1380, Perdidas = 0.02293435111641884\n",
            "Observación de entrenamiento #1390, Perdidas = 6.242527433641953e-06\n",
            "Observación de entrenamiento #1400, Perdidas = 0.0011633365647867322\n",
            "Observación de entrenamiento #1410, Perdidas = 3.9805672713555396e-05\n",
            "Observación de entrenamiento #1420, Perdidas = 0.0001339182781521231\n",
            "Observación de entrenamiento #1430, Perdidas = 1.4891213140799664e-05\n",
            "Observación de entrenamiento #1440, Perdidas = 0.11542114615440369\n",
            "Observación de entrenamiento #1450, Perdidas = 0.43154191970825195\n",
            "Observación de entrenamiento #1460, Perdidas = 0.0036783027462661266\n",
            "Observación de entrenamiento #1470, Perdidas = 0.0004482524236664176\n",
            "Observación de entrenamiento #1480, Perdidas = 3.197018668288365e-05\n",
            "Observación de entrenamiento #1490, Perdidas = 4.347359936218709e-05\n",
            "Observación de entrenamiento #1500, Perdidas = 0.0011624221224337816\n",
            "Observación de entrenamiento #1510, Perdidas = 0.0006632246659137309\n",
            "Observación de entrenamiento #1520, Perdidas = 9.560144826536998e-05\n",
            "Observación de entrenamiento #1530, Perdidas = 0.002294930862262845\n",
            "Observación de entrenamiento #1540, Perdidas = 0.00042982364539057016\n",
            "Observación de entrenamiento #1550, Perdidas = 0.03422687575221062\n",
            "Observación de entrenamiento #1560, Perdidas = 4.07667875289917\n",
            "Observación de entrenamiento #1570, Perdidas = 0.025538930669426918\n",
            "Observación de entrenamiento #1580, Perdidas = 0.0007006149971857667\n",
            "Observación de entrenamiento #1590, Perdidas = 2.9203388690948486\n",
            "Observación de entrenamiento #1600, Perdidas = 0.005709119141101837\n",
            "Observación de entrenamiento #1610, Perdidas = 0.0015371895860880613\n",
            "Observación de entrenamiento #1620, Perdidas = 4.318603992462158\n",
            "Observación de entrenamiento #1630, Perdidas = 0.28119415044784546\n",
            "Observación de entrenamiento #1640, Perdidas = 0.0004086047410964966\n",
            "Observación de entrenamiento #1650, Perdidas = 0.0002077352546621114\n",
            "Observación de entrenamiento #1660, Perdidas = 6.924509216332808e-05\n",
            "Observación de entrenamiento #1670, Perdidas = 0.00027559042791835964\n",
            "Observación de entrenamiento #1680, Perdidas = 0.004860177636146545\n",
            "Observación de entrenamiento #1690, Perdidas = 0.039915990084409714\n",
            "Observación de entrenamiento #1700, Perdidas = 0.38613656163215637\n",
            "Observación de entrenamiento #1710, Perdidas = 6.916176795959473\n",
            "Observación de entrenamiento #1720, Perdidas = 0.0007609383319504559\n",
            "Observación de entrenamiento #1730, Perdidas = 0.1467791348695755\n",
            "Observación de entrenamiento #1740, Perdidas = 4.395279407501221\n",
            "Observación de entrenamiento #1750, Perdidas = 0.1894385665655136\n",
            "Observación de entrenamiento #1760, Perdidas = 0.0001753764518070966\n",
            "Observación de entrenamiento #1770, Perdidas = 2.0776584148406982\n",
            "Observación de entrenamiento #1780, Perdidas = 0.0028813567478209734\n",
            "Observación de entrenamiento #1790, Perdidas = 2.7750209483201616e-05\n",
            "Observación de entrenamiento #1800, Perdidas = 6.5850019454956055\n",
            "Observación de entrenamiento #1810, Perdidas = 0.00719166686758399\n",
            "Observación de entrenamiento #1820, Perdidas = 0.012183190323412418\n",
            "Observación de entrenamiento #1830, Perdidas = 0.0006093514966778457\n",
            "Observación de entrenamiento #1840, Perdidas = 0.0025138859637081623\n",
            "Observación de entrenamiento #1850, Perdidas = 0.00020620040595531464\n",
            "Observación de entrenamiento #1860, Perdidas = 0.0021713145542889833\n",
            "Observación de entrenamiento #1870, Perdidas = 0.009462052956223488\n",
            "Observación de entrenamiento #1880, Perdidas = 0.01735314540565014\n",
            "Observación de entrenamiento #1890, Perdidas = 9.406426397617906e-05\n",
            "Observación de entrenamiento #1900, Perdidas = 0.13647772371768951\n",
            "Observación de entrenamiento #1910, Perdidas = 1.0574288368225098\n",
            "Observación de entrenamiento #1920, Perdidas = 3.1056535243988037\n",
            "Observación de entrenamiento #1930, Perdidas = 0.011263147927820683\n",
            "Observación de entrenamiento #1940, Perdidas = 0.0012259737122803926\n",
            "Observación de entrenamiento #1950, Perdidas = 0.0033295995090156794\n",
            "Observación de entrenamiento #1960, Perdidas = 0.0018341694958508015\n",
            "Observación de entrenamiento #1970, Perdidas = 0.002225552685558796\n",
            "Observación de entrenamiento #1980, Perdidas = 0.49181586503982544\n",
            "Observación de entrenamiento #1990, Perdidas = 1.2522799806902185e-05\n",
            "Observación de entrenamiento #2000, Perdidas = 0.707984983921051\n",
            "Observación de entrenamiento #2010, Perdidas = 8.76875114440918\n",
            "Observación de entrenamiento #2020, Perdidas = 2.0856170124261553e-09\n",
            "Observación de entrenamiento #2030, Perdidas = 2.8309132176218554e-05\n",
            "Observación de entrenamiento #2040, Perdidas = 0.000356643256964162\n",
            "Observación de entrenamiento #2050, Perdidas = 1.402753753154684e-07\n",
            "Observación de entrenamiento #2060, Perdidas = 1.0517223927308805e-05\n",
            "Observación de entrenamiento #2070, Perdidas = 0.0003837167168967426\n",
            "Observación de entrenamiento #2080, Perdidas = 0.0003607921244110912\n",
            "Observación de entrenamiento #2090, Perdidas = 0.007415519095957279\n",
            "Observación de entrenamiento #2100, Perdidas = 3.835536479949951\n",
            "Observación de entrenamiento #2110, Perdidas = 1.4980793821450789e-05\n",
            "Observación de entrenamiento #2120, Perdidas = 4.9060245146392845e-06\n",
            "Observación de entrenamiento #2130, Perdidas = 0.06483319401741028\n",
            "Observación de entrenamiento #2140, Perdidas = 8.793328743195161e-05\n",
            "Observación de entrenamiento #2150, Perdidas = 3.6469348287937464e-06\n",
            "Observación de entrenamiento #2160, Perdidas = 2.9912209510803223\n",
            "Observación de entrenamiento #2170, Perdidas = 0.001113738282583654\n",
            "Observación de entrenamiento #2180, Perdidas = 0.00030584726482629776\n",
            "Observación de entrenamiento #2190, Perdidas = 0.002009166404604912\n",
            "Observación de entrenamiento #2200, Perdidas = 0.013369997031986713\n",
            "Observación de entrenamiento #2210, Perdidas = 8.514289855957031\n",
            "Observación de entrenamiento #2220, Perdidas = 6.158696174621582\n",
            "Observación de entrenamiento #2230, Perdidas = 3.3000741004943848\n",
            "Observación de entrenamiento #2240, Perdidas = 4.990228176116943\n",
            "Observación de entrenamiento #2250, Perdidas = 0.07598821818828583\n",
            "Observación de entrenamiento #2260, Perdidas = 1.322723388671875\n",
            "Observación de entrenamiento #2270, Perdidas = 0.05761409178376198\n",
            "Observación de entrenamiento #2280, Perdidas = 0.007962684147059917\n",
            "Observación de entrenamiento #2290, Perdidas = 0.1163780465722084\n",
            "Observación de entrenamiento #2300, Perdidas = 0.0031238135416060686\n",
            "Observación de entrenamiento #2310, Perdidas = 0.6459310054779053\n",
            "Observación de entrenamiento #2320, Perdidas = 0.055019013583660126\n",
            "Observación de entrenamiento #2330, Perdidas = 0.00020800424681510776\n",
            "Observación de entrenamiento #2340, Perdidas = 0.0024991724640130997\n",
            "Observación de entrenamiento #2350, Perdidas = 0.003892968874424696\n",
            "Observación de entrenamiento #2360, Perdidas = 4.487941265106201\n",
            "Observación de entrenamiento #2370, Perdidas = 0.0011287076631560922\n",
            "Observación de entrenamiento #2380, Perdidas = 0.02250160463154316\n",
            "Observación de entrenamiento #2390, Perdidas = 0.0011696751462295651\n",
            "Observación de entrenamiento #2400, Perdidas = 0.00010512600420042872\n",
            "Observación de entrenamiento #2410, Perdidas = 0.0012366959126666188\n",
            "Observación de entrenamiento #2420, Perdidas = 9.80743789114058e-05\n",
            "Observación de entrenamiento #2430, Perdidas = 2.4179790019989014\n",
            "Observación de entrenamiento #2440, Perdidas = 1.3595807552337646\n",
            "Observación de entrenamiento #2450, Perdidas = 0.009159845300018787\n",
            "Observación de entrenamiento #2460, Perdidas = 5.673369378200732e-05\n",
            "Observación de entrenamiento #2470, Perdidas = 2.0676357746124268\n",
            "Observación de entrenamiento #2480, Perdidas = 0.2209104597568512\n",
            "Observación de entrenamiento #2490, Perdidas = 6.395169975803583e-07\n",
            "Observación de entrenamiento #2500, Perdidas = 2.920356928370893e-05\n",
            "Observación de entrenamiento #2510, Perdidas = 0.04598286375403404\n",
            "Observación de entrenamiento #2520, Perdidas = 0.016115061938762665\n",
            "Observación de entrenamiento #2530, Perdidas = 7.482744216918945\n",
            "Observación de entrenamiento #2540, Perdidas = 0.00015752103354316205\n",
            "Observación de entrenamiento #2550, Perdidas = 0.015390681102871895\n",
            "Observación de entrenamiento #2560, Perdidas = 5.77432107925415\n",
            "Observación de entrenamiento #2570, Perdidas = 0.009216702543199062\n",
            "Observación de entrenamiento #2580, Perdidas = 0.00025061541236937046\n",
            "Observación de entrenamiento #2590, Perdidas = 0.0005657293950207531\n",
            "Observación de entrenamiento #2600, Perdidas = 0.06244627386331558\n",
            "Observación de entrenamiento #2610, Perdidas = 7.75024938583374\n",
            "Observación de entrenamiento #2620, Perdidas = 1.7051752365659922e-05\n",
            "Observación de entrenamiento #2630, Perdidas = 0.00011078187526436523\n",
            "Observación de entrenamiento #2640, Perdidas = 4.365244603832252e-05\n",
            "Observación de entrenamiento #2650, Perdidas = 1.051515141625714e-07\n",
            "Observación de entrenamiento #2660, Perdidas = 0.5747281312942505\n",
            "Observación de entrenamiento #2670, Perdidas = 1.1414677828724962e-05\n",
            "Observación de entrenamiento #2680, Perdidas = 0.0014444474363699555\n",
            "Observación de entrenamiento #2690, Perdidas = 0.01464884914457798\n",
            "Observación de entrenamiento #2700, Perdidas = 0.0012115284334868193\n",
            "Observación de entrenamiento #2710, Perdidas = 0.16926994919776917\n",
            "Observación de entrenamiento #2720, Perdidas = 0.001478100661188364\n",
            "Observación de entrenamiento #2730, Perdidas = 0.0002865909191314131\n",
            "Observación de entrenamiento #2740, Perdidas = 0.0020424698013812304\n",
            "Observación de entrenamiento #2750, Perdidas = 0.0008835357148200274\n",
            "Observación de entrenamiento #2760, Perdidas = 0.0006336867809295654\n",
            "Observación de entrenamiento #2770, Perdidas = 0.05292036011815071\n",
            "Observación de entrenamiento #2780, Perdidas = 0.08241000026464462\n",
            "Observación de entrenamiento #2790, Perdidas = 0.007913283072412014\n",
            "Observación de entrenamiento #2800, Perdidas = 3.4761483669281006\n",
            "Observación de entrenamiento #2810, Perdidas = 0.2424839437007904\n",
            "Observación de entrenamiento #2820, Perdidas = 0.0014965696027502418\n",
            "Observación de entrenamiento #2830, Perdidas = 0.0007357498398050666\n",
            "Observación de entrenamiento #2840, Perdidas = 0.05616845190525055\n",
            "Observación de entrenamiento #2850, Perdidas = 0.010432266630232334\n",
            "Observación de entrenamiento #2860, Perdidas = 0.0004371969844214618\n",
            "Observación de entrenamiento #2870, Perdidas = 0.24421407282352448\n",
            "Observación de entrenamiento #2880, Perdidas = 0.004101119935512543\n",
            "Observación de entrenamiento #2890, Perdidas = 0.00014863538672216237\n",
            "Observación de entrenamiento #2900, Perdidas = 1.9188121557235718\n",
            "Observación de entrenamiento #2910, Perdidas = 0.1091388612985611\n",
            "Observación de entrenamiento #2920, Perdidas = 1.1610000133514404\n",
            "Observación de entrenamiento #2930, Perdidas = 4.025890666525811e-05\n",
            "Observación de entrenamiento #2940, Perdidas = 0.24189722537994385\n",
            "Observación de entrenamiento #2950, Perdidas = 0.0001921884249895811\n",
            "Observación de entrenamiento #2960, Perdidas = 0.005631754640489817\n",
            "Observación de entrenamiento #2970, Perdidas = 0.00034010672243312\n",
            "Observación de entrenamiento #2980, Perdidas = 1.948315978050232\n",
            "Observación de entrenamiento #2990, Perdidas = 0.00689985416829586\n",
            "Observación de entrenamiento #3000, Perdidas = 0.047877464443445206\n",
            "Observación de entrenamiento #3010, Perdidas = 0.0006743892445228994\n",
            "Observación de entrenamiento #3020, Perdidas = 0.34321486949920654\n",
            "Observación de entrenamiento #3030, Perdidas = 0.033669713884592056\n",
            "Observación de entrenamiento #3040, Perdidas = 0.005937457084655762\n",
            "Observación de entrenamiento #3050, Perdidas = 0.001778467558324337\n",
            "Observación de entrenamiento #3060, Perdidas = 1.2500029802322388\n",
            "Observación de entrenamiento #3070, Perdidas = 0.00013852192205376923\n",
            "Observación de entrenamiento #3080, Perdidas = 0.01026186440140009\n",
            "Observación de entrenamiento #3090, Perdidas = 0.0018681110814213753\n",
            "Observación de entrenamiento #3100, Perdidas = 3.562653364497237e-05\n",
            "Observación de entrenamiento #3110, Perdidas = 0.04507143795490265\n",
            "Observación de entrenamiento #3120, Perdidas = 0.2237004190683365\n",
            "Observación de entrenamiento #3130, Perdidas = 0.010239792056381702\n",
            "Observación de entrenamiento #3140, Perdidas = 0.02678011730313301\n",
            "Observación de entrenamiento #3150, Perdidas = 0.5521349906921387\n",
            "Observación de entrenamiento #3160, Perdidas = 0.001393683603964746\n",
            "Observación de entrenamiento #3170, Perdidas = 0.03939080610871315\n",
            "Observación de entrenamiento #3180, Perdidas = 0.000636895012576133\n",
            "Observación de entrenamiento #3190, Perdidas = 0.0051805609837174416\n",
            "Observación de entrenamiento #3200, Perdidas = 1.5669095516204834\n",
            "Observación de entrenamiento #3210, Perdidas = 1.0723040103912354\n",
            "Observación de entrenamiento #3220, Perdidas = 6.34501838684082\n",
            "Observación de entrenamiento #3230, Perdidas = 0.0019965211395174265\n",
            "Observación de entrenamiento #3240, Perdidas = 0.00037097392487339675\n",
            "Observación de entrenamiento #3250, Perdidas = 0.027963558211922646\n",
            "Observación de entrenamiento #3260, Perdidas = 0.000526793475728482\n",
            "Observación de entrenamiento #3270, Perdidas = 0.0027069649659097195\n",
            "Observación de entrenamiento #3280, Perdidas = 0.027151495218276978\n",
            "Observación de entrenamiento #3290, Perdidas = 0.08382372558116913\n",
            "Observación de entrenamiento #3300, Perdidas = 6.091007232666016\n",
            "Observación de entrenamiento #3310, Perdidas = 0.03794556483626366\n",
            "Observación de entrenamiento #3320, Perdidas = 0.0005478255916386843\n",
            "Observación de entrenamiento #3330, Perdidas = 2.7750102162826806e-05\n",
            "Observación de entrenamiento #3340, Perdidas = 0.000613517127931118\n",
            "Observación de entrenamiento #3350, Perdidas = 0.08432860672473907\n",
            "Observación de entrenamiento #3360, Perdidas = 3.343557834625244\n",
            "Observación de entrenamiento #3370, Perdidas = 0.0002671884431038052\n",
            "Observación de entrenamiento #3380, Perdidas = 8.002564754860941e-06\n",
            "Observación de entrenamiento #3390, Perdidas = 5.932678686804138e-05\n",
            "Observación de entrenamiento #3400, Perdidas = 13.472073554992676\n",
            "Observación de entrenamiento #3410, Perdidas = 1.992104411125183\n",
            "Observación de entrenamiento #3420, Perdidas = 3.957308530807495\n",
            "Observación de entrenamiento #3430, Perdidas = 0.0038752953987568617\n",
            "Observación de entrenamiento #3440, Perdidas = 0.3193023204803467\n",
            "Observación de entrenamiento #3450, Perdidas = 6.7115678787231445\n",
            "Observación de entrenamiento #3460, Perdidas = 3.584318161010742\n",
            "Observación de entrenamiento #3470, Perdidas = 5.2601415518438444e-05\n",
            "Observación de entrenamiento #3480, Perdidas = 9.612362191546708e-05\n",
            "Observación de entrenamiento #3490, Perdidas = 0.0010169585002586246\n",
            "Observación de entrenamiento #3500, Perdidas = 3.0363550186157227\n",
            "Observación de entrenamiento #3510, Perdidas = 3.445652723312378\n",
            "Observación de entrenamiento #3520, Perdidas = 0.627228319644928\n",
            "Observación de entrenamiento #3530, Perdidas = 0.0025571277365088463\n",
            "Observación de entrenamiento #3540, Perdidas = 1.757469892501831\n",
            "Observación de entrenamiento #3550, Perdidas = 0.001089112600311637\n",
            "Observación de entrenamiento #3560, Perdidas = 5.9485359088284895e-05\n",
            "Observación de entrenamiento #3570, Perdidas = 1.037298147821275e-06\n",
            "Observación de entrenamiento #3580, Perdidas = 2.5248210430145264\n",
            "Observación de entrenamiento #3590, Perdidas = 6.826140634075273e-06\n",
            "Observación de entrenamiento #3600, Perdidas = 0.00028550479328259826\n",
            "Observación de entrenamiento #3610, Perdidas = 0.0014512739144265652\n",
            "Observación de entrenamiento #3620, Perdidas = 3.622792428359389e-05\n",
            "Observación de entrenamiento #3630, Perdidas = 0.00021909935458097607\n",
            "Observación de entrenamiento #3640, Perdidas = 1.4719640830662684e-06\n",
            "Observación de entrenamiento #3650, Perdidas = 0.00012956878344994038\n",
            "Observación de entrenamiento #3660, Perdidas = 0.5845196843147278\n",
            "Observación de entrenamiento #3670, Perdidas = 0.0005062560085207224\n",
            "Observación de entrenamiento #3680, Perdidas = 0.3678857088088989\n",
            "Observación de entrenamiento #3690, Perdidas = 0.001710986252874136\n",
            "Observación de entrenamiento #3700, Perdidas = 0.3074442446231842\n",
            "Observación de entrenamiento #3710, Perdidas = 5.328800853021676e-06\n",
            "Observación de entrenamiento #3720, Perdidas = 0.0003222622617613524\n",
            "Observación de entrenamiento #3730, Perdidas = 0.685038149356842\n",
            "Observación de entrenamiento #3740, Perdidas = 0.001411421224474907\n",
            "Observación de entrenamiento #3750, Perdidas = 10.109325408935547\n",
            "Observación de entrenamiento #3760, Perdidas = 0.00040050112875178456\n",
            "Observación de entrenamiento #3770, Perdidas = 0.0011298049939796329\n",
            "Observación de entrenamiento #3780, Perdidas = 0.011728114448487759\n",
            "Observación de entrenamiento #3790, Perdidas = 0.008498053066432476\n",
            "Observación de entrenamiento #3800, Perdidas = 3.099078893661499\n",
            "Observación de entrenamiento #3810, Perdidas = 4.62015850644093e-05\n",
            "Observación de entrenamiento #3820, Perdidas = 0.00029676794656552374\n",
            "Observación de entrenamiento #3830, Perdidas = 0.002927497262135148\n",
            "Observación de entrenamiento #3840, Perdidas = 0.00011818294296972454\n",
            "Observación de entrenamiento #3850, Perdidas = 0.00012902724847663194\n",
            "Observación de entrenamiento #3860, Perdidas = 0.010122560895979404\n",
            "Observación de entrenamiento #3870, Perdidas = 0.17704680562019348\n",
            "Observación de entrenamiento #3880, Perdidas = 0.00025003417977131903\n",
            "Observación de entrenamiento #3890, Perdidas = 3.7441253662109375\n",
            "Observación de entrenamiento #3900, Perdidas = 1.6049199104309082\n",
            "Observación de entrenamiento #3910, Perdidas = 0.004012959077954292\n",
            "Observación de entrenamiento #3920, Perdidas = 3.638643980026245\n",
            "Observación de entrenamiento #3930, Perdidas = 2.7855567168444395e-06\n",
            "Observación de entrenamiento #3940, Perdidas = 6.0928847233299166e-05\n",
            "Observación de entrenamiento #3950, Perdidas = 0.008793887682259083\n",
            "Observación de entrenamiento #3960, Perdidas = 0.020726852118968964\n",
            "Observación de entrenamiento #3970, Perdidas = 4.328060150146484\n",
            "Observación de entrenamiento #3980, Perdidas = 0.00040830738726072013\n",
            "Observación de entrenamiento #3990, Perdidas = 0.0016788570210337639\n",
            "Observación de entrenamiento #4000, Perdidas = 4.73057746887207\n",
            "Observación de entrenamiento #4010, Perdidas = 0.0008402436506003141\n",
            "Observación de entrenamiento #4020, Perdidas = 0.05093472823500633\n",
            "Observación de entrenamiento #4030, Perdidas = 6.724764823913574\n",
            "Observación de entrenamiento #4040, Perdidas = 0.013272477313876152\n",
            "Observación de entrenamiento #4050, Perdidas = 0.0028202554676681757\n",
            "Observación de entrenamiento #4060, Perdidas = 2.8777127265930176\n",
            "Observación de entrenamiento #4070, Perdidas = 0.12407519668340683\n",
            "Observación de entrenamiento #4080, Perdidas = 4.058243575855158e-05\n",
            "Observación de entrenamiento #4090, Perdidas = 0.20534642040729523\n",
            "Observación de entrenamiento #4100, Perdidas = 0.00705103250220418\n",
            "Observación de entrenamiento #4110, Perdidas = 0.11226128786802292\n",
            "Observación de entrenamiento #4120, Perdidas = 0.012127883732318878\n",
            "Observación de entrenamiento #4130, Perdidas = 0.08353616297245026\n",
            "Observación de entrenamiento #4140, Perdidas = 0.0006292702746577561\n",
            "Observación de entrenamiento #4150, Perdidas = 0.0002132153749698773\n",
            "Observación de entrenamiento #4160, Perdidas = 0.0003805455344263464\n",
            "Observación de entrenamiento #4170, Perdidas = 0.17659050226211548\n",
            "Observación de entrenamiento #4180, Perdidas = 0.0005809298600070179\n",
            "Observación de entrenamiento #4190, Perdidas = 0.06587740033864975\n",
            "Observación de entrenamiento #4200, Perdidas = 0.007947057485580444\n",
            "Observación de entrenamiento #4210, Perdidas = 0.0007653576321899891\n",
            "Observación de entrenamiento #4220, Perdidas = 8.670258830534294e-05\n",
            "Observación de entrenamiento #4230, Perdidas = 6.161444616736844e-06\n",
            "Observación de entrenamiento #4240, Perdidas = 0.13848000764846802\n",
            "Observación de entrenamiento #4250, Perdidas = 0.13785183429718018\n",
            "Observación de entrenamiento #4260, Perdidas = 8.91591771505773e-05\n",
            "Observación de entrenamiento #4270, Perdidas = 0.0029943822883069515\n",
            "Observación de entrenamiento #4280, Perdidas = 0.0012621628120541573\n",
            "Observación de entrenamiento #4290, Perdidas = 0.22626690566539764\n",
            "Observación de entrenamiento #4300, Perdidas = 0.0005067664897069335\n",
            "Observación de entrenamiento #4310, Perdidas = 0.008578435517847538\n",
            "Observación de entrenamiento #4320, Perdidas = 0.12583427131175995\n",
            "Observación de entrenamiento #4330, Perdidas = 0.5276850461959839\n",
            "Observación de entrenamiento #4340, Perdidas = 1.07582688331604\n",
            "Observación de entrenamiento #4350, Perdidas = 7.656812158529647e-06\n",
            "Observación de entrenamiento #4360, Perdidas = 0.0018289141589775681\n",
            "Observación de entrenamiento #4370, Perdidas = 0.0020374469459056854\n",
            "Observación de entrenamiento #4380, Perdidas = 0.8349754810333252\n",
            "Observación de entrenamiento #4390, Perdidas = 0.005401273723691702\n",
            "Observación de entrenamiento #4400, Perdidas = 0.05951252952218056\n",
            "Observación de entrenamiento #4410, Perdidas = 2.3798577785491943\n",
            "Observación de entrenamiento #4420, Perdidas = 0.0021926735062152147\n",
            "Observación de entrenamiento #4430, Perdidas = 0.011372864246368408\n",
            "Observación de entrenamiento #4440, Perdidas = 0.0013366913190111518\n",
            "Observación de entrenamiento #4450, Perdidas = 0.001800088444724679\n"
          ],
          "name": "stdout"
        }
      ]
    },
    {
      "cell_type": "code",
      "metadata": {
        "id": "DrqFJwPQunh6",
        "colab_type": "code",
        "colab": {
          "base_uri": "https://localhost:8080/",
          "height": 35
        },
        "outputId": "f6f430ff-b2ea-4108-9407-9fa16531670e"
      },
      "source": [
        "train_acc_all"
      ],
      "execution_count": 43,
      "outputs": [
        {
          "output_type": "execute_result",
          "data": {
            "text/plain": [
              "[True, True, True, True, False, True, True, True, True]"
            ]
          },
          "metadata": {
            "tags": []
          },
          "execution_count": 43
        }
      ]
    },
    {
      "cell_type": "code",
      "metadata": {
        "id": "4laGtF6runiB",
        "colab_type": "code",
        "colab": {
          "base_uri": "https://localhost:8080/",
          "height": 287
        },
        "outputId": "dccaaa62-a2cb-46ce-a768-a184e351f535"
      },
      "source": [
        "plt.plot(train_acc_avg, 'k-', label='Precisión')\n",
        "plt.ylim([0,1])"
      ],
      "execution_count": 44,
      "outputs": [
        {
          "output_type": "execute_result",
          "data": {
            "text/plain": [
              "(0.0, 1.0)"
            ]
          },
          "metadata": {
            "tags": []
          },
          "execution_count": 44
        },
        {
          "output_type": "display_data",
          "data": {
            "image/png": "[encoded data removed]",
            "text/plain": [
              "<Figure size 432x288 with 1 Axes>"
            ]
          },
          "metadata": {
            "tags": [],
            "needs_background": "light"
          }
        }
      ]
    },
    {
      "cell_type": "code",
      "metadata": {
        "id": "_sDIz5QMuniH",
        "colab_type": "code",
        "colab": {}
      },
      "source": [
        "test_acc_all = []\n",
        "test_acc_avg = []\n",
        "for ix, t in enumerate(vocab_processor.fit_transform(texts_test)):\n",
        "    y_data = [[target_test[ix]]]\n",
        "    \n",
        "  \n",
        "    \n",
        "    [[temp_pred]] = session.run(prediction, feed_dict={x_data:t, y_target:y_data})\n",
        "    test_acc_temp = target_test[ix]==np.round(temp_pred)\n",
        "    test_acc_all.append(test_acc_temp)\n",
        "    if len(test_acc_all)>=50:\n",
        "        test_acc_avg.append(np.mean(test_acc_all[-50:]))\n",
        "        test_acc_all = []\n",
        "    \n",
        "    if(ix+1)%50==0:\n",
        "        print(\"Observación de entrenamiento #{}\".format(ix+1))\n",
        "        print(\"Frase: {}\".format(t))\n",
        "        print(\"Es {} y la predicción dice: {}\".format(y_data, temp_pred))"
      ],
      "execution_count": 0,
      "outputs": []
    },
    {
      "cell_type": "code",
      "metadata": {
        "id": "OLK8NIwEuniN",
        "colab_type": "code",
        "colab": {
          "base_uri": "https://localhost:8080/",
          "height": 35
        },
        "outputId": "2360e3c5-c34e-4702-a188-dffc42767fb2"
      },
      "source": [
        "print(\"Eficacia de predicción globale en test {}\".format(np.mean(test_acc_all)))"
      ],
      "execution_count": 46,
      "outputs": [
        {
          "output_type": "stream",
          "text": [
            "Eficacia de predicción globale en test 0.8\n"
          ],
          "name": "stdout"
        }
      ]
    },
    {
      "cell_type": "code",
      "metadata": {
        "id": "T83fe65funiT",
        "colab_type": "code",
        "colab": {
          "base_uri": "https://localhost:8080/",
          "height": 283
        },
        "outputId": "67eec96f-61ee-4d4b-bcab-8bfae5a493fb"
      },
      "source": [
        "plt.plot(test_acc_all, 'k-', label = \"Eficacia en la predicción\")"
      ],
      "execution_count": 47,
      "outputs": [
        {
          "output_type": "execute_result",
          "data": {
            "text/plain": [
              "[<matplotlib.lines.Line2D at 0x7f5bca778898>]"
            ]
          },
          "metadata": {
            "tags": []
          },
          "execution_count": 47
        },
        {
          "output_type": "display_data",
          "data": {
            "image/png": "[encoded data removed]",
            "text/plain": [
              "<Figure size 432x288 with 1 Axes>"
            ]
          },
          "metadata": {
            "tags": [],
            "needs_background": "light"
          }
        }
      ]
    },
    {
      "cell_type": "code",
      "metadata": {
        "id": "P27BU0w6unib",
        "colab_type": "code",
        "colab": {}
      },
      "source": [
        ""
      ],
      "execution_count": 0,
      "outputs": []
    },
    {
      "cell_type": "code",
      "metadata": {
        "id": "8M-oSQk2xEqI",
        "colab_type": "code",
        "colab": {}
      },
      "source": [
        ""
      ],
      "execution_count": 0,
      "outputs": []
    }
  ]
}