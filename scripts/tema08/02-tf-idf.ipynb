{
  "nbformat": 4,
  "nbformat_minor": 0,
  "metadata": {
    "kernelspec": {
      "display_name": "Python 3",
      "language": "python",
      "name": "python3"
    },
    "language_info": {
      "codemirror_mode": {
        "name": "ipython",
        "version": 3
      },
      "file_extension": ".py",
      "mimetype": "text/x-python",
      "name": "python",
      "nbconvert_exporter": "python",
      "pygments_lexer": "ipython3",
      "version": "3.5.5"
    },
    "colab": {
      "name": "02-tf-idf.ipynb",
      "provenance": [],
      "include_colab_link": true
    }
  },
  "cells": [
    {
      "cell_type": "markdown",
      "metadata": {
        "id": "view-in-github",
        "colab_type": "text"
      },
      "source": [
        "<a href=\"https://colab.research.google.com/github/INFINITY-RUBER/Curso_Deep_Learning_Con_TernsorFlow_Machine-Learning_e_IA-/blob/master/scripts/tema08/02-tf-idf.ipynb\" target=\"_parent\"><img src=\"https://colab.research.google.com/assets/colab-badge.svg\" alt=\"Open In Colab\"/></a>"
      ]
    },
    {
      "cell_type": "code",
      "metadata": {
        "id": "iFoO6lNTyQWP",
        "colab_type": "code",
        "colab": {}
      },
      "source": [
        "#pip install tensorflow==1.14"
      ],
      "execution_count": 0,
      "outputs": []
    },
    {
      "cell_type": "markdown",
      "metadata": {
        "id": "yu12vGL8yEYh",
        "colab_type": "text"
      },
      "source": [
        "# Text Frecuency - Inverse Document Frequency"
      ]
    },
    {
      "cell_type": "markdown",
      "metadata": {
        "id": "C2Td09APyEYk",
        "colab_type": "text"
      },
      "source": [
        "- $w_{tf}$: frecuencia de aparición de una palabra en un documento\n",
        "- $w_{df}$: frecuencia total de aparición de una palabra en el conjunto de todos los documentos (corpus)"
      ]
    },
    {
      "cell_type": "markdown",
      "metadata": {
        "id": "eHnIU5ALyEYm",
        "colab_type": "text"
      },
      "source": [
        "$$w_{tf-idf} = w_{tf}\\cdot \\log\\left(\\frac{1}{w_{df}}\\right)$$"
      ]
    },
    {
      "cell_type": "code",
      "metadata": {
        "id": "DSGCpTYYyEYp",
        "colab_type": "code",
        "colab": {}
      },
      "source": [
        "import tensorflow as tf\n",
        "import matplotlib.pyplot as plt\n",
        "import csv\n",
        "import numpy as np\n",
        "import string\n",
        "import nltk\n",
        "from sklearn.feature_extraction.text import TfidfVectorizer\n",
        "import os\n",
        "from zipfile import ZipFile\n",
        "import requests\n",
        "import io"
      ],
      "execution_count": 0,
      "outputs": []
    },
    {
      "cell_type": "code",
      "metadata": {
        "id": "XsGijDb0yEYx",
        "colab_type": "code",
        "colab": {}
      },
      "source": [
        "session = tf.Session()\n",
        "batch_size = 200 # numero de textos\n",
        "max_features = 1000 # conjunto de palabras"
      ],
      "execution_count": 0,
      "outputs": []
    },
    {
      "cell_type": "code",
      "metadata": {
        "id": "UfHp6KEwzeNH",
        "colab_type": "code",
        "colab": {}
      },
      "source": [
        "\n",
        "save_file_name = os.path.join('sample_data','spam_data.csv')\n",
        "#save_file_name = os.path.join('..','..','datasets', 'spam_data.csv')\n",
        "if os.path.isfile(save_file_name):\n",
        "    #el fichero existe y solo hay que cargarlo\n",
        "    text_data = []\n",
        "    with open(save_file_name, 'r') as temp_output_file:\n",
        "        reader = csv.reader(temp_output_file)\n",
        "        for row in reader:\n",
        "            text_data.append(row)\n",
        "else: \n",
        "    ##el fichero no existe y debemos descargarlo\n",
        "    url = \"https://archive.ics.uci.edu/ml/machine-learning-databases/00228/smsspamcollection.zip\"\n",
        "    req = requests.get(url)\n",
        "    z = ZipFile(io.BytesIO(req.content))\n",
        "    file = z.read('SMSSpamCollection')\n",
        "    ##Transformar el fichero binario a texto\n",
        "    text_data = file.decode()\n",
        "    text_data = text_data.encode('ascii', errors='ignore')\n",
        "    text_data = text_data.decode().split('\\n')\n",
        "    text_data = [x.split('\\t') for x in text_data if len(x)>=1]\n",
        "    ##Guardar datos en CSV\n",
        "    with open(save_file_name, 'w') as temp_output_file:\n",
        "        writer = csv.writer(temp_output_file)\n",
        "        writer.writerows(text_data)"
      ],
      "execution_count": 0,
      "outputs": []
    },
    {
      "cell_type": "code",
      "metadata": {
        "id": "W6S9iDypyEY4",
        "colab_type": "code",
        "colab": {}
      },
      "source": [
        "import os\n",
        "save_file_name = os.path.join('sample_data','spam_data.csv')\n",
        "\n",
        "text_data = []\n",
        "with open(save_file_name, 'r') as temp_output_file:\n",
        "    reader = csv.reader(temp_output_file)\n",
        "    for row in reader:\n",
        "        text_data.append(row)"
      ],
      "execution_count": 0,
      "outputs": []
    },
    {
      "cell_type": "code",
      "metadata": {
        "id": "YgZRDOypyEY_",
        "colab_type": "code",
        "colab": {}
      },
      "source": [
        "texts = [x[1] for x in text_data]\n",
        "target = [x[0] for x in text_data]\n",
        "target = [1 if x == 'spam' else 0 for x in target]"
      ],
      "execution_count": 0,
      "outputs": []
    },
    {
      "cell_type": "code",
      "metadata": {
        "id": "aXoFQDmOyEZH",
        "colab_type": "code",
        "colab": {}
      },
      "source": [
        "texts = [x.lower() for x in texts] # Convertir los textos a minúscula\n",
        "texts = [''.join(c for c in x if c not in string.punctuation) for x in texts] # Eliminamos signos de puntuación\n",
        "texts = [''.join(c for c in x if c not in '0123456789') for x in texts] # Eliminamos los números\n",
        "texts = [' '.join(x.split()) for x in texts] # Eliminar espacios en blanco y separadores extras"
      ],
      "execution_count": 0,
      "outputs": []
    },
    {
      "cell_type": "code",
      "metadata": {
        "id": "YvvZFBJayEZQ",
        "colab_type": "code",
        "colab": {}
      },
      "source": [
        "def tokenizer(text):\n",
        "    words = nltk.word_tokenize(text)# rompe el texto a plabras\n",
        "    return words"
      ],
      "execution_count": 0,
      "outputs": []
    },
    {
      "cell_type": "code",
      "metadata": {
        "id": "tDSt7F0uyEZb",
        "colab_type": "code",
        "colab": {}
      },
      "source": [
        "tfidf = TfidfVectorizer(tokenizer=tokenizer, stop_words='english', max_features=max_features)"
      ],
      "execution_count": 0,
      "outputs": []
    },
    {
      "cell_type": "code",
      "metadata": {
        "id": "wRKRuk6ByEZj",
        "colab_type": "code",
        "outputId": "f96c1e95-9795-4c68-cb3b-49078c041a36",
        "colab": {
          "base_uri": "https://localhost:8080/",
          "height": 72
        }
      },
      "source": [
        "nltk.download('punkt')"
      ],
      "execution_count": 58,
      "outputs": [
        {
          "output_type": "stream",
          "text": [
            "[nltk_data] Downloading package punkt to /root/nltk_data...\n",
            "[nltk_data]   Package punkt is already up-to-date!\n"
          ],
          "name": "stdout"
        },
        {
          "output_type": "execute_result",
          "data": {
            "text/plain": [
              "True"
            ]
          },
          "metadata": {
            "tags": []
          },
          "execution_count": 58
        }
      ]
    },
    {
      "cell_type": "code",
      "metadata": {
        "id": "jpwMQATtyEZs",
        "colab_type": "code",
        "colab": {}
      },
      "source": [
        "sparse_tfidf_texts = tfidf.fit_transform(texts)\n",
        "#  se crea una matrix sparce de 5574x1000 sparse matrix "
      ],
      "execution_count": 0,
      "outputs": []
    },
    {
      "cell_type": "code",
      "metadata": {
        "id": "g8MAReDKyEZy",
        "colab_type": "code",
        "outputId": "601e7033-4df2-4cf8-f5b4-eaf9ccddad11",
        "colab": {
          "base_uri": "https://localhost:8080/",
          "height": 54
        }
      },
      "source": [
        "sparse_tfidf_texts"
      ],
      "execution_count": 60,
      "outputs": [
        {
          "output_type": "execute_result",
          "data": {
            "text/plain": [
              "<5574x1000 sparse matrix of type '<class 'numpy.float64'>'\n",
              "\twith 30012 stored elements in Compressed Sparse Row format>"
            ]
          },
          "metadata": {
            "tags": []
          },
          "execution_count": 60
        }
      ]
    },
    {
      "cell_type": "code",
      "metadata": {
        "id": "jeco29QdAHc_",
        "colab_type": "code",
        "colab": {
          "base_uri": "https://localhost:8080/",
          "height": 35
        },
        "outputId": "29071c33-03e3-46fb-c3ac-fe2d13dbfdda"
      },
      "source": [
        "len(texts)"
      ],
      "execution_count": 61,
      "outputs": [
        {
          "output_type": "execute_result",
          "data": {
            "text/plain": [
              "5574"
            ]
          },
          "metadata": {
            "tags": []
          },
          "execution_count": 61
        }
      ]
    },
    {
      "cell_type": "markdown",
      "metadata": {
        "id": "Up7a6YIxyEZ5",
        "colab_type": "text"
      },
      "source": [
        "La matriz sparsed después de ser tokenizada, contiene \n",
        "- tantas filas como la longitud de: `len(texts)`\n",
        "- tantas columnas como palabras importantes hemos extraido del proceso de tokenización (las `max_features` importantes)\n",
        "- es una matriz sparsed, donde en fila i, columna j contiene la frecuencia de aparición de la palabra i en el texto j, que hemos llamado $w_{tf-idf}$ (probablemente cero en la mayoría de casos)"
      ]
    },
    {
      "cell_type": "code",
      "metadata": {
        "id": "m2CrkQjayEZ7",
        "colab_type": "code",
        "outputId": "ba9de37d-b25f-4d7a-8d50-226e95c4d071",
        "colab": {
          "base_uri": "https://localhost:8080/",
          "height": 35
        }
      },
      "source": [
        "sparse_tfidf_texts.shape"
      ],
      "execution_count": 62,
      "outputs": [
        {
          "output_type": "execute_result",
          "data": {
            "text/plain": [
              "(5574, 1000)"
            ]
          },
          "metadata": {
            "tags": []
          },
          "execution_count": 62
        }
      ]
    },
    {
      "cell_type": "code",
      "metadata": {
        "id": "3RgWlziNCI1A",
        "colab_type": "code",
        "colab": {
          "base_uri": "https://localhost:8080/",
          "height": 217
        },
        "outputId": "930bc236-889c-4304-8112-007831933630"
      },
      "source": [
        "print(type(sparse_tfidf_texts))\n",
        "print((sparse_tfidf_texts[0:1]))"
      ],
      "execution_count": 63,
      "outputs": [
        {
          "output_type": "stream",
          "text": [
            "<class 'scipy.sparse.csr.csr_matrix'>\n",
            "  (0, 922)\t0.2709848154866997\n",
            "  (0, 323)\t0.22032541100275282\n",
            "  (0, 227)\t0.28102915589024796\n",
            "  (0, 421)\t0.3896274380321477\n",
            "  (0, 967)\t0.3277447602873963\n",
            "  (0, 326)\t0.2645280991765623\n",
            "  (0, 545)\t0.2561101665717327\n",
            "  (0, 38)\t0.3613966215413548\n",
            "  (0, 160)\t0.36805562944957004\n",
            "  (0, 630)\t0.37172623140154337\n"
          ],
          "name": "stdout"
        }
      ]
    },
    {
      "cell_type": "code",
      "metadata": {
        "id": "cTRuTpMjCoEC",
        "colab_type": "code",
        "colab": {
          "base_uri": "https://localhost:8080/",
          "height": 247
        },
        "outputId": "a24540d3-dea5-47a1-e6b8-1d927c8d60be"
      },
      "source": [
        "matrix = pd.DataFrame(sparse_tfidf_texts.todense())\n",
        "matrix.head()"
      ],
      "execution_count": 64,
      "outputs": [
        {
          "output_type": "execute_result",
          "data": {
            "text/html": [
              "<div>\n",
              "<style scoped>\n",
              "    .dataframe tbody tr th:only-of-type {\n",
              "        vertical-align: middle;\n",
              "    }\n",
              "\n",
              "    .dataframe tbody tr th {\n",
              "        vertical-align: top;\n",
              "    }\n",
              "\n",
              "    .dataframe thead th {\n",
              "        text-align: right;\n",
              "    }\n",
              "</style>\n",
              "<table border=\"1\" class=\"dataframe\">\n",
              "  <thead>\n",
              "    <tr style=\"text-align: right;\">\n",
              "      <th></th>\n",
              "      <th>0</th>\n",
              "      <th>1</th>\n",
              "      <th>2</th>\n",
              "      <th>3</th>\n",
              "      <th>4</th>\n",
              "      <th>5</th>\n",
              "      <th>6</th>\n",
              "      <th>7</th>\n",
              "      <th>8</th>\n",
              "      <th>9</th>\n",
              "      <th>10</th>\n",
              "      <th>11</th>\n",
              "      <th>12</th>\n",
              "      <th>13</th>\n",
              "      <th>14</th>\n",
              "      <th>15</th>\n",
              "      <th>16</th>\n",
              "      <th>17</th>\n",
              "      <th>18</th>\n",
              "      <th>19</th>\n",
              "      <th>20</th>\n",
              "      <th>21</th>\n",
              "      <th>22</th>\n",
              "      <th>23</th>\n",
              "      <th>24</th>\n",
              "      <th>25</th>\n",
              "      <th>26</th>\n",
              "      <th>27</th>\n",
              "      <th>28</th>\n",
              "      <th>29</th>\n",
              "      <th>30</th>\n",
              "      <th>31</th>\n",
              "      <th>32</th>\n",
              "      <th>33</th>\n",
              "      <th>34</th>\n",
              "      <th>35</th>\n",
              "      <th>36</th>\n",
              "      <th>37</th>\n",
              "      <th>38</th>\n",
              "      <th>39</th>\n",
              "      <th>...</th>\n",
              "      <th>960</th>\n",
              "      <th>961</th>\n",
              "      <th>962</th>\n",
              "      <th>963</th>\n",
              "      <th>964</th>\n",
              "      <th>965</th>\n",
              "      <th>966</th>\n",
              "      <th>967</th>\n",
              "      <th>968</th>\n",
              "      <th>969</th>\n",
              "      <th>970</th>\n",
              "      <th>971</th>\n",
              "      <th>972</th>\n",
              "      <th>973</th>\n",
              "      <th>974</th>\n",
              "      <th>975</th>\n",
              "      <th>976</th>\n",
              "      <th>977</th>\n",
              "      <th>978</th>\n",
              "      <th>979</th>\n",
              "      <th>980</th>\n",
              "      <th>981</th>\n",
              "      <th>982</th>\n",
              "      <th>983</th>\n",
              "      <th>984</th>\n",
              "      <th>985</th>\n",
              "      <th>986</th>\n",
              "      <th>987</th>\n",
              "      <th>988</th>\n",
              "      <th>989</th>\n",
              "      <th>990</th>\n",
              "      <th>991</th>\n",
              "      <th>992</th>\n",
              "      <th>993</th>\n",
              "      <th>994</th>\n",
              "      <th>995</th>\n",
              "      <th>996</th>\n",
              "      <th>997</th>\n",
              "      <th>998</th>\n",
              "      <th>999</th>\n",
              "    </tr>\n",
              "  </thead>\n",
              "  <tbody>\n",
              "    <tr>\n",
              "      <th>0</th>\n",
              "      <td>0.0</td>\n",
              "      <td>0.0</td>\n",
              "      <td>0.0</td>\n",
              "      <td>0.0</td>\n",
              "      <td>0.0</td>\n",
              "      <td>0.0</td>\n",
              "      <td>0.0</td>\n",
              "      <td>0.0</td>\n",
              "      <td>0.0</td>\n",
              "      <td>0.0</td>\n",
              "      <td>0.0</td>\n",
              "      <td>0.0</td>\n",
              "      <td>0.0</td>\n",
              "      <td>0.0</td>\n",
              "      <td>0.0</td>\n",
              "      <td>0.0</td>\n",
              "      <td>0.0</td>\n",
              "      <td>0.0</td>\n",
              "      <td>0.0</td>\n",
              "      <td>0.0</td>\n",
              "      <td>0.0</td>\n",
              "      <td>0.0</td>\n",
              "      <td>0.0</td>\n",
              "      <td>0.0</td>\n",
              "      <td>0.0</td>\n",
              "      <td>0.0</td>\n",
              "      <td>0.0</td>\n",
              "      <td>0.000000</td>\n",
              "      <td>0.0</td>\n",
              "      <td>0.0</td>\n",
              "      <td>0.0</td>\n",
              "      <td>0.0</td>\n",
              "      <td>0.0</td>\n",
              "      <td>0.0</td>\n",
              "      <td>0.0</td>\n",
              "      <td>0.0</td>\n",
              "      <td>0.0</td>\n",
              "      <td>0.0</td>\n",
              "      <td>0.361397</td>\n",
              "      <td>0.0</td>\n",
              "      <td>...</td>\n",
              "      <td>0.0</td>\n",
              "      <td>0.0</td>\n",
              "      <td>0.0</td>\n",
              "      <td>0.0</td>\n",
              "      <td>0.0</td>\n",
              "      <td>0.0</td>\n",
              "      <td>0.0</td>\n",
              "      <td>0.327745</td>\n",
              "      <td>0.0</td>\n",
              "      <td>0.0</td>\n",
              "      <td>0.0</td>\n",
              "      <td>0.0</td>\n",
              "      <td>0.0</td>\n",
              "      <td>0.0</td>\n",
              "      <td>0.0</td>\n",
              "      <td>0.0</td>\n",
              "      <td>0.0</td>\n",
              "      <td>0.0</td>\n",
              "      <td>0.0</td>\n",
              "      <td>0.0</td>\n",
              "      <td>0.0</td>\n",
              "      <td>0.0</td>\n",
              "      <td>0.0</td>\n",
              "      <td>0.0</td>\n",
              "      <td>0.0</td>\n",
              "      <td>0.0</td>\n",
              "      <td>0.0</td>\n",
              "      <td>0.0</td>\n",
              "      <td>0.0</td>\n",
              "      <td>0.0</td>\n",
              "      <td>0.0</td>\n",
              "      <td>0.0</td>\n",
              "      <td>0.0</td>\n",
              "      <td>0.0</td>\n",
              "      <td>0.0</td>\n",
              "      <td>0.0</td>\n",
              "      <td>0.0</td>\n",
              "      <td>0.0</td>\n",
              "      <td>0.0</td>\n",
              "      <td>0.0</td>\n",
              "    </tr>\n",
              "    <tr>\n",
              "      <th>1</th>\n",
              "      <td>0.0</td>\n",
              "      <td>0.0</td>\n",
              "      <td>0.0</td>\n",
              "      <td>0.0</td>\n",
              "      <td>0.0</td>\n",
              "      <td>0.0</td>\n",
              "      <td>0.0</td>\n",
              "      <td>0.0</td>\n",
              "      <td>0.0</td>\n",
              "      <td>0.0</td>\n",
              "      <td>0.0</td>\n",
              "      <td>0.0</td>\n",
              "      <td>0.0</td>\n",
              "      <td>0.0</td>\n",
              "      <td>0.0</td>\n",
              "      <td>0.0</td>\n",
              "      <td>0.0</td>\n",
              "      <td>0.0</td>\n",
              "      <td>0.0</td>\n",
              "      <td>0.0</td>\n",
              "      <td>0.0</td>\n",
              "      <td>0.0</td>\n",
              "      <td>0.0</td>\n",
              "      <td>0.0</td>\n",
              "      <td>0.0</td>\n",
              "      <td>0.0</td>\n",
              "      <td>0.0</td>\n",
              "      <td>0.000000</td>\n",
              "      <td>0.0</td>\n",
              "      <td>0.0</td>\n",
              "      <td>0.0</td>\n",
              "      <td>0.0</td>\n",
              "      <td>0.0</td>\n",
              "      <td>0.0</td>\n",
              "      <td>0.0</td>\n",
              "      <td>0.0</td>\n",
              "      <td>0.0</td>\n",
              "      <td>0.0</td>\n",
              "      <td>0.000000</td>\n",
              "      <td>0.0</td>\n",
              "      <td>...</td>\n",
              "      <td>0.0</td>\n",
              "      <td>0.0</td>\n",
              "      <td>0.0</td>\n",
              "      <td>0.0</td>\n",
              "      <td>0.0</td>\n",
              "      <td>0.0</td>\n",
              "      <td>0.0</td>\n",
              "      <td>0.000000</td>\n",
              "      <td>0.0</td>\n",
              "      <td>0.0</td>\n",
              "      <td>0.0</td>\n",
              "      <td>0.0</td>\n",
              "      <td>0.0</td>\n",
              "      <td>0.0</td>\n",
              "      <td>0.0</td>\n",
              "      <td>0.0</td>\n",
              "      <td>0.0</td>\n",
              "      <td>0.0</td>\n",
              "      <td>0.0</td>\n",
              "      <td>0.0</td>\n",
              "      <td>0.0</td>\n",
              "      <td>0.0</td>\n",
              "      <td>0.0</td>\n",
              "      <td>0.0</td>\n",
              "      <td>0.0</td>\n",
              "      <td>0.0</td>\n",
              "      <td>0.0</td>\n",
              "      <td>0.0</td>\n",
              "      <td>0.0</td>\n",
              "      <td>0.0</td>\n",
              "      <td>0.0</td>\n",
              "      <td>0.0</td>\n",
              "      <td>0.0</td>\n",
              "      <td>0.0</td>\n",
              "      <td>0.0</td>\n",
              "      <td>0.0</td>\n",
              "      <td>0.0</td>\n",
              "      <td>0.0</td>\n",
              "      <td>0.0</td>\n",
              "      <td>0.0</td>\n",
              "    </tr>\n",
              "    <tr>\n",
              "      <th>2</th>\n",
              "      <td>0.0</td>\n",
              "      <td>0.0</td>\n",
              "      <td>0.0</td>\n",
              "      <td>0.0</td>\n",
              "      <td>0.0</td>\n",
              "      <td>0.0</td>\n",
              "      <td>0.0</td>\n",
              "      <td>0.0</td>\n",
              "      <td>0.0</td>\n",
              "      <td>0.0</td>\n",
              "      <td>0.0</td>\n",
              "      <td>0.0</td>\n",
              "      <td>0.0</td>\n",
              "      <td>0.0</td>\n",
              "      <td>0.0</td>\n",
              "      <td>0.0</td>\n",
              "      <td>0.0</td>\n",
              "      <td>0.0</td>\n",
              "      <td>0.0</td>\n",
              "      <td>0.0</td>\n",
              "      <td>0.0</td>\n",
              "      <td>0.0</td>\n",
              "      <td>0.0</td>\n",
              "      <td>0.0</td>\n",
              "      <td>0.0</td>\n",
              "      <td>0.0</td>\n",
              "      <td>0.0</td>\n",
              "      <td>0.258736</td>\n",
              "      <td>0.0</td>\n",
              "      <td>0.0</td>\n",
              "      <td>0.0</td>\n",
              "      <td>0.0</td>\n",
              "      <td>0.0</td>\n",
              "      <td>0.0</td>\n",
              "      <td>0.0</td>\n",
              "      <td>0.0</td>\n",
              "      <td>0.0</td>\n",
              "      <td>0.0</td>\n",
              "      <td>0.000000</td>\n",
              "      <td>0.0</td>\n",
              "      <td>...</td>\n",
              "      <td>0.0</td>\n",
              "      <td>0.0</td>\n",
              "      <td>0.0</td>\n",
              "      <td>0.0</td>\n",
              "      <td>0.0</td>\n",
              "      <td>0.0</td>\n",
              "      <td>0.0</td>\n",
              "      <td>0.000000</td>\n",
              "      <td>0.0</td>\n",
              "      <td>0.0</td>\n",
              "      <td>0.0</td>\n",
              "      <td>0.0</td>\n",
              "      <td>0.0</td>\n",
              "      <td>0.0</td>\n",
              "      <td>0.0</td>\n",
              "      <td>0.0</td>\n",
              "      <td>0.0</td>\n",
              "      <td>0.0</td>\n",
              "      <td>0.0</td>\n",
              "      <td>0.0</td>\n",
              "      <td>0.0</td>\n",
              "      <td>0.0</td>\n",
              "      <td>0.0</td>\n",
              "      <td>0.0</td>\n",
              "      <td>0.0</td>\n",
              "      <td>0.0</td>\n",
              "      <td>0.0</td>\n",
              "      <td>0.0</td>\n",
              "      <td>0.0</td>\n",
              "      <td>0.0</td>\n",
              "      <td>0.0</td>\n",
              "      <td>0.0</td>\n",
              "      <td>0.0</td>\n",
              "      <td>0.0</td>\n",
              "      <td>0.0</td>\n",
              "      <td>0.0</td>\n",
              "      <td>0.0</td>\n",
              "      <td>0.0</td>\n",
              "      <td>0.0</td>\n",
              "      <td>0.0</td>\n",
              "    </tr>\n",
              "    <tr>\n",
              "      <th>3</th>\n",
              "      <td>0.0</td>\n",
              "      <td>0.0</td>\n",
              "      <td>0.0</td>\n",
              "      <td>0.0</td>\n",
              "      <td>0.0</td>\n",
              "      <td>0.0</td>\n",
              "      <td>0.0</td>\n",
              "      <td>0.0</td>\n",
              "      <td>0.0</td>\n",
              "      <td>0.0</td>\n",
              "      <td>0.0</td>\n",
              "      <td>0.0</td>\n",
              "      <td>0.0</td>\n",
              "      <td>0.0</td>\n",
              "      <td>0.0</td>\n",
              "      <td>0.0</td>\n",
              "      <td>0.0</td>\n",
              "      <td>0.0</td>\n",
              "      <td>0.0</td>\n",
              "      <td>0.0</td>\n",
              "      <td>0.0</td>\n",
              "      <td>0.0</td>\n",
              "      <td>0.0</td>\n",
              "      <td>0.0</td>\n",
              "      <td>0.0</td>\n",
              "      <td>0.0</td>\n",
              "      <td>0.0</td>\n",
              "      <td>0.000000</td>\n",
              "      <td>0.0</td>\n",
              "      <td>0.0</td>\n",
              "      <td>0.0</td>\n",
              "      <td>0.0</td>\n",
              "      <td>0.0</td>\n",
              "      <td>0.0</td>\n",
              "      <td>0.0</td>\n",
              "      <td>0.0</td>\n",
              "      <td>0.0</td>\n",
              "      <td>0.0</td>\n",
              "      <td>0.000000</td>\n",
              "      <td>0.0</td>\n",
              "      <td>...</td>\n",
              "      <td>0.0</td>\n",
              "      <td>0.0</td>\n",
              "      <td>0.0</td>\n",
              "      <td>0.0</td>\n",
              "      <td>0.0</td>\n",
              "      <td>0.0</td>\n",
              "      <td>0.0</td>\n",
              "      <td>0.000000</td>\n",
              "      <td>0.0</td>\n",
              "      <td>0.0</td>\n",
              "      <td>0.0</td>\n",
              "      <td>0.0</td>\n",
              "      <td>0.0</td>\n",
              "      <td>0.0</td>\n",
              "      <td>0.0</td>\n",
              "      <td>0.0</td>\n",
              "      <td>0.0</td>\n",
              "      <td>0.0</td>\n",
              "      <td>0.0</td>\n",
              "      <td>0.0</td>\n",
              "      <td>0.0</td>\n",
              "      <td>0.0</td>\n",
              "      <td>0.0</td>\n",
              "      <td>0.0</td>\n",
              "      <td>0.0</td>\n",
              "      <td>0.0</td>\n",
              "      <td>0.0</td>\n",
              "      <td>0.0</td>\n",
              "      <td>0.0</td>\n",
              "      <td>0.0</td>\n",
              "      <td>0.0</td>\n",
              "      <td>0.0</td>\n",
              "      <td>0.0</td>\n",
              "      <td>0.0</td>\n",
              "      <td>0.0</td>\n",
              "      <td>0.0</td>\n",
              "      <td>0.0</td>\n",
              "      <td>0.0</td>\n",
              "      <td>0.0</td>\n",
              "      <td>0.0</td>\n",
              "    </tr>\n",
              "    <tr>\n",
              "      <th>4</th>\n",
              "      <td>0.0</td>\n",
              "      <td>0.0</td>\n",
              "      <td>0.0</td>\n",
              "      <td>0.0</td>\n",
              "      <td>0.0</td>\n",
              "      <td>0.0</td>\n",
              "      <td>0.0</td>\n",
              "      <td>0.0</td>\n",
              "      <td>0.0</td>\n",
              "      <td>0.0</td>\n",
              "      <td>0.0</td>\n",
              "      <td>0.0</td>\n",
              "      <td>0.0</td>\n",
              "      <td>0.0</td>\n",
              "      <td>0.0</td>\n",
              "      <td>0.0</td>\n",
              "      <td>0.0</td>\n",
              "      <td>0.0</td>\n",
              "      <td>0.0</td>\n",
              "      <td>0.0</td>\n",
              "      <td>0.0</td>\n",
              "      <td>0.0</td>\n",
              "      <td>0.0</td>\n",
              "      <td>0.0</td>\n",
              "      <td>0.0</td>\n",
              "      <td>0.0</td>\n",
              "      <td>0.0</td>\n",
              "      <td>0.000000</td>\n",
              "      <td>0.0</td>\n",
              "      <td>0.0</td>\n",
              "      <td>0.0</td>\n",
              "      <td>0.0</td>\n",
              "      <td>0.0</td>\n",
              "      <td>0.0</td>\n",
              "      <td>0.0</td>\n",
              "      <td>0.0</td>\n",
              "      <td>0.0</td>\n",
              "      <td>0.0</td>\n",
              "      <td>0.000000</td>\n",
              "      <td>0.0</td>\n",
              "      <td>...</td>\n",
              "      <td>0.0</td>\n",
              "      <td>0.0</td>\n",
              "      <td>0.0</td>\n",
              "      <td>0.0</td>\n",
              "      <td>0.0</td>\n",
              "      <td>0.0</td>\n",
              "      <td>0.0</td>\n",
              "      <td>0.000000</td>\n",
              "      <td>0.0</td>\n",
              "      <td>0.0</td>\n",
              "      <td>0.0</td>\n",
              "      <td>0.0</td>\n",
              "      <td>0.0</td>\n",
              "      <td>0.0</td>\n",
              "      <td>0.0</td>\n",
              "      <td>0.0</td>\n",
              "      <td>0.0</td>\n",
              "      <td>0.0</td>\n",
              "      <td>0.0</td>\n",
              "      <td>0.0</td>\n",
              "      <td>0.0</td>\n",
              "      <td>0.0</td>\n",
              "      <td>0.0</td>\n",
              "      <td>0.0</td>\n",
              "      <td>0.0</td>\n",
              "      <td>0.0</td>\n",
              "      <td>0.0</td>\n",
              "      <td>0.0</td>\n",
              "      <td>0.0</td>\n",
              "      <td>0.0</td>\n",
              "      <td>0.0</td>\n",
              "      <td>0.0</td>\n",
              "      <td>0.0</td>\n",
              "      <td>0.0</td>\n",
              "      <td>0.0</td>\n",
              "      <td>0.0</td>\n",
              "      <td>0.0</td>\n",
              "      <td>0.0</td>\n",
              "      <td>0.0</td>\n",
              "      <td>0.0</td>\n",
              "    </tr>\n",
              "  </tbody>\n",
              "</table>\n",
              "<p>5 rows × 1000 columns</p>\n",
              "</div>"
            ],
            "text/plain": [
              "   0    1    2    3    4    5    6    ...  993  994  995  996  997  998  999\n",
              "0  0.0  0.0  0.0  0.0  0.0  0.0  0.0  ...  0.0  0.0  0.0  0.0  0.0  0.0  0.0\n",
              "1  0.0  0.0  0.0  0.0  0.0  0.0  0.0  ...  0.0  0.0  0.0  0.0  0.0  0.0  0.0\n",
              "2  0.0  0.0  0.0  0.0  0.0  0.0  0.0  ...  0.0  0.0  0.0  0.0  0.0  0.0  0.0\n",
              "3  0.0  0.0  0.0  0.0  0.0  0.0  0.0  ...  0.0  0.0  0.0  0.0  0.0  0.0  0.0\n",
              "4  0.0  0.0  0.0  0.0  0.0  0.0  0.0  ...  0.0  0.0  0.0  0.0  0.0  0.0  0.0\n",
              "\n",
              "[5 rows x 1000 columns]"
            ]
          },
          "metadata": {
            "tags": []
          },
          "execution_count": 64
        }
      ]
    },
    {
      "cell_type": "code",
      "metadata": {
        "id": "yPXcuM6MyEaG",
        "colab_type": "code",
        "colab": {}
      },
      "source": [
        "# dividimos los datos para entrenar:\n",
        "train_idx = np.random.choice(sparse_tfidf_texts.shape[0], round(0.8*sparse_tfidf_texts.shape[0]), replace=False)\n",
        "test_idx = np.array(list(set(range(sparse_tfidf_texts.shape[0]))-set(train_idx)))"
      ],
      "execution_count": 0,
      "outputs": []
    },
    {
      "cell_type": "code",
      "metadata": {
        "id": "MsM5iMyeyEaO",
        "colab_type": "code",
        "colab": {}
      },
      "source": [
        "texts_train = sparse_tfidf_texts[train_idx]\n",
        "texts_test = sparse_tfidf_texts[test_idx]\n",
        "target_train = np.array([x for ix, x in enumerate(target) if ix in train_idx])\n",
        "target_test = np.array([x for ix, x in enumerate(target) if ix in test_idx])"
      ],
      "execution_count": 0,
      "outputs": []
    },
    {
      "cell_type": "code",
      "metadata": {
        "id": "NLlBn3cKyEaU",
        "colab_type": "code",
        "colab": {}
      },
      "source": [
        "A = tf.Variable(tf.random_normal(shape = [max_features, 1]))\n",
        "b = tf.Variable(tf.random_normal(shape = [1,1]))\n",
        "x_data = tf.placeholder(shape = [None, max_features], dtype = tf.float32)\n",
        "y_target = tf.placeholder(shape = [None, 1], dtype = tf.float32)"
      ],
      "execution_count": 0,
      "outputs": []
    },
    {
      "cell_type": "code",
      "metadata": {
        "id": "mPYYjyFuyEaZ",
        "colab_type": "code",
        "colab": {}
      },
      "source": [
        "# NUESTO MODEL SERA LINEAL\n",
        "model_output = tf.add(tf.matmul(x_data, A), b)\n",
        "loss = tf.reduce_mean(tf.nn.sigmoid_cross_entropy_with_logits(logits=model_output, labels=y_target))"
      ],
      "execution_count": 0,
      "outputs": []
    },
    {
      "cell_type": "code",
      "metadata": {
        "id": "IMY9vpxNyEaf",
        "colab_type": "code",
        "colab": {}
      },
      "source": [
        "prediction = tf.round(tf.sigmoid(model_output))\n",
        "predictions_correct = tf.cast(tf.equal(prediction, y_target), tf.float32)\n",
        "accuracy = tf.reduce_mean(predictions_correct)"
      ],
      "execution_count": 0,
      "outputs": []
    },
    {
      "cell_type": "code",
      "metadata": {
        "id": "h1_XIE06yEam",
        "colab_type": "code",
        "colab": {}
      },
      "source": [
        "# mi obtimizador el gradiante desendente\n",
        "my_optim = tf.train.GradientDescentOptimizer(0.0025)\n",
        "train_step = my_optim.minimize(loss)\n",
        "init = tf.global_variables_initializer()\n",
        "session.run(init)"
      ],
      "execution_count": 0,
      "outputs": []
    },
    {
      "cell_type": "code",
      "metadata": {
        "id": "JPLXQub2yEat",
        "colab_type": "code",
        "outputId": "32606d14-9a46-4704-916c-8eefe7191755",
        "colab": {
          "base_uri": "https://localhost:8080/",
          "height": 745
        }
      },
      "source": [
        "#proceso de entrenamiento:\n",
        "train_loss = []\n",
        "test_loss = []\n",
        "train_acc = []\n",
        "test_acc = []\n",
        "i_data = []\n",
        "\n",
        "for i in range(10000):\n",
        "    rand_idx = np.random.choice(texts_train.shape[0], size = batch_size)\n",
        "    rand_x = texts_train[rand_idx].todense()# .todense() los coloca en la forma correcta\n",
        "    rand_y = np.transpose([target_train[rand_idx]])\n",
        "    session.run(train_step, feed_dict={x_data: rand_x, y_target: rand_y})\n",
        "    \n",
        "    if(i+1)%100==0:\n",
        "        i_data.append(i+1)\n",
        "        \n",
        "        train_loss_temp = session.run(loss, feed_dict={x_data:rand_x, y_target:rand_y})\n",
        "        train_loss.append(train_loss_temp)\n",
        "        \n",
        "        test_loss_temp = session.run(loss, feed_dict={x_data:texts_test.todense(), \n",
        "                                                      y_target:np.transpose([target_test])})\n",
        "        test_loss.append(test_loss_temp)\n",
        "        \n",
        "        train_acc_temp = session.run(accuracy, feed_dict={x_data: rand_x, y_target: rand_y})\n",
        "        train_acc.append(train_acc_temp)\n",
        "        \n",
        "        test_acc_temp = session.run(accuracy, feed_dict={x_data: texts_test.todense(), \n",
        "                                                         y_target: np.transpose([target_test])})\n",
        "        test_acc.append(test_acc_temp)\n",
        "        \n",
        "    if(i+1)%500==0:\n",
        "        acc_and_loss = [i+1, train_loss_temp, test_loss_temp, train_acc_temp, test_acc_temp]\n",
        "        acc_and_loss = [np.round(x,3) for x in acc_and_loss]\n",
        "        print(\"Paso #{}. Train loss: {}. Test Loss: {}.\\n  Train Acc: {}. Test Acc:{}.\".format(*acc_and_loss))"
      ],
      "execution_count": 74,
      "outputs": [
        {
          "output_type": "stream",
          "text": [
            "Paso #500. Train loss: 1.409999966621399. Test Loss: 1.4980000257492065.\n",
            "  Train Acc: 0.1899999976158142. Test Acc:0.17599999904632568.\n",
            "Paso #1000. Train loss: 1.0750000476837158. Test Loss: 1.0789999961853027.\n",
            "  Train Acc: 0.30000001192092896. Test Acc:0.3019999861717224.\n",
            "Paso #1500. Train loss: 0.8659999966621399. Test Loss: 0.8209999799728394.\n",
            "  Train Acc: 0.4300000071525574. Test Acc:0.4740000069141388.\n",
            "Paso #2000. Train loss: 0.7360000014305115. Test Loss: 0.6669999957084656.\n",
            "  Train Acc: 0.6000000238418579. Test Acc:0.6209999918937683.\n",
            "Paso #2500. Train loss: 0.5419999957084656. Test Loss: 0.5759999752044678.\n",
            "  Train Acc: 0.7400000095367432. Test Acc:0.6940000057220459.\n",
            "Paso #3000. Train loss: 0.5210000276565552. Test Loss: 0.5189999938011169.\n",
            "  Train Acc: 0.7599999904632568. Test Acc:0.746999979019165.\n",
            "Paso #3500. Train loss: 0.5199999809265137. Test Loss: 0.4830000102519989.\n",
            "  Train Acc: 0.7900000214576721. Test Acc:0.7960000038146973.\n",
            "Paso #4000. Train loss: 0.5540000200271606. Test Loss: 0.45899999141693115.\n",
            "  Train Acc: 0.7699999809265137. Test Acc:0.824999988079071.\n",
            "Paso #4500. Train loss: 0.5. Test Loss: 0.4429999887943268.\n",
            "  Train Acc: 0.800000011920929. Test Acc:0.8389999866485596.\n",
            "Paso #5000. Train loss: 0.460999995470047. Test Loss: 0.43299999833106995.\n",
            "  Train Acc: 0.8299999833106995. Test Acc:0.8519999980926514.\n",
            "Paso #5500. Train loss: 0.45399999618530273. Test Loss: 0.42500001192092896.\n",
            "  Train Acc: 0.8299999833106995. Test Acc:0.859000027179718.\n",
            "Paso #6000. Train loss: 0.4050000011920929. Test Loss: 0.4189999997615814.\n",
            "  Train Acc: 0.8600000143051147. Test Acc:0.8619999885559082.\n",
            "Paso #6500. Train loss: 0.5040000081062317. Test Loss: 0.41499999165534973.\n",
            "  Train Acc: 0.8299999833106995. Test Acc:0.8640000224113464.\n",
            "Paso #7000. Train loss: 0.5070000290870667. Test Loss: 0.41200000047683716.\n",
            "  Train Acc: 0.8349999785423279. Test Acc:0.8690000176429749.\n",
            "Paso #7500. Train loss: 0.4690000116825104. Test Loss: 0.4090000092983246.\n",
            "  Train Acc: 0.8399999737739563. Test Acc:0.8690000176429749.\n",
            "Paso #8000. Train loss: 0.42800000309944153. Test Loss: 0.40799999237060547.\n",
            "  Train Acc: 0.8600000143051147. Test Acc:0.8700000047683716.\n",
            "Paso #8500. Train loss: 0.4569999873638153. Test Loss: 0.4059999883174896.\n",
            "  Train Acc: 0.8550000190734863. Test Acc:0.8709999918937683.\n",
            "Paso #9000. Train loss: 0.42800000309944153. Test Loss: 0.4050000011920929.\n",
            "  Train Acc: 0.8650000095367432. Test Acc:0.871999979019165.\n",
            "Paso #9500. Train loss: 0.4440000057220459. Test Loss: 0.40400001406669617.\n",
            "  Train Acc: 0.8450000286102295. Test Acc:0.8730000257492065.\n",
            "Paso #10000. Train loss: 0.4050000011920929. Test Loss: 0.40400001406669617.\n",
            "  Train Acc: 0.8949999809265137. Test Acc:0.8740000128746033.\n"
          ],
          "name": "stdout"
        }
      ]
    },
    {
      "cell_type": "code",
      "metadata": {
        "id": "NuWJnPsPyEaz",
        "colab_type": "code",
        "outputId": "003d9781-b647-4d01-e7c2-923026d29acd",
        "colab": {
          "base_uri": "https://localhost:8080/",
          "height": 295
        }
      },
      "source": [
        "plt.plot(train_loss, 'r-', label = \"Función de Pérdida en Entrenamiento\")\n",
        "plt.plot(test_loss, 'b--', label = \"Función de Pérdida en Test\")\n",
        "plt.legend(loc=\"upper right\")\n",
        "plt.xlabel(\"Iteraciones\")\n",
        "plt.ylabel(\"Pérdida en Entropía cruzada\")\n",
        "plt.title(\"Función de pérdidas según iteración\")\n",
        "plt.show()"
      ],
      "execution_count": 75,
      "outputs": [
        {
          "output_type": "display_data",
          "data": {
            "image/png": "[encoded data removed]",
            "text/plain": [
              "<Figure size 432x288 with 1 Axes>"
            ]
          },
          "metadata": {
            "tags": [],
            "needs_background": "light"
          }
        }
      ]
    },
    {
      "cell_type": "code",
      "metadata": {
        "id": "M-mfXX4qyEa4",
        "colab_type": "code",
        "outputId": "24051933-d6c4-4553-99af-a48b8492c366",
        "colab": {
          "base_uri": "https://localhost:8080/",
          "height": 295
        }
      },
      "source": [
        "plt.plot(train_acc, 'r-', label = \"Precisión en Entrenamiento\")\n",
        "plt.plot(test_acc, 'b--', label = \"Precisión en Test\")\n",
        "plt.legend(loc=\"lower right\")\n",
        "plt.xlabel(\"Iteraciones\")\n",
        "plt.ylabel(\"Precisión\")\n",
        "plt.title(\"Precisión en la predicción Spam/Ham según iteración\")\n",
        "plt.show()"
      ],
      "execution_count": 76,
      "outputs": [
        {
          "output_type": "display_data",
          "data": {
            "image/png": "[encoded data removed]",
            "text/plain": [
              "<Figure size 432x288 with 1 Axes>"
            ]
          },
          "metadata": {
            "tags": [],
            "needs_background": "light"
          }
        }
      ]
    },
    {
      "cell_type": "code",
      "metadata": {
        "id": "k5q19yidyEa-",
        "colab_type": "code",
        "colab": {}
      },
      "source": [
        ""
      ],
      "execution_count": 0,
      "outputs": []
    }
  ]
}