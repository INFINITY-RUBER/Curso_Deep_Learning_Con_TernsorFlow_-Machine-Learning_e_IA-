{
  "nbformat": 4,
  "nbformat_minor": 0,
  "metadata": {
    "kernelspec": {
      "display_name": "Python 3",
      "language": "python",
      "name": "python3"
    },
    "language_info": {
      "codemirror_mode": {
        "name": "ipython",
        "version": 3
      },
      "file_extension": ".py",
      "mimetype": "text/x-python",
      "name": "python",
      "nbconvert_exporter": "python",
      "pygments_lexer": "ipython3",
      "version": "3.5.5"
    },
    "colab": {
      "name": "02-activation-functions.ipynb",
      "provenance": [],
      "include_colab_link": true
    }
  },
  "cells": [
    {
      "cell_type": "markdown",
      "metadata": {
        "id": "view-in-github",
        "colab_type": "text"
      },
      "source": [
        "<a href=\"https://colab.research.google.com/github/INFINITY-RUBER/Curso_Deep_Learning_Con_TernsorFlow_Machine-Learning_e_IA-/blob/master/scripts/tema07/02-activation-functions.ipynb\" target=\"_parent\"><img src=\"https://colab.research.google.com/assets/colab-badge.svg\" alt=\"Open In Colab\"/></a>"
      ]
    },
    {
      "cell_type": "code",
      "metadata": {
        "id": "udWV2WhIHUgI",
        "colab_type": "code",
        "colab": {
          "base_uri": "https://localhost:8080/",
          "height": 746
        },
        "outputId": "40ac2c45-fef6-472c-8b15-4c5b154a2c6b"
      },
      "source": [
        "pip install tensorflow==1.14"
      ],
      "execution_count": 1,
      "outputs": [
        {
          "output_type": "stream",
          "text": [
            "Collecting tensorflow==1.14\n",
            "\u001b[?25l  Downloading https://files.pythonhosted.org/packages/de/f0/96fb2e0412ae9692dbf400e5b04432885f677ad6241c088ccc5fe7724d69/tensorflow-1.14.0-cp36-cp36m-manylinux1_x86_64.whl (109.2MB)\n",
            "\u001b[K     |████████████████████████████████| 109.2MB 99kB/s \n",
            "\u001b[?25hRequirement already satisfied: grpcio>=1.8.6 in /usr/local/lib/python3.6/dist-packages (from tensorflow==1.14) (1.29.0)\n",
            "Requirement already satisfied: keras-preprocessing>=1.0.5 in /usr/local/lib/python3.6/dist-packages (from tensorflow==1.14) (1.1.2)\n",
            "Requirement already satisfied: keras-applications>=1.0.6 in /usr/local/lib/python3.6/dist-packages (from tensorflow==1.14) (1.0.8)\n",
            "Requirement already satisfied: astor>=0.6.0 in /usr/local/lib/python3.6/dist-packages (from tensorflow==1.14) (0.8.1)\n",
            "Requirement already satisfied: termcolor>=1.1.0 in /usr/local/lib/python3.6/dist-packages (from tensorflow==1.14) (1.1.0)\n",
            "Requirement already satisfied: gast>=0.2.0 in /usr/local/lib/python3.6/dist-packages (from tensorflow==1.14) (0.3.3)\n",
            "Requirement already satisfied: six>=1.10.0 in /usr/local/lib/python3.6/dist-packages (from tensorflow==1.14) (1.12.0)\n",
            "Requirement already satisfied: absl-py>=0.7.0 in /usr/local/lib/python3.6/dist-packages (from tensorflow==1.14) (0.9.0)\n",
            "Requirement already satisfied: wheel>=0.26 in /usr/local/lib/python3.6/dist-packages (from tensorflow==1.14) (0.34.2)\n",
            "Requirement already satisfied: google-pasta>=0.1.6 in /usr/local/lib/python3.6/dist-packages (from tensorflow==1.14) (0.2.0)\n",
            "Collecting tensorboard<1.15.0,>=1.14.0\n",
            "\u001b[?25l  Downloading https://files.pythonhosted.org/packages/91/2d/2ed263449a078cd9c8a9ba50ebd50123adf1f8cfbea1492f9084169b89d9/tensorboard-1.14.0-py3-none-any.whl (3.1MB)\n",
            "\u001b[K     |████████████████████████████████| 3.2MB 56.7MB/s \n",
            "\u001b[?25hCollecting tensorflow-estimator<1.15.0rc0,>=1.14.0rc0\n",
            "\u001b[?25l  Downloading https://files.pythonhosted.org/packages/3c/d5/21860a5b11caf0678fbc8319341b0ae21a07156911132e0e71bffed0510d/tensorflow_estimator-1.14.0-py2.py3-none-any.whl (488kB)\n",
            "\u001b[K     |████████████████████████████████| 491kB 53.9MB/s \n",
            "\u001b[?25hRequirement already satisfied: protobuf>=3.6.1 in /usr/local/lib/python3.6/dist-packages (from tensorflow==1.14) (3.10.0)\n",
            "Requirement already satisfied: wrapt>=1.11.1 in /usr/local/lib/python3.6/dist-packages (from tensorflow==1.14) (1.12.1)\n",
            "Requirement already satisfied: numpy<2.0,>=1.14.5 in /usr/local/lib/python3.6/dist-packages (from tensorflow==1.14) (1.18.4)\n",
            "Requirement already satisfied: h5py in /usr/local/lib/python3.6/dist-packages (from keras-applications>=1.0.6->tensorflow==1.14) (2.10.0)\n",
            "Requirement already satisfied: werkzeug>=0.11.15 in /usr/local/lib/python3.6/dist-packages (from tensorboard<1.15.0,>=1.14.0->tensorflow==1.14) (1.0.1)\n",
            "Requirement already satisfied: markdown>=2.6.8 in /usr/local/lib/python3.6/dist-packages (from tensorboard<1.15.0,>=1.14.0->tensorflow==1.14) (3.2.2)\n",
            "Requirement already satisfied: setuptools>=41.0.0 in /usr/local/lib/python3.6/dist-packages (from tensorboard<1.15.0,>=1.14.0->tensorflow==1.14) (47.1.1)\n",
            "Requirement already satisfied: importlib-metadata; python_version < \"3.8\" in /usr/local/lib/python3.6/dist-packages (from markdown>=2.6.8->tensorboard<1.15.0,>=1.14.0->tensorflow==1.14) (1.6.0)\n",
            "Requirement already satisfied: zipp>=0.5 in /usr/local/lib/python3.6/dist-packages (from importlib-metadata; python_version < \"3.8\"->markdown>=2.6.8->tensorboard<1.15.0,>=1.14.0->tensorflow==1.14) (3.1.0)\n",
            "Installing collected packages: tensorboard, tensorflow-estimator, tensorflow\n",
            "  Found existing installation: tensorboard 2.2.2\n",
            "    Uninstalling tensorboard-2.2.2:\n",
            "      Successfully uninstalled tensorboard-2.2.2\n",
            "  Found existing installation: tensorflow-estimator 2.2.0\n",
            "    Uninstalling tensorflow-estimator-2.2.0:\n",
            "      Successfully uninstalled tensorflow-estimator-2.2.0\n",
            "  Found existing installation: tensorflow 2.2.0\n",
            "    Uninstalling tensorflow-2.2.0:\n",
            "      Successfully uninstalled tensorflow-2.2.0\n",
            "Successfully installed tensorboard-1.14.0 tensorflow-1.14.0 tensorflow-estimator-1.14.0\n"
          ],
          "name": "stdout"
        }
      ]
    },
    {
      "cell_type": "markdown",
      "metadata": {
        "id": "2JtHbPs0HRnG",
        "colab_type": "text"
      },
      "source": [
        "# Funciones de Activación"
      ]
    },
    {
      "cell_type": "code",
      "metadata": {
        "id": "LDvbr8-VHRnJ",
        "colab_type": "code",
        "colab": {}
      },
      "source": [
        "import tensorflow as tf\n",
        "import numpy as np\n",
        "import matplotlib.pyplot as plt\n"
      ],
      "execution_count": 0,
      "outputs": []
    },
    {
      "cell_type": "code",
      "metadata": {
        "id": "s7TiGx1DHRnw",
        "colab_type": "code",
        "colab": {}
      },
      "source": [
        "session = tf.Session()\n",
        "tf.set_random_seed(2019)\n",
        "np.random.seed(2019)"
      ],
      "execution_count": 0,
      "outputs": []
    },
    {
      "cell_type": "code",
      "metadata": {
        "id": "sm7m5NCfHRn3",
        "colab_type": "code",
        "colab": {}
      },
      "source": [
        "batch_size = 50\n",
        "# defino los Tensores\n",
        "a1 = tf.Variable(tf.random_normal(shape=[1,1]))\n",
        "b1 = tf.Variable(tf.random_normal(shape=[1,1]))\n",
        "\n",
        "a2 = tf.Variable(tf.random_normal(shape=[1,1]))\n",
        "b2 = tf.Variable(tf.random_normal(shape=[1,1]))\n",
        "\n",
        "x = np.random.normal(loc=5,scale=0.25, size=1000)\n",
        "x_data = tf.placeholder(shape=[None, 1], dtype= tf.float32)"
      ],
      "execution_count": 0,
      "outputs": []
    },
    {
      "cell_type": "markdown",
      "metadata": {
        "id": "9hOcZTSGHRn-",
        "colab_type": "text"
      },
      "source": [
        "### Función Sigmoide\n",
        "$$sigmoid(x) = \\sigma(x) = \\frac{1}{1+e^{ax+b}}$$"
      ]
    },
    {
      "cell_type": "code",
      "metadata": {
        "id": "jo7oi-FyHRn_",
        "colab_type": "code",
        "colab": {}
      },
      "source": [
        "sigmoid_act = tf.sigmoid(tf.add(tf.matmul(x_data, a1), b1))"
      ],
      "execution_count": 0,
      "outputs": []
    },
    {
      "cell_type": "markdown",
      "metadata": {
        "id": "salclerxJIdN",
        "colab_type": "text"
      },
      "source": [
        "$$ e^{ax+b}$$"
      ]
    },
    {
      "cell_type": "markdown",
      "metadata": {
        "id": "54e3Q489HRoG",
        "colab_type": "text"
      },
      "source": [
        "### Función ReLu (Rectificador Lineal Unitario)\n",
        "$$f(x) = \\max(0,ax+b)$$"
      ]
    },
    {
      "cell_type": "code",
      "metadata": {
        "id": "ZQZn4-RDHRoH",
        "colab_type": "code",
        "colab": {}
      },
      "source": [
        "relu_act = tf.nn.relu(tf.add(tf.matmul(x_data, a2), b2))"
      ],
      "execution_count": 0,
      "outputs": []
    },
    {
      "cell_type": "code",
      "metadata": {
        "id": "vydkB8jzHRoO",
        "colab_type": "code",
        "colab": {}
      },
      "source": [
        "target = 0.75\n",
        "loss1 = tf.reduce_mean(tf.square(tf.subtract(sigmoid_act, target)))\n",
        "loss2 = tf.reduce_mean(tf.square(tf.subtract(relu_act, target)))"
      ],
      "execution_count": 0,
      "outputs": []
    },
    {
      "cell_type": "code",
      "metadata": {
        "id": "dovc-QLfHRoV",
        "colab_type": "code",
        "colab": {}
      },
      "source": [
        "my_optim = tf.train.GradientDescentOptimizer(0.01)\n",
        "train_step_sigmoid = my_optim.minimize(loss1)\n",
        "train_step_relu = my_optim.minimize(loss2)\n",
        "init = tf.global_variables_initializer()\n",
        "session.run(init)"
      ],
      "execution_count": 0,
      "outputs": []
    },
    {
      "cell_type": "code",
      "metadata": {
        "id": "WMpTirRsHRod",
        "colab_type": "code",
        "colab": {}
      },
      "source": [
        "loss_vect_sigmoid = []\n",
        "loss_vect_relu = []\n",
        "activ_sigmoid = []\n",
        "activ_relu = []\n",
        "for i in range(1000):\n",
        "    rand_idx = np.random.choice(len(x), size = batch_size)\n",
        "    x_vals = np.transpose([x[rand_idx]])\n",
        "    session.run(train_step_sigmoid, feed_dict = {x_data:x_vals})\n",
        "    session.run(train_step_relu, feed_dict={x_data:x_vals})\n",
        "    \n",
        "    loss_vect_sigmoid.append(session.run(loss1, feed_dict={x_data:x_vals}))\n",
        "    loss_vect_relu.append(session.run(loss2, feed_dict={x_data:x_vals}))\n",
        "    \n",
        "    activ_sigmoid.append(np.mean(session.run(sigmoid_act, feed_dict={x_data:x_vals})))\n",
        "    activ_relu.append(np.mean(session.run(relu_act, feed_dict={x_data:x_vals})))"
      ],
      "execution_count": 0,
      "outputs": []
    },
    {
      "cell_type": "code",
      "metadata": {
        "id": "REZVtHsbHRol",
        "colab_type": "code",
        "colab": {
          "base_uri": "https://localhost:8080/",
          "height": 295
        },
        "outputId": "cf409181-d2fe-410c-ebd6-d8f3129144c1"
      },
      "source": [
        "plt.plot(activ_sigmoid, 'r-', label=\"Función de Activación Sigmoide\")\n",
        "plt.plot(activ_relu, 'b--', label=\"Función de Activación ReLU\")\n",
        "plt.ylim([0.0,2.0])\n",
        "plt.title(\"Funciones de Activación\")\n",
        "plt.xlabel(\"Número de iteración\")\n",
        "plt.ylabel(\"Predicción del modelo\")\n",
        "plt.legend(loc=\"lower right\")\n",
        "plt.show()"
      ],
      "execution_count": 36,
      "outputs": [
        {
          "output_type": "display_data",
          "data": {
            "image/png": "[encoded data removed]",
            "text/plain": [
              "<Figure size 432x288 with 1 Axes>"
            ]
          },
          "metadata": {
            "tags": [],
            "needs_background": "light"
          }
        }
      ]
    },
    {
      "cell_type": "code",
      "metadata": {
        "id": "dDzJANcUHRoy",
        "colab_type": "code",
        "colab": {
          "base_uri": "https://localhost:8080/",
          "height": 295
        },
        "outputId": "f6ac60c5-fce2-4e8c-c71f-5b9a3d1d2a9e"
      },
      "source": [
        "plt.plot(loss_vect_sigmoid, 'r-', label = \"Pérdidas de la Sigmoide\")\n",
        "plt.plot(loss_vect_relu, 'b--', label=\"Pérdidas de la ReLU\")\n",
        "plt.ylim([0.,1.])\n",
        "plt.title(\"Función de pérdidas\")\n",
        "plt.xlabel(\"Número de iteración\")\n",
        "plt.ylabel(\"Pérdida\")\n",
        "plt.legend(loc=\"upper right\")\n",
        "plt.show()"
      ],
      "execution_count": 37,
      "outputs": [
        {
          "output_type": "display_data",
          "data": {
            "image/png": "[encoded data removed]",
            "text/plain": [
              "<Figure size 432x288 with 1 Axes>"
            ]
          },
          "metadata": {
            "tags": [],
            "needs_background": "light"
          }
        }
      ]
    },
    {
      "cell_type": "code",
      "metadata": {
        "id": "jKR6XadfHRo5",
        "colab_type": "code",
        "colab": {}
      },
      "source": [
        ""
      ],
      "execution_count": 0,
      "outputs": []
    }
  ]
}