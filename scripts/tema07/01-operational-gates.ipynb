{
  "nbformat": 4,
  "nbformat_minor": 0,
  "metadata": {
    "kernelspec": {
      "display_name": "Python 3",
      "language": "python",
      "name": "python3"
    },
    "language_info": {
      "codemirror_mode": {
        "name": "ipython",
        "version": 3
      },
      "file_extension": ".py",
      "mimetype": "text/x-python",
      "name": "python",
      "nbconvert_exporter": "python",
      "pygments_lexer": "ipython3",
      "version": "3.5.5"
    },
    "colab": {
      "name": "01-operational-gates.ipynb",
      "provenance": [],
      "include_colab_link": true
    }
  },
  "cells": [
    {
      "cell_type": "markdown",
      "metadata": {
        "id": "view-in-github",
        "colab_type": "text"
      },
      "source": [
        "<a href=\"https://colab.research.google.com/github/INFINITY-RUBER/Curso_Deep_Learning_Con_TernsorFlow_Machine-Learning_e_IA-/blob/master/scripts/tema07/01-operational-gates.ipynb\" target=\"_parent\"><img src=\"https://colab.research.google.com/assets/colab-badge.svg\" alt=\"Open In Colab\"/></a>"
      ]
    },
    {
      "cell_type": "code",
      "metadata": {
        "id": "xAajqhevyM2s",
        "colab_type": "code",
        "colab": {
          "base_uri": "https://localhost:8080/",
          "height": 746
        },
        "outputId": "167cfbe4-118f-45e1-d6c1-7dcea938d863"
      },
      "source": [
        "pip install tensorflow==1.14"
      ],
      "execution_count": 2,
      "outputs": [
        {
          "output_type": "stream",
          "text": [
            "Collecting tensorflow==1.14\n",
            "\u001b[?25l  Downloading https://files.pythonhosted.org/packages/de/f0/96fb2e0412ae9692dbf400e5b04432885f677ad6241c088ccc5fe7724d69/tensorflow-1.14.0-cp36-cp36m-manylinux1_x86_64.whl (109.2MB)\n",
            "\u001b[K     |████████████████████████████████| 109.2MB 91kB/s \n",
            "\u001b[?25hRequirement already satisfied: astor>=0.6.0 in /usr/local/lib/python3.6/dist-packages (from tensorflow==1.14) (0.8.1)\n",
            "Requirement already satisfied: wheel>=0.26 in /usr/local/lib/python3.6/dist-packages (from tensorflow==1.14) (0.34.2)\n",
            "Requirement already satisfied: termcolor>=1.1.0 in /usr/local/lib/python3.6/dist-packages (from tensorflow==1.14) (1.1.0)\n",
            "Requirement already satisfied: numpy<2.0,>=1.14.5 in /usr/local/lib/python3.6/dist-packages (from tensorflow==1.14) (1.18.4)\n",
            "Requirement already satisfied: grpcio>=1.8.6 in /usr/local/lib/python3.6/dist-packages (from tensorflow==1.14) (1.29.0)\n",
            "Requirement already satisfied: google-pasta>=0.1.6 in /usr/local/lib/python3.6/dist-packages (from tensorflow==1.14) (0.2.0)\n",
            "Requirement already satisfied: keras-preprocessing>=1.0.5 in /usr/local/lib/python3.6/dist-packages (from tensorflow==1.14) (1.1.2)\n",
            "Requirement already satisfied: wrapt>=1.11.1 in /usr/local/lib/python3.6/dist-packages (from tensorflow==1.14) (1.12.1)\n",
            "Collecting tensorboard<1.15.0,>=1.14.0\n",
            "\u001b[?25l  Downloading https://files.pythonhosted.org/packages/91/2d/2ed263449a078cd9c8a9ba50ebd50123adf1f8cfbea1492f9084169b89d9/tensorboard-1.14.0-py3-none-any.whl (3.1MB)\n",
            "\u001b[K     |████████████████████████████████| 3.2MB 47.3MB/s \n",
            "\u001b[?25hRequirement already satisfied: six>=1.10.0 in /usr/local/lib/python3.6/dist-packages (from tensorflow==1.14) (1.12.0)\n",
            "Requirement already satisfied: absl-py>=0.7.0 in /usr/local/lib/python3.6/dist-packages (from tensorflow==1.14) (0.9.0)\n",
            "Collecting tensorflow-estimator<1.15.0rc0,>=1.14.0rc0\n",
            "\u001b[?25l  Downloading https://files.pythonhosted.org/packages/3c/d5/21860a5b11caf0678fbc8319341b0ae21a07156911132e0e71bffed0510d/tensorflow_estimator-1.14.0-py2.py3-none-any.whl (488kB)\n",
            "\u001b[K     |████████████████████████████████| 491kB 45.1MB/s \n",
            "\u001b[?25hRequirement already satisfied: gast>=0.2.0 in /usr/local/lib/python3.6/dist-packages (from tensorflow==1.14) (0.3.3)\n",
            "Requirement already satisfied: protobuf>=3.6.1 in /usr/local/lib/python3.6/dist-packages (from tensorflow==1.14) (3.10.0)\n",
            "Requirement already satisfied: keras-applications>=1.0.6 in /usr/local/lib/python3.6/dist-packages (from tensorflow==1.14) (1.0.8)\n",
            "Requirement already satisfied: werkzeug>=0.11.15 in /usr/local/lib/python3.6/dist-packages (from tensorboard<1.15.0,>=1.14.0->tensorflow==1.14) (1.0.1)\n",
            "Requirement already satisfied: markdown>=2.6.8 in /usr/local/lib/python3.6/dist-packages (from tensorboard<1.15.0,>=1.14.0->tensorflow==1.14) (3.2.2)\n",
            "Requirement already satisfied: setuptools>=41.0.0 in /usr/local/lib/python3.6/dist-packages (from tensorboard<1.15.0,>=1.14.0->tensorflow==1.14) (47.1.1)\n",
            "Requirement already satisfied: h5py in /usr/local/lib/python3.6/dist-packages (from keras-applications>=1.0.6->tensorflow==1.14) (2.10.0)\n",
            "Requirement already satisfied: importlib-metadata; python_version < \"3.8\" in /usr/local/lib/python3.6/dist-packages (from markdown>=2.6.8->tensorboard<1.15.0,>=1.14.0->tensorflow==1.14) (1.6.0)\n",
            "Requirement already satisfied: zipp>=0.5 in /usr/local/lib/python3.6/dist-packages (from importlib-metadata; python_version < \"3.8\"->markdown>=2.6.8->tensorboard<1.15.0,>=1.14.0->tensorflow==1.14) (3.1.0)\n",
            "Installing collected packages: tensorboard, tensorflow-estimator, tensorflow\n",
            "  Found existing installation: tensorboard 2.2.2\n",
            "    Uninstalling tensorboard-2.2.2:\n",
            "      Successfully uninstalled tensorboard-2.2.2\n",
            "  Found existing installation: tensorflow-estimator 2.2.0\n",
            "    Uninstalling tensorflow-estimator-2.2.0:\n",
            "      Successfully uninstalled tensorflow-estimator-2.2.0\n",
            "  Found existing installation: tensorflow 2.2.0\n",
            "    Uninstalling tensorflow-2.2.0:\n",
            "      Successfully uninstalled tensorflow-2.2.0\n",
            "Successfully installed tensorboard-1.14.0 tensorflow-1.14.0 tensorflow-estimator-1.14.0\n"
          ],
          "name": "stdout"
        }
      ]
    },
    {
      "cell_type": "markdown",
      "metadata": {
        "id": "e-2ZWQfByIf5",
        "colab_type": "text"
      },
      "source": [
        "# Puertas lógicas"
      ]
    },
    {
      "cell_type": "markdown",
      "metadata": {
        "id": "n9zlyR0IyIf8",
        "colab_type": "text"
      },
      "source": [
        "$$f(x) = a\\cdot x$$"
      ]
    },
    {
      "cell_type": "code",
      "metadata": {
        "id": "bOl61OysyIf-",
        "colab_type": "code",
        "colab": {}
      },
      "source": [
        "import tensorflow as tf"
      ],
      "execution_count": 0,
      "outputs": []
    },
    {
      "cell_type": "code",
      "metadata": {
        "id": "bAgZIpjlyIgP",
        "colab_type": "code",
        "colab": {}
      },
      "source": [
        "session = tf.Session()"
      ],
      "execution_count": 0,
      "outputs": []
    },
    {
      "cell_type": "code",
      "metadata": {
        "id": "Hs5YN_R6yIgW",
        "colab_type": "code",
        "colab": {}
      },
      "source": [
        "a = tf.Variable(tf.constant(4.0))\n",
        "x_val = 5.0\n",
        "x_data =tf.placeholder(dtype=tf.float32)"
      ],
      "execution_count": 0,
      "outputs": []
    },
    {
      "cell_type": "code",
      "metadata": {
        "id": "_pMul60UyIgd",
        "colab_type": "code",
        "colab": {}
      },
      "source": [
        "multiplication = tf.multiply(a,x_data)"
      ],
      "execution_count": 0,
      "outputs": []
    },
    {
      "cell_type": "markdown",
      "metadata": {
        "id": "HK3rt0TFyIgk",
        "colab_type": "text"
      },
      "source": [
        "$$loss = (a\\cdot x - target)^2$$"
      ]
    },
    {
      "cell_type": "code",
      "metadata": {
        "id": "onowax-myIgl",
        "colab_type": "code",
        "colab": {}
      },
      "source": [
        "loss = tf.square(tf.subtract(multiplication, 50.0))## L2"
      ],
      "execution_count": 0,
      "outputs": []
    },
    {
      "cell_type": "code",
      "metadata": {
        "id": "v3UHclT7yIgs",
        "colab_type": "code",
        "colab": {}
      },
      "source": [
        "init = tf.global_variables_initializer()\n",
        "session.run(init)"
      ],
      "execution_count": 0,
      "outputs": []
    },
    {
      "cell_type": "code",
      "metadata": {
        "id": "oZlWp1loyIgz",
        "colab_type": "code",
        "colab": {}
      },
      "source": [
        "my_optim = tf.train.GradientDescentOptimizer(0.01)\n",
        "train_step = my_optim.minimize(loss)"
      ],
      "execution_count": 0,
      "outputs": []
    },
    {
      "cell_type": "code",
      "metadata": {
        "id": "2KdFHfOLyIg5",
        "colab_type": "code",
        "colab": {
          "base_uri": "https://localhost:8080/",
          "height": 217
        },
        "outputId": "35a8e5f6-01f2-4ff4-8733-ca4f0dabb85c"
      },
      "source": [
        "print(\"Optimización del valor de a para conseguir: a x 5 = 50\")\n",
        "for i in range(10):\n",
        "    session.run(train_step, feed_dict={x_data: x_val})\n",
        "    a_val = session.run(a)\n",
        "    mult_out = session.run(multiplication, feed_dict={x_data:x_val})\n",
        "    print(str(a_val)+\" x \"+str(x_val)+\" = \"+str(mult_out))"
      ],
      "execution_count": 29,
      "outputs": [
        {
          "output_type": "stream",
          "text": [
            "Optimización del valor de a para conseguir: a x 5 = 50\n",
            "7.0 x 5.0 = 35.0\n",
            "8.5 x 5.0 = 42.5\n",
            "9.25 x 5.0 = 46.25\n",
            "9.625 x 5.0 = 48.125\n",
            "9.8125 x 5.0 = 49.0625\n",
            "9.90625 x 5.0 = 49.53125\n",
            "9.953125 x 5.0 = 49.765625\n",
            "9.9765625 x 5.0 = 49.882812\n",
            "9.988281 x 5.0 = 49.941406\n",
            "9.994141 x 5.0 = 49.970703\n"
          ],
          "name": "stdout"
        }
      ]
    },
    {
      "cell_type": "markdown",
      "metadata": {
        "id": "Q4Z15jJryIhB",
        "colab_type": "text"
      },
      "source": [
        "$$f(x) = a\\cdot x + b $$"
      ]
    },
    {
      "cell_type": "markdown",
      "metadata": {
        "id": "fhZ9OZlYyIhC",
        "colab_type": "text"
      },
      "source": [
        "¿Qué tiene que valer $a$ y $b$ para que $f(5) = 50.0$?"
      ]
    },
    {
      "cell_type": "code",
      "metadata": {
        "id": "I8ZzwEZsyIhE",
        "colab_type": "code",
        "colab": {}
      },
      "source": [
        "# RESETEAR  LAS VARIABLES \n",
        "from tensorflow.python.framework import ops \n",
        "ops.reset_default_graph()"
      ],
      "execution_count": 0,
      "outputs": []
    },
    {
      "cell_type": "code",
      "metadata": {
        "id": "sNSjLTlIyIhK",
        "colab_type": "code",
        "colab": {}
      },
      "source": [
        "session = tf.Session()"
      ],
      "execution_count": 0,
      "outputs": []
    },
    {
      "cell_type": "code",
      "metadata": {
        "id": "M7Z9AMEUyIhS",
        "colab_type": "code",
        "colab": {}
      },
      "source": [
        "a = tf.Variable(tf.constant(5.0))\n",
        "b = tf.Variable(tf.constant(5.0))\n",
        "x_val = 5.0\n",
        "x_data = tf.placeholder(dtype = tf.float32)"
      ],
      "execution_count": 0,
      "outputs": []
    },
    {
      "cell_type": "code",
      "metadata": {
        "id": "0b9nq9pwyIho",
        "colab_type": "code",
        "colab": {}
      },
      "source": [
        "mult_add = tf.add(tf.multiply(a, x_data), b)"
      ],
      "execution_count": 0,
      "outputs": []
    },
    {
      "cell_type": "code",
      "metadata": {
        "id": "xAXYPq8UyIht",
        "colab_type": "code",
        "colab": {}
      },
      "source": [
        "loss = tf.square(tf.subtract(mult_add, 50.0))# 50  ES EL VALOR A PREDECIR"
      ],
      "execution_count": 0,
      "outputs": []
    },
    {
      "cell_type": "code",
      "metadata": {
        "id": "eWW28_TayIhz",
        "colab_type": "code",
        "colab": {}
      },
      "source": [
        "my_optim = tf.train.GradientDescentOptimizer(0.01)\n",
        "train_step = my_optim.minimize(loss)"
      ],
      "execution_count": 0,
      "outputs": []
    },
    {
      "cell_type": "code",
      "metadata": {
        "id": "3lh0ZamqyIh5",
        "colab_type": "code",
        "colab": {}
      },
      "source": [
        "init = tf.global_variables_initializer()\n",
        "session.run(init)"
      ],
      "execution_count": 0,
      "outputs": []
    },
    {
      "cell_type": "code",
      "metadata": {
        "id": "vWsIOhjpyIh-",
        "colab_type": "code",
        "colab": {
          "base_uri": "https://localhost:8080/",
          "height": 290
        },
        "outputId": "11a89ec4-00ce-4355-8796-1d5a0587920b"
      },
      "source": [
        "for i in range(15):\n",
        "    session.run(train_step, feed_dict={x_data : x_val})\n",
        "    a_val, b_val = (session.run(a), session.run(b))\n",
        "    result = session.run(mult_add, feed_dict={x_data:x_val})\n",
        "    print(str(a_val)+\" x \"+str(x_val)+\" + \"+str(b_val)+ \" = \"+str(result))"
      ],
      "execution_count": 42,
      "outputs": [
        {
          "output_type": "stream",
          "text": [
            "7.0 x 5.0 + 5.4 = 40.4\n",
            "7.96 x 5.0 + 5.592 = 45.392\n",
            "8.4208 x 5.0 + 5.68416 = 47.788162\n",
            "8.641984 x 5.0 + 5.728397 = 48.938316\n",
            "8.748153 x 5.0 + 5.7496305 = 49.490395\n",
            "8.799113 x 5.0 + 5.7598224 = 49.75539\n",
            "8.823574 x 5.0 + 5.7647147 = 49.882584\n",
            "8.835316 x 5.0 + 5.767063 = 49.94364\n",
            "8.840952 x 5.0 + 5.7681904 = 49.972946\n",
            "8.8436575 x 5.0 + 5.7687316 = 49.98702\n",
            "8.844955 x 5.0 + 5.768991 = 49.993767\n",
            "8.845579 x 5.0 + 5.7691154 = 49.997013\n",
            "8.845878 x 5.0 + 5.769175 = 49.998566\n",
            "8.846021 x 5.0 + 5.7692037 = 49.999306\n",
            "8.84609 x 5.0 + 5.7692175 = 49.999672\n"
          ],
          "name": "stdout"
        }
      ]
    },
    {
      "cell_type": "code",
      "metadata": {
        "id": "Djtk93mAyIiI",
        "colab_type": "code",
        "colab": {}
      },
      "source": [
        ""
      ],
      "execution_count": 0,
      "outputs": []
    }
  ]
}