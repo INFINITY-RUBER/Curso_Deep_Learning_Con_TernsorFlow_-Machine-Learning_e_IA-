{
  "nbformat": 4,
  "nbformat_minor": 0,
  "metadata": {
    "kernelspec": {
      "display_name": "Python 3",
      "language": "python",
      "name": "python3"
    },
    "language_info": {
      "codemirror_mode": {
        "name": "ipython",
        "version": 3
      },
      "file_extension": ".py",
      "mimetype": "text/x-python",
      "name": "python",
      "nbconvert_exporter": "python",
      "pygments_lexer": "ipython3",
      "version": "3.5.5"
    },
    "colab": {
      "name": "07-tic-tac-toe.ipynb",
      "provenance": [],
      "toc_visible": true,
      "include_colab_link": true
    }
  },
  "cells": [
    {
      "cell_type": "markdown",
      "metadata": {
        "id": "view-in-github",
        "colab_type": "text"
      },
      "source": [
        "<a href=\"https://colab.research.google.com/github/INFINITY-RUBER/Curso_Deep_Learning_Con_TernsorFlow_Machine-Learning_e_IA-/blob/master/scripts/tema07/07-tic-tac-toe.ipynb\" target=\"_parent\"><img src=\"https://colab.research.google.com/assets/colab-badge.svg\" alt=\"Open In Colab\"/></a>"
      ]
    },
    {
      "cell_type": "markdown",
      "metadata": {
        "id": "W6qT_ZtrGK0H",
        "colab_type": "text"
      },
      "source": [
        "# Tres en raya"
      ]
    },
    {
      "cell_type": "code",
      "metadata": {
        "id": "PeCCgbV1GSt7",
        "colab_type": "code",
        "colab": {}
      },
      "source": [
        "#pip install tensorflow==1.14"
      ],
      "execution_count": 0,
      "outputs": []
    },
    {
      "cell_type": "code",
      "metadata": {
        "id": "cmmxb1MqGK0K",
        "colab_type": "code",
        "colab": {}
      },
      "source": [
        "import tensorflow as tf\n",
        "import matplotlib.pyplot as plt\n",
        "import csv\n",
        "import random \n",
        "import numpy as np"
      ],
      "execution_count": 0,
      "outputs": []
    },
    {
      "cell_type": "code",
      "metadata": {
        "id": "tJCc5bToGK0T",
        "colab_type": "code",
        "colab": {}
      },
      "source": [
        "batch_size = 50"
      ],
      "execution_count": 0,
      "outputs": []
    },
    {
      "cell_type": "code",
      "metadata": {
        "id": "sJ4ovCuiGK0Z",
        "colab_type": "code",
        "colab": {}
      },
      "source": [
        "def print_board(board):\n",
        "    symbols = ['O', ' ', 'X']\n",
        "    board_plus_1 = [int(x)+1 for x in board]\n",
        "    board_line_1 = '{}|{}|{}'.format(symbols[board_plus_1[0]], symbols[board_plus_1[1]], symbols[board_plus_1[2]])\n",
        "    board_line_2 = '{}|{}|{}'.format(symbols[board_plus_1[3]], symbols[board_plus_1[4]], symbols[board_plus_1[5]])\n",
        "    board_line_3 = '{}|{}|{}'.format(symbols[board_plus_1[6]], symbols[board_plus_1[7]], symbols[board_plus_1[8]])\n",
        "    print(board_line_1)\n",
        "    print('_____')\n",
        "    print(board_line_2)\n",
        "    print('_____')\n",
        "    print(board_line_3)"
      ],
      "execution_count": 0,
      "outputs": []
    },
    {
      "cell_type": "code",
      "metadata": {
        "id": "friBEfHFGK0g",
        "colab_type": "code",
        "colab": {
          "base_uri": "https://localhost:8080/",
          "height": 108
        },
        "outputId": "343bdbf6-e767-426e-a561-92178e730e6a"
      },
      "source": [
        "print_board([-1,-1,-1,1,1,1,0,0,0])"
      ],
      "execution_count": 53,
      "outputs": [
        {
          "output_type": "stream",
          "text": [
            "O|O|O\n",
            "_____\n",
            "X|X|X\n",
            "_____\n",
            " | | \n"
          ],
          "name": "stdout"
        }
      ]
    },
    {
      "cell_type": "code",
      "metadata": {
        "id": "S_nlf0ChGK0p",
        "colab_type": "code",
        "colab": {}
      },
      "source": [
        "def get_symmetry(board, response, transformation):\n",
        "    '''\n",
        "    :param board: lista de 9 enteros formados por:\n",
        "    - O = -1, símbolo del enemigo\n",
        "    - X =  1, símbolo del jugador\n",
        "    - ' ' = 0, casilla vacía\n",
        "    :param transformation: ona de las cinco transformaciones del tablero:\n",
        "    - rotate90, rotate180, rotate270, flip_v, flip_h\n",
        "    :return: tuple(new_board, new_response)\n",
        "    '''\n",
        "    \n",
        "    if transformation == 'rotate180':\n",
        "        new_response = 8-response\n",
        "        return board[::-1], new_response\n",
        "    \n",
        "    elif transformation == 'rotate90':\n",
        "        new_reponse = [6,3,0,7,4,1,8,5,2].index(response)\n",
        "        tuple_board = list(zip(*[board[6:9], board[3:6], board[0:3]]))\n",
        "        return [value for item in tuple_board for value in item], new_reponse\n",
        "    \n",
        "    elif transformation == 'rotate270':\n",
        "        new_reponse = [2,5,8,1,4,7,0,3,6].index(response)\n",
        "        tuple_board = list(zip(*[board[0:3], board[3:6], board[6:9]]))[::-1]\n",
        "        return [value for item in tuple_board for value in item], new_reponse\n",
        "    \n",
        "    elif transformation == 'flip_v':\n",
        "        new_response = [6,7,8,3,4,5,0,1,2].index(response)\n",
        "        return board[6:9]+board[3:6]+board[0:3], new_response\n",
        "    \n",
        "    elif transformation == 'flip_h':\n",
        "        new_response = [2,1,0,5,4,3,8,7,6].index(response)\n",
        "        new_board = board[::-1]\n",
        "        return new_board[6:9]+new_board[3:6]+new_board[0:3], new_response\n",
        "    \n",
        "    else:\n",
        "        raise ValueError('Este movimiento no está contemplado')"
      ],
      "execution_count": 0,
      "outputs": []
    },
    {
      "cell_type": "code",
      "metadata": {
        "id": "67VOC9-fLdVJ",
        "colab_type": "code",
        "colab": {
          "base_uri": "https://localhost:8080/",
          "height": 108
        },
        "outputId": "46936d23-c5e3-4038-fe05-e3323fd5a9c8"
      },
      "source": [
        "print_board([-1,0,0,1,1,0,0,-1,1])"
      ],
      "execution_count": 16,
      "outputs": [
        {
          "output_type": "stream",
          "text": [
            "O| | \n",
            "_____\n",
            "X|X| \n",
            "_____\n",
            " |O|X\n"
          ],
          "name": "stdout"
        }
      ]
    },
    {
      "cell_type": "code",
      "metadata": {
        "id": "4vyUuXmkLTqh",
        "colab_type": "code",
        "colab": {
          "base_uri": "https://localhost:8080/",
          "height": 126
        },
        "outputId": "7442879a-6003-459f-f3fb-b6dac2757b99"
      },
      "source": [
        "print(get_symmetry([-1,0,0,1,1,0,0,-1,1], 1, 'rotate180')[0])\n",
        "print_board(get_symmetry([-1,0,0,1,1,0,0,-1,1], 1, 'rotate180')[0])"
      ],
      "execution_count": 20,
      "outputs": [
        {
          "output_type": "stream",
          "text": [
            "[1, -1, 0, 0, 1, 1, 0, 0, -1]\n",
            "X|O| \n",
            "_____\n",
            " |X|X\n",
            "_____\n",
            " | |O\n"
          ],
          "name": "stdout"
        }
      ]
    },
    {
      "cell_type": "code",
      "metadata": {
        "id": "_Hx7n689Mg8Q",
        "colab_type": "code",
        "colab": {
          "base_uri": "https://localhost:8080/",
          "height": 126
        },
        "outputId": "f40f53a1-e61f-4862-aadc-e7dae8fb2707"
      },
      "source": [
        "print(get_symmetry([-1,0,0,1,1,0,0,-1,1], 1, 'rotate90')[0])\n",
        "print_board(get_symmetry([-1,0,0,1,1,0,0,-1,1], 1, 'rotate90')[0])"
      ],
      "execution_count": 21,
      "outputs": [
        {
          "output_type": "stream",
          "text": [
            "[0, 1, -1, -1, 1, 0, 1, 0, 0]\n",
            " |X|O\n",
            "_____\n",
            "O|X| \n",
            "_____\n",
            "X| | \n"
          ],
          "name": "stdout"
        }
      ]
    },
    {
      "cell_type": "code",
      "metadata": {
        "id": "HntIKyGUGK0x",
        "colab_type": "code",
        "colab": {
          "base_uri": "https://localhost:8080/",
          "height": 126
        },
        "outputId": "9bcf0a48-bf95-471b-cfe0-560847b70a5f"
      },
      "source": [
        "print(get_symmetry([-1,0,0,1,1,0,0,-1,1], 1, 'flip_v')[0])\n",
        "print_board(get_symmetry([-1,0,0,1,1,0,0,-1,1], 1, 'flip_v')[0])"
      ],
      "execution_count": 22,
      "outputs": [
        {
          "output_type": "stream",
          "text": [
            "[0, -1, 1, 1, 1, 0, -1, 0, 0]\n",
            " |O|X\n",
            "_____\n",
            "X|X| \n",
            "_____\n",
            "O| | \n"
          ],
          "name": "stdout"
        }
      ]
    },
    {
      "cell_type": "code",
      "metadata": {
        "id": "z-Gftr3ZGK09",
        "colab_type": "code",
        "colab": {}
      },
      "source": [
        "def get_moves_from_csv(csv_file):\n",
        "    '''\n",
        "    :param csv_file: Fichero CSV con las respuestas para cada configuración esencial de tablero\n",
        "    :return moves: lista de los mejores movimientos posibles del tablero\n",
        "    '''\n",
        "    moves = []\n",
        "    with open(csv_file,'rt') as csvfile:\n",
        "        reader = csv.reader(csvfile, delimiter =',')\n",
        "        for row in reader:\n",
        "            moves.append(([int(x) for x in row[0:9]], int(row[9])))\n",
        "    return moves"
      ],
      "execution_count": 0,
      "outputs": []
    },
    {
      "cell_type": "code",
      "metadata": {
        "id": "zaHrpVdXZCi1",
        "colab_type": "code",
        "colab": {}
      },
      "source": [
        "import requests \n",
        "url = \"https://raw.githubusercontent.com/INFINITY-RUBER/Curso_Deep_Learning_Con_TernsorFlow_Machine-Learning_e_IA-/master/datasets/moves_tic_tac_toe.csv\"\n",
        "birth_file = requests.get(url)\n",
        "birth_data = birth_file.text.split('\\r\\n')\n",
        "birth_data"
      ],
      "execution_count": 0,
      "outputs": []
    },
    {
      "cell_type": "code",
      "metadata": {
        "id": "MTgcHySsGK1F",
        "colab_type": "code",
        "colab": {
          "base_uri": "https://localhost:8080/",
          "height": 72
        },
        "outputId": "47b97fe3-f824-417f-cf83-2873b0d51bc0"
      },
      "source": [
        "moves = get_moves_from_csv(\"moves_tic_tac_toe.csv\")\n",
        "moves[0:3]\n",
        "# moves = get_moves_from_csv(birth_data)"
      ],
      "execution_count": 32,
      "outputs": [
        {
          "output_type": "execute_result",
          "data": {
            "text/plain": [
              "[([0, 0, 0, 0, -1, 0, 0, 0, 0], 0),\n",
              " ([0, -1, 0, 0, 0, 0, 0, 0, 0], 0),\n",
              " ([0, 0, 0, 0, 0, -1, 0, 0, 0], 6)]"
            ]
          },
          "metadata": {
            "tags": []
          },
          "execution_count": 32
        }
      ]
    },
    {
      "cell_type": "code",
      "metadata": {
        "id": "0oHr9T-JGK1L",
        "colab_type": "code",
        "colab": {}
      },
      "source": [
        "def get_random_move(moves, rand_transforms = 2):\n",
        "    (board, response) = random.choice(moves)\n",
        "    possible_transforms = ['rotate90', 'rotate180', 'rotate270', 'flip_v', 'flip_h']\n",
        "    for i in range(rand_transforms):\n",
        "        random_transform = random.choice(possible_transforms)\n",
        "        (board, response) = get_symmetry(board, response, random_transform)\n",
        "    return board, response"
      ],
      "execution_count": 0,
      "outputs": []
    },
    {
      "cell_type": "code",
      "metadata": {
        "id": "qqLbBPIsGK1R",
        "colab_type": "code",
        "colab": {
          "base_uri": "https://localhost:8080/",
          "height": 35
        },
        "outputId": "bdea9c55-779a-438b-e42f-3336d47d5683"
      },
      "source": [
        "get_random_move(moves, 2)# tomo uno aleatoriamente"
      ],
      "execution_count": 44,
      "outputs": [
        {
          "output_type": "execute_result",
          "data": {
            "text/plain": [
              "([0, 0, -1, 0, 1, 0, -1, 0, 0], 3)"
            ]
          },
          "metadata": {
            "tags": []
          },
          "execution_count": 44
        }
      ]
    },
    {
      "cell_type": "markdown",
      "metadata": {
        "id": "5iJ350F-GK1Y",
        "colab_type": "text"
      },
      "source": [
        "### Enseñar a jugar al tres en raya a TensorFlow"
      ]
    },
    {
      "cell_type": "code",
      "metadata": {
        "id": "jv8ktNdiGK1Z",
        "colab_type": "code",
        "colab": {}
      },
      "source": [
        "session = tf.Session()"
      ],
      "execution_count": 0,
      "outputs": []
    },
    {
      "cell_type": "code",
      "metadata": {
        "id": "vpe2RwC2GK1h",
        "colab_type": "code",
        "colab": {}
      },
      "source": [
        "train_length = 500\n",
        "train_set = []\n",
        "for t in range(train_length):\n",
        "    train_set.append(get_random_move(moves))"
      ],
      "execution_count": 0,
      "outputs": []
    },
    {
      "cell_type": "code",
      "metadata": {
        "id": "_Y931madGK1n",
        "colab_type": "code",
        "colab": {
          "base_uri": "https://localhost:8080/",
          "height": 35
        },
        "outputId": "bf0f8210-40ab-477c-f76b-83f9922f640e"
      },
      "source": [
        "train_set[0]"
      ],
      "execution_count": 47,
      "outputs": [
        {
          "output_type": "execute_result",
          "data": {
            "text/plain": [
              "([1, -1, 1, 0, -1, 0, -1, 0, 0], 7)"
            ]
          },
          "metadata": {
            "tags": []
          },
          "execution_count": 47
        }
      ]
    },
    {
      "cell_type": "code",
      "metadata": {
        "id": "InXd-f8YGK1t",
        "colab_type": "code",
        "colab": {}
      },
      "source": [
        "test_board = [-1,0,0,1,-1,-1,0,0,1] # -> 6"
      ],
      "execution_count": 0,
      "outputs": []
    },
    {
      "cell_type": "code",
      "metadata": {
        "id": "1pO8Hw0-GK1y",
        "colab_type": "code",
        "colab": {
          "base_uri": "https://localhost:8080/",
          "height": 108
        },
        "outputId": "1b2614c8-1df6-4cbb-89e4-ddadd3099ec2"
      },
      "source": [
        "print_board(test_board)"
      ],
      "execution_count": 49,
      "outputs": [
        {
          "output_type": "stream",
          "text": [
            "O| | \n",
            "_____\n",
            "X|O|O\n",
            "_____\n",
            " | |X\n"
          ],
          "name": "stdout"
        }
      ]
    },
    {
      "cell_type": "code",
      "metadata": {
        "id": "qdoOYjqBGK14",
        "colab_type": "code",
        "colab": {}
      },
      "source": [
        "train_set = [x for x in train_set if x[0]!=test_board]"
      ],
      "execution_count": 0,
      "outputs": []
    },
    {
      "cell_type": "code",
      "metadata": {
        "id": "p161qR98GK1_",
        "colab_type": "code",
        "colab": {}
      },
      "source": [
        "def init_weights(shape):\n",
        "    return tf.Variable(tf.random_normal(shape))"
      ],
      "execution_count": 0,
      "outputs": []
    },
    {
      "cell_type": "code",
      "metadata": {
        "id": "kb51V-FKGK2J",
        "colab_type": "code",
        "colab": {}
      },
      "source": [
        "def model(X, A1, A2, b1, b2):\n",
        "    layer1 = tf.nn.sigmoid(tf.add(tf.matmul(X,A1),b1))\n",
        "    layer2 = tf.add(tf.matmul(layer1, A2),b2)\n",
        "    return layer2"
      ],
      "execution_count": 0,
      "outputs": []
    },
    {
      "cell_type": "code",
      "metadata": {
        "id": "98JvTOHQGK2Y",
        "colab_type": "code",
        "colab": {}
      },
      "source": [
        "X = tf.placeholder(dtype=tf.float32, shape=[None,9])\n",
        "Y = tf.placeholder(dtype=tf.int32, shape=[None])\n",
        "A1 = init_weights([9, 81])\n",
        "b1 = init_weights([81])\n",
        "A2 = init_weights([81,9])\n",
        "b2 = init_weights([9])\n",
        "model_output = model(X, A1, A2, b1, b2)"
      ],
      "execution_count": 0,
      "outputs": []
    },
    {
      "cell_type": "code",
      "metadata": {
        "id": "1Q11anfYGK2d",
        "colab_type": "code",
        "colab": {}
      },
      "source": [
        "loss = tf.reduce_mean(tf.nn.sparse_softmax_cross_entropy_with_logits(logits=model_output, labels = Y))\n",
        "train_step = tf.train.GradientDescentOptimizer(0.025).minimize(loss)\n",
        "prediction = tf.argmax(model_output,1)"
      ],
      "execution_count": 0,
      "outputs": []
    },
    {
      "cell_type": "code",
      "metadata": {
        "id": "msc3FGCTGK2i",
        "colab_type": "code",
        "colab": {}
      },
      "source": [
        "init = tf.global_variables_initializer()\n",
        "session.run(init)"
      ],
      "execution_count": 0,
      "outputs": []
    },
    {
      "cell_type": "code",
      "metadata": {
        "id": "hCxjruN-GK2o",
        "colab_type": "code",
        "colab": {
          "base_uri": "https://localhost:8080/",
          "height": 381
        },
        "outputId": "46f2663a-9c12-4891-8bde-e1057af3539b"
      },
      "source": [
        "loss_vect = []\n",
        "for i in range(10000):\n",
        "    rand_idx = np.random.choice(range(len(train_set)), batch_size, replace=False)\n",
        "    batch_data = [train_set[i] for i in rand_idx]\n",
        "    x_input = [x[0] for x in batch_data]\n",
        "    y_target = np.array([y[1] for y in batch_data])\n",
        "    session.run(train_step, feed_dict={X:x_input, Y:y_target})\n",
        "    temp_loss = session.run(loss, feed_dict={X:x_input, Y:y_target})\n",
        "    loss_vect.append(temp_loss)\n",
        "    if(i+1)%500==0:\n",
        "        print(\"Step #\"+str(i+1)+\", Loss: \"+str(temp_loss))"
      ],
      "execution_count": 61,
      "outputs": [
        {
          "output_type": "stream",
          "text": [
            "Step #500, Loss: 1.8621211\n",
            "Step #1000, Loss: 1.3930292\n",
            "Step #1500, Loss: 1.38645\n",
            "Step #2000, Loss: 1.3969138\n",
            "Step #2500, Loss: 1.1903296\n",
            "Step #3000, Loss: 1.0313044\n",
            "Step #3500, Loss: 1.3414911\n",
            "Step #4000, Loss: 0.8979075\n",
            "Step #4500, Loss: 1.0775754\n",
            "Step #5000, Loss: 1.1449866\n",
            "Step #5500, Loss: 1.0376766\n",
            "Step #6000, Loss: 0.95349777\n",
            "Step #6500, Loss: 0.6704911\n",
            "Step #7000, Loss: 0.8878893\n",
            "Step #7500, Loss: 0.81115156\n",
            "Step #8000, Loss: 0.87054\n",
            "Step #8500, Loss: 0.8559679\n",
            "Step #9000, Loss: 0.71982783\n",
            "Step #9500, Loss: 0.846895\n",
            "Step #10000, Loss: 0.7802841\n"
          ],
          "name": "stdout"
        }
      ]
    },
    {
      "cell_type": "code",
      "metadata": {
        "id": "bTDux4I3GK2t",
        "colab_type": "code",
        "colab": {
          "base_uri": "https://localhost:8080/",
          "height": 281
        },
        "outputId": "43382456-8011-4a7f-ad06-6930f38eb99a"
      },
      "source": [
        "plt.plot(loss_vect, 'k-', label = \"Función de pérdidas\")\n",
        "plt.title(\"MSE por iteración\")\n",
        "plt.show()"
      ],
      "execution_count": 62,
      "outputs": [
        {
          "output_type": "display_data",
          "data": {
            "image/png": "[encoded data removed]",
            "text/plain": [
              "<Figure size 432x288 with 1 Axes>"
            ]
          },
          "metadata": {
            "tags": [],
            "needs_background": "light"
          }
        }
      ]
    },
    {
      "cell_type": "markdown",
      "metadata": {
        "id": "yDgravpPGK20",
        "colab_type": "text"
      },
      "source": [
        "## Comprobando el modelo entrenado"
      ]
    },
    {
      "cell_type": "code",
      "metadata": {
        "id": "nzeuiMEVGK21",
        "colab_type": "code",
        "colab": {}
      },
      "source": [
        "test_boards = [test_board]\n",
        "feed_dict = {X:test_boards}\n",
        "logits = session.run(model_output, feed_dict=feed_dict)\n",
        "predictions = session.run(prediction, feed_dict=feed_dict)"
      ],
      "execution_count": 0,
      "outputs": []
    },
    {
      "cell_type": "code",
      "metadata": {
        "id": "HPZcDt_fGK26",
        "colab_type": "code",
        "colab": {},
        "outputId": "9cb6793f-9c5d-4cc3-b679-019991c915fb"
      },
      "source": [
        "print(predictions)"
      ],
      "execution_count": 0,
      "outputs": [
        {
          "output_type": "stream",
          "text": [
            "[6]\n"
          ],
          "name": "stdout"
        }
      ]
    },
    {
      "cell_type": "code",
      "metadata": {
        "id": "3dhdXC0NGK3D",
        "colab_type": "code",
        "colab": {}
      },
      "source": [
        "def check(board):\n",
        "    wins = [[0,1,2], [3,4,5], [6,7,8], [0,3,6], [1,4,7], [2,5,8], [0,4,8], [2,4,6]]\n",
        "    for i in range(len(wins)):\n",
        "        if board[wins[i][0]]==board[wins[i][1]]==board[wins[i][2]]==1.0:\n",
        "            return 1\n",
        "        elif board[wins[i][0]]==board[wins[i][1]]==board[wins[i][2]]==-1.0:\n",
        "            return 1\n",
        "    return 0"
      ],
      "execution_count": 0,
      "outputs": []
    },
    {
      "cell_type": "code",
      "metadata": {
        "id": "P__AbIdsGK3I",
        "colab_type": "code",
        "colab": {},
        "outputId": "0ce68e78-2d58-4079-c797-d41247561165"
      },
      "source": [
        "game_tracker = [0,0,0,0,0,0,0,0,0]\n",
        "win_logical = False\n",
        "num_moves = 0\n",
        "while not win_logical:\n",
        "    player_idx = input('Introduce tu posición de juego (0-8): ')\n",
        "    num_moves +=1\n",
        "    game_tracker[int(player_idx)] = 1.0\n",
        "    \n",
        "    [potential_moves] = session.run(model_output, feed_dict={X:[game_tracker]})\n",
        "    allowed_moves = [ix for ix, x in enumerate(game_tracker) if x==0]\n",
        "    model_move = np.argmax([x if ix in allowed_moves else -9999 for ix, x in enumerate(potential_moves)])\n",
        "    game_tracker[int(model_move)] = -1.0\n",
        "    \n",
        "    print(\"El modelo ha movido:\")\n",
        "    print_board(game_tracker)\n",
        "    if check(game_tracker)==1 or num_moves>=5:\n",
        "        print(\"Game Over\")\n",
        "        win_logical = True"
      ],
      "execution_count": 0,
      "outputs": [
        {
          "output_type": "stream",
          "text": [
            "Introduce tu posición de juego (0-8): 4\n",
            "El modelo ha movido:\n",
            " | | \n",
            "_____\n",
            " |X| \n",
            "_____\n",
            " | |O\n",
            "Introduce tu posición de juego (0-8): 0\n",
            "El modelo ha movido:\n",
            "X| | \n",
            "_____\n",
            " |X| \n",
            "_____\n",
            "O| |O\n",
            "Introduce tu posición de juego (0-8): 3\n",
            "El modelo ha movido:\n",
            "X| |O\n",
            "_____\n",
            "X|X| \n",
            "_____\n",
            "O| |O\n",
            "Introduce tu posición de juego (0-8): 1\n",
            "El modelo ha movido:\n",
            "X|X|O\n",
            "_____\n",
            "X|X| \n",
            "_____\n",
            "O|O|O\n",
            "Game Over\n"
          ],
          "name": "stdout"
        }
      ]
    },
    {
      "cell_type": "code",
      "metadata": {
        "id": "jotjY5gFGK3O",
        "colab_type": "code",
        "colab": {}
      },
      "source": [
        ""
      ],
      "execution_count": 0,
      "outputs": []
    }
  ]
}