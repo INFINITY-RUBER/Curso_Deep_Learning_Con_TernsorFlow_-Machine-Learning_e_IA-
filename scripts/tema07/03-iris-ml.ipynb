{
  "nbformat": 4,
  "nbformat_minor": 0,
  "metadata": {
    "kernelspec": {
      "display_name": "Python 3",
      "language": "python",
      "name": "python3"
    },
    "language_info": {
      "codemirror_mode": {
        "name": "ipython",
        "version": 3
      },
      "file_extension": ".py",
      "mimetype": "text/x-python",
      "name": "python",
      "nbconvert_exporter": "python",
      "pygments_lexer": "ipython3",
      "version": "3.5.5"
    },
    "colab": {
      "name": "03-iris-ml.ipynb",
      "provenance": [],
      "include_colab_link": true
    }
  },
  "cells": [
    {
      "cell_type": "markdown",
      "metadata": {
        "id": "view-in-github",
        "colab_type": "text"
      },
      "source": [
        "<a href=\"https://colab.research.google.com/github/INFINITY-RUBER/Curso_Deep_Learning_Con_TernsorFlow_Machine-Learning_e_IA-/blob/master/scripts/tema07/03-iris-ml.ipynb\" target=\"_parent\"><img src=\"https://colab.research.google.com/assets/colab-badge.svg\" alt=\"Open In Colab\"/></a>"
      ]
    },
    {
      "cell_type": "code",
      "metadata": {
        "id": "buxfJfOjrTkm",
        "colab_type": "code",
        "colab": {}
      },
      "source": [
        "#pip install tensorflow==1.14"
      ],
      "execution_count": 0,
      "outputs": []
    },
    {
      "cell_type": "markdown",
      "metadata": {
        "id": "CypPnPChqlPd",
        "colab_type": "text"
      },
      "source": [
        "# Predicción de la Longitud de Pétalo de Iris"
      ]
    },
    {
      "cell_type": "markdown",
      "metadata": {
        "id": "mYskCKCyqlPf",
        "colab_type": "text"
      },
      "source": [
        "![Descripción](https://github.com/INFINITY-RUBER/Curso_Deep_Learning_Con_TernsorFlow_Machine-Learning_e_IA-/blob/master/resources/08-nn.png?raw=1)"
      ]
    },
    {
      "cell_type": "code",
      "metadata": {
        "id": "7ZG3-TVJqlPh",
        "colab_type": "code",
        "colab": {}
      },
      "source": [
        "import matplotlib.pyplot as plt   \n",
        "import numpy as np\n",
        "import tensorflow as tf\n",
        "from sklearn import datasets"
      ],
      "execution_count": 0,
      "outputs": []
    },
    {
      "cell_type": "code",
      "metadata": {
        "id": "BZohCmXbqlPp",
        "colab_type": "code",
        "colab": {}
      },
      "source": [
        "# cargamos data set de iris\n",
        "iris =datasets.load_iris()"
      ],
      "execution_count": 0,
      "outputs": []
    },
    {
      "cell_type": "code",
      "metadata": {
        "id": "coZ4X1a_r6OG",
        "colab_type": "code",
        "colab": {
          "base_uri": "https://localhost:8080/",
          "height": 35
        },
        "outputId": "80219f85-7322-4aed-8081-5ddbbca67446"
      },
      "source": [
        "print(type(iris))"
      ],
      "execution_count": 189,
      "outputs": [
        {
          "output_type": "stream",
          "text": [
            "<class 'sklearn.utils.Bunch'>\n"
          ],
          "name": "stdout"
        }
      ]
    },
    {
      "cell_type": "code",
      "metadata": {
        "id": "INxpFpMuqlPw",
        "colab_type": "code",
        "colab": {}
      },
      "source": [
        "x_vals = np.array([x[0:3] for x in iris.data])# valores de x de las colunas 1 a 3\n",
        "y_vals = np.array([x[3] for x in iris.data])# colunna 4 como valor de Y"
      ],
      "execution_count": 0,
      "outputs": []
    },
    {
      "cell_type": "code",
      "metadata": {
        "id": "l91agcW9qlP3",
        "colab_type": "code",
        "colab": {}
      },
      "source": [
        "session = tf.Session()"
      ],
      "execution_count": 0,
      "outputs": []
    },
    {
      "cell_type": "code",
      "metadata": {
        "id": "fCUKY7UiqlP_",
        "colab_type": "code",
        "colab": {}
      },
      "source": [
        "# creo las variables con la semilla\n",
        "seed = 19 # semilla\n",
        "tf.set_random_seed(seed)\n",
        "np.random.seed(seed)"
      ],
      "execution_count": 0,
      "outputs": []
    },
    {
      "cell_type": "code",
      "metadata": {
        "id": "Apzbg_L0qlQF",
        "colab_type": "code",
        "colab": {}
      },
      "source": [
        "train_idx = np.random.choice(len(x_vals), round(len(x_vals)*0.8), replace=False)# tomo el 80 %\n",
        "test_idx = np.array(list(set(range(len(x_vals)))-set(train_idx))) # tomo el restantes"
      ],
      "execution_count": 0,
      "outputs": []
    },
    {
      "cell_type": "code",
      "metadata": {
        "id": "e-jyWPfsqlQM",
        "colab_type": "code",
        "colab": {}
      },
      "source": [
        "# Datos de entrenamiento y Testing\n",
        "x_vals_train = x_vals[train_idx]\n",
        "x_vals_test = x_vals[test_idx]\n",
        "y_vals_train = y_vals[train_idx]\n",
        "y_vals_test = y_vals[test_idx]"
      ],
      "execution_count": 0,
      "outputs": []
    },
    {
      "cell_type": "code",
      "metadata": {
        "id": "7idAOxCbqlQT",
        "colab_type": "code",
        "colab": {}
      },
      "source": [
        "def normalize_col(m):\n",
        "    col_max = m.max(axis=0)\n",
        "    col_min = m.min(axis=0)\n",
        "    return (m-col_min)/(col_max-col_min)"
      ],
      "execution_count": 0,
      "outputs": []
    },
    {
      "cell_type": "code",
      "metadata": {
        "id": "f_-DSAXguFQA",
        "colab_type": "code",
        "colab": {
          "base_uri": "https://localhost:8080/",
          "height": 90
        },
        "outputId": "e97a8709-1e8e-4ea0-eed7-8e7066ab9aac"
      },
      "source": [
        "# datos sin normalizar\n",
        "print(x_vals_train[0:4])"
      ],
      "execution_count": 196,
      "outputs": [
        {
          "output_type": "stream",
          "text": [
            "[[4.7 3.2 1.3]\n",
            " [6.8 3.  5.5]\n",
            " [5.5 2.6 4.4]\n",
            " [5.6 3.  4.1]]\n"
          ],
          "name": "stdout"
        }
      ]
    },
    {
      "cell_type": "code",
      "metadata": {
        "id": "JSVOcQ0MqlQZ",
        "colab_type": "code",
        "colab": {}
      },
      "source": [
        "# Normalizo los valores para que esten entre (0 - 1)\n",
        "x_vals_train = np.nan_to_num(normalize_col(x_vals_train))\n",
        "x_vals_test = np.nan_to_num(normalize_col(x_vals_test))"
      ],
      "execution_count": 0,
      "outputs": []
    },
    {
      "cell_type": "code",
      "metadata": {
        "id": "xNv9JXdhuYXi",
        "colab_type": "code",
        "colab": {
          "base_uri": "https://localhost:8080/",
          "height": 90
        },
        "outputId": "b65d06f3-a39f-4b88-b83c-22af07dfd8c7"
      },
      "source": [
        "# datos sin normalizar\n",
        "print(x_vals_train[0:4])"
      ],
      "execution_count": 198,
      "outputs": [
        {
          "output_type": "stream",
          "text": [
            "[[0.11111111 0.5        0.03448276]\n",
            " [0.69444444 0.4        0.75862069]\n",
            " [0.33333333 0.2        0.56896552]\n",
            " [0.36111111 0.4        0.51724138]]\n"
          ],
          "name": "stdout"
        }
      ]
    },
    {
      "cell_type": "code",
      "metadata": {
        "id": "5a-UgxPLqlQf",
        "colab_type": "code",
        "colab": {}
      },
      "source": [
        "# Defino los tensores Pleceholder\n",
        "batch_size = 50\n",
        "x_data = tf.placeholder(shape = [None, 3], dtype = tf.float32)\n",
        "y_target = tf.placeholder(shape=[None, 1], dtype = tf.float32)"
      ],
      "execution_count": 0,
      "outputs": []
    },
    {
      "cell_type": "code",
      "metadata": {
        "id": "6xNSRsqcqlQm",
        "colab_type": "code",
        "colab": {}
      },
      "source": [
        "# Defino variables de Entrada\n",
        "hidden_layer_nodes = 5 # Declaro el Numero de nodos de la red neuronal\n",
        "A1 = tf.Variable(tf.random_normal(shape=[3, hidden_layer_nodes])) # 3 entradas (Sepal Length, Sepal Width, Petal Length) X numero de Nodos\n",
        "b1 = tf.Variable(tf.random_normal(shape=[hidden_layer_nodes]))# es el vector de ruido que se suma \"bias\"\n",
        "# capa de salida:\n",
        "A2 = tf.Variable(tf.random_normal(shape=[hidden_layer_nodes, 1])) # Numero de entradas que son los Nodos y una salida \n",
        "b2 = tf.Variable(tf.random_normal(shape=[1]))# el sesgo de ruido que se suma  a la salida \"bias\""
      ],
      "execution_count": 0,
      "outputs": []
    },
    {
      "cell_type": "code",
      "metadata": {
        "id": "9Dhcm_OlqlQu",
        "colab_type": "code",
        "colab": {}
      },
      "source": [
        "hidden_output = tf.nn.relu(tf.add(tf.matmul(x_data, A1), b1))# de la capa de entrada a la capa oculta \"(x_data X A1) + b1 \"\n",
        "final_ouput = tf.nn.relu(tf.add(tf.matmul(hidden_output, A2), b2))#  (hidden_output X A2) + b2 , mutiplicamos por la capa oculta"
      ],
      "execution_count": 0,
      "outputs": []
    },
    {
      "cell_type": "code",
      "metadata": {
        "id": "vccg29WiqlQz",
        "colab_type": "code",
        "colab": {}
      },
      "source": [
        "# definimos la funcion de perdida (diferencias al cuadrado)\n",
        "loss = tf.reduce_mean(tf.square(y_target-final_ouput))"
      ],
      "execution_count": 0,
      "outputs": []
    },
    {
      "cell_type": "code",
      "metadata": {
        "id": "VLACq_6rqlQ5",
        "colab_type": "code",
        "colab": {}
      },
      "source": [
        "# definimos el gradiante desendente con funcion de perdida muy pequeño\n",
        "my_optim = tf.train.GradientDescentOptimizer(0.005)\n",
        "train_step = my_optim.minimize(loss)# minimizar la funcion de perdida"
      ],
      "execution_count": 0,
      "outputs": []
    },
    {
      "cell_type": "code",
      "metadata": {
        "id": "3NWOY88EqlQ_",
        "colab_type": "code",
        "colab": {}
      },
      "source": [
        "init = tf.global_variables_initializer()\n",
        "session.run(init)"
      ],
      "execution_count": 0,
      "outputs": []
    },
    {
      "cell_type": "code",
      "metadata": {
        "id": "h9ZGk16yqlRJ",
        "colab_type": "code",
        "colab": {
          "base_uri": "https://localhost:8080/",
          "height": 163
        },
        "outputId": "794397be-f834-42dd-ed87-c7082464c971"
      },
      "source": [
        "loss_vect = []\n",
        "test_loss = []\n",
        "for i in range(500):\n",
        "    rand_idx = np.random.choice(len(x_vals_train), size=batch_size)\n",
        "    rand_x = x_vals_train[rand_idx]\n",
        "    rand_y = np.transpose([y_vals_train[rand_idx]])# los vectores van en Columna por eso se Tranponen\n",
        "    session.run(train_step, feed_dict={x_data:rand_x, y_target:rand_y})\n",
        "    \n",
        "    temp_loss = session.run(loss, feed_dict={x_data:rand_x, y_target:rand_y})\n",
        "    loss_vect.append(np.sqrt(temp_loss))\n",
        "    \n",
        "    temp_loss_test = session.run(loss, feed_dict={x_data: x_vals_test, y_target: np.transpose([y_vals_test])})\n",
        "    test_loss.append(np.sqrt(temp_loss_test))\n",
        "    \n",
        "    if(i+1)%50==0:\n",
        "        print(\"Paso # \"+str(i+1)+\", Loss = \"+str(temp_loss))"
      ],
      "execution_count": 205,
      "outputs": [
        {
          "output_type": "stream",
          "text": [
            "Paso # 50, Loss = 2.3848002\n",
            "Paso # 100, Loss = 1.9423999\n",
            "Paso # 150, Loss = 2.0942\n",
            "Paso # 200, Loss = 1.8522\n",
            "Paso # 250, Loss = 2.3314\n",
            "Paso # 300, Loss = 2.0998\n",
            "Paso # 350, Loss = 1.8206\n",
            "Paso # 400, Loss = 2.1161997\n"
          ],
          "name": "stdout"
        }
      ]
    },
    {
      "cell_type": "code",
      "metadata": {
        "id": "NagVIbgnqlRV",
        "colab_type": "code",
        "colab": {
          "base_uri": "https://localhost:8080/",
          "height": 295
        },
        "outputId": "6bea49e2-911e-47cf-df54-ef785722044b"
      },
      "source": [
        "plt.plot(loss_vect, \"r-\", label=\"Pérdida Entrenamiento\")\n",
        "plt.plot(test_loss, \"b--\", label =\"Pérdida Test\")\n",
        "plt.title(\"Pérdida (RMSE) per iteración\")\n",
        "plt.xlabel(\"Iteración\")\n",
        "plt.ylabel(\"RMSE\")\n",
        "plt.legend(loc =\"upper right\")\n",
        "plt.show()"
      ],
      "execution_count": 206,
      "outputs": [
        {
          "output_type": "display_data",
          "data": {
            "image/png": "[encoded data removed]",
            "text/plain": [
              "<Figure size 432x288 with 1 Axes>"
            ]
          },
          "metadata": {
            "tags": [],
            "needs_background": "light"
          }
        }
      ]
    },
    {
      "cell_type": "code",
      "metadata": {
        "id": "_pgs2SZDqlRd",
        "colab_type": "code",
        "colab": {
          "base_uri": "https://localhost:8080/",
          "height": 72
        },
        "outputId": "324bf74b-fb63-43ba-c357-09fc4b163668"
      },
      "source": [
        "print(session.run(A1))"
      ],
      "execution_count": 207,
      "outputs": [
        {
          "output_type": "stream",
          "text": [
            "[[ 1.9425963   1.2837046  -0.69429195  0.8065384  -0.2550354 ]\n",
            " [-0.3324218  -1.5926471   0.31097978  0.09720582  1.8543209 ]\n",
            " [ 0.17358676  0.59242195  0.6942563   0.8399697   1.9954697 ]]\n"
          ],
          "name": "stdout"
        }
      ]
    },
    {
      "cell_type": "code",
      "metadata": {
        "id": "CfrDyGoUqlRi",
        "colab_type": "code",
        "colab": {
          "base_uri": "https://localhost:8080/",
          "height": 35
        },
        "outputId": "f4e02a16-0cf5-4992-f177-a26e171bc781"
      },
      "source": [
        "print(session.run(b1))"
      ],
      "execution_count": 208,
      "outputs": [
        {
          "output_type": "stream",
          "text": [
            "[ 0.4992983  -1.3372735   0.14905064  1.9314767   0.13907292]\n"
          ],
          "name": "stdout"
        }
      ]
    },
    {
      "cell_type": "code",
      "metadata": {
        "id": "aCQmtqLpqlRo",
        "colab_type": "code",
        "colab": {
          "base_uri": "https://localhost:8080/",
          "height": 108
        },
        "outputId": "9c58a336-5183-4753-d415-21676d90c836"
      },
      "source": [
        "print(session.run(A2))"
      ],
      "execution_count": 209,
      "outputs": [
        {
          "output_type": "stream",
          "text": [
            "[[-0.3953116 ]\n",
            " [ 0.28982052]\n",
            " [-1.594295  ]\n",
            " [-0.96380204]\n",
            " [ 0.11316919]]\n"
          ],
          "name": "stdout"
        }
      ]
    },
    {
      "cell_type": "code",
      "metadata": {
        "id": "nHzNgcTDqlRt",
        "colab_type": "code",
        "colab": {
          "base_uri": "https://localhost:8080/",
          "height": 35
        },
        "outputId": "87bb8f39-55b6-4707-ce27-ad2741eeea65"
      },
      "source": [
        "print(session.run(b2))"
      ],
      "execution_count": 210,
      "outputs": [
        {
          "output_type": "stream",
          "text": [
            "[-1.5000658]\n"
          ],
          "name": "stdout"
        }
      ]
    },
    {
      "cell_type": "code",
      "metadata": {
        "id": "lChJFrH5qlRz",
        "colab_type": "code",
        "colab": {}
      },
      "source": [
        ""
      ],
      "execution_count": 0,
      "outputs": []
    }
  ]
}