{
  "nbformat": 4,
  "nbformat_minor": 0,
  "metadata": {
    "kernelspec": {
      "display_name": "Python 3",
      "language": "python",
      "name": "python3"
    },
    "language_info": {
      "codemirror_mode": {
        "name": "ipython",
        "version": 3
      },
      "file_extension": ".py",
      "mimetype": "text/x-python",
      "name": "python",
      "nbconvert_exporter": "python",
      "pygments_lexer": "ipython3",
      "version": "3.5.5"
    },
    "colab": {
      "name": "05-low-birth.ipynb",
      "provenance": [],
      "include_colab_link": true
    }
  },
  "cells": [
    {
      "cell_type": "markdown",
      "metadata": {
        "id": "view-in-github",
        "colab_type": "text"
      },
      "source": [
        "<a href=\"https://colab.research.google.com/github/INFINITY-RUBER/Curso_Deep_Learning_Con_TernsorFlow_Machine-Learning_e_IA-/blob/master/scripts/tema07/05-low-birth.ipynb\" target=\"_parent\"><img src=\"https://colab.research.google.com/assets/colab-badge.svg\" alt=\"Open In Colab\"/></a>"
      ]
    },
    {
      "cell_type": "code",
      "metadata": {
        "id": "iVnUDeinRkEa",
        "colab_type": "code",
        "colab": {}
      },
      "source": [
        "#pip install tensorflow==1.14"
      ],
      "execution_count": 0,
      "outputs": []
    },
    {
      "cell_type": "markdown",
      "metadata": {
        "id": "8NGUfHKoReeI",
        "colab_type": "text"
      },
      "source": [
        "# Red neuronal multicapa para predecir el bajo peso de un recién nacido"
      ]
    },
    {
      "cell_type": "code",
      "metadata": {
        "id": "Cgp9Ah_JReeK",
        "colab_type": "code",
        "colab": {}
      },
      "source": [
        "import tensorflow as tf\n",
        "import matplotlib.pyplot as plt\n",
        "import requests\n",
        "import numpy as np"
      ],
      "execution_count": 0,
      "outputs": []
    },
    {
      "cell_type": "code",
      "metadata": {
        "id": "eyC6JEIhReeT",
        "colab_type": "code",
        "colab": {}
      },
      "source": [
        "session = tf.Session()"
      ],
      "execution_count": 0,
      "outputs": []
    },
    {
      "cell_type": "code",
      "metadata": {
        "id": "UcqiXFyXReeZ",
        "colab_type": "code",
        "colab": {}
      },
      "source": [
        "url = \"https://raw.githubusercontent.com/joanby/tensorflow/master/datasets/birthweight.dat?token=AMRAeLOMrOCZKT3UgcdcA3VC4ep-4pYNks5cb-CGwA%3D%3D\"\n",
        "birth_file = requests.get(url)\n",
        "birth_data = birth_file.text.split('\\r\\n')\n",
        "birth_header = birth_data[0].split('\\t')# fila 0 como Cabezera\n",
        "birth_data = [[float(x) for x in y.split('\\t') if len(x)>=1] for y in birth_data[1:] if len(y)>=1]"
      ],
      "execution_count": 0,
      "outputs": []
    },
    {
      "cell_type": "code",
      "metadata": {
        "id": "nLCf-7q1Reeg",
        "colab_type": "code",
        "colab": {
          "base_uri": "https://localhost:8080/",
          "height": 35
        },
        "outputId": "aba68fc3-6547-4665-d66e-28c7057b183c"
      },
      "source": [
        "birth_header"
      ],
      "execution_count": 7,
      "outputs": [
        {
          "output_type": "execute_result",
          "data": {
            "text/plain": [
              "['LOW', 'AGE', 'LWT', 'RACE', 'SMOKE', 'PTL', 'HT', 'UI', 'BWT']"
            ]
          },
          "metadata": {
            "tags": []
          },
          "execution_count": 7
        }
      ]
    },
    {
      "cell_type": "code",
      "metadata": {
        "id": "6LKR1Aj6Reep",
        "colab_type": "code",
        "colab": {}
      },
      "source": [
        "y_vals = np.array([x[8] for x in birth_data])\n",
        "x_vals = np.array([x[1:8] for x in birth_data])"
      ],
      "execution_count": 0,
      "outputs": []
    },
    {
      "cell_type": "code",
      "metadata": {
        "id": "cyhEza_SReex",
        "colab_type": "code",
        "colab": {}
      },
      "source": [
        "seed = 2019\n",
        "tf.set_random_seed(seed)\n",
        "np.random.seed(seed)\n",
        "batch_size = 100"
      ],
      "execution_count": 0,
      "outputs": []
    },
    {
      "cell_type": "code",
      "metadata": {
        "id": "TOyMgP-uRee8",
        "colab_type": "code",
        "colab": {}
      },
      "source": [
        "train_idx = np.random.choice(len(x_vals), round(len(x_vals)*0.8), replace=False)\n",
        "test_idx = np.array(list(set(range(len(x_vals)))-set(train_idx)))"
      ],
      "execution_count": 0,
      "outputs": []
    },
    {
      "cell_type": "code",
      "metadata": {
        "id": "F9zXh_KkT1Ei",
        "colab_type": "code",
        "colab": {
          "base_uri": "https://localhost:8080/",
          "height": 235
        },
        "outputId": "0050bff8-040e-48e9-b306-c0238f2ddd2c"
      },
      "source": [
        "print(train_idx)\n",
        "print(test_idx)"
      ],
      "execution_count": 30,
      "outputs": [
        {
          "output_type": "stream",
          "text": [
            "[156 168  10 172  36  61 109  48  69 121  95  38 150  42  34 123 164   0\n",
            " 163 181  81  20  18  47   7  94  88   6 173  62  74  35  19  25  33 167\n",
            " 132  43  46 177 101 146 144 118  75 105 185 124  14 122 141 127  84  76\n",
            "  40 110 155  53  50 171  99  56  77  85  44   9 165  55  64  51  39 188\n",
            "  41  68 157  67  27  13  66 160 134 139 148 153  30 152   1 111   4 186\n",
            "   5 180 107 154 169 137 151  23 142  73 149 179  31  87 174  52  60 100\n",
            " 103 129  32 125 117  93 108  59   2 178  63 158 147 175 126 120 113 128\n",
            "  45  49  17  78 182 183 130  22  92 104 166  89  90  98  91  57 162 131\n",
            " 187   8 102  79 112 145  26]\n",
            "[  3 133 135 136 138  11  12 140  15  16 143  21  24  28  29 159 161  37\n",
            " 170 176  54 184  58  65  70  71  72  80  82  83  86  96  97 106 114 115\n",
            " 116 119]\n"
          ],
          "name": "stdout"
        }
      ]
    },
    {
      "cell_type": "code",
      "metadata": {
        "id": "0Hm2WdSdRefG",
        "colab_type": "code",
        "colab": {}
      },
      "source": [
        "x_vals_train = x_vals[train_idx]\n",
        "x_vals_test = x_vals[test_idx]\n",
        "y_vals_train = y_vals[train_idx]\n",
        "y_vals_test = y_vals[test_idx]"
      ],
      "execution_count": 0,
      "outputs": []
    },
    {
      "cell_type": "code",
      "metadata": {
        "id": "lYYP9svMRefL",
        "colab_type": "code",
        "colab": {}
      },
      "source": [
        "def normalize_cols(m, col_min = np.array([None]), col_max = np.array([None])):\n",
        "    if not col_min[0]:\n",
        "        col_min = m.min(axis=0)\n",
        "    if not col_max[0]:\n",
        "        col_max = m.max(axis=0)\n",
        "    return(m-col_min)/(col_max-col_min), col_min, col_max"
      ],
      "execution_count": 0,
      "outputs": []
    },
    {
      "cell_type": "code",
      "metadata": {
        "id": "kH2yOct6RefS",
        "colab_type": "code",
        "colab": {}
      },
      "source": [
        "x_vals_train, train_min, train_max = np.nan_to_num(normalize_cols(x_vals_train))# normalizamos \n",
        "x_vals_test,_,_ = np.nan_to_num(normalize_cols(x_vals_test, train_min, train_max))"
      ],
      "execution_count": 0,
      "outputs": []
    },
    {
      "cell_type": "code",
      "metadata": {
        "id": "E5k8I718RefX",
        "colab_type": "code",
        "colab": {}
      },
      "source": [
        "def init_weight(shape, st_dev):\n",
        "    weight = tf.Variable(tf.random_normal(shape = shape, stddev=st_dev))\n",
        "    return weight\n",
        "\n",
        "def init_bias(shape, st_dev):\n",
        "    bias = tf.Variable(tf.random_normal(shape = shape, stddev=st_dev))\n",
        "    return bias"
      ],
      "execution_count": 0,
      "outputs": []
    },
    {
      "cell_type": "code",
      "metadata": {
        "id": "DFY5-vUZReff",
        "colab_type": "code",
        "colab": {}
      },
      "source": [
        "x_data = tf.placeholder(shape=[None, 7], dtype = tf.float32)\n",
        "y_target = tf.placeholder(shape=[None, 1], dtype=tf.float32)"
      ],
      "execution_count": 0,
      "outputs": []
    },
    {
      "cell_type": "code",
      "metadata": {
        "id": "Uwh8Gx_zRefl",
        "colab_type": "code",
        "colab": {}
      },
      "source": [
        "def full_connected(input_layer, weights, biases):\n",
        "    layer = tf.add(tf.matmul(input_layer, weights), biases)\n",
        "    return(layer)"
      ],
      "execution_count": 0,
      "outputs": []
    },
    {
      "cell_type": "markdown",
      "metadata": {
        "id": "QrVlmurBRefr",
        "colab_type": "text"
      },
      "source": [
        "- Dato de entrada: 7 -> capa oculta 1: 25, la capa tiene 7 * 25 + 25 = 200 variables\n",
        "- Capa oculta 1: 25 -> capa oculta 2: 10, la capa tiene 25 * 10 + 10 = 260 variables\n",
        "- Capa oculta 2: 10 -> capa oculta 3: 3, la capa tiene 10 * 3 + 3 = 33 variables\n",
        "- Capa oculta 3: 3 -> Capa de Salida: 1, la capa tiene 3 * 1 + 1 = 4 variables\n",
        "\n",
        "En total la red neuronal tiene que estimar 200+260+33+4 = 497 variables"
      ]
    },
    {
      "cell_type": "code",
      "metadata": {
        "id": "onayivIPRefs",
        "colab_type": "code",
        "colab": {}
      },
      "source": [
        "w1 = init_weight(shape=[7,25], st_dev=10.0)\n",
        "b1 = init_bias(shape=[25], st_dev=10.0)\n",
        "layer1 = full_connected(x_data, w1, b1) \n",
        "\n",
        "w2 = init_weight(shape=[25,10], st_dev=10.0)\n",
        "b2 = init_bias(shape=[10], st_dev=10.0)\n",
        "layer2 = full_connected(layer1, w2, b2)\n",
        "\n",
        "w3 = init_weight(shape=[10,3], st_dev=10.0)\n",
        "b3 = init_bias(shape=[3], st_dev=10.0)\n",
        "layer3 = full_connected(layer2, w3, b3)\n",
        "\n",
        "w4 = init_weight(shape=[3,1], st_dev=10.0)\n",
        "b4 = init_bias(shape=[1], st_dev=10.0)\n",
        "layer4 = full_connected(layer3, w4, b4) "
      ],
      "execution_count": 0,
      "outputs": []
    },
    {
      "cell_type": "code",
      "metadata": {
        "id": "5cnOiI6URefy",
        "colab_type": "code",
        "colab": {}
      },
      "source": [
        "loss = tf.reduce_mean(tf.abs(y_target-layer4))# las medias de las diferencias de los valores absolutos\n",
        "my_optim = tf.train.AdamOptimizer(0.05)\n",
        "train_step = my_optim.minimize(loss)\n",
        "init = tf.global_variables_initializer()\n",
        "session.run(init)"
      ],
      "execution_count": 0,
      "outputs": []
    },
    {
      "cell_type": "code",
      "metadata": {
        "id": "L7cnjcFHRef3",
        "colab_type": "code",
        "colab": {
          "base_uri": "https://localhost:8080/",
          "height": 235
        },
        "outputId": "7bf6bfbe-1402-443f-e990-0cf09856c918"
      },
      "source": [
        "loss_vects = []\n",
        "test_loss = []\n",
        "for i in range(300):\n",
        "    rand_idx = np.random.choice(len(x_vals_train), size = batch_size)\n",
        "    rand_x = x_vals_train[rand_idx]\n",
        "    rand_y = np.transpose([y_vals_train[rand_idx]])\n",
        "    \n",
        "    session.run(train_step, feed_dict={x_data: rand_x, y_target: rand_y})\n",
        "    \n",
        "    temp_loss = session.run(loss, feed_dict={x_data: rand_x, y_target: rand_y})\n",
        "    loss_vects.append(temp_loss)\n",
        "    \n",
        "    test_temp_loss = session.run(loss, feed_dict={x_data: x_vals_test, y_target: np.transpose([y_vals_test])})\n",
        "    test_loss.append(test_temp_loss)\n",
        "    \n",
        "    if(i+1)%25==0:\n",
        "        print(\"Paso #\"+str(i+1)+\", Loss = \"+str(temp_loss))"
      ],
      "execution_count": 39,
      "outputs": [
        {
          "output_type": "stream",
          "text": [
            "Paso #25, Loss = 49760.55\n",
            "Paso #50, Loss = 16945.85\n",
            "Paso #75, Loss = 6456.4575\n",
            "Paso #100, Loss = 5520.7886\n",
            "Paso #125, Loss = 9753.916\n",
            "Paso #150, Loss = 2102.1487\n",
            "Paso #175, Loss = 3389.3704\n",
            "Paso #200, Loss = 2233.0432\n",
            "Paso #225, Loss = 2013.4019\n",
            "Paso #250, Loss = 951.7566\n",
            "Paso #275, Loss = 911.36053\n",
            "Paso #300, Loss = 1585.0056\n"
          ],
          "name": "stdout"
        }
      ]
    },
    {
      "cell_type": "code",
      "metadata": {
        "id": "ROjjtkDmRef_",
        "colab_type": "code",
        "colab": {
          "base_uri": "https://localhost:8080/",
          "height": 295
        },
        "outputId": "0fe91a6a-6235-4152-c38c-dac540c3ddb7"
      },
      "source": [
        "plt.plot(loss_vects, 'r-', label=\"Pérdidas en Entrenamiento\")\n",
        "plt.plot(test_loss, 'b-.', label=\"Pérdidas en Test\")\n",
        "plt.title(\"Pérdida por iteración\")\n",
        "plt.xlabel(\"Iteración\")\n",
        "plt.ylabel(\"Pérdidas (L1)\")\n",
        "plt.legend(loc=\"upper right\")\n",
        "plt.show()"
      ],
      "execution_count": 40,
      "outputs": [
        {
          "output_type": "display_data",
          "data": {
            "image/png": "[encoded data removed]",
            "text/plain": [
              "<Figure size 432x288 with 1 Axes>"
            ]
          },
          "metadata": {
            "tags": [],
            "needs_background": "light"
          }
        }
      ]
    },
    {
      "cell_type": "code",
      "metadata": {
        "id": "-n7nQ51ORegH",
        "colab_type": "code",
        "colab": {}
      },
      "source": [
        "actuals = np.array([x[0] for x in birth_data])\n",
        "test_actuals = actuals[test_idx]\n",
        "train_actuals = actuals[train_idx]\n",
        "test_pred = [x[0] for x in session.run(layer4, feed_dict={x_data:x_vals_test})]\n",
        "train_pred = [x[0] for x in session.run(layer4, feed_dict={x_data:x_vals_train})]\n",
        "test_pred = np.array([1.0 if x<2500.0 else 0.0 for x in test_pred])\n",
        "train_pred = np.array([1.0 if x<2500.0 else 0.0 for x in train_pred])"
      ],
      "execution_count": 0,
      "outputs": []
    },
    {
      "cell_type": "code",
      "metadata": {
        "id": "UO37EP9gRegP",
        "colab_type": "code",
        "colab": {}
      },
      "source": [
        "test_acc = np.mean([x==y for x,y in zip(test_pred, test_actuals)])\n",
        "train_acc = np.mean([x==y for x,y in zip(train_pred, train_actuals)])"
      ],
      "execution_count": 0,
      "outputs": []
    },
    {
      "cell_type": "code",
      "metadata": {
        "id": "LPGcktWkRegY",
        "colab_type": "code",
        "colab": {
          "base_uri": "https://localhost:8080/",
          "height": 35
        },
        "outputId": "dfd80600-fbf7-4f65-e9d6-eb77fe2375c1"
      },
      "source": [
        "test_acc"
      ],
      "execution_count": 47,
      "outputs": [
        {
          "output_type": "execute_result",
          "data": {
            "text/plain": [
              "0.6578947368421053"
            ]
          },
          "metadata": {
            "tags": []
          },
          "execution_count": 47
        }
      ]
    },
    {
      "cell_type": "code",
      "metadata": {
        "id": "q6KS3HFTRege",
        "colab_type": "code",
        "colab": {
          "base_uri": "https://localhost:8080/",
          "height": 35
        },
        "outputId": "16bae5c5-7a74-4423-cc1e-15fe7cc75eca"
      },
      "source": [
        "train_acc"
      ],
      "execution_count": 48,
      "outputs": [
        {
          "output_type": "execute_result",
          "data": {
            "text/plain": [
              "0.6887417218543046"
            ]
          },
          "metadata": {
            "tags": []
          },
          "execution_count": 48
        }
      ]
    },
    {
      "cell_type": "code",
      "metadata": {
        "id": "1XUHwMCPRegk",
        "colab_type": "code",
        "colab": {}
      },
      "source": [
        ""
      ],
      "execution_count": 0,
      "outputs": []
    }
  ]
}