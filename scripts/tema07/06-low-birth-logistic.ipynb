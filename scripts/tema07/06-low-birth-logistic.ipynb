{
  "nbformat": 4,
  "nbformat_minor": 0,
  "metadata": {
    "kernelspec": {
      "display_name": "Python 3",
      "language": "python",
      "name": "python3"
    },
    "language_info": {
      "codemirror_mode": {
        "name": "ipython",
        "version": 3
      },
      "file_extension": ".py",
      "mimetype": "text/x-python",
      "name": "python",
      "nbconvert_exporter": "python",
      "pygments_lexer": "ipython3",
      "version": "3.5.5"
    },
    "colab": {
      "name": "06-low-birth-logistic.ipynb",
      "provenance": [],
      "include_colab_link": true
    }
  },
  "cells": [
    {
      "cell_type": "markdown",
      "metadata": {
        "id": "view-in-github",
        "colab_type": "text"
      },
      "source": [
        "<a href=\"https://colab.research.google.com/github/INFINITY-RUBER/Curso_Deep_Learning_Con_TernsorFlow_Machine-Learning_e_IA-/blob/master/scripts/tema07/06-low-birth-logistic.ipynb\" target=\"_parent\"><img src=\"https://colab.research.google.com/assets/colab-badge.svg\" alt=\"Open In Colab\"/></a>"
      ]
    },
    {
      "cell_type": "markdown",
      "metadata": {
        "id": "aibkaNj5_HRh",
        "colab_type": "text"
      },
      "source": [
        "# Mejorar la predicción de un modelo lineal con NN"
      ]
    },
    {
      "cell_type": "code",
      "metadata": {
        "id": "OGzwFFYW_MSc",
        "colab_type": "code",
        "colab": {}
      },
      "source": [
        "#pip install tensorflow==1.14"
      ],
      "execution_count": 0,
      "outputs": []
    },
    {
      "cell_type": "code",
      "metadata": {
        "id": "ikB5ukiC_HRj",
        "colab_type": "code",
        "colab": {}
      },
      "source": [
        "import matplotlib.pyplot as plt\n",
        "import numpy as np\n",
        "import tensorflow as tf\n",
        "import requests \n",
        "session = tf.Session()"
      ],
      "execution_count": 0,
      "outputs": []
    },
    {
      "cell_type": "code",
      "metadata": {
        "id": "17SMhcv9_HRs",
        "colab_type": "code",
        "colab": {}
      },
      "source": [
        "# Descargamos y ordenamos los datos\n",
        "url = \"https://raw.githubusercontent.com/joanby/tensorflow/master/datasets/birthweight.dat?token=AMRAeLOMrOCZKT3UgcdcA3VC4ep-4pYNks5cb-CGwA%3D%3D\"\n",
        "birth_file = requests.get(url)\n",
        "birth_data = birth_file.text.split('\\r\\n')\n",
        "birth_header = birth_data[0].split('\\t')\n",
        "birth_data = [[float(x) for x in y.split('\\t') if len(x)>=1] for y in birth_data[1:] if len(y)>=1]"
      ],
      "execution_count": 0,
      "outputs": []
    },
    {
      "cell_type": "code",
      "metadata": {
        "id": "L8Aa-k6L_HRy",
        "colab_type": "code",
        "colab": {}
      },
      "source": [
        "y_vals = np.array([x[0] for x in birth_data])\n",
        "x_vals = np.array([x[1:8] for x in birth_data])"
      ],
      "execution_count": 0,
      "outputs": []
    },
    {
      "cell_type": "code",
      "metadata": {
        "id": "Zuzfp9zN_HR5",
        "colab_type": "code",
        "colab": {}
      },
      "source": [
        "seed = 2019\n",
        "tf.set_random_seed(seed)\n",
        "np.random.seed(seed)\n",
        "batch_size = 80"
      ],
      "execution_count": 0,
      "outputs": []
    },
    {
      "cell_type": "code",
      "metadata": {
        "id": "5kEgfZoU_HSA",
        "colab_type": "code",
        "colab": {}
      },
      "source": [
        "train_idx = np.random.choice(len(x_vals), round(len(x_vals)*0.8), replace=False)\n",
        "test_idx = np.array(list(set(range(len(x_vals)))-set(train_idx)))"
      ],
      "execution_count": 0,
      "outputs": []
    },
    {
      "cell_type": "code",
      "metadata": {
        "id": "2MrxrrYt_HSG",
        "colab_type": "code",
        "colab": {}
      },
      "source": [
        "x_vals_train = x_vals[train_idx]\n",
        "x_vals_test = x_vals[test_idx]\n",
        "y_vals_train = y_vals[train_idx]\n",
        "y_vals_test = y_vals[test_idx]"
      ],
      "execution_count": 0,
      "outputs": []
    },
    {
      "cell_type": "code",
      "metadata": {
        "id": "ejb3Qd1u_HSN",
        "colab_type": "code",
        "colab": {}
      },
      "source": [
        "def normalize_cols(m, col_min = np.array([None]), col_max = np.array([None])):\n",
        "    if not col_min[0]:\n",
        "        col_min = m.min(axis=0)\n",
        "    if not col_max[0]:\n",
        "        col_max = m.max(axis=0)\n",
        "    return(m-col_min)/(col_max-col_min), col_min, col_max"
      ],
      "execution_count": 0,
      "outputs": []
    },
    {
      "cell_type": "code",
      "metadata": {
        "id": "gXrL-NYV_HSU",
        "colab_type": "code",
        "colab": {}
      },
      "source": [
        "x_vals_train, train_min, train_max = np.nan_to_num(normalize_cols(x_vals_train))\n",
        "x_vals_test,_,_ = np.nan_to_num(normalize_cols(x_vals_test, train_min, train_max))"
      ],
      "execution_count": 0,
      "outputs": []
    },
    {
      "cell_type": "code",
      "metadata": {
        "id": "RS1_mZXj_HSa",
        "colab_type": "code",
        "colab": {}
      },
      "source": [
        "x_data = tf.placeholder(shape=[None, 7],dtype = tf.float32)\n",
        "y_target = tf.placeholder(shape=[None, 1], dtype=tf.float32)"
      ],
      "execution_count": 0,
      "outputs": []
    },
    {
      "cell_type": "code",
      "metadata": {
        "id": "wo5884T9_HSf",
        "colab_type": "code",
        "colab": {}
      },
      "source": [
        "# funcion que inicializa cualquier variable\n",
        "def init_variables(shape):\n",
        "    return tf.Variable(tf.random_normal(shape=shape))"
      ],
      "execution_count": 0,
      "outputs": []
    },
    {
      "cell_type": "code",
      "metadata": {
        "id": "OpzrJ1f__HSl",
        "colab_type": "code",
        "colab": {}
      },
      "source": [
        "def logistic(input_layer, multiplication_weight, bias_weight, activation_sig = True):\n",
        "    linear_layer = tf.add(tf.matmul(input_layer, multiplication_weight), bias_weight)\n",
        "    if activation_sig:\n",
        "        return tf.nn.sigmoid(linear_layer)\n",
        "    else:\n",
        "        return linear_layer"
      ],
      "execution_count": 0,
      "outputs": []
    },
    {
      "cell_type": "markdown",
      "metadata": {
        "id": "7FMIcx0x_HSt",
        "colab_type": "text"
      },
      "source": [
        "- Entrada: 7 datos -> Capa oculta 1: 14 nodos ocultos\n",
        "- Capa oculta 1: 14 nodos -> Capa oculta 2: 5 nodos ocultos\n",
        "- Capa oculta 2: 5 nodos -> Capa salida -> 1 nodo"
      ]
    },
    {
      "cell_type": "code",
      "metadata": {
        "id": "t6M9MZO7_HSu",
        "colab_type": "code",
        "colab": {}
      },
      "source": [
        "A1 = init_variables(shape=[7,14])\n",
        "b1 = init_variables(shape=[14])\n",
        "logistic_layer_1 = logistic(x_data,A1,b1)\n",
        "\n",
        "A2 = init_variables(shape=[14,5])\n",
        "b2 = init_variables(shape=[5])\n",
        "logistic_layer_2 = logistic(logistic_layer_1,A2,b2)\n",
        "\n",
        "A3 = init_variables(shape=[5,1])\n",
        "b3 = init_variables(shape=[1])\n",
        "final_output = logistic(logistic_layer_2,A3,b3, activation_sig=False)"
      ],
      "execution_count": 0,
      "outputs": []
    },
    {
      "cell_type": "code",
      "metadata": {
        "id": "bVDg6kGh_HS0",
        "colab_type": "code",
        "colab": {}
      },
      "source": [
        "#Funcion de Perdida\n",
        "loss = tf.reduce_mean(tf.nn.sigmoid_cross_entropy_with_logits(logits=final_output, labels=y_target))"
      ],
      "execution_count": 0,
      "outputs": []
    },
    {
      "cell_type": "code",
      "metadata": {
        "id": "lCgZj-3U_HS6",
        "colab_type": "code",
        "colab": {}
      },
      "source": [
        "my_optim = tf.train.AdamOptimizer(learning_rate=0.002)\n",
        "train_step = my_optim.minimize(loss)"
      ],
      "execution_count": 0,
      "outputs": []
    },
    {
      "cell_type": "code",
      "metadata": {
        "id": "RlQyNYOy_HTA",
        "colab_type": "code",
        "colab": {}
      },
      "source": [
        "init = tf.global_variables_initializer()\n",
        "session.run(init)"
      ],
      "execution_count": 0,
      "outputs": []
    },
    {
      "cell_type": "code",
      "metadata": {
        "id": "kcwlkEg0_HTF",
        "colab_type": "code",
        "colab": {}
      },
      "source": [
        "prediction = tf.round(tf.nn.sigmoid(final_output))\n",
        "predictions_correct = tf.cast(tf.equal(prediction, y_target), tf.float32)\n",
        "accuracy = tf.reduce_mean(predictions_correct)"
      ],
      "execution_count": 0,
      "outputs": []
    },
    {
      "cell_type": "code",
      "metadata": {
        "id": "KHD-xNVs_HTL",
        "colab_type": "code",
        "colab": {
          "base_uri": "https://localhost:8080/",
          "height": 290
        },
        "outputId": "67a68ca9-9075-46c3-8ce3-077c90637717"
      },
      "source": [
        "loss_vect = []\n",
        "train_acc = []\n",
        "test_acc = []\n",
        "\n",
        "for i in range(1500):\n",
        "    rand_idx = np.random.choice(len(x_vals_train), size = batch_size)\n",
        "    rand_x = x_vals_train[rand_idx]\n",
        "    rand_y = np.transpose([y_vals_train[rand_idx]])\n",
        "    \n",
        "    session.run(train_step, feed_dict={x_data: rand_x, y_target: rand_y})\n",
        "    \n",
        "    temp_loss = session.run(loss, feed_dict={x_data: rand_x, y_target: rand_y})# funcion de perdida temporal\n",
        "    loss_vect.append(temp_loss)\n",
        "    \n",
        "    temp_acc_train = session.run(accuracy, feed_dict={x_data: x_vals_train, y_target: np.transpose([y_vals_train])})\n",
        "    train_acc.append(temp_acc_train)\n",
        "    \n",
        "    temp_acc_test = session.run(accuracy, feed_dict={x_data: x_vals_test, y_target: np.transpose([y_vals_test])})\n",
        "    test_acc.append(temp_acc_test)\n",
        "    \n",
        "    if(i+1)%100==0:\n",
        "        print(\"Paso #\"+str(i+1)+\", Loss = \"+str(temp_loss)+\", Precisión = \"+str(temp_acc_train))"
      ],
      "execution_count": 23,
      "outputs": [
        {
          "output_type": "stream",
          "text": [
            "Paso #100, Loss = 0.5873539, Precisión = 0.6821192\n",
            "Paso #200, Loss = 0.6407906, Precisión = 0.6821192\n",
            "Paso #300, Loss = 0.59119666, Precisión = 0.6821192\n",
            "Paso #400, Loss = 0.48174477, Precisión = 0.7152318\n",
            "Paso #500, Loss = 0.51377743, Precisión = 0.7682119\n",
            "Paso #600, Loss = 0.48305807, Precisión = 0.77483445\n",
            "Paso #700, Loss = 0.5144055, Precisión = 0.77483445\n",
            "Paso #800, Loss = 0.48256278, Precisión = 0.7682119\n",
            "Paso #900, Loss = 0.56117046, Precisión = 0.7615894\n",
            "Paso #1000, Loss = 0.45078868, Precisión = 0.7682119\n",
            "Paso #1100, Loss = 0.5421976, Precisión = 0.77483445\n",
            "Paso #1200, Loss = 0.5075997, Precisión = 0.77483445\n",
            "Paso #1300, Loss = 0.56148803, Precisión = 0.7682119\n",
            "Paso #1400, Loss = 0.56451195, Precisión = 0.77483445\n",
            "Paso #1500, Loss = 0.5765027, Precisión = 0.7682119\n"
          ],
          "name": "stdout"
        }
      ]
    },
    {
      "cell_type": "code",
      "metadata": {
        "id": "KMr32XGq_HTT",
        "colab_type": "code",
        "colab": {
          "base_uri": "https://localhost:8080/",
          "height": 265
        },
        "outputId": "06c31dc7-48f5-4bdb-bb9a-ba055f320fb7"
      },
      "source": [
        "plt.plot(loss_vect, 'k-')\n",
        "plt.show()"
      ],
      "execution_count": 24,
      "outputs": [
        {
          "output_type": "display_data",
          "data": {
            "image/png": "[encoded data removed]",
            "text/plain": [
              "<Figure size 432x288 with 1 Axes>"
            ]
          },
          "metadata": {
            "tags": [],
            "needs_background": "light"
          }
        }
      ]
    },
    {
      "cell_type": "code",
      "metadata": {
        "id": "cRpvMAzx_HTZ",
        "colab_type": "code",
        "colab": {
          "base_uri": "https://localhost:8080/",
          "height": 265
        },
        "outputId": "02a8dcbb-02ff-40d2-fb78-a944878de0a9"
      },
      "source": [
        "plt.plot(train_acc, 'r-', label=\"Train Acc\")\n",
        "plt.plot(test_acc, 'b--', label=\"Test Acc\")\n",
        "plt.legend(loc=\"lower right\")\n",
        "plt.show()"
      ],
      "execution_count": 25,
      "outputs": [
        {
          "output_type": "display_data",
          "data": {
            "image/png": "[encoded data removed]",
            "text/plain": [
              "<Figure size 432x288 with 1 Axes>"
            ]
          },
          "metadata": {
            "tags": [],
            "needs_background": "light"
          }
        }
      ]
    },
    {
      "cell_type": "code",
      "metadata": {
        "id": "9UXS1tPh_HTe",
        "colab_type": "code",
        "colab": {}
      },
      "source": [
        ""
      ],
      "execution_count": 0,
      "outputs": []
    }
  ]
}