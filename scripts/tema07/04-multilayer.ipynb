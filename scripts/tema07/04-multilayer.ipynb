{
  "nbformat": 4,
  "nbformat_minor": 0,
  "metadata": {
    "kernelspec": {
      "display_name": "Python 3",
      "language": "python",
      "name": "python3"
    },
    "language_info": {
      "codemirror_mode": {
        "name": "ipython",
        "version": 3
      },
      "file_extension": ".py",
      "mimetype": "text/x-python",
      "name": "python",
      "nbconvert_exporter": "python",
      "pygments_lexer": "ipython3",
      "version": "3.5.5"
    },
    "colab": {
      "name": "04-multilayer.ipynb",
      "provenance": [],
      "include_colab_link": true
    }
  },
  "cells": [
    {
      "cell_type": "markdown",
      "metadata": {
        "id": "view-in-github",
        "colab_type": "text"
      },
      "source": [
        "<a href=\"https://colab.research.google.com/github/INFINITY-RUBER/Curso_Deep_Learning_Con_TernsorFlow_Machine-Learning_e_IA-/blob/master/scripts/tema07/04-multilayer.ipynb\" target=\"_parent\"><img src=\"https://colab.research.google.com/assets/colab-badge.svg\" alt=\"Open In Colab\"/></a>"
      ]
    },
    {
      "cell_type": "code",
      "metadata": {
        "id": "YIlXTPiJ3zxk",
        "colab_type": "code",
        "colab": {
          "base_uri": "https://localhost:8080/",
          "height": 746
        },
        "outputId": "fc2c8efd-e929-4519-d855-defaf9913e1b"
      },
      "source": [
        "pip install tensorflow==1.14\n"
      ],
      "execution_count": 1,
      "outputs": [
        {
          "output_type": "stream",
          "text": [
            "Collecting tensorflow==1.14\n",
            "\u001b[?25l  Downloading https://files.pythonhosted.org/packages/de/f0/96fb2e0412ae9692dbf400e5b04432885f677ad6241c088ccc5fe7724d69/tensorflow-1.14.0-cp36-cp36m-manylinux1_x86_64.whl (109.2MB)\n",
            "\u001b[K     |████████████████████████████████| 109.2MB 96kB/s \n",
            "\u001b[?25hRequirement already satisfied: astor>=0.6.0 in /usr/local/lib/python3.6/dist-packages (from tensorflow==1.14) (0.8.1)\n",
            "Requirement already satisfied: keras-applications>=1.0.6 in /usr/local/lib/python3.6/dist-packages (from tensorflow==1.14) (1.0.8)\n",
            "Requirement already satisfied: google-pasta>=0.1.6 in /usr/local/lib/python3.6/dist-packages (from tensorflow==1.14) (0.2.0)\n",
            "Requirement already satisfied: six>=1.10.0 in /usr/local/lib/python3.6/dist-packages (from tensorflow==1.14) (1.12.0)\n",
            "Collecting tensorflow-estimator<1.15.0rc0,>=1.14.0rc0\n",
            "\u001b[?25l  Downloading https://files.pythonhosted.org/packages/3c/d5/21860a5b11caf0678fbc8319341b0ae21a07156911132e0e71bffed0510d/tensorflow_estimator-1.14.0-py2.py3-none-any.whl (488kB)\n",
            "\u001b[K     |████████████████████████████████| 491kB 35.5MB/s \n",
            "\u001b[?25hRequirement already satisfied: grpcio>=1.8.6 in /usr/local/lib/python3.6/dist-packages (from tensorflow==1.14) (1.29.0)\n",
            "Requirement already satisfied: numpy<2.0,>=1.14.5 in /usr/local/lib/python3.6/dist-packages (from tensorflow==1.14) (1.18.4)\n",
            "Requirement already satisfied: protobuf>=3.6.1 in /usr/local/lib/python3.6/dist-packages (from tensorflow==1.14) (3.10.0)\n",
            "Requirement already satisfied: absl-py>=0.7.0 in /usr/local/lib/python3.6/dist-packages (from tensorflow==1.14) (0.9.0)\n",
            "Requirement already satisfied: wrapt>=1.11.1 in /usr/local/lib/python3.6/dist-packages (from tensorflow==1.14) (1.12.1)\n",
            "Requirement already satisfied: gast>=0.2.0 in /usr/local/lib/python3.6/dist-packages (from tensorflow==1.14) (0.3.3)\n",
            "Requirement already satisfied: keras-preprocessing>=1.0.5 in /usr/local/lib/python3.6/dist-packages (from tensorflow==1.14) (1.1.2)\n",
            "Requirement already satisfied: wheel>=0.26 in /usr/local/lib/python3.6/dist-packages (from tensorflow==1.14) (0.34.2)\n",
            "Requirement already satisfied: termcolor>=1.1.0 in /usr/local/lib/python3.6/dist-packages (from tensorflow==1.14) (1.1.0)\n",
            "Collecting tensorboard<1.15.0,>=1.14.0\n",
            "\u001b[?25l  Downloading https://files.pythonhosted.org/packages/91/2d/2ed263449a078cd9c8a9ba50ebd50123adf1f8cfbea1492f9084169b89d9/tensorboard-1.14.0-py3-none-any.whl (3.1MB)\n",
            "\u001b[K     |████████████████████████████████| 3.2MB 43.7MB/s \n",
            "\u001b[?25hRequirement already satisfied: h5py in /usr/local/lib/python3.6/dist-packages (from keras-applications>=1.0.6->tensorflow==1.14) (2.10.0)\n",
            "Requirement already satisfied: setuptools in /usr/local/lib/python3.6/dist-packages (from protobuf>=3.6.1->tensorflow==1.14) (47.1.1)\n",
            "Requirement already satisfied: markdown>=2.6.8 in /usr/local/lib/python3.6/dist-packages (from tensorboard<1.15.0,>=1.14.0->tensorflow==1.14) (3.2.2)\n",
            "Requirement already satisfied: werkzeug>=0.11.15 in /usr/local/lib/python3.6/dist-packages (from tensorboard<1.15.0,>=1.14.0->tensorflow==1.14) (1.0.1)\n",
            "Requirement already satisfied: importlib-metadata; python_version < \"3.8\" in /usr/local/lib/python3.6/dist-packages (from markdown>=2.6.8->tensorboard<1.15.0,>=1.14.0->tensorflow==1.14) (1.6.0)\n",
            "Requirement already satisfied: zipp>=0.5 in /usr/local/lib/python3.6/dist-packages (from importlib-metadata; python_version < \"3.8\"->markdown>=2.6.8->tensorboard<1.15.0,>=1.14.0->tensorflow==1.14) (3.1.0)\n",
            "Installing collected packages: tensorflow-estimator, tensorboard, tensorflow\n",
            "  Found existing installation: tensorflow-estimator 2.2.0\n",
            "    Uninstalling tensorflow-estimator-2.2.0:\n",
            "      Successfully uninstalled tensorflow-estimator-2.2.0\n",
            "  Found existing installation: tensorboard 2.2.2\n",
            "    Uninstalling tensorboard-2.2.2:\n",
            "      Successfully uninstalled tensorboard-2.2.2\n",
            "  Found existing installation: tensorflow 2.2.0\n",
            "    Uninstalling tensorflow-2.2.0:\n",
            "      Successfully uninstalled tensorflow-2.2.0\n",
            "Successfully installed tensorboard-1.14.0 tensorflow-1.14.0 tensorflow-estimator-1.14.0\n"
          ],
          "name": "stdout"
        }
      ]
    },
    {
      "cell_type": "markdown",
      "metadata": {
        "id": "G4RRg-ri3xok",
        "colab_type": "text"
      },
      "source": [
        "# Redes neuronales multicapas"
      ]
    },
    {
      "cell_type": "markdown",
      "metadata": {
        "id": "hM2RPKUU3xon",
        "colab_type": "text"
      },
      "source": [
        "### Ejemplo 1D "
      ]
    },
    {
      "cell_type": "code",
      "metadata": {
        "id": "Xh6f0jw13xoo",
        "colab_type": "code",
        "colab": {}
      },
      "source": [
        "import tensorflow as tf\n",
        "import numpy as np\n",
        "session = tf.Session()"
      ],
      "execution_count": 0,
      "outputs": []
    },
    {
      "cell_type": "code",
      "metadata": {
        "id": "t4A5KdBB3xox",
        "colab_type": "code",
        "colab": {}
      },
      "source": [
        "data_size = 25\n",
        "data_1d = np.random.normal(size = data_size)\n",
        "x_input_1d = tf.placeholder(shape=[data_size], dtype=tf.float32)"
      ],
      "execution_count": 0,
      "outputs": []
    },
    {
      "cell_type": "code",
      "metadata": {
        "id": "9O93SIcZ3xo4",
        "colab_type": "code",
        "colab": {}
      },
      "source": [
        "# CAPA DE CONVOLUCION\n",
        "def conv_layer_1d(input_1d, my_filter): # Expando las dimenciones\n",
        "    input_2d = tf.expand_dims(input_1d, 0)\n",
        "    input_3d = tf.expand_dims(input_2d, 0)\n",
        "    input_4d = tf.expand_dims(input_3d, 3)\n",
        "    convolution = tf.nn.conv2d(input_4d, filter = my_filter, strides = [1,1,1,1], padding=\"VALID\")\n",
        "    output = tf.squeeze(convolution)# para aplanar el resultado\n",
        "    return(output)"
      ],
      "execution_count": 0,
      "outputs": []
    },
    {
      "cell_type": "code",
      "metadata": {
        "id": "gvpbgXfn3xpA",
        "colab_type": "code",
        "colab": {}
      },
      "source": [
        "my_filter = tf.Variable(tf.random_normal(shape=[1,5,1,1]))\n",
        "my_conv_output = conv_layer_1d(x_input_1d, my_filter)"
      ],
      "execution_count": 0,
      "outputs": []
    },
    {
      "cell_type": "code",
      "metadata": {
        "id": "Su8TKwFj3xpH",
        "colab_type": "code",
        "colab": {}
      },
      "source": [
        "def activation(input_1d):\n",
        "    return tf.nn.relu(input_1d)\n",
        "my_activation_output = activation(my_conv_output)"
      ],
      "execution_count": 0,
      "outputs": []
    },
    {
      "cell_type": "code",
      "metadata": {
        "id": "RlNPcI9E3xpO",
        "colab_type": "code",
        "colab": {}
      },
      "source": [
        "# CAPA DE MAX POOL\n",
        "def max_pool(input_1d, width): # Expando las dimenciones\n",
        "    input_2d = tf.expand_dims(input_1d, 0)\n",
        "    input_3d = tf.expand_dims(input_2d, 0)\n",
        "    input_4d = tf.expand_dims(input_3d, 3)\n",
        "    pooling = tf.nn.max_pool(input_4d, ksize=[1,1,width,1], strides=[1,1,1,1], padding=\"VALID\")\n",
        "    output = tf.squeeze(pooling) # para aplanar el resultado\n",
        "    return(output)"
      ],
      "execution_count": 0,
      "outputs": []
    },
    {
      "cell_type": "code",
      "metadata": {
        "id": "lqxjqIS63xpX",
        "colab_type": "code",
        "colab": {}
      },
      "source": [
        "my_maxpool_ouput = max_pool(my_activation_output, width=5)"
      ],
      "execution_count": 0,
      "outputs": []
    },
    {
      "cell_type": "code",
      "metadata": {
        "id": "La9VIktm3xpg",
        "colab_type": "code",
        "colab": {}
      },
      "source": [
        "#CAPA DE FULLY CONECTED\n",
        "def fully_connected(input_layer, num_output):\n",
        "    weight_shape = tf.squeeze(tf.stack([tf.shape(input_layer), [num_output]]))\n",
        "    weight = tf.random_normal(weight_shape, stddev=0.1)\n",
        "    bias = tf.random_normal(shape=[num_output])\n",
        "    input_layer_2d = tf.expand_dims(input_layer,0)\n",
        "    full_output = tf.add(tf.matmul(input_layer_2d, weight), bias)\n",
        "    full_output_1d = tf.squeeze(full_output)\n",
        "    return(full_output_1d)"
      ],
      "execution_count": 0,
      "outputs": []
    },
    {
      "cell_type": "code",
      "metadata": {
        "id": "E-7OKTKt3xpm",
        "colab_type": "code",
        "colab": {}
      },
      "source": [
        "my_full_output = fully_connected(my_maxpool_ouput, 5)"
      ],
      "execution_count": 0,
      "outputs": []
    },
    {
      "cell_type": "code",
      "metadata": {
        "id": "B9fozMQT3xps",
        "colab_type": "code",
        "colab": {}
      },
      "source": [
        "init = tf.global_variables_initializer()\n",
        "session.run(init)"
      ],
      "execution_count": 0,
      "outputs": []
    },
    {
      "cell_type": "code",
      "metadata": {
        "id": "AIJ7hCjy3xpz",
        "colab_type": "code",
        "colab": {}
      },
      "source": [
        "feed_dict = {x_input_1d: data_1d}"
      ],
      "execution_count": 0,
      "outputs": []
    },
    {
      "cell_type": "code",
      "metadata": {
        "id": "u0MRY8DZ3xqB",
        "colab_type": "code",
        "colab": {
          "base_uri": "https://localhost:8080/",
          "height": 108
        },
        "outputId": "c143a397-74a5-4e3b-e528-3bfc9a761abd"
      },
      "source": [
        "data_1d"
      ],
      "execution_count": 17,
      "outputs": [
        {
          "output_type": "execute_result",
          "data": {
            "text/plain": [
              "array([-1.61726888, -1.2193498 ,  0.14061903, -0.51001781, -2.3379341 ,\n",
              "       -0.25664928,  0.85916285,  0.52469564, -0.95995039,  0.93116705,\n",
              "        1.88122448,  1.07597929, -0.40668817, -0.13557741,  0.10961391,\n",
              "       -0.05065995, -0.19606411,  0.97491762, -0.66798195,  0.30129464,\n",
              "       -1.45373693, -0.26006064,  0.45680252, -1.24921309,  0.09392702])"
            ]
          },
          "metadata": {
            "tags": []
          },
          "execution_count": 17
        }
      ]
    },
    {
      "cell_type": "code",
      "metadata": {
        "id": "bCrxA2xS3xqK",
        "colab_type": "code",
        "colab": {
          "base_uri": "https://localhost:8080/",
          "height": 181
        },
        "outputId": "078cad08-3a95-42a7-8141-1c942c7a29bb"
      },
      "source": [
        "session.run(my_filter)"
      ],
      "execution_count": 18,
      "outputs": [
        {
          "output_type": "execute_result",
          "data": {
            "text/plain": [
              "array([[[[ 1.3166825 ]],\n",
              "\n",
              "        [[ 0.55290055]],\n",
              "\n",
              "        [[ 0.5848349 ]],\n",
              "\n",
              "        [[-1.5671657 ]],\n",
              "\n",
              "        [[ 0.4578321 ]]]], dtype=float32)"
            ]
          },
          "metadata": {
            "tags": []
          },
          "execution_count": 18
        }
      ]
    },
    {
      "cell_type": "code",
      "metadata": {
        "id": "FAYpoHHl3xqR",
        "colab_type": "code",
        "colab": {
          "base_uri": "https://localhost:8080/",
          "height": 108
        },
        "outputId": "ac0c8181-d426-442e-9d0b-bbf44b9c6cd6"
      },
      "source": [
        "# Operación de convolución\n",
        "print(\"Input: tamaño 25, Operación: convolución con filtro de tamaño 5 + stride de tamaño 1, Resultado: tamaño 21\")\n",
        "print(session.run(my_conv_output, feed_dict=feed_dict))"
      ],
      "execution_count": 20,
      "outputs": [
        {
          "output_type": "stream",
          "text": [
            "Input: tamaño 25, Operación: convolución con filtro de tamaño 5 + stride de tamaño 1, Resultado: tamaño 21\n",
            "[-2.9924686   1.7204036  -0.66857964 -3.220502   -3.9795308   2.3746858\n",
            "  0.26192856 -1.7508934  -1.521334    3.4707274   3.0966964   0.9175976\n",
            " -0.5567058   0.60607904 -1.8320295   1.5798395  -1.2475268   3.2497196\n",
            " -0.94643307 -1.8469701   0.20998342]\n"
          ],
          "name": "stdout"
        }
      ]
    },
    {
      "cell_type": "code",
      "metadata": {
        "id": "O7LP51EN3xqX",
        "colab_type": "code",
        "colab": {
          "base_uri": "https://localhost:8080/",
          "height": 108
        },
        "outputId": "73c42da7-27f1-412e-dca6-280876b5a254"
      },
      "source": [
        "# Función de activación\n",
        "print(\"Input: tamaño 21, Operación: ReLU al array anterior, Resultado: tamaño 21\")\n",
        "print(session.run(my_activation_output, feed_dict=feed_dict))"
      ],
      "execution_count": 21,
      "outputs": [
        {
          "output_type": "stream",
          "text": [
            "Input: tamaño 21, Operación: ReLU al array anterior, Resultado: tamaño 21\n",
            "[0.         1.7204036  0.         0.         0.         2.3746858\n",
            " 0.26192856 0.         0.         3.4707274  3.0966964  0.9175976\n",
            " 0.         0.60607904 0.         1.5798395  0.         3.2497196\n",
            " 0.         0.         0.20998342]\n"
          ],
          "name": "stdout"
        }
      ]
    },
    {
      "cell_type": "code",
      "metadata": {
        "id": "ly-9OErw3xqd",
        "colab_type": "code",
        "colab": {
          "base_uri": "https://localhost:8080/",
          "height": 90
        },
        "outputId": "9749435f-d49d-458a-8971-fddd3d76e175"
      },
      "source": [
        "# Operción de Max Pooling\n",
        "print(\"Input: tamaño 21, Operación: maxpooling con ventana de tamaño 5 + stride de tamaño 1, Resultado: tamaño 17\")\n",
        "print(session.run(my_maxpool_ouput, feed_dict=feed_dict))"
      ],
      "execution_count": 24,
      "outputs": [
        {
          "output_type": "stream",
          "text": [
            "Input: tamaño 21, Operación: maxpooling con ventana de tamaño 5 + stride de tamaño 1, Resultado: tamaño 17\n",
            "[1.7204036 2.3746858 2.3746858 2.3746858 2.3746858 3.4707274 3.4707274\n",
            " 3.4707274 3.4707274 3.4707274 3.0966964 1.5798395 1.5798395 3.2497196\n",
            " 3.2497196 3.2497196 3.2497196]\n"
          ],
          "name": "stdout"
        }
      ]
    },
    {
      "cell_type": "code",
      "metadata": {
        "id": "sgtS4lG53xqj",
        "colab_type": "code",
        "colab": {
          "base_uri": "https://localhost:8080/",
          "height": 54
        },
        "outputId": "0a49a1ef-1b14-4f1c-8069-5505c32c9e63"
      },
      "source": [
        "# Capa Totalmente Conectada\n",
        "print(\"Input: tamaño 17, Operación de conectar totalmente la entrada con 5 valores de salida, Resultado: tamaño 5\")\n",
        "print(session.run(my_full_output, feed_dict=feed_dict))"
      ],
      "execution_count": 25,
      "outputs": [
        {
          "output_type": "stream",
          "text": [
            "Input: tamaño 17, Operación de conectar totalmente la entrada con 5 valores de salida, Resultado: tamaño 5\n",
            "[-0.24400637 -0.00846422 -0.59755856 -2.2791066   1.1354127 ]\n"
          ],
          "name": "stdout"
        }
      ]
    },
    {
      "cell_type": "markdown",
      "metadata": {
        "id": "eryjy_iQ3xqr",
        "colab_type": "text"
      },
      "source": [
        "### Ejemplo 2D"
      ]
    },
    {
      "cell_type": "code",
      "metadata": {
        "id": "kt8qprnh3xqs",
        "colab_type": "code",
        "colab": {}
      },
      "source": [
        "session = tf.Session()"
      ],
      "execution_count": 0,
      "outputs": []
    },
    {
      "cell_type": "code",
      "metadata": {
        "id": "iDZjjSRm3xqx",
        "colab_type": "code",
        "colab": {}
      },
      "source": [
        "data_size = [10,10] # Defino las variables  matrix de 10x10 \n",
        "data_2d = np.random.normal(size = data_size)\n",
        "x_input_2d = tf.placeholder(dtype=tf.float32, shape=data_size)"
      ],
      "execution_count": 0,
      "outputs": []
    },
    {
      "cell_type": "code",
      "metadata": {
        "id": "SQOnTSJN3xq3",
        "colab_type": "code",
        "colab": {}
      },
      "source": [
        "# Operacion de convolucion\n",
        "def conv_layer_2d(input_2d, my_filter):\n",
        "    input_3d = tf.expand_dims(input_2d, 0)\n",
        "    input_4d = tf.expand_dims(input_3d, 3)\n",
        "    convolution = tf.nn.conv2d(input_4d, filter=my_filter, strides = [1,2,2,1], padding=\"VALID\")\n",
        "    output = tf.squeeze(convolution)\n",
        "    return(output)"
      ],
      "execution_count": 0,
      "outputs": []
    },
    {
      "cell_type": "code",
      "metadata": {
        "id": "tAqejG9k3xq8",
        "colab_type": "code",
        "colab": {}
      },
      "source": [
        "my_filter = tf.Variable(tf.random_normal(shape=[2,2,1,1]))\n",
        "my_conv_output = conv_layer_2d(x_input_2d, my_filter)"
      ],
      "execution_count": 0,
      "outputs": []
    },
    {
      "cell_type": "code",
      "metadata": {
        "id": "QwpAV5763xrC",
        "colab_type": "code",
        "colab": {}
      },
      "source": [
        "# funcion de activacion\n",
        "def activation(input_2d):\n",
        "    return(tf.nn.relu(input_2d))"
      ],
      "execution_count": 0,
      "outputs": []
    },
    {
      "cell_type": "code",
      "metadata": {
        "id": "TkjNuEO13xrH",
        "colab_type": "code",
        "colab": {}
      },
      "source": [
        "my_activation_output = activation(my_conv_output)"
      ],
      "execution_count": 0,
      "outputs": []
    },
    {
      "cell_type": "code",
      "metadata": {
        "id": "meu8gLOh3xrM",
        "colab_type": "code",
        "colab": {}
      },
      "source": [
        "def max_pool(input_2d, width, height):\n",
        "    input_3d = tf.expand_dims(input_2d, 0)\n",
        "    input_4d = tf.expand_dims(input_3d, 3)\n",
        "    pooling = tf.nn.max_pool(input_4d, ksize=[1,height,width,1], strides=[1,1,1,1], padding=\"VALID\")\n",
        "    output = tf.squeeze(pooling)\n",
        "    return(output)"
      ],
      "execution_count": 0,
      "outputs": []
    },
    {
      "cell_type": "code",
      "metadata": {
        "id": "y8CyVmee3xrS",
        "colab_type": "code",
        "colab": {}
      },
      "source": [
        "my_maxpool_ouput = max_pool(my_activation_output, width=2, height=2)"
      ],
      "execution_count": 0,
      "outputs": []
    },
    {
      "cell_type": "code",
      "metadata": {
        "id": "OsVFcnSa3xrc",
        "colab_type": "code",
        "colab": {}
      },
      "source": [
        "def fully_connected(input_layer, num_output):\n",
        "    flat_input = tf.reshape(input_layer, [-1])\n",
        "    weight_shape = tf.squeeze(tf.stack([tf.shape(flat_input), [num_output]]))\n",
        "    weight = tf.random_normal(weight_shape, stddev=0.1)\n",
        "    bias = tf.random_normal(shape=[num_output])\n",
        "    input_layer_2d = tf.expand_dims(flat_input,0)\n",
        "    full_output = tf.add(tf.matmul(input_layer_2d, weight), bias)\n",
        "    full_output_1d = tf.squeeze(full_output)\n",
        "    return(full_output_1d)"
      ],
      "execution_count": 0,
      "outputs": []
    },
    {
      "cell_type": "code",
      "metadata": {
        "id": "InWygUkk3xrh",
        "colab_type": "code",
        "colab": {}
      },
      "source": [
        "my_full_output = fully_connected(my_maxpool_ouput, 5)"
      ],
      "execution_count": 0,
      "outputs": []
    },
    {
      "cell_type": "code",
      "metadata": {
        "id": "5gqpXRXl3xrm",
        "colab_type": "code",
        "colab": {}
      },
      "source": [
        "init = tf.global_variables_initializer()\n",
        "session.run(init)"
      ],
      "execution_count": 0,
      "outputs": []
    },
    {
      "cell_type": "code",
      "metadata": {
        "id": "mwYKMPgF3xrr",
        "colab_type": "code",
        "colab": {}
      },
      "source": [
        "feed_dict = {x_input_2d: data_2d}"
      ],
      "execution_count": 0,
      "outputs": []
    },
    {
      "cell_type": "code",
      "metadata": {
        "id": "zNbTnws43xry",
        "colab_type": "code",
        "colab": {
          "base_uri": "https://localhost:8080/",
          "height": 381
        },
        "outputId": "887bd00f-2a7e-4a80-c4af-0196acd5251b"
      },
      "source": [
        "data_2d"
      ],
      "execution_count": 40,
      "outputs": [
        {
          "output_type": "execute_result",
          "data": {
            "text/plain": [
              "array([[-1.57786905, -0.8925134 , -1.82861835,  1.47669137,  1.29035429,\n",
              "         0.70158705, -1.30698668, -0.03468009, -0.34565806, -0.55014821],\n",
              "       [-0.34750069,  2.23079769,  0.48136414,  1.61382821, -0.88852339,\n",
              "         0.59607236, -2.33019196, -1.37138319,  0.79335721,  0.31710252],\n",
              "       [ 1.28482351, -0.03413729,  0.26152285,  0.69857255,  0.4504426 ,\n",
              "        -0.96112054, -1.06962072, -0.86364201,  0.02486261, -1.43372643],\n",
              "       [ 0.25403643,  0.28984598,  0.75975712, -0.42827294, -1.41419828,\n",
              "        -0.56150306, -0.76056631,  0.84573065,  2.07105045, -0.60685941],\n",
              "       [ 1.13062963, -1.10488586, -0.84163777, -1.56806842, -1.24429712,\n",
              "         0.1907664 ,  2.41512398, -0.68046141, -1.91013148, -0.20283875],\n",
              "       [ 0.55163484, -0.19099095,  0.66930829,  1.14551258,  1.13943175,\n",
              "        -0.36397595,  1.43199114, -1.96945234, -0.18184546,  1.38318944],\n",
              "       [ 0.0674058 ,  0.94275723,  0.51578169, -1.45809749, -0.10406067,\n",
              "         0.36799364, -0.43464492, -0.31212797, -0.19735273,  1.05227539],\n",
              "       [ 0.24322324,  1.44403897, -0.86942446, -0.46844777, -1.0676943 ,\n",
              "         0.12871148,  0.89631204,  2.40483629, -1.03560512, -0.5973035 ],\n",
              "       [-0.71863903,  0.8705453 ,  1.0183688 , -0.65542868, -0.07076336,\n",
              "        -0.56026619,  0.18473516, -0.87426794, -0.63621693, -0.1615866 ],\n",
              "       [ 0.77246668, -0.27274807,  1.18314156,  0.09403916, -1.47497368,\n",
              "        -0.10216306, -0.73613338, -0.92899731, -1.46754356, -1.26573162]])"
            ]
          },
          "metadata": {
            "tags": []
          },
          "execution_count": 40
        }
      ]
    },
    {
      "cell_type": "code",
      "metadata": {
        "id": "061PC2KY3xr4",
        "colab_type": "code",
        "colab": {
          "base_uri": "https://localhost:8080/",
          "height": 163
        },
        "outputId": "1725a315-8dbf-4a61-f4e0-d099e9485ebd"
      },
      "source": [
        "session.run(my_filter)"
      ],
      "execution_count": 41,
      "outputs": [
        {
          "output_type": "execute_result",
          "data": {
            "text/plain": [
              "array([[[[-0.13213387]],\n",
              "\n",
              "        [[-1.085194  ]]],\n",
              "\n",
              "\n",
              "       [[[-2.8135052 ]],\n",
              "\n",
              "        [[-1.2922696 ]]]], dtype=float32)"
            ]
          },
          "metadata": {
            "tags": []
          },
          "execution_count": 41
        }
      ]
    },
    {
      "cell_type": "code",
      "metadata": {
        "id": "4hoVnmAX3xr8",
        "colab_type": "code",
        "colab": {
          "base_uri": "https://localhost:8080/",
          "height": 126
        },
        "outputId": "b393d458-ad9b-4222-cc5f-9508dad65d5f"
      },
      "source": [
        "# Operación de convolución\n",
        "print(\"Input: tamaño 10x10, Operación: convolución con filtro de tamaño 2x2 + stride de tamaño 2x2, Resultado: tamaño 5x5\")\n",
        "print(session.run(my_conv_output, feed_dict=feed_dict))"
      ],
      "execution_count": 42,
      "outputs": [
        {
          "output_type": "stream",
          "text": [
            "Input: tamaño 10x10, Operación: convolución con filtro de tamaño 2x2 + stride de tamaño 2x2, Resultado: tamaño 5x5\n",
            "[[-0.728057   -4.800696    0.7977214   8.538535   -1.9992058 ]\n",
            " [-1.2220151  -2.376779    5.687951    2.1254976  -3.4900992 ]\n",
            " [-0.25559473 -1.5505462  -2.7780468  -1.0645378  -0.8033181 ]\n",
            " [-3.5823784   4.5656576   2.4520388  -5.2333245   2.5697112 ]\n",
            " [-2.670629   -2.8735926   4.899216    4.1959705   6.024027  ]]\n"
          ],
          "name": "stdout"
        }
      ]
    },
    {
      "cell_type": "code",
      "metadata": {
        "id": "h3Zb9oFO3xsC",
        "colab_type": "code",
        "colab": {
          "base_uri": "https://localhost:8080/",
          "height": 126
        },
        "outputId": "20cc8a2f-aa2d-46b1-ea33-1becfaa56898"
      },
      "source": [
        "# Función de activación (los negativos se hacen ceros)\n",
        "print(\"Input: tamaño 5x5, Operación: ReLU al array anterior, Resultado: tamaño 5x5\")\n",
        "print(session.run(my_activation_output, feed_dict=feed_dict))"
      ],
      "execution_count": 46,
      "outputs": [
        {
          "output_type": "stream",
          "text": [
            "Input: tamaño 5x5, Operación: ReLU al array anterior, Resultado: tamaño 5x5\n",
            "[[0.        0.        0.7977214 8.538535  0.       ]\n",
            " [0.        0.        5.687951  2.1254976 0.       ]\n",
            " [0.        0.        0.        0.        0.       ]\n",
            " [0.        4.5656576 2.4520388 0.        2.5697112]\n",
            " [0.        0.        4.899216  4.1959705 6.024027 ]]\n"
          ],
          "name": "stdout"
        }
      ]
    },
    {
      "cell_type": "code",
      "metadata": {
        "id": "eTEcocPW3xsH",
        "colab_type": "code",
        "colab": {
          "base_uri": "https://localhost:8080/",
          "height": 108
        },
        "outputId": "c1e59b16-a4a6-40d6-d2f7-5a6142e12640"
      },
      "source": [
        "# Operción de Max Pooling \n",
        "print(\"Input: tamaño 5x5, Operación: maxpooling con ventana de tamaño 2x2 + stride de tamaño 1, Resultado: tamaño 4x4\")\n",
        "print(session.run(my_maxpool_ouput, feed_dict=feed_dict))"
      ],
      "execution_count": 47,
      "outputs": [
        {
          "output_type": "stream",
          "text": [
            "Input: tamaño 5x5, Operación: maxpooling con ventana de tamaño 2x2 + stride de tamaño 1, Resultado: tamaño 4x4\n",
            "[[0.        5.687951  8.538535  8.538535 ]\n",
            " [0.        5.687951  5.687951  2.1254976]\n",
            " [4.5656576 4.5656576 2.4520388 2.5697112]\n",
            " [4.5656576 4.899216  4.899216  6.024027 ]]\n"
          ],
          "name": "stdout"
        }
      ]
    },
    {
      "cell_type": "code",
      "metadata": {
        "id": "e08Dftbl3xsM",
        "colab_type": "code",
        "colab": {
          "base_uri": "https://localhost:8080/",
          "height": 54
        },
        "outputId": "371dbe20-82ec-40a5-e082-91c2482e4e13"
      },
      "source": [
        "# Capa Totalmente Conectada\n",
        "print(\"Input: tamaño 4x4, Operación de conectar totalmente la entrada con 5 valores de salida, Resultado: tamaño 5\")\n",
        "print(session.run(my_full_output, feed_dict=feed_dict))"
      ],
      "execution_count": 48,
      "outputs": [
        {
          "output_type": "stream",
          "text": [
            "Input: tamaño 4x4, Operación de conectar totalmente la entrada con 5 valores de salida, Resultado: tamaño 5\n",
            "[ 1.0922222 -0.6171654 -3.525567  -2.264947   1.0860363]\n"
          ],
          "name": "stdout"
        }
      ]
    },
    {
      "cell_type": "code",
      "metadata": {
        "id": "TxgrgGgF3xsW",
        "colab_type": "code",
        "colab": {}
      },
      "source": [
        ""
      ],
      "execution_count": 0,
      "outputs": []
    }
  ]
}