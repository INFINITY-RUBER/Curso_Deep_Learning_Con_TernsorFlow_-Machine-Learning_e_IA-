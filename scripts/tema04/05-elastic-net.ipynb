{
  "nbformat": 4,
  "nbformat_minor": 0,
  "metadata": {
    "kernelspec": {
      "display_name": "Python 3",
      "language": "python",
      "name": "python3"
    },
    "language_info": {
      "codemirror_mode": {
        "name": "ipython",
        "version": 3
      },
      "file_extension": ".py",
      "mimetype": "text/x-python",
      "name": "python",
      "nbconvert_exporter": "python",
      "pygments_lexer": "ipython3",
      "version": "3.5.5"
    },
    "colab": {
      "name": "05-elastic-net.ipynb",
      "provenance": [],
      "include_colab_link": true
    }
  },
  "cells": [
    {
      "cell_type": "markdown",
      "metadata": {
        "id": "view-in-github",
        "colab_type": "text"
      },
      "source": [
        "<a href=\"https://colab.research.google.com/github/INFINITY-RUBER/Curso_Deep_Learning_Con_TernsorFlow_Machine-Learning_e_IA-/blob/master/scripts/tema04/05-elastic-net.ipynb\" target=\"_parent\"><img src=\"https://colab.research.google.com/assets/colab-badge.svg\" alt=\"Open In Colab\"/></a>"
      ]
    },
    {
      "cell_type": "code",
      "metadata": {
        "id": "9w68L1Ralc-o",
        "colab_type": "code",
        "colab": {
          "base_uri": "https://localhost:8080/",
          "height": 746
        },
        "outputId": "e92be9de-0ce4-4302-fb47-50783d058a01"
      },
      "source": [
        "!pip install tensorflow==1.14"
      ],
      "execution_count": 1,
      "outputs": [
        {
          "output_type": "stream",
          "text": [
            "Collecting tensorflow==1.14\n",
            "\u001b[?25l  Downloading https://files.pythonhosted.org/packages/de/f0/96fb2e0412ae9692dbf400e5b04432885f677ad6241c088ccc5fe7724d69/tensorflow-1.14.0-cp36-cp36m-manylinux1_x86_64.whl (109.2MB)\n",
            "\u001b[K     |████████████████████████████████| 109.2MB 67kB/s \n",
            "\u001b[?25hRequirement already satisfied: wheel>=0.26 in /usr/local/lib/python3.6/dist-packages (from tensorflow==1.14) (0.34.2)\n",
            "Requirement already satisfied: gast>=0.2.0 in /usr/local/lib/python3.6/dist-packages (from tensorflow==1.14) (0.3.3)\n",
            "Requirement already satisfied: numpy<2.0,>=1.14.5 in /usr/local/lib/python3.6/dist-packages (from tensorflow==1.14) (1.18.4)\n",
            "Collecting tensorflow-estimator<1.15.0rc0,>=1.14.0rc0\n",
            "\u001b[?25l  Downloading https://files.pythonhosted.org/packages/3c/d5/21860a5b11caf0678fbc8319341b0ae21a07156911132e0e71bffed0510d/tensorflow_estimator-1.14.0-py2.py3-none-any.whl (488kB)\n",
            "\u001b[K     |████████████████████████████████| 491kB 31.4MB/s \n",
            "\u001b[?25hRequirement already satisfied: protobuf>=3.6.1 in /usr/local/lib/python3.6/dist-packages (from tensorflow==1.14) (3.10.0)\n",
            "Collecting tensorboard<1.15.0,>=1.14.0\n",
            "\u001b[?25l  Downloading https://files.pythonhosted.org/packages/91/2d/2ed263449a078cd9c8a9ba50ebd50123adf1f8cfbea1492f9084169b89d9/tensorboard-1.14.0-py3-none-any.whl (3.1MB)\n",
            "\u001b[K     |████████████████████████████████| 3.2MB 40.3MB/s \n",
            "\u001b[?25hRequirement already satisfied: termcolor>=1.1.0 in /usr/local/lib/python3.6/dist-packages (from tensorflow==1.14) (1.1.0)\n",
            "Requirement already satisfied: keras-applications>=1.0.6 in /usr/local/lib/python3.6/dist-packages (from tensorflow==1.14) (1.0.8)\n",
            "Requirement already satisfied: google-pasta>=0.1.6 in /usr/local/lib/python3.6/dist-packages (from tensorflow==1.14) (0.2.0)\n",
            "Requirement already satisfied: absl-py>=0.7.0 in /usr/local/lib/python3.6/dist-packages (from tensorflow==1.14) (0.9.0)\n",
            "Requirement already satisfied: wrapt>=1.11.1 in /usr/local/lib/python3.6/dist-packages (from tensorflow==1.14) (1.12.1)\n",
            "Requirement already satisfied: six>=1.10.0 in /usr/local/lib/python3.6/dist-packages (from tensorflow==1.14) (1.12.0)\n",
            "Requirement already satisfied: keras-preprocessing>=1.0.5 in /usr/local/lib/python3.6/dist-packages (from tensorflow==1.14) (1.1.2)\n",
            "Requirement already satisfied: astor>=0.6.0 in /usr/local/lib/python3.6/dist-packages (from tensorflow==1.14) (0.8.1)\n",
            "Requirement already satisfied: grpcio>=1.8.6 in /usr/local/lib/python3.6/dist-packages (from tensorflow==1.14) (1.29.0)\n",
            "Requirement already satisfied: setuptools in /usr/local/lib/python3.6/dist-packages (from protobuf>=3.6.1->tensorflow==1.14) (46.3.0)\n",
            "Requirement already satisfied: werkzeug>=0.11.15 in /usr/local/lib/python3.6/dist-packages (from tensorboard<1.15.0,>=1.14.0->tensorflow==1.14) (1.0.1)\n",
            "Requirement already satisfied: markdown>=2.6.8 in /usr/local/lib/python3.6/dist-packages (from tensorboard<1.15.0,>=1.14.0->tensorflow==1.14) (3.2.2)\n",
            "Requirement already satisfied: h5py in /usr/local/lib/python3.6/dist-packages (from keras-applications>=1.0.6->tensorflow==1.14) (2.10.0)\n",
            "Requirement already satisfied: importlib-metadata; python_version < \"3.8\" in /usr/local/lib/python3.6/dist-packages (from markdown>=2.6.8->tensorboard<1.15.0,>=1.14.0->tensorflow==1.14) (1.6.0)\n",
            "Requirement already satisfied: zipp>=0.5 in /usr/local/lib/python3.6/dist-packages (from importlib-metadata; python_version < \"3.8\"->markdown>=2.6.8->tensorboard<1.15.0,>=1.14.0->tensorflow==1.14) (3.1.0)\n",
            "Installing collected packages: tensorflow-estimator, tensorboard, tensorflow\n",
            "  Found existing installation: tensorflow-estimator 2.2.0\n",
            "    Uninstalling tensorflow-estimator-2.2.0:\n",
            "      Successfully uninstalled tensorflow-estimator-2.2.0\n",
            "  Found existing installation: tensorboard 2.2.1\n",
            "    Uninstalling tensorboard-2.2.1:\n",
            "      Successfully uninstalled tensorboard-2.2.1\n",
            "  Found existing installation: tensorflow 2.2.0\n",
            "    Uninstalling tensorflow-2.2.0:\n",
            "      Successfully uninstalled tensorflow-2.2.0\n",
            "Successfully installed tensorboard-1.14.0 tensorflow-1.14.0 tensorflow-estimator-1.14.0\n"
          ],
          "name": "stdout"
        }
      ]
    },
    {
      "cell_type": "markdown",
      "metadata": {
        "id": "pIy0NhzjlblX",
        "colab_type": "text"
      },
      "source": [
        "# Elastic Net"
      ]
    },
    {
      "cell_type": "code",
      "metadata": {
        "id": "6AljP1u_lbla",
        "colab_type": "code",
        "colab": {}
      },
      "source": [
        "import matplotlib.pyplot as plt\n",
        "import numpy as np\n",
        "import tensorflow as tf\n",
        "from sklearn import datasets\n",
        "session = tf.Session()\n",
        "iris = datasets.load_iris()"
      ],
      "execution_count": 0,
      "outputs": []
    },
    {
      "cell_type": "code",
      "metadata": {
        "id": "-PHTyBHLmiMJ",
        "colab_type": "code",
        "colab": {
          "base_uri": "https://localhost:8080/",
          "height": 35
        },
        "outputId": "ca6d80a7-5f80-4fd8-b7a5-f67137336734"
      },
      "source": [
        "iris.data[0]"
      ],
      "execution_count": 12,
      "outputs": [
        {
          "output_type": "execute_result",
          "data": {
            "text/plain": [
              "array([5.1, 3.5, 1.4, 0.2])"
            ]
          },
          "metadata": {
            "tags": []
          },
          "execution_count": 12
        }
      ]
    },
    {
      "cell_type": "code",
      "metadata": {
        "id": "S0A9hSLDlblj",
        "colab_type": "code",
        "colab": {}
      },
      "source": [
        "x_vals = np.array([[x[1], x[2], x[3]] for x in iris.data])\n",
        "y_vals = np.array([x[0] for x in iris.data])"
      ],
      "execution_count": 0,
      "outputs": []
    },
    {
      "cell_type": "code",
      "metadata": {
        "id": "FLnx0Yp7mEhm",
        "colab_type": "code",
        "colab": {
          "base_uri": "https://localhost:8080/",
          "height": 54
        },
        "outputId": "8a388e21-d61e-42f2-b5ec-53e64b77afb9"
      },
      "source": [
        "print(x_vals[0])\n",
        "print(y_vals[0])"
      ],
      "execution_count": 8,
      "outputs": [
        {
          "output_type": "stream",
          "text": [
            "[3.5 1.4 0.2]\n",
            "5.1\n"
          ],
          "name": "stdout"
        }
      ]
    },
    {
      "cell_type": "markdown",
      "metadata": {
        "id": "evjkZPTVlblq",
        "colab_type": "text"
      },
      "source": [
        "- $x\\in\\mathbb R^3$\n",
        "- $A \\in \\mathbb R_{3\\times 1}$\n",
        "- $y = Ax+b\\in \\mathbb R$"
      ]
    },
    {
      "cell_type": "code",
      "metadata": {
        "id": "ObvW10s6lblr",
        "colab_type": "code",
        "colab": {}
      },
      "source": [
        "batch_size = 50\n",
        "learning_rate = 0.001\n",
        "x_data = tf.placeholder(shape=[None, 3], dtype = tf.float32)\n",
        "y_target = tf.placeholder(shape = [None, 1], dtype = tf.float32)\n",
        "A = tf.Variable(tf.random_normal(shape = [3,1]))\n",
        "b = tf.Variable(tf.random_normal(shape = [1,1]))\n",
        "y_pred = tf.add(tf.matmul(x_data, A), b)"
      ],
      "execution_count": 0,
      "outputs": []
    },
    {
      "cell_type": "markdown",
      "metadata": {
        "id": "T_yS8IfJlblx",
        "colab_type": "text"
      },
      "source": [
        "$$Loss = \\sum\\frac{(y_r-y_p)^2}{n} + \\alpha \\cdot |A| + \\beta \\cdot A^2$$"
      ]
    },
    {
      "cell_type": "code",
      "metadata": {
        "id": "UZ4I2qrElblz",
        "colab_type": "code",
        "colab": {}
      },
      "source": [
        "elastic_param1 = tf.constant(1.0)\n",
        "elastic_param2 = tf.constant(1.0)\n",
        "l1_a_loss = tf.reduce_mean(tf.abs(A))\n",
        "l2_a_loss = tf.reduce_mean(tf.square(A))\n",
        "e1_term = tf.multiply(elastic_param1, l1_a_loss)\n",
        "e2_term = tf.multiply(elastic_param2, l2_a_loss)\n",
        "loss = tf.expand_dims(tf.add(tf.add(tf.reduce_mean(tf.square(y_target- y_pred)),e1_term), e2_term), 0)"
      ],
      "execution_count": 0,
      "outputs": []
    },
    {
      "cell_type": "code",
      "metadata": {
        "id": "YYVZL0_Mlbl6",
        "colab_type": "code",
        "colab": {}
      },
      "source": [
        "init = tf.global_variables_initializer()\n",
        "session.run(init)"
      ],
      "execution_count": 0,
      "outputs": []
    },
    {
      "cell_type": "code",
      "metadata": {
        "id": "3xSJep4llbmB",
        "colab_type": "code",
        "colab": {}
      },
      "source": [
        "my_opt = tf.train.GradientDescentOptimizer(learning_rate=learning_rate)\n",
        "train_step = my_opt.minimize(loss)"
      ],
      "execution_count": 0,
      "outputs": []
    },
    {
      "cell_type": "code",
      "metadata": {
        "id": "E_sZjET6lbmK",
        "colab_type": "code",
        "colab": {
          "base_uri": "https://localhost:8080/",
          "height": 563
        },
        "outputId": "1e7f4d8b-c7b3-4288-c98c-9ff5182e5e1e"
      },
      "source": [
        "loss_vec = []\n",
        "for i in range(1000):\n",
        "    rand_idx = np.random.choice(len(x_vals), size=batch_size)\n",
        "    rand_x = x_vals[rand_idx]\n",
        "    rand_y = np.transpose([y_vals[rand_idx]])\n",
        "    session.run(train_step, feed_dict={x_data : rand_x, y_target: rand_y})\n",
        "    temp_loss = session.run(loss, feed_dict={x_data: rand_x, y_target: rand_y})\n",
        "    loss_vec.append(temp_loss[0])\n",
        "    if(i+1)%100==0:\n",
        "        print(\"Paso #\"+str(i+1)+\" A = \"+str(session.run(A))+\", b = \"+str(session.run(b))+\n",
        "             \" Loss: \"+str(temp_loss))"
      ],
      "execution_count": 20,
      "outputs": [
        {
          "output_type": "stream",
          "text": [
            "Paso #100 A = [[ 0.9368327 ]\n",
            " [ 0.8294003 ]\n",
            " [-0.17005166]], b = [[-0.18693948]] Loss: [1.6755357]\n",
            "Paso #200 A = [[ 0.9831819 ]\n",
            " [ 0.777062  ]\n",
            " [-0.13371709]], b = [[-0.1409113]] Loss: [1.4798691]\n",
            "Paso #300 A = [[ 1.0148324 ]\n",
            " [ 0.7347902 ]\n",
            " [-0.09584964]], b = [[-0.0981079]] Loss: [1.3816671]\n",
            "Paso #400 A = [[ 1.0314344 ]\n",
            " [ 0.70131016]\n",
            " [-0.05685319]], b = [[-0.05862595]] Loss: [1.3686379]\n",
            "Paso #500 A = [[ 1.0412349 ]\n",
            " [ 0.66826904]\n",
            " [-0.02083863]], b = [[-0.02074471]] Loss: [1.3454428]\n",
            "Paso #600 A = [[1.0465577e+00]\n",
            " [6.4770472e-01]\n",
            " [1.8504937e-04]], b = [[0.01614902]] Loss: [1.316169]\n",
            "Paso #700 A = [[ 1.0521135e+00]\n",
            " [ 6.3514072e-01]\n",
            " [-3.2619337e-04]], b = [[0.05344139]] Loss: [1.2554274]\n",
            "Paso #800 A = [[1.0510635e+00]\n",
            " [6.2726295e-01]\n",
            " [5.0282863e-05]], b = [[0.08930372]] Loss: [1.2569795]\n",
            "Paso #900 A = [[1.0480843e+00]\n",
            " [6.1951196e-01]\n",
            " [4.3969456e-05]], b = [[0.12460823]] Loss: [1.2928103]\n",
            "Paso #1000 A = [[1.0463934e+00]\n",
            " [6.1647731e-01]\n",
            " [2.2877367e-04]], b = [[0.16022378]] Loss: [1.242308]\n"
          ],
          "name": "stdout"
        }
      ]
    },
    {
      "cell_type": "code",
      "metadata": {
        "id": "SFrzottMlbmS",
        "colab_type": "code",
        "colab": {
          "base_uri": "https://localhost:8080/",
          "height": 35
        },
        "outputId": "0696bb5c-7c58-419b-f96c-99a8f40eb4a8"
      },
      "source": [
        "slope = session.run(A)\n",
        "[[intercept]] = session.run(b)\n",
        "print(\"y=\"+str(slope[0][0])+\"x1 + \"+str(slope[1][0])+\"x2 + \"+str(slope[2][0])+\"x3 + \"+str(intercept))"
      ],
      "execution_count": 22,
      "outputs": [
        {
          "output_type": "stream",
          "text": [
            "y=1.0463934x1 + 0.6164773x2 + 0.00022877367x3 + 0.16022378\n"
          ],
          "name": "stdout"
        }
      ]
    },
    {
      "cell_type": "code",
      "metadata": {
        "id": "uAe5nHeOlbmZ",
        "colab_type": "code",
        "colab": {
          "base_uri": "https://localhost:8080/",
          "height": 295
        },
        "outputId": "fb686fc8-164e-451f-a2e9-93090498b9d5"
      },
      "source": [
        "plt.plot(loss_vec, 'k-')\n",
        "plt.title(\"Regresión de la Red Elástica\")\n",
        "plt.xlabel(\"Iteración\")\n",
        "plt.ylabel(\"Pérdida\")\n",
        "plt.show()"
      ],
      "execution_count": 23,
      "outputs": [
        {
          "output_type": "display_data",
          "data": {
            "image/png": "[encoded data removed]",
            "text/plain": [
              "<Figure size 432x288 with 1 Axes>"
            ]
          },
          "metadata": {
            "tags": [],
            "needs_background": "light"
          }
        }
      ]
    },
    {
      "cell_type": "code",
      "metadata": {
        "id": "koRq8_xvlbmg",
        "colab_type": "code",
        "colab": {}
      },
      "source": [
        ""
      ],
      "execution_count": 0,
      "outputs": []
    }
  ]
}