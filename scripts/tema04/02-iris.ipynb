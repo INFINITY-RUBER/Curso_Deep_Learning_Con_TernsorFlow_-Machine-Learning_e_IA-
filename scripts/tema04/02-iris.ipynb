{
  "nbformat": 4,
  "nbformat_minor": 0,
  "metadata": {
    "kernelspec": {
      "display_name": "Python 3",
      "language": "python",
      "name": "python3"
    },
    "language_info": {
      "codemirror_mode": {
        "name": "ipython",
        "version": 3
      },
      "file_extension": ".py",
      "mimetype": "text/x-python",
      "name": "python",
      "nbconvert_exporter": "python",
      "pygments_lexer": "ipython3",
      "version": "3.5.5"
    },
    "colab": {
      "name": "02-iris.ipynb",
      "provenance": [],
      "include_colab_link": true
    }
  },
  "cells": [
    {
      "cell_type": "markdown",
      "metadata": {
        "id": "view-in-github",
        "colab_type": "text"
      },
      "source": [
        "<a href=\"https://colab.research.google.com/github/INFINITY-RUBER/Curso_Deep_Learning_Con_TernsorFlow_Machine-Learning_e_IA-/blob/master/scripts/tema04/02-iris.ipynb\" target=\"_parent\"><img src=\"https://colab.research.google.com/assets/colab-badge.svg\" alt=\"Open In Colab\"/></a>"
      ]
    },
    {
      "cell_type": "code",
      "metadata": {
        "id": "63MXk9QReDa2",
        "colab_type": "code",
        "colab": {}
      },
      "source": [
        "!pip install tensorflow==1.14"
      ],
      "execution_count": 0,
      "outputs": []
    },
    {
      "cell_type": "markdown",
      "metadata": {
        "id": "9j-4rI5CdkfP",
        "colab_type": "text"
      },
      "source": [
        "# Predicción de la longitud del sépalo en función de la anchura del pétalo "
      ]
    },
    {
      "cell_type": "code",
      "metadata": {
        "id": "nwtNiPLmdkfR",
        "colab_type": "code",
        "colab": {}
      },
      "source": [
        "import matplotlib.pyplot as plt\n",
        "import numpy as np\n",
        "import tensorflow as tf\n",
        "from sklearn import datasets"
      ],
      "execution_count": 0,
      "outputs": []
    },
    {
      "cell_type": "code",
      "metadata": {
        "id": "cyV2xqwTdkfa",
        "colab_type": "code",
        "colab": {}
      },
      "source": [
        "session = tf.Session()\n",
        "iris = datasets.load_iris()"
      ],
      "execution_count": 0,
      "outputs": []
    },
    {
      "cell_type": "code",
      "metadata": {
        "id": "T5-YSIcydkfg",
        "colab_type": "code",
        "colab": {}
      },
      "source": [
        "x_vals = np.array([x[3] for x in iris.data])\n",
        "y_vals = np.array([x[0] for x in iris.data])"
      ],
      "execution_count": 0,
      "outputs": []
    },
    {
      "cell_type": "code",
      "metadata": {
        "id": "kc750MAzdkfo",
        "colab_type": "code",
        "colab": {
          "base_uri": "https://localhost:8080/",
          "height": 283
        },
        "outputId": "534e6986-91c3-47ab-e71c-7bef3a32ef8b"
      },
      "source": [
        "plt.plot(x_vals, y_vals, 'o', label = \"Datos\")"
      ],
      "execution_count": 22,
      "outputs": [
        {
          "output_type": "execute_result",
          "data": {
            "text/plain": [
              "[<matplotlib.lines.Line2D at 0x7f53ac291f28>]"
            ]
          },
          "metadata": {
            "tags": []
          },
          "execution_count": 22
        },
        {
          "output_type": "display_data",
          "data": {
            "image/png": "[encoded data removed]",
            "text/plain": [
              "<Figure size 432x288 with 1 Axes>"
            ]
          },
          "metadata": {
            "tags": [],
            "needs_background": "light"
          }
        }
      ]
    },
    {
      "cell_type": "code",
      "metadata": {
        "id": "4ory8wm6dkfx",
        "colab_type": "code",
        "colab": {}
      },
      "source": [
        "learning_rate = 0.05\n",
        "batch_size = 25\n",
        "x_data = tf.placeholder(shape=[None, 1], dtype=tf.float32)\n",
        "y_target = tf.placeholder(shape=[None, 1], dtype = tf.float32)\n",
        "A = tf.Variable(tf.random_normal(shape=[1,1]))\n",
        "b = tf.Variable(tf.random_normal(shape=[1,1]))"
      ],
      "execution_count": 0,
      "outputs": []
    },
    {
      "cell_type": "markdown",
      "metadata": {
        "id": "4hUcIrDOdkf9",
        "colab_type": "text"
      },
      "source": [
        "$$y = Ax+b$$"
      ]
    },
    {
      "cell_type": "code",
      "metadata": {
        "id": "8xiYu7Qbdkf-",
        "colab_type": "code",
        "colab": {}
      },
      "source": [
        "y_predict = tf.add(tf.matmul(x_data, A), b)"
      ],
      "execution_count": 0,
      "outputs": []
    },
    {
      "cell_type": "code",
      "metadata": {
        "id": "ZkMCsyjKdkgG",
        "colab_type": "code",
        "colab": {}
      },
      "source": [
        "# funcion de perdida\n",
        "loss_l2 = tf.reduce_mean(tf.square(y_target-y_predict))\n",
        "my_optim = tf.train.GradientDescentOptimizer(learning_rate=learning_rate)\n",
        "train_step = my_optim.minimize(loss_l2)\n",
        "init = tf.global_variables_initializer()\n",
        "session.run(init)"
      ],
      "execution_count": 0,
      "outputs": []
    },
    {
      "cell_type": "code",
      "metadata": {
        "id": "zZkPvkO_dkgN",
        "colab_type": "code",
        "colab": {
          "base_uri": "https://localhost:8080/",
          "height": 199
        },
        "outputId": "b5adf078-ae0e-4795-942a-0c159582ddad"
      },
      "source": [
        "loss_vect_l2 = []\n",
        "for i in range(100):\n",
        "    rand_idx = np.random.choice(len(x_vals), size = batch_size)\n",
        "    rand_x = np.transpose([x_vals[rand_idx]])\n",
        "    rand_y = np.transpose([y_vals[rand_idx]])\n",
        "\n",
        "    session.run(train_step, feed_dict={x_data: rand_x, y_target: rand_y})\n",
        "    temp_loss = session.run(loss_l2, feed_dict={x_data:rand_x, y_target: rand_y})\n",
        "    loss_vect_l2.append(temp_loss)\n",
        "    if(i+1)%10==0:\n",
        "        print(\"Paso #\"+str(i+1)+\", A=\"+str(session.run(A))+\", b=\"+str(session.run(b))+\n",
        "             \", Loss = \"+str(temp_loss))"
      ],
      "execution_count": 26,
      "outputs": [
        {
          "output_type": "stream",
          "text": [
            "Paso #10, A=[[2.5492525]], b=[[2.3117428]], Loss = 1.7466697\n",
            "Paso #20, A=[[2.2585633]], b=[[2.774118]], Loss = 1.6553013\n",
            "Paso #30, A=[[2.021819]], b=[[3.167924]], Loss = 1.1014488\n",
            "Paso #40, A=[[1.7093121]], b=[[3.3710158]], Loss = 0.9282711\n",
            "Paso #50, A=[[1.6751372]], b=[[3.6855166]], Loss = 0.3318911\n",
            "Paso #60, A=[[1.4744498]], b=[[3.8577387]], Loss = 0.3032866\n",
            "Paso #70, A=[[1.4027159]], b=[[4.043538]], Loss = 0.41470805\n",
            "Paso #80, A=[[1.3269751]], b=[[4.2035213]], Loss = 0.33504584\n",
            "Paso #90, A=[[1.2158394]], b=[[4.3220987]], Loss = 0.24465269\n",
            "Paso #100, A=[[1.1093477]], b=[[4.384291]], Loss = 0.20622438\n"
          ],
          "name": "stdout"
        }
      ]
    },
    {
      "cell_type": "code",
      "metadata": {
        "id": "dlocbhbudkgT",
        "colab_type": "code",
        "colab": {}
      },
      "source": [
        "[[slope]] = session.run(A)# valor de la pendiente\n",
        "[[intercept]] = session.run(b)# la oredenada en el origen\n"
      ],
      "execution_count": 0,
      "outputs": []
    },
    {
      "cell_type": "code",
      "metadata": {
        "id": "Uh5RAzmadkgZ",
        "colab_type": "code",
        "colab": {
          "base_uri": "https://localhost:8080/",
          "height": 35
        },
        "outputId": "e37222a6-915c-4402-f8b0-dd965acb7a50"
      },
      "source": [
        "print(str(slope)+\"x + \"+str(intercept))"
      ],
      "execution_count": 29,
      "outputs": [
        {
          "output_type": "stream",
          "text": [
            "1.1093477x + 4.384291\n"
          ],
          "name": "stdout"
        }
      ]
    },
    {
      "cell_type": "code",
      "metadata": {
        "id": "wYqsptNUdkgf",
        "colab_type": "code",
        "colab": {}
      },
      "source": [
        "best_fit = []\n",
        "for i in x_vals:\n",
        "    best_fit.append(slope*i+intercept)"
      ],
      "execution_count": 0,
      "outputs": []
    },
    {
      "cell_type": "code",
      "metadata": {
        "id": "oKoJ9BiCdkgn",
        "colab_type": "code",
        "colab": {
          "base_uri": "https://localhost:8080/",
          "height": 295
        },
        "outputId": "b6a87a9b-cb40-4b56-a06b-88bc1fcd8544"
      },
      "source": [
        "plt.plot(x_vals, y_vals, 'o', label = \"Datos\")\n",
        "plt.plot(x_vals, best_fit, 'r-', label=\"Recta de regresión con TF\", linewidth=3)\n",
        "plt.legend(loc = \"upper left\")\n",
        "plt.title(\"Longitud de sépalos vs Anchura de Pétalos\")\n",
        "plt.xlabel(\"Anchura del Pétalo\")\n",
        "plt.ylabel(\"Longitud del Sépalo\")\n",
        "plt.show()"
      ],
      "execution_count": 31,
      "outputs": [
        {
          "output_type": "display_data",
          "data": {
            "image/png": "[encoded data removed]",
            "text/plain": [
              "<Figure size 432x288 with 1 Axes>"
            ]
          },
          "metadata": {
            "tags": [],
            "needs_background": "light"
          }
        }
      ]
    },
    {
      "cell_type": "code",
      "metadata": {
        "id": "IAhq9EyFdkgt",
        "colab_type": "code",
        "colab": {
          "base_uri": "https://localhost:8080/",
          "height": 296
        },
        "outputId": "0784cbac-acd4-43d3-ff28-60a30911a8d2"
      },
      "source": [
        "plt.plot(loss_vect_l2, \"k-\")\n",
        "plt.title(\"Función de pérdidas con L2\")\n",
        "plt.xlabel(\"Iteración del algoritmo\")\n",
        "plt.ylabel(\"Medida de L2\")\n",
        "plt.show()"
      ],
      "execution_count": 79,
      "outputs": [
        {
          "output_type": "display_data",
          "data": {
            "image/png": "[encoded data removed]",
            "text/plain": [
              "<Figure size 432x288 with 1 Axes>"
            ]
          },
          "metadata": {
            "tags": [],
            "needs_background": "light"
          }
        }
      ]
    },
    {
      "cell_type": "code",
      "metadata": {
        "id": "-TPYATPgdkgy",
        "colab_type": "code",
        "colab": {}
      },
      "source": [
        "from tensorflow.python.framework import ops\n",
        "ops.reset_default_graph()\n",
        "session = tf.Session()"
      ],
      "execution_count": 0,
      "outputs": []
    },
    {
      "cell_type": "code",
      "metadata": {
        "id": "r1jLc-YCdkg4",
        "colab_type": "code",
        "colab": {}
      },
      "source": [
        "x_data = tf.placeholder(shape=[None, 1], dtype=tf.float32)\n",
        "y_target = tf.placeholder(shape=[None, 1], dtype = tf.float32)\n",
        "A = tf.Variable(tf.random_normal(shape=[1,1]))\n",
        "b = tf.Variable(tf.random_normal(shape=[1,1]))"
      ],
      "execution_count": 0,
      "outputs": []
    },
    {
      "cell_type": "code",
      "metadata": {
        "id": "6gVSNY3sdkg-",
        "colab_type": "code",
        "colab": {}
      },
      "source": [
        "y_predict = tf.add(tf.matmul(x_data, A), b)"
      ],
      "execution_count": 0,
      "outputs": []
    },
    {
      "cell_type": "code",
      "metadata": {
        "id": "DnXLVOG7dkhE",
        "colab_type": "code",
        "colab": {}
      },
      "source": [
        "loss_l1 = tf.reduce_mean(tf.abs(y_target-y_predict))\n",
        "my_optim = tf.train.GradientDescentOptimizer(learning_rate=learning_rate)\n",
        "train_step = my_optim.minimize(loss_l1)\n",
        "init = tf.global_variables_initializer()\n",
        "session.run(init)"
      ],
      "execution_count": 0,
      "outputs": []
    },
    {
      "cell_type": "code",
      "metadata": {
        "id": "yKi-jHdgdkhO",
        "colab_type": "code",
        "colab": {
          "base_uri": "https://localhost:8080/",
          "height": 1000
        },
        "outputId": "27eb1331-7ef8-4d14-92cf-7294e7aa9430"
      },
      "source": [
        "loss_vect_l1 = []\n",
        "for i in range(1000):\n",
        "    rand_idx = np.random.choice(len(x_vals), size = batch_size)\n",
        "    rand_x = np.transpose([x_vals[rand_idx]])\n",
        "    rand_y = np.transpose([y_vals[rand_idx]])\n",
        "\n",
        "    session.run(train_step, feed_dict={x_data: rand_x, y_target: rand_y})\n",
        "    temp_loss = session.run(loss_l1, feed_dict={x_data:rand_x, y_target: rand_y})\n",
        "    loss_vect_l1.append(temp_loss)\n",
        "    if(i+1)%10==0:\n",
        "        print(\"Paso #\"+str(i+1)+\", A=\"+str(session.run(A))+\", b=\"+str(session.run(b))+\n",
        "             \", Loss = \"+str(temp_loss))"
      ],
      "execution_count": 85,
      "outputs": [
        {
          "output_type": "stream",
          "text": [
            "Paso #10, A=[[-0.13413922]], b=[[0.84548926]], Loss = 5.0533314\n",
            "Paso #20, A=[[0.4576608]], b=[[1.345489]], Loss = 4.1171727\n",
            "Paso #30, A=[[1.0636606]], b=[[1.8454885]], Loss = 2.683647\n",
            "Paso #40, A=[[1.6828607]], b=[[2.3414881]], Loss = 1.5013986\n",
            "Paso #50, A=[[1.9452605]], b=[[2.6894882]], Loss = 0.9081906\n",
            "Paso #60, A=[[1.9854608]], b=[[2.909488]], Loss = 0.8138048\n",
            "Paso #70, A=[[1.9628608]], b=[[3.0694876]], Loss = 0.68084055\n",
            "Paso #80, A=[[1.9342608]], b=[[3.2254875]], Loss = 0.9339397\n",
            "Paso #90, A=[[1.8690608]], b=[[3.3494873]], Loss = 0.7781685\n",
            "Paso #100, A=[[1.7428609]], b=[[3.4574873]], Loss = 0.74573\n",
            "Paso #110, A=[[1.638261]], b=[[3.5614874]], Loss = 0.6960296\n",
            "Paso #120, A=[[1.5114608]], b=[[3.6654868]], Loss = 0.6562491\n",
            "Paso #130, A=[[1.4858608]], b=[[3.8174865]], Loss = 0.55766535\n",
            "Paso #140, A=[[1.4074608]], b=[[3.9374862]], Loss = 0.47538868\n",
            "Paso #150, A=[[1.3416607]], b=[[4.0734863]], Loss = 0.50708884\n",
            "Paso #160, A=[[1.2376609]], b=[[4.1774874]], Loss = 0.40209693\n",
            "Paso #170, A=[[1.1878608]], b=[[4.273488]], Loss = 0.43071893\n",
            "Paso #180, A=[[1.1060609]], b=[[4.3294883]], Loss = 0.37936595\n",
            "Paso #190, A=[[1.1086608]], b=[[4.4374886]], Loss = 0.510852\n",
            "Paso #200, A=[[1.0216606]], b=[[4.4654884]], Loss = 0.3683118\n",
            "Paso #210, A=[[1.0304605]], b=[[4.585489]], Loss = 0.46950448\n",
            "Paso #220, A=[[0.9720606]], b=[[4.6054893]], Loss = 0.326455\n",
            "Paso #230, A=[[0.91886055]], b=[[4.62149]], Loss = 0.33981597\n",
            "Paso #240, A=[[0.91606057]], b=[[4.65749]], Loss = 0.37565437\n",
            "Paso #250, A=[[0.90566057]], b=[[4.70149]], Loss = 0.4261171\n",
            "Paso #260, A=[[0.92646056]], b=[[4.75349]], Loss = 0.2823631\n",
            "Paso #270, A=[[0.8620606]], b=[[4.7334895]], Loss = 0.31497133\n",
            "Paso #280, A=[[0.8888605]], b=[[4.757489]], Loss = 0.32258958\n",
            "Paso #290, A=[[0.8842605]], b=[[4.777489]], Loss = 0.30658555\n",
            "Paso #300, A=[[0.8458605]], b=[[4.7694893]], Loss = 0.30762035\n",
            "Paso #310, A=[[0.9042605]], b=[[4.801489]], Loss = 0.35049808\n",
            "Paso #320, A=[[0.8776605]], b=[[4.7694893]], Loss = 0.2719923\n",
            "Paso #330, A=[[0.92306054]], b=[[4.785489]], Loss = 0.30895835\n",
            "Paso #340, A=[[0.9130605]], b=[[4.7654886]], Loss = 0.4555108\n",
            "Paso #350, A=[[0.90446055]], b=[[4.789489]], Loss = 0.39647114\n",
            "Paso #360, A=[[0.8536606]], b=[[4.7534876]], Loss = 0.40399346\n",
            "Paso #370, A=[[0.84506065]], b=[[4.7494874]], Loss = 0.30055636\n",
            "Paso #380, A=[[0.86586064]], b=[[4.761488]], Loss = 0.33704332\n",
            "Paso #390, A=[[0.8374606]], b=[[4.7894874]], Loss = 0.35610345\n",
            "Paso #400, A=[[0.83566064]], b=[[4.7774878]], Loss = 0.33984864\n",
            "Paso #410, A=[[0.8618607]], b=[[4.8054876]], Loss = 0.29345113\n",
            "Paso #420, A=[[0.8242608]], b=[[4.7734876]], Loss = 0.47809952\n",
            "Paso #430, A=[[0.80406076]], b=[[4.793488]], Loss = 0.27039707\n",
            "Paso #440, A=[[0.8108608]], b=[[4.817489]], Loss = 0.5002618\n",
            "Paso #450, A=[[0.82026094]], b=[[4.7974887]], Loss = 0.39578497\n",
            "Paso #460, A=[[0.8540609]], b=[[4.8254886]], Loss = 0.3570769\n",
            "Paso #470, A=[[0.80926085]], b=[[4.789488]], Loss = 0.32054985\n",
            "Paso #480, A=[[0.87886083]], b=[[4.8214884]], Loss = 0.37542424\n",
            "Paso #490, A=[[0.8130607]], b=[[4.789488]], Loss = 0.3473616\n",
            "Paso #500, A=[[0.8398606]], b=[[4.797488]], Loss = 0.30308837\n",
            "Paso #510, A=[[0.85706055]], b=[[4.825488]], Loss = 0.4247784\n",
            "Paso #520, A=[[0.84466046]], b=[[4.825488]], Loss = 0.3670782\n",
            "Paso #530, A=[[0.8236605]], b=[[4.801488]], Loss = 0.45032144\n",
            "Paso #540, A=[[0.8468604]], b=[[4.8294888]], Loss = 0.42253104\n",
            "Paso #550, A=[[0.8414604]], b=[[4.8254886]], Loss = 0.36354578\n",
            "Paso #560, A=[[0.8912604]], b=[[4.813489]], Loss = 0.34448174\n",
            "Paso #570, A=[[0.82786036]], b=[[4.7534885]], Loss = 0.3494982\n",
            "Paso #580, A=[[0.8556603]], b=[[4.7774887]], Loss = 0.30873173\n",
            "Paso #590, A=[[0.86746025]], b=[[4.813489]], Loss = 0.32716596\n",
            "Paso #600, A=[[0.86326027]], b=[[4.8214884]], Loss = 0.42785588\n",
            "Paso #610, A=[[0.86306024]], b=[[4.8174877]], Loss = 0.37666306\n",
            "Paso #620, A=[[0.8340602]], b=[[4.817488]], Loss = 0.46784034\n",
            "Paso #630, A=[[0.8836602]], b=[[4.8494883]], Loss = 0.31639165\n",
            "Paso #640, A=[[0.83286023]], b=[[4.793488]], Loss = 0.24505398\n",
            "Paso #650, A=[[0.8680602]], b=[[4.797488]], Loss = 0.3619017\n",
            "Paso #660, A=[[0.8374602]], b=[[4.7774873]], Loss = 0.23049253\n",
            "Paso #670, A=[[0.8474603]], b=[[4.8014874]], Loss = 0.2911266\n",
            "Paso #680, A=[[0.83506036]], b=[[4.7854877]], Loss = 0.37088406\n",
            "Paso #690, A=[[0.8218604]], b=[[4.793488]], Loss = 0.2881767\n",
            "Paso #700, A=[[0.80426043]], b=[[4.8014874]], Loss = 0.40019616\n",
            "Paso #710, A=[[0.8424604]], b=[[4.809488]], Loss = 0.32402498\n",
            "Paso #720, A=[[0.85326046]], b=[[4.789489]], Loss = 0.3601081\n",
            "Paso #730, A=[[0.8290605]], b=[[4.7774887]], Loss = 0.36909348\n",
            "Paso #740, A=[[0.82946056]], b=[[4.793488]], Loss = 0.33734593\n",
            "Paso #750, A=[[0.8506605]], b=[[4.817488]], Loss = 0.4243666\n",
            "Paso #760, A=[[0.8278604]], b=[[4.7774878]], Loss = 0.3085762\n",
            "Paso #770, A=[[0.8546604]], b=[[4.7894874]], Loss = 0.36511514\n",
            "Paso #780, A=[[0.82166046]], b=[[4.7654867]], Loss = 0.45702222\n",
            "Paso #790, A=[[0.8408604]], b=[[4.7494864]], Loss = 0.31051293\n",
            "Paso #800, A=[[0.8614603]], b=[[4.777487]], Loss = 0.46481225\n",
            "Paso #810, A=[[0.8784602]], b=[[4.829487]], Loss = 0.2854771\n",
            "Paso #820, A=[[0.8272603]], b=[[4.797487]], Loss = 0.4186134\n",
            "Paso #830, A=[[0.7898603]], b=[[4.7854867]], Loss = 0.26176772\n",
            "Paso #840, A=[[0.8268603]], b=[[4.8254867]], Loss = 0.36356315\n",
            "Paso #850, A=[[0.82046026]], b=[[4.789487]], Loss = 0.5451696\n",
            "Paso #860, A=[[0.84326017]], b=[[4.813487]], Loss = 0.38696018\n",
            "Paso #870, A=[[0.8596602]], b=[[4.789487]], Loss = 0.2990951\n",
            "Paso #880, A=[[0.8324602]], b=[[4.7694874]], Loss = 0.28583464\n",
            "Paso #890, A=[[0.85006016]], b=[[4.7774873]], Loss = 0.4042955\n",
            "Paso #900, A=[[0.8346601]], b=[[4.7774873]], Loss = 0.40881294\n",
            "Paso #910, A=[[0.87546015]], b=[[4.793487]], Loss = 0.29278815\n",
            "Paso #920, A=[[0.86026007]], b=[[4.7894864]], Loss = 0.31170192\n",
            "Paso #930, A=[[0.84426004]], b=[[4.7854857]], Loss = 0.3253341\n",
            "Paso #940, A=[[0.85446]], b=[[4.7854853]], Loss = 0.33905944\n",
            "Paso #950, A=[[0.87866]], b=[[4.7974854]], Loss = 0.29749045\n",
            "Paso #960, A=[[0.88886005]], b=[[4.8254857]], Loss = 0.40868416\n",
            "Paso #970, A=[[0.85206]], b=[[4.8054857]], Loss = 0.30540293\n",
            "Paso #980, A=[[0.84085995]], b=[[4.7894855]], Loss = 0.3648938\n",
            "Paso #990, A=[[0.88105994]], b=[[4.809486]], Loss = 0.37675038\n",
            "Paso #1000, A=[[0.8466599]], b=[[4.789486]], Loss = 0.45292458\n"
          ],
          "name": "stdout"
        }
      ]
    },
    {
      "cell_type": "code",
      "metadata": {
        "id": "F421_jc3dkhX",
        "colab_type": "code",
        "colab": {}
      },
      "source": [
        "[[slope]] = session.run(A)\n",
        "[[intercept]] = session.run(b)"
      ],
      "execution_count": 0,
      "outputs": []
    },
    {
      "cell_type": "code",
      "metadata": {
        "id": "l-nBYNbEdkhc",
        "colab_type": "code",
        "colab": {
          "base_uri": "https://localhost:8080/",
          "height": 35
        },
        "outputId": "3c7c2fac-9138-4855-dec8-42b066accf2a"
      },
      "source": [
        "print(str(slope)+\"x + \"+str(intercept))"
      ],
      "execution_count": 87,
      "outputs": [
        {
          "output_type": "stream",
          "text": [
            "0.8466599x + 4.789486\n"
          ],
          "name": "stdout"
        }
      ]
    },
    {
      "cell_type": "code",
      "metadata": {
        "id": "wJOUntB-dkhi",
        "colab_type": "code",
        "colab": {}
      },
      "source": [
        "best_fit = []\n",
        "for i in x_vals:\n",
        "    best_fit.append(slope*i+intercept)"
      ],
      "execution_count": 0,
      "outputs": []
    },
    {
      "cell_type": "code",
      "metadata": {
        "id": "GgXWus6Gdkhn",
        "colab_type": "code",
        "colab": {
          "base_uri": "https://localhost:8080/",
          "height": 295
        },
        "outputId": "4547d2c1-4701-4a61-eb89-25cf954d3ad6"
      },
      "source": [
        "plt.plot(x_vals, y_vals, 'o', label = \"Datos\")\n",
        "plt.plot(x_vals, best_fit, 'r-', label=\"Recta de regresión con TF\", linewidth=3)\n",
        "plt.legend(loc = \"upper left\")\n",
        "plt.title(\"Longitud de sépalos vs Anchura de Pétalos\")\n",
        "plt.xlabel(\"Anchura del Pétalo\")\n",
        "plt.ylabel(\"Longitud del Sépalo\")\n",
        "plt.show()"
      ],
      "execution_count": 89,
      "outputs": [
        {
          "output_type": "display_data",
          "data": {
            "image/png": "[encoded data removed]",
            "text/plain": [
              "<Figure size 432x288 with 1 Axes>"
            ]
          },
          "metadata": {
            "tags": [],
            "needs_background": "light"
          }
        }
      ]
    },
    {
      "cell_type": "code",
      "metadata": {
        "id": "MTr7zlsndkhs",
        "colab_type": "code",
        "colab": {
          "base_uri": "https://localhost:8080/",
          "height": 295
        },
        "outputId": "3fda7e58-3b1e-4d76-8bd1-587d67e14ead"
      },
      "source": [
        "plt.plot(loss_vect_l1, 'r-', label = \"L1\")\n",
        "plt.plot(loss_vect_l2, 'g--', label = \"L2\")\n",
        "plt.title(\"Funciones de pérdida para regresión lineal\")\n",
        "plt.xlabel(\"Iteraciones\")\n",
        "plt.ylabel(\"Pérdida\")\n",
        "plt.legend(loc = \"upper right\")\n",
        "plt.show()"
      ],
      "execution_count": 93,
      "outputs": [
        {
          "output_type": "display_data",
          "data": {
            "image/png": "[encoded data removed]",
            "text/plain": [
              "<Figure size 432x288 with 1 Axes>"
            ]
          },
          "metadata": {
            "tags": [],
            "needs_background": "light"
          }
        }
      ]
    },
    {
      "cell_type": "code",
      "metadata": {
        "id": "wXsMgY0mdkhz",
        "colab_type": "code",
        "colab": {}
      },
      "source": [
        ""
      ],
      "execution_count": 0,
      "outputs": []
    },
    {
      "cell_type": "code",
      "metadata": {
        "id": "MYu4vlvPdkh4",
        "colab_type": "code",
        "colab": {},
        "outputId": "c3b15b0c-22e7-4377-a662-ebd259c12405"
      },
      "source": [
        "slope*np.mean(x_vals)+intercept"
      ],
      "execution_count": 0,
      "outputs": [
        {
          "output_type": "execute_result",
          "data": {
            "text/plain": [
              "5.759749668916067"
            ]
          },
          "metadata": {
            "tags": []
          },
          "execution_count": 21
        }
      ]
    },
    {
      "cell_type": "code",
      "metadata": {
        "id": "zQEXZP5ddkiA",
        "colab_type": "code",
        "colab": {},
        "outputId": "098e23f7-9d73-4bf0-c24a-19e905b51b69"
      },
      "source": [
        "intercept"
      ],
      "execution_count": 0,
      "outputs": [
        {
          "output_type": "execute_result",
          "data": {
            "text/plain": [
              "4.3478765"
            ]
          },
          "metadata": {
            "tags": []
          },
          "execution_count": 15
        }
      ]
    },
    {
      "cell_type": "code",
      "metadata": {
        "id": "SleaTLmudkiH",
        "colab_type": "code",
        "colab": {},
        "outputId": "3a7303b1-875b-4595-8acf-ddb8444de373"
      },
      "source": [
        ""
      ],
      "execution_count": 0,
      "outputs": [
        {
          "output_type": "execute_result",
          "data": {
            "text/plain": [
              "1.1986666666666668"
            ]
          },
          "metadata": {
            "tags": []
          },
          "execution_count": 17
        }
      ]
    },
    {
      "cell_type": "code",
      "metadata": {
        "id": "C4ECjTiPdkiM",
        "colab_type": "code",
        "colab": {},
        "outputId": "b3bbc232-7674-4598-e1f2-96a4b3c6bcab"
      },
      "source": [
        "np.mean(y_vals)"
      ],
      "execution_count": 0,
      "outputs": [
        {
          "output_type": "execute_result",
          "data": {
            "text/plain": [
              "5.843333333333334"
            ]
          },
          "metadata": {
            "tags": []
          },
          "execution_count": 18
        }
      ]
    },
    {
      "cell_type": "code",
      "metadata": {
        "id": "iwWI4VuedkiS",
        "colab_type": "code",
        "colab": {}
      },
      "source": [
        ""
      ],
      "execution_count": 0,
      "outputs": []
    }
  ]
}