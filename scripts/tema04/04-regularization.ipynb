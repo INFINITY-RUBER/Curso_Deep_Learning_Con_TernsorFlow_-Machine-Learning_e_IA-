{
  "nbformat": 4,
  "nbformat_minor": 0,
  "metadata": {
    "kernelspec": {
      "display_name": "Python 3",
      "language": "python",
      "name": "python3"
    },
    "language_info": {
      "codemirror_mode": {
        "name": "ipython",
        "version": 3
      },
      "file_extension": ".py",
      "mimetype": "text/x-python",
      "name": "python",
      "nbconvert_exporter": "python",
      "pygments_lexer": "ipython3",
      "version": "3.5.5"
    },
    "colab": {
      "name": "04-regularization.ipynb",
      "provenance": [],
      "include_colab_link": true
    }
  },
  "cells": [
    {
      "cell_type": "markdown",
      "metadata": {
        "id": "view-in-github",
        "colab_type": "text"
      },
      "source": [
        "<a href=\"https://colab.research.google.com/github/INFINITY-RUBER/Curso_Deep_Learning_Con_TernsorFlow_Machine-Learning_e_IA-/blob/master/scripts/tema04/04-regularization.ipynb\" target=\"_parent\"><img src=\"https://colab.research.google.com/assets/colab-badge.svg\" alt=\"Open In Colab\"/></a>"
      ]
    },
    {
      "cell_type": "code",
      "metadata": {
        "id": "fBMmS9ErfOMU",
        "colab_type": "code",
        "colab": {}
      },
      "source": [
        "!pip install tensorflow==1.14"
      ],
      "execution_count": 0,
      "outputs": []
    },
    {
      "cell_type": "markdown",
      "metadata": {
        "id": "YPE6QGuMfERB",
        "colab_type": "text"
      },
      "source": [
        "# Regresión Lasso y Ridge"
      ]
    },
    {
      "cell_type": "markdown",
      "metadata": {
        "id": "nNDaFqK6fERD",
        "colab_type": "text"
      },
      "source": [
        "$$y = Ax + b$$"
      ]
    },
    {
      "cell_type": "code",
      "metadata": {
        "id": "pNGyV76bfERG",
        "colab_type": "code",
        "colab": {}
      },
      "source": [
        "import matplotlib.pyplot as plt\n",
        "import numpy as np\n",
        "import tensorflow as tf\n",
        "from sklearn import datasets"
      ],
      "execution_count": 0,
      "outputs": []
    },
    {
      "cell_type": "code",
      "metadata": {
        "id": "vParbcPKfERR",
        "colab_type": "code",
        "colab": {}
      },
      "source": [
        "session = tf.Session()\n",
        "iris = datasets.load_iris()"
      ],
      "execution_count": 0,
      "outputs": []
    },
    {
      "cell_type": "code",
      "metadata": {
        "id": "iJ4L3wIzfERf",
        "colab_type": "code",
        "colab": {}
      },
      "source": [
        "x_vals = np.array([x[3] for x in iris.data])\n",
        "y_vals = np.array([x[0] for x in iris.data])"
      ],
      "execution_count": 0,
      "outputs": []
    },
    {
      "cell_type": "code",
      "metadata": {
        "id": "wBtXK1SQfERm",
        "colab_type": "code",
        "colab": {}
      },
      "source": [
        "batch_size = 50\n",
        "learning_rate = 0.001"
      ],
      "execution_count": 0,
      "outputs": []
    },
    {
      "cell_type": "code",
      "metadata": {
        "id": "u0pOXcnGfERt",
        "colab_type": "code",
        "colab": {}
      },
      "source": [
        "x_data = tf.placeholder(shape = [None, 1], dtype=tf.float32)\n",
        "y_target = tf.placeholder(shape=[None, 1], dtype = tf.float32)\n",
        "A = tf.Variable(tf.random_normal(shape=[1,1]))\n",
        "b = tf.Variable(tf.random_normal(shape=[1,1]))\n",
        "y_pred = tf.add(tf.matmul(x_data, A), b)"
      ],
      "execution_count": 0,
      "outputs": []
    },
    {
      "cell_type": "markdown",
      "metadata": {
        "id": "hsY1mWjygADa",
        "colab_type": "text"
      },
      "source": [
        "##### Funcion escalon modificada"
      ]
    },
    {
      "cell_type": "markdown",
      "metadata": {
        "id": "vTTN7GfifER0",
        "colab_type": "text"
      },
      "source": [
        "$$\\sum\\frac{(y_r-y_p)^2}{n} \\frac{99.0}{1+e^{-100(A-0.9)}}$$"
      ]
    },
    {
      "cell_type": "code",
      "metadata": {
        "id": "hbKsX81SfER1",
        "colab_type": "code",
        "colab": {}
      },
      "source": [
        "lasso_param = tf.constant(0.9)\n",
        "heavyside_step = tf.truediv(1.0, tf.add(1.0, tf.exp(tf.multiply(-100.0, tf.subtract(A, lasso_param)))))\n",
        "regularization_params = tf.multiply(heavyside_step, 99.0)\n",
        "loss = tf.add(tf.reduce_mean(tf.square(y_target - y_pred)), regularization_params)"
      ],
      "execution_count": 0,
      "outputs": []
    },
    {
      "cell_type": "code",
      "metadata": {
        "id": "-CK0-GEbfER9",
        "colab_type": "code",
        "colab": {}
      },
      "source": [
        "init = tf.global_variables_initializer()\n",
        "session.run(init)"
      ],
      "execution_count": 0,
      "outputs": []
    },
    {
      "cell_type": "code",
      "metadata": {
        "id": "T-uuW2nLfESE",
        "colab_type": "code",
        "colab": {}
      },
      "source": [
        "my_optim = tf.train.GradientDescentOptimizer(learning_rate=learning_rate)\n",
        "train_step = my_optim.minimize(loss)"
      ],
      "execution_count": 0,
      "outputs": []
    },
    {
      "cell_type": "code",
      "metadata": {
        "id": "d2wg0OQCfESJ",
        "colab_type": "code",
        "colab": {
          "base_uri": "https://localhost:8080/",
          "height": 381
        },
        "outputId": "ce7591a7-0f4a-4575-adba-0b21c182315b"
      },
      "source": [
        "# Bucle de entrenamiento:\n",
        "loss_vec = []\n",
        "for i in range(2000):\n",
        "    rand_idx = np.random.choice(len(x_vals), size = batch_size)\n",
        "    rand_x = np.transpose([x_vals[rand_idx]])\n",
        "    rand_y = np.transpose([y_vals[rand_idx]])\n",
        "    session.run(train_step, feed_dict = {x_data: rand_x, y_target: rand_y})\n",
        "    temp_loss = session.run(loss, feed_dict={x_data: rand_x, y_target: rand_y})\n",
        "    loss_vec.append(temp_loss[0])\n",
        "    if(i+1)%100 == 0:\n",
        "        print(\"Paso #\"+str(i+1)+\"A = \"+str(session.run(A))+\", b = \"+str(session.run(b))+\n",
        "             \"Loss: \"+str(temp_loss))"
      ],
      "execution_count": 21,
      "outputs": [
        {
          "output_type": "stream",
          "text": [
            "Paso #100A = [[0.8257983]], b = [[2.4053278]]Loss: [[5.9407744]]\n",
            "Paso #200A = [[0.8231252]], b = [[2.8472183]]Loss: [[3.9686897]]\n",
            "Paso #300A = [[0.82225454]], b = [[3.212288]]Loss: [[3.0830746]]\n",
            "Paso #400A = [[0.820725]], b = [[3.513849]]Loss: [[2.1081524]]\n",
            "Paso #500A = [[0.81806535]], b = [[3.7572894]]Loss: [[1.6656133]]\n",
            "Paso #600A = [[0.81613904]], b = [[3.9579813]]Loss: [[0.8415728]]\n",
            "Paso #700A = [[0.81379896]], b = [[4.1222634]]Loss: [[0.6484081]]\n",
            "Paso #800A = [[0.81295437]], b = [[4.255607]]Loss: [[0.6381179]]\n",
            "Paso #900A = [[0.8108329]], b = [[4.3662424]]Loss: [[0.5316785]]\n",
            "Paso #1000A = [[0.8084756]], b = [[4.4567056]]Loss: [[0.31165403]]\n",
            "Paso #1100A = [[0.807596]], b = [[4.5328474]]Loss: [[0.5248862]]\n",
            "Paso #1200A = [[0.8052476]], b = [[4.594557]]Loss: [[0.24136391]]\n",
            "Paso #1300A = [[0.8049463]], b = [[4.6474442]]Loss: [[0.30490154]]\n",
            "Paso #1400A = [[0.8014063]], b = [[4.689074]]Loss: [[0.2610637]]\n",
            "Paso #1500A = [[0.7993578]], b = [[4.7229033]]Loss: [[0.19313213]]\n",
            "Paso #1600A = [[0.79974]], b = [[4.7530026]]Loss: [[0.25671282]]\n",
            "Paso #1700A = [[0.7988619]], b = [[4.7779965]]Loss: [[0.34067994]]\n",
            "Paso #1800A = [[0.7971262]], b = [[4.796098]]Loss: [[0.21772598]]\n",
            "Paso #1900A = [[0.7957134]], b = [[4.811378]]Loss: [[0.18086913]]\n",
            "Paso #2000A = [[0.79666364]], b = [[4.8271184]]Loss: [[0.22081175]]\n"
          ],
          "name": "stdout"
        }
      ]
    },
    {
      "cell_type": "code",
      "metadata": {
        "id": "SqWcLQUAfESS",
        "colab_type": "code",
        "colab": {
          "base_uri": "https://localhost:8080/",
          "height": 283
        },
        "outputId": "da6800c4-95e5-4526-ba2c-4281321a1a79"
      },
      "source": [
        "plt.plot(loss_vec, 'k-')"
      ],
      "execution_count": 22,
      "outputs": [
        {
          "output_type": "execute_result",
          "data": {
            "text/plain": [
              "[<matplotlib.lines.Line2D at 0x7f5be3153a20>]"
            ]
          },
          "metadata": {
            "tags": []
          },
          "execution_count": 22
        },
        {
          "output_type": "display_data",
          "data": {
            "image/png": "[encoded data removed]",
            "text/plain": [
              "<Figure size 432x288 with 1 Axes>"
            ]
          },
          "metadata": {
            "tags": [],
            "needs_background": "light"
          }
        }
      ]
    },
    {
      "cell_type": "code",
      "metadata": {
        "id": "2o3mY89-fESZ",
        "colab_type": "code",
        "colab": {
          "base_uri": "https://localhost:8080/",
          "height": 35
        },
        "outputId": "421f175a-c921-4b53-ab16-fa0c0cf5f05c"
      },
      "source": [
        "[[slope]] = session.run(A)\n",
        "[[intercept]] = session.run(b)\n",
        "print(str(slope) + \"x + \"+str(intercept))# ECUACION LINEAL"
      ],
      "execution_count": 23,
      "outputs": [
        {
          "output_type": "stream",
          "text": [
            "0.79666364x + 4.8271184\n"
          ],
          "name": "stdout"
        }
      ]
    },
    {
      "cell_type": "code",
      "metadata": {
        "id": "zwPkH0vOfESj",
        "colab_type": "code",
        "colab": {}
      },
      "source": [
        "best_fit = []\n",
        "for i in x_vals:\n",
        "    best_fit.append(slope*i+intercept)"
      ],
      "execution_count": 0,
      "outputs": []
    },
    {
      "cell_type": "code",
      "metadata": {
        "id": "sz0Rn3r3fES0",
        "colab_type": "code",
        "colab": {
          "base_uri": "https://localhost:8080/",
          "height": 295
        },
        "outputId": "ec8e2c43-3c4e-457f-8309-f54f0872ded6"
      },
      "source": [
        "plt.plot(x_vals, y_vals, 'o', label = \"Datos\")\n",
        "plt.plot(x_vals, best_fit, 'r-', label=\"Recta de regresión lasso\", linewidth=3)\n",
        "plt.legend(loc = \"upper left\")\n",
        "plt.title(\"Longitud de sépalos vs Anchura de Pétalos\")\n",
        "plt.xlabel(\"Anchura del Pétalo\")\n",
        "plt.ylabel(\"Longitud del Sépalo\")\n",
        "plt.show()"
      ],
      "execution_count": 25,
      "outputs": [
        {
          "output_type": "display_data",
          "data": {
            "image/png": "[encoded data removed]",
            "text/plain": [
              "<Figure size 432x288 with 1 Axes>"
            ]
          },
          "metadata": {
            "tags": [],
            "needs_background": "light"
          }
        }
      ]
    },
    {
      "cell_type": "markdown",
      "metadata": {
        "id": "cJbVUEKkfES5",
        "colab_type": "text"
      },
      "source": [
        "## Ejercicio: Regresión Ridge"
      ]
    },
    {
      "cell_type": "markdown",
      "metadata": {
        "id": "anmNmimJfES6",
        "colab_type": "text"
      },
      "source": [
        "$$\\sum\\frac{(y_r-y_p)^2}{n}+ridge_p\\cdot A^2$$"
      ]
    },
    {
      "cell_type": "code",
      "metadata": {
        "id": "qBJEk15xfES8",
        "colab_type": "code",
        "colab": {}
      },
      "source": [
        "ridge_params = tf.constant(1.0)\n",
        "ridge_loss = tf.reduce_mean(tf.square(A))\n",
        "loss = tf.expand_dims(tf.add(tf.reduce_mean(tf.square(y_target-y_pred)), tf.multiply(ridge_params, ridge_loss)),0)"
      ],
      "execution_count": 0,
      "outputs": []
    },
    {
      "cell_type": "code",
      "metadata": {
        "id": "gPbLFtC2fETB",
        "colab_type": "code",
        "colab": {}
      },
      "source": [
        ""
      ],
      "execution_count": 0,
      "outputs": []
    }
  ]
}