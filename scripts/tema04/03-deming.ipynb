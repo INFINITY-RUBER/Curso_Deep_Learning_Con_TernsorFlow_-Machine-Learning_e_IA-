{
  "nbformat": 4,
  "nbformat_minor": 0,
  "metadata": {
    "kernelspec": {
      "display_name": "Python 3",
      "language": "python",
      "name": "python3"
    },
    "language_info": {
      "codemirror_mode": {
        "name": "ipython",
        "version": 3
      },
      "file_extension": ".py",
      "mimetype": "text/x-python",
      "name": "python",
      "nbconvert_exporter": "python",
      "pygments_lexer": "ipython3",
      "version": "3.5.5"
    },
    "colab": {
      "name": "03-deming.ipynb",
      "provenance": [],
      "include_colab_link": true
    }
  },
  "cells": [
    {
      "cell_type": "markdown",
      "metadata": {
        "id": "view-in-github",
        "colab_type": "text"
      },
      "source": [
        "<a href=\"https://colab.research.google.com/github/INFINITY-RUBER/Curso_Deep_Learning_Con_TernsorFlow_Machine-Learning_e_IA-/blob/master/scripts/tema04/03-deming.ipynb\" target=\"_parent\"><img src=\"https://colab.research.google.com/assets/colab-badge.svg\" alt=\"Open In Colab\"/></a>"
      ]
    },
    {
      "cell_type": "markdown",
      "metadata": {
        "id": "i0ZfDDckbEqL",
        "colab_type": "text"
      },
      "source": [
        "# Regresión de la distancia ortogonal"
      ]
    },
    {
      "cell_type": "code",
      "metadata": {
        "id": "8Bv5QDVjbHjN",
        "colab_type": "code",
        "colab": {}
      },
      "source": [
        "!pip install tensorflow==1.14"
      ],
      "execution_count": 0,
      "outputs": []
    },
    {
      "cell_type": "markdown",
      "metadata": {
        "id": "nyludUdobEqO",
        "colab_type": "text"
      },
      "source": [
        "$$y = mx +n $$\n",
        "Dado $(x_0,y_0)$, se define la distancia entre el punto y la recta anterior como:\n",
        "$$d=\\frac{|y_0-(mx_0+b)|}{\\sqrt{m^2+1}}$$"
      ]
    },
    {
      "cell_type": "code",
      "metadata": {
        "id": "q9XocFMsbEqQ",
        "colab_type": "code",
        "colab": {}
      },
      "source": [
        "import matplotlib.pyplot as plt\n",
        "import numpy as np\n",
        "import tensorflow as tf\n",
        "from sklearn import datasets\n",
        "\n",
        "session = tf.Session()\n",
        "iris = datasets.load_iris()"
      ],
      "execution_count": 0,
      "outputs": []
    },
    {
      "cell_type": "code",
      "metadata": {
        "id": "02Y6LmPTbEqa",
        "colab_type": "code",
        "colab": {}
      },
      "source": [
        "x_vals = np.array([x[3] for x in iris.data])\n",
        "y_vals = np.array([x[0] for x in iris.data])"
      ],
      "execution_count": 0,
      "outputs": []
    },
    {
      "cell_type": "code",
      "metadata": {
        "id": "1SJk-iRRbEqm",
        "colab_type": "code",
        "colab": {}
      },
      "source": [
        "batch_size = 50\n",
        "learning_rate = 0.1"
      ],
      "execution_count": 0,
      "outputs": []
    },
    {
      "cell_type": "code",
      "metadata": {
        "id": "Qn0-fP9bbEq1",
        "colab_type": "code",
        "colab": {}
      },
      "source": [
        "x_data = tf.placeholder(shape=[None, 1], dtype=tf.float32)\n",
        "y_target = tf.placeholder(shape=[None, 1], dtype = tf.float32)\n",
        "m = tf.Variable(tf.random_normal(shape=[1,1]))\n",
        "n = tf.Variable(tf.random_normal(shape=[1,1]))"
      ],
      "execution_count": 0,
      "outputs": []
    },
    {
      "cell_type": "code",
      "metadata": {
        "id": "ZICPsK9ObEq-",
        "colab_type": "code",
        "colab": {}
      },
      "source": [
        "y_predict = tf.add(tf.matmul(x_data, m), n)"
      ],
      "execution_count": 0,
      "outputs": []
    },
    {
      "cell_type": "code",
      "metadata": {
        "id": "0vLb8zmMbErG",
        "colab_type": "code",
        "colab": {}
      },
      "source": [
        "deming_num = tf.abs(tf.subtract(y_target, tf.add(tf.matmul(x_data,m), n)))\n",
        "demin_den = tf.sqrt(tf.add(tf.square(m), 1.0))\n",
        "deming_loss = tf.reduce_mean(tf.truediv(deming_num, demin_den))# FUNCION DE PERDIDA"
      ],
      "execution_count": 0,
      "outputs": []
    },
    {
      "cell_type": "code",
      "metadata": {
        "id": "chvhksb8bErN",
        "colab_type": "code",
        "colab": {}
      },
      "source": [
        "init = tf.global_variables_initializer()\n",
        "session.run(init)"
      ],
      "execution_count": 0,
      "outputs": []
    },
    {
      "cell_type": "code",
      "metadata": {
        "id": "2WYQMBvvbErc",
        "colab_type": "code",
        "colab": {}
      },
      "source": [
        "# DEFINIMOS EL PROCESO DE OPTIMIZACION \n",
        "my_optim = tf.train.GradientDescentOptimizer(learning_rate=learning_rate)\n",
        "train_step = my_optim.minimize(deming_loss)"
      ],
      "execution_count": 0,
      "outputs": []
    },
    {
      "cell_type": "code",
      "metadata": {
        "id": "QqcxmSGXbErj",
        "colab_type": "code",
        "colab": {
          "base_uri": "https://localhost:8080/",
          "height": 290
        },
        "outputId": "7dd9ced0-ec88-43e9-f664-2902ea0dc8ab"
      },
      "source": [
        "loss_vect = []\n",
        "for i in range(300):\n",
        "    rand_idx = np.random.choice(len(x_vals), size = batch_size)\n",
        "    rand_x = np.transpose([x_vals[rand_idx]])\n",
        "    rand_y = np.transpose([y_vals[rand_idx]])\n",
        "    session.run(train_step, feed_dict={x_data : rand_x, y_target: rand_y})\n",
        "    temp_loss = session.run(deming_loss, feed_dict={x_data: rand_x, y_target: rand_y})\n",
        "    loss_vect.append(temp_loss)\n",
        "    if(i+1)%20==0:\n",
        "        print(\"Paso #\"+str(i+1)+\", m = \"+str(session.run(m))+\", n = \"+str(session.run(n))+\n",
        "             \"Loss: \"+str(temp_loss))"
      ],
      "execution_count": 25,
      "outputs": [
        {
          "output_type": "stream",
          "text": [
            "Paso #20, m = [[3.1489341]], n = [[0.10425964]]Loss: 0.6442533\n",
            "Paso #40, m = [[3.5250723]], n = [[0.37377772]]Loss: 0.5663781\n",
            "Paso #60, m = [[3.6882799]], n = [[0.52975553]]Loss: 0.4184036\n",
            "Paso #80, m = [[3.7580798]], n = [[0.63872766]]Loss: 0.51903564\n",
            "Paso #100, m = [[3.7824023]], n = [[0.716618]]Loss: 0.4778857\n",
            "Paso #120, m = [[3.7708023]], n = [[0.76579094]]Loss: 0.46234596\n",
            "Paso #140, m = [[3.7611113]], n = [[0.8212243]]Loss: 0.4957541\n",
            "Paso #160, m = [[3.72256]], n = [[0.85013556]]Loss: 0.4716008\n",
            "Paso #180, m = [[3.6845634]], n = [[0.8846524]]Loss: 0.5331465\n",
            "Paso #200, m = [[3.6658401]], n = [[0.9391781]]Loss: 0.58442694\n",
            "Paso #220, m = [[3.6527734]], n = [[0.99187654]]Loss: 0.48811573\n",
            "Paso #240, m = [[3.616627]], n = [[1.0300786]]Loss: 0.52267164\n",
            "Paso #260, m = [[3.5735276]], n = [[1.0677322]]Loss: 0.4649654\n",
            "Paso #280, m = [[3.5587938]], n = [[1.1283174]]Loss: 0.52790225\n",
            "Paso #300, m = [[3.5004485]], n = [[1.1555814]]Loss: 0.45612362\n"
          ],
          "name": "stdout"
        }
      ]
    },
    {
      "cell_type": "code",
      "metadata": {
        "id": "tcKrYfRDbErt",
        "colab_type": "code",
        "colab": {
          "base_uri": "https://localhost:8080/",
          "height": 35
        },
        "outputId": "dde5827c-2285-4123-d824-b9e5bb8f9ab5"
      },
      "source": [
        "[[slope]] = session.run(m)\n",
        "[[intercept]] = session.run(n)\n",
        "print(str(slope)+\"x + \"+str(intercept))# ECUACION LINEAL"
      ],
      "execution_count": 26,
      "outputs": [
        {
          "output_type": "stream",
          "text": [
            "3.5004485x + 1.1555814\n"
          ],
          "name": "stdout"
        }
      ]
    },
    {
      "cell_type": "code",
      "metadata": {
        "id": "TPTG0AmbbEr0",
        "colab_type": "code",
        "colab": {}
      },
      "source": [
        "best_fit = []\n",
        "for i in x_vals: \n",
        "    best_fit.append(slope * i +intercept)"
      ],
      "execution_count": 0,
      "outputs": []
    },
    {
      "cell_type": "code",
      "metadata": {
        "id": "24Z5iokobEr8",
        "colab_type": "code",
        "colab": {
          "base_uri": "https://localhost:8080/",
          "height": 296
        },
        "outputId": "d0544e00-0b47-4aa2-f66c-6979b41c00c9"
      },
      "source": [
        "plt.plot(x_vals, y_vals, 'o', label = \"Iris Data\")\n",
        "plt.plot(x_vals, best_fit, 'r-', label = \"Best Deming Regression\", linewidth = 3)\n",
        "plt.legend(loc = \"upper left\")\n",
        "plt.title(\"Regresion Deming\")\n",
        "plt.xlabel(\"Anchura de pétalos\")\n",
        "plt.ylabel(\"Longitud de Sépalos\")\n",
        "plt.show()"
      ],
      "execution_count": 28,
      "outputs": [
        {
          "output_type": "display_data",
          "data": {
            "image/png": "[encoded data removed]",
            "text/plain": [
              "<Figure size 432x288 with 1 Axes>"
            ]
          },
          "metadata": {
            "tags": [],
            "needs_background": "light"
          }
        }
      ]
    },
    {
      "cell_type": "code",
      "metadata": {
        "id": "iMA7xKhibEsE",
        "colab_type": "code",
        "colab": {
          "base_uri": "https://localhost:8080/",
          "height": 283
        },
        "outputId": "9901d48a-7e6e-4897-8976-eb3dad05ba4b"
      },
      "source": [
        "plt.plot(loss_vect, 'k-', label=\"Función de pérdidas\")"
      ],
      "execution_count": 29,
      "outputs": [
        {
          "output_type": "execute_result",
          "data": {
            "text/plain": [
              "[<matplotlib.lines.Line2D at 0x7f87ec8e7b00>]"
            ]
          },
          "metadata": {
            "tags": []
          },
          "execution_count": 29
        },
        {
          "output_type": "display_data",
          "data": {
            "image/png": "[encoded data removed]",
            "text/plain": [
              "<Figure size 432x288 with 1 Axes>"
            ]
          },
          "metadata": {
            "tags": [],
            "needs_background": "light"
          }
        }
      ]
    },
    {
      "cell_type": "code",
      "metadata": {
        "id": "EoPr7thZbEsL",
        "colab_type": "code",
        "colab": {}
      },
      "source": [
        ""
      ],
      "execution_count": 0,
      "outputs": []
    }
  ]
}