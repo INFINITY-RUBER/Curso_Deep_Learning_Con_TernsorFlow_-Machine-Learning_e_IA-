{
  "nbformat": 4,
  "nbformat_minor": 0,
  "metadata": {
    "kernelspec": {
      "display_name": "Python 3",
      "language": "python",
      "name": "python3"
    },
    "language_info": {
      "codemirror_mode": {
        "name": "ipython",
        "version": 3
      },
      "file_extension": ".py",
      "mimetype": "text/x-python",
      "name": "python",
      "nbconvert_exporter": "python",
      "pygments_lexer": "ipython3",
      "version": "3.5.5"
    },
    "colab": {
      "name": "01-inverse-matrix.ipynb",
      "provenance": []
    }
  },
  "cells": [
    {
      "cell_type": "code",
      "metadata": {
        "id": "IBn71fp65r1Z",
        "colab_type": "code",
        "colab": {
          "base_uri": "https://localhost:8080/",
          "height": 835
        },
        "outputId": "6589324a-8fad-4577-be6d-ad454b828f6f"
      },
      "source": [
        "!pip install tensorflow==1.14"
      ],
      "execution_count": 2,
      "outputs": [
        {
          "output_type": "stream",
          "text": [
            "Collecting tensorflow==1.14\n",
            "\u001b[?25l  Downloading https://files.pythonhosted.org/packages/de/f0/96fb2e0412ae9692dbf400e5b04432885f677ad6241c088ccc5fe7724d69/tensorflow-1.14.0-cp36-cp36m-manylinux1_x86_64.whl (109.2MB)\n",
            "\u001b[K     |████████████████████████████████| 109.2MB 47kB/s \n",
            "\u001b[?25hRequirement already satisfied: wrapt>=1.11.1 in /usr/local/lib/python3.6/dist-packages (from tensorflow==1.14) (1.12.1)\n",
            "Requirement already satisfied: astor>=0.6.0 in /usr/local/lib/python3.6/dist-packages (from tensorflow==1.14) (0.8.1)\n",
            "Requirement already satisfied: numpy<2.0,>=1.14.5 in /usr/local/lib/python3.6/dist-packages (from tensorflow==1.14) (1.18.4)\n",
            "Requirement already satisfied: grpcio>=1.8.6 in /usr/local/lib/python3.6/dist-packages (from tensorflow==1.14) (1.29.0)\n",
            "Requirement already satisfied: gast>=0.2.0 in /usr/local/lib/python3.6/dist-packages (from tensorflow==1.14) (0.3.3)\n",
            "Requirement already satisfied: wheel>=0.26 in /usr/local/lib/python3.6/dist-packages (from tensorflow==1.14) (0.34.2)\n",
            "Collecting tensorflow-estimator<1.15.0rc0,>=1.14.0rc0\n",
            "\u001b[?25l  Downloading https://files.pythonhosted.org/packages/3c/d5/21860a5b11caf0678fbc8319341b0ae21a07156911132e0e71bffed0510d/tensorflow_estimator-1.14.0-py2.py3-none-any.whl (488kB)\n",
            "\u001b[K     |████████████████████████████████| 491kB 41.6MB/s \n",
            "\u001b[?25hRequirement already satisfied: google-pasta>=0.1.6 in /usr/local/lib/python3.6/dist-packages (from tensorflow==1.14) (0.2.0)\n",
            "Requirement already satisfied: termcolor>=1.1.0 in /usr/local/lib/python3.6/dist-packages (from tensorflow==1.14) (1.1.0)\n",
            "Collecting tensorboard<1.15.0,>=1.14.0\n",
            "\u001b[?25l  Downloading https://files.pythonhosted.org/packages/91/2d/2ed263449a078cd9c8a9ba50ebd50123adf1f8cfbea1492f9084169b89d9/tensorboard-1.14.0-py3-none-any.whl (3.1MB)\n",
            "\u001b[K     |████████████████████████████████| 3.2MB 19.1MB/s \n",
            "\u001b[?25hRequirement already satisfied: protobuf>=3.6.1 in /usr/local/lib/python3.6/dist-packages (from tensorflow==1.14) (3.10.0)\n",
            "Requirement already satisfied: absl-py>=0.7.0 in /usr/local/lib/python3.6/dist-packages (from tensorflow==1.14) (0.9.0)\n",
            "Requirement already satisfied: keras-preprocessing>=1.0.5 in /usr/local/lib/python3.6/dist-packages (from tensorflow==1.14) (1.1.2)\n",
            "Requirement already satisfied: six>=1.10.0 in /usr/local/lib/python3.6/dist-packages (from tensorflow==1.14) (1.12.0)\n",
            "Requirement already satisfied: keras-applications>=1.0.6 in /usr/local/lib/python3.6/dist-packages (from tensorflow==1.14) (1.0.8)\n",
            "Requirement already satisfied: setuptools>=41.0.0 in /usr/local/lib/python3.6/dist-packages (from tensorboard<1.15.0,>=1.14.0->tensorflow==1.14) (46.3.0)\n",
            "Requirement already satisfied: markdown>=2.6.8 in /usr/local/lib/python3.6/dist-packages (from tensorboard<1.15.0,>=1.14.0->tensorflow==1.14) (3.2.2)\n",
            "Requirement already satisfied: werkzeug>=0.11.15 in /usr/local/lib/python3.6/dist-packages (from tensorboard<1.15.0,>=1.14.0->tensorflow==1.14) (1.0.1)\n",
            "Requirement already satisfied: h5py in /usr/local/lib/python3.6/dist-packages (from keras-applications>=1.0.6->tensorflow==1.14) (2.10.0)\n",
            "Requirement already satisfied: importlib-metadata; python_version < \"3.8\" in /usr/local/lib/python3.6/dist-packages (from markdown>=2.6.8->tensorboard<1.15.0,>=1.14.0->tensorflow==1.14) (1.6.0)\n",
            "Requirement already satisfied: zipp>=0.5 in /usr/local/lib/python3.6/dist-packages (from importlib-metadata; python_version < \"3.8\"->markdown>=2.6.8->tensorboard<1.15.0,>=1.14.0->tensorflow==1.14) (3.1.0)\n",
            "Installing collected packages: tensorflow-estimator, tensorboard, tensorflow\n",
            "  Found existing installation: tensorflow-estimator 2.2.0\n",
            "    Uninstalling tensorflow-estimator-2.2.0:\n",
            "      Successfully uninstalled tensorflow-estimator-2.2.0\n",
            "  Found existing installation: tensorboard 2.2.1\n",
            "    Uninstalling tensorboard-2.2.1:\n",
            "      Successfully uninstalled tensorboard-2.2.1\n",
            "  Found existing installation: tensorflow 2.2.0\n",
            "    Uninstalling tensorflow-2.2.0:\n",
            "      Successfully uninstalled tensorflow-2.2.0\n",
            "Successfully installed tensorboard-1.14.0 tensorflow-1.14.0 tensorflow-estimator-1.14.0\n"
          ],
          "name": "stdout"
        },
        {
          "output_type": "display_data",
          "data": {
            "application/vnd.colab-display-data+json": {
              "pip_warning": {
                "packages": [
                  "tensorboard",
                  "tensorflow"
                ]
              }
            }
          },
          "metadata": {
            "tags": []
          }
        }
      ]
    },
    {
      "cell_type": "markdown",
      "metadata": {
        "id": "C-euEKqn5bWL",
        "colab_type": "text"
      },
      "source": [
        "# Método de la matriz inversa para la regresión lineal"
      ]
    },
    {
      "cell_type": "markdown",
      "metadata": {
        "id": "TEXw545T5bWO",
        "colab_type": "text"
      },
      "source": [
        "$$Ax=b$$"
      ]
    },
    {
      "cell_type": "markdown",
      "metadata": {
        "id": "PmtAlhXq5bWQ",
        "colab_type": "text"
      },
      "source": [
        "$$A^TAx = A^Tb$$"
      ]
    },
    {
      "cell_type": "markdown",
      "metadata": {
        "id": "PAr9V0kT5bWR",
        "colab_type": "text"
      },
      "source": [
        "$$x = (A^TA)^{-1}A^Tb$$"
      ]
    },
    {
      "cell_type": "code",
      "metadata": {
        "id": "0WFvK7dc5bWT",
        "colab_type": "code",
        "colab": {}
      },
      "source": [
        "import matplotlib.pyplot as plt\n",
        "import numpy as np\n",
        "import tensorflow as tf\n",
        "session = tf.Session()"
      ],
      "execution_count": 0,
      "outputs": []
    },
    {
      "cell_type": "code",
      "metadata": {
        "id": "P2jJAm5K5bWf",
        "colab_type": "code",
        "colab": {}
      },
      "source": [
        "x_vals = np.linspace(0,10,100)\n",
        "y_vals = x_vals + np.random.normal(0,1,100)"
      ],
      "execution_count": 0,
      "outputs": []
    },
    {
      "cell_type": "code",
      "metadata": {
        "id": "kW7c_Qb_5bWp",
        "colab_type": "code",
        "colab": {
          "base_uri": "https://localhost:8080/",
          "height": 286
        },
        "outputId": "7a279a61-e0ee-4d6f-eda7-502057382a53"
      },
      "source": [
        "plt.plot(x_vals, y_vals, 'o', label = \"Datos\")"
      ],
      "execution_count": 5,
      "outputs": [
        {
          "output_type": "execute_result",
          "data": {
            "text/plain": [
              "[<matplotlib.lines.Line2D at 0x7f2367928f60>]"
            ]
          },
          "metadata": {
            "tags": []
          },
          "execution_count": 5
        },
        {
          "output_type": "display_data",
          "data": {
            "image/png": "[encoded data removed]",
            "text/plain": [
              "<Figure size 432x288 with 1 Axes>"
            ]
          },
          "metadata": {
            "tags": [],
            "needs_background": "light"
          }
        }
      ]
    },
    {
      "cell_type": "code",
      "metadata": {
        "id": "_YCZPSEd5bWz",
        "colab_type": "code",
        "colab": {}
      },
      "source": [
        "x_vals_column = np.transpose(np.matrix(x_vals))\n",
        "ones_column = np.transpose(np.matrix(np.repeat(1,100)))\n",
        "A = np.column_stack((x_vals_column, ones_column))\n",
        "b = np.transpose(np.matrix(y_vals))"
      ],
      "execution_count": 0,
      "outputs": []
    },
    {
      "cell_type": "code",
      "metadata": {
        "id": "yzbtD4kQ7Hoh",
        "colab_type": "code",
        "colab": {}
      },
      "source": [
        "A # objeto numericos"
      ],
      "execution_count": 0,
      "outputs": []
    },
    {
      "cell_type": "code",
      "metadata": {
        "id": "F2wHDpq25bW6",
        "colab_type": "code",
        "colab": {}
      },
      "source": [
        "# convertimos los datos numericos a Tensores\n",
        "A_tensor = tf.constant(A)\n",
        "b_tensor = tf.constant(b)"
      ],
      "execution_count": 0,
      "outputs": []
    },
    {
      "cell_type": "markdown",
      "metadata": {
        "id": "D5xszMeg8k4O",
        "colab_type": "text"
      },
      "source": [
        "$$x = (A^TA)^{-1}A^Tb$$"
      ]
    },
    {
      "cell_type": "code",
      "metadata": {
        "id": "OWL6Dfvs5bXA",
        "colab_type": "code",
        "colab": {}
      },
      "source": [
        "tA_A = tf.matmul(tf.transpose(A_tensor), A_tensor)\n",
        "tA_A_inv = tf.matrix_inverse(tA_A)\n",
        "product = tf.matmul(tA_A_inv, tf.transpose(A_tensor))\n",
        "solution = tf.matmul(product, b_tensor)\n",
        "solution_eval = session.run(solution)"
      ],
      "execution_count": 0,
      "outputs": []
    },
    {
      "cell_type": "code",
      "metadata": {
        "id": "5sWmp3mL5bXH",
        "colab_type": "code",
        "colab": {},
        "outputId": "5586f418-57bb-4d59-cbd7-8fb708d51fb5"
      },
      "source": [
        "# los coeficientes de la solucion\n",
        "solution_eval"
      ],
      "execution_count": 0,
      "outputs": [
        {
          "output_type": "execute_result",
          "data": {
            "text/plain": [
              "array([[0.99395256],\n",
              "       [0.10398204]])"
            ]
          },
          "metadata": {
            "tags": []
          },
          "execution_count": 8
        }
      ]
    },
    {
      "cell_type": "code",
      "metadata": {
        "id": "QfNrpLrC5bXO",
        "colab_type": "code",
        "colab": {
          "base_uri": "https://localhost:8080/",
          "height": 35
        },
        "outputId": "97c4d269-5d9a-4f10-dc98-a7a1be20e120"
      },
      "source": [
        "# El modelo:\n",
        "slope = solution_eval[0][0]\n",
        "intercept = solution_eval[1][0]\n",
        "print(str(np.round(slope,3))+\"x + \"+str(np.round(intercept,3)))"
      ],
      "execution_count": 16,
      "outputs": [
        {
          "output_type": "stream",
          "text": [
            "0.915x + 0.429\n"
          ],
          "name": "stdout"
        }
      ]
    },
    {
      "cell_type": "code",
      "metadata": {
        "id": "ISI--TkB5bXV",
        "colab_type": "code",
        "colab": {}
      },
      "source": [
        "best_fit = []\n",
        "for i in x_vals:\n",
        "    best_fit.append(slope*i+intercept)"
      ],
      "execution_count": 0,
      "outputs": []
    },
    {
      "cell_type": "code",
      "metadata": {
        "id": "Wl7bTYhC5bXa",
        "colab_type": "code",
        "colab": {
          "base_uri": "https://localhost:8080/",
          "height": 268
        },
        "outputId": "68a26314-1c22-4896-9342-250e8f8f4edf"
      },
      "source": [
        "plt.plot(x_vals, y_vals, 'o', label = \"Datos originales\")\n",
        "plt.plot(x_vals, best_fit, 'r-', label = \"Recta de regresión lineal\", linewidth = 3)\n",
        "plt.legend(loc = \"upper left\")\n",
        "plt.show()"
      ],
      "execution_count": 19,
      "outputs": [
        {
          "output_type": "display_data",
          "data": {
            "image/png": "[encoded data removed]",
            "text/plain": [
              "<Figure size 432x288 with 1 Axes>"
            ]
          },
          "metadata": {
            "tags": [],
            "needs_background": "light"
          }
        }
      ]
    },
    {
      "cell_type": "markdown",
      "metadata": {
        "id": "fnSexaoy5bXg",
        "colab_type": "text"
      },
      "source": [
        "# Método de la descomposición de Cholesky"
      ]
    },
    {
      "cell_type": "markdown",
      "metadata": {
        "id": "zSp4PF8B5bXi",
        "colab_type": "text"
      },
      "source": [
        "$$A = LU$$\n",
        "- $L$: matriz triangular superior\n",
        "- $U$: matriz triangular inferior\n",
        "- $L^T=U$"
      ]
    },
    {
      "cell_type": "markdown",
      "metadata": {
        "id": "JC6mKh1F5bXk",
        "colab_type": "text"
      },
      "source": [
        "$$Ax=b$$"
      ]
    },
    {
      "cell_type": "markdown",
      "metadata": {
        "id": "vP0GxfuM5bXl",
        "colab_type": "text"
      },
      "source": [
        "$$A^TAx=A^Tb$$"
      ]
    },
    {
      "cell_type": "markdown",
      "metadata": {
        "id": "7GXGVHQZ5bXm",
        "colab_type": "text"
      },
      "source": [
        "$$LUx=A^Tb$$"
      ]
    },
    {
      "cell_type": "markdown",
      "metadata": {
        "id": "Nfei-9mm5bXo",
        "colab_type": "text"
      },
      "source": [
        "$$Ly=A^Tb$$\n",
        "$$Ux=y$$"
      ]
    },
    {
      "cell_type": "code",
      "metadata": {
        "id": "FXlbE3HC5bXp",
        "colab_type": "code",
        "colab": {}
      },
      "source": [
        "from tensorflow.python.framework import ops\n",
        "ops.reset_default_graph()\n",
        "session = tf.Session()"
      ],
      "execution_count": 0,
      "outputs": []
    },
    {
      "cell_type": "code",
      "metadata": {
        "id": "VmiU_6RU5bXv",
        "colab_type": "code",
        "colab": {}
      },
      "source": [
        "A_tensor = tf.constant(A)\n",
        "b_tensor = tf.constant(b)"
      ],
      "execution_count": 0,
      "outputs": []
    },
    {
      "cell_type": "code",
      "metadata": {
        "id": "AkZQf1g95bX1",
        "colab_type": "code",
        "colab": {}
      },
      "source": [
        "tA_A = tf.matmul(tf.transpose(A_tensor), A_tensor)\n",
        "L = tf.cholesky(tA_A)# solo devuelve la diangonal superior\n",
        "tA_b = tf.matmul(tf.transpose(A_tensor), b_tensor)\n",
        "y_sol = tf.matrix_solve(L, tA_b)\n",
        "x_sol = tf.matrix_solve(tf.transpose(L), y_sol)"
      ],
      "execution_count": 0,
      "outputs": []
    },
    {
      "cell_type": "code",
      "metadata": {
        "id": "dW7Kvo8x5bYA",
        "colab_type": "code",
        "colab": {}
      },
      "source": [
        "sol_eval = session.run(x_sol)"
      ],
      "execution_count": 0,
      "outputs": []
    },
    {
      "cell_type": "code",
      "metadata": {
        "id": "JHIiDOlb5bYH",
        "colab_type": "code",
        "colab": {
          "base_uri": "https://localhost:8080/",
          "height": 54
        },
        "outputId": "98cbbeff-33c2-4f58-9fe3-5f11bc5a43a4"
      },
      "source": [
        "sol_eval"
      ],
      "execution_count": 24,
      "outputs": [
        {
          "output_type": "execute_result",
          "data": {
            "text/plain": [
              "array([[0.91477318],\n",
              "       [0.42900986]])"
            ]
          },
          "metadata": {
            "tags": []
          },
          "execution_count": 24
        }
      ]
    },
    {
      "cell_type": "code",
      "metadata": {
        "id": "6K2o6dvk5bYO",
        "colab_type": "code",
        "colab": {
          "base_uri": "https://localhost:8080/",
          "height": 35
        },
        "outputId": "58d21eec-6a83-4545-c073-b0b81faffc80"
      },
      "source": [
        "# metodo lineal por descomposicion Cholesky\n",
        "slope = sol_eval[0][0]\n",
        "intercept = sol_eval[1][0]\n",
        "print(str(np.round(slope, 3))+\"x+\"+str(np.round(intercept,3)))"
      ],
      "execution_count": 25,
      "outputs": [
        {
          "output_type": "stream",
          "text": [
            "0.915x+0.429\n"
          ],
          "name": "stdout"
        }
      ]
    },
    {
      "cell_type": "code",
      "metadata": {
        "id": "wqtrXcKt5bYZ",
        "colab_type": "code",
        "colab": {}
      },
      "source": [
        "best_fit = []\n",
        "for i in x_vals:\n",
        "    best_fit.append(slope*i+intercept)"
      ],
      "execution_count": 0,
      "outputs": []
    },
    {
      "cell_type": "code",
      "metadata": {
        "id": "fg6y6EV55bYe",
        "colab_type": "code",
        "colab": {
          "base_uri": "https://localhost:8080/",
          "height": 268
        },
        "outputId": "c662a09f-2d90-4d1f-8de9-5e2010c957c9"
      },
      "source": [
        "plt.plot(x_vals, y_vals, 'bo', label = \"Datos\")\n",
        "plt.plot(x_vals, best_fit, 'r-', label = \"Regresión lineal con LU\", linewidth = 3)\n",
        "plt.legend(loc=\"upper left\")\n",
        "plt.show()"
      ],
      "execution_count": 27,
      "outputs": [
        {
          "output_type": "display_data",
          "data": {
            "image/png": "[encoded data removed]",
            "text/plain": [
              "<Figure size 432x288 with 1 Axes>"
            ]
          },
          "metadata": {
            "tags": [],
            "needs_background": "light"
          }
        }
      ]
    },
    {
      "cell_type": "code",
      "metadata": {
        "id": "NVULwNkn5bYk",
        "colab_type": "code",
        "colab": {}
      },
      "source": [
        ""
      ],
      "execution_count": 0,
      "outputs": []
    }
  ]
}