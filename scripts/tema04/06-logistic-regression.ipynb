{
  "nbformat": 4,
  "nbformat_minor": 0,
  "metadata": {
    "kernelspec": {
      "display_name": "Python 3",
      "language": "python",
      "name": "python3"
    },
    "language_info": {
      "codemirror_mode": {
        "name": "ipython",
        "version": 3
      },
      "file_extension": ".py",
      "mimetype": "text/x-python",
      "name": "python",
      "nbconvert_exporter": "python",
      "pygments_lexer": "ipython3",
      "version": "3.5.5"
    },
    "colab": {
      "name": "06-logistic-regression.ipynb",
      "provenance": [],
      "include_colab_link": true
    }
  },
  "cells": [
    {
      "cell_type": "markdown",
      "metadata": {
        "id": "view-in-github",
        "colab_type": "text"
      },
      "source": [
        "<a href=\"https://colab.research.google.com/github/INFINITY-RUBER/Curso_Deep_Learning_Con_TernsorFlow_Machine-Learning_e_IA-/blob/master/scripts/tema04/06-logistic-regression.ipynb\" target=\"_parent\"><img src=\"https://colab.research.google.com/assets/colab-badge.svg\" alt=\"Open In Colab\"/></a>"
      ]
    },
    {
      "cell_type": "markdown",
      "metadata": {
        "id": "p1vleYNRqqV-",
        "colab_type": "text"
      },
      "source": [
        "# Regresión logística"
      ]
    },
    {
      "cell_type": "code",
      "metadata": {
        "id": "kYt84UWKqubb",
        "colab_type": "code",
        "colab": {}
      },
      "source": [
        "!pip install tensorflow==1.14"
      ],
      "execution_count": 0,
      "outputs": []
    },
    {
      "cell_type": "code",
      "metadata": {
        "id": "jkgKgTmCqqWB",
        "colab_type": "code",
        "colab": {}
      },
      "source": [
        "import matplotlib.pyplot as plt\n",
        "import numpy as np\n",
        "import tensorflow as tf\n",
        "import requests\n",
        "from sklearn.preprocessing import normalize"
      ],
      "execution_count": 0,
      "outputs": []
    },
    {
      "cell_type": "code",
      "metadata": {
        "id": "J2hicDhGqqWN",
        "colab_type": "code",
        "colab": {}
      },
      "source": [
        "session = tf.Session()"
      ],
      "execution_count": 0,
      "outputs": []
    },
    {
      "cell_type": "code",
      "metadata": {
        "id": "8t6FtxJnqqWW",
        "colab_type": "code",
        "colab": {}
      },
      "source": [
        "url = \"https://raw.githubusercontent.com/joanby/tensorflow/master/datasets/birthweight.dat?token=AMRAeMNwZBLC86UzdMdxEuhlGPMufKa5ks5cVIdzwA%3D%3D\"\n",
        "birth_file = requests.get(url)\n",
        "birth_data = birth_file.text.split('\\r\\n')\n",
        "\n",
        "birth_header = birth_data[0].split('\\t')\n",
        "birth_data = [[float(x) for x in y.split('\\t') if len(x)>=1] for y in birth_data[1:] if len(y)>=1]"
      ],
      "execution_count": 0,
      "outputs": []
    },
    {
      "cell_type": "code",
      "metadata": {
        "id": "7R0rc2LTqqWc",
        "colab_type": "code",
        "colab": {}
      },
      "source": [
        "# CREAR UN FICHERO CSV DE LOS DATOS CARGADOS\n",
        "import os.path\n",
        "import csv\n",
        "\n",
        "birthweight_file_name = \"birthweight.csv\" # Ruta del archivo\n",
        "if not os.path.exists(birthweight_file_name):\n",
        "    with open(birthweight_file_name, 'w', newline='') as f:\n",
        "        writer = csv.writer(f)\n",
        "        writer.writerow(birth_header)\n",
        "        writer.writerows(birth_data)\n",
        "        f.close()"
      ],
      "execution_count": 0,
      "outputs": []
    },
    {
      "cell_type": "code",
      "metadata": {
        "id": "Xx2MVnD6qqWj",
        "colab_type": "code",
        "colab": {}
      },
      "source": [
        "# LEER EL FICHERO CREADO\n",
        "birth_data = [] \n",
        "with open(birthweight_file_name, newline='') as csvfile:\n",
        "    csv_reader = csv.reader(csvfile)\n",
        "    birth_header = next(csv_reader)\n",
        "    for row in csv_reader:\n",
        "        birth_data.append(row)"
      ],
      "execution_count": 0,
      "outputs": []
    },
    {
      "cell_type": "code",
      "metadata": {
        "id": "Y69CrDxrqqWq",
        "colab_type": "code",
        "outputId": "abefca1b-0a57-4f41-86aa-d88b0a95759c",
        "colab": {
          "base_uri": "https://localhost:8080/",
          "height": 35
        }
      },
      "source": [
        "birth_header"
      ],
      "execution_count": 38,
      "outputs": [
        {
          "output_type": "execute_result",
          "data": {
            "text/plain": [
              "['LOW', 'AGE', 'LWT', 'RACE', 'SMOKE', 'PTL', 'HT', 'UI', 'BWT']"
            ]
          },
          "metadata": {
            "tags": []
          },
          "execution_count": 38
        }
      ]
    },
    {
      "cell_type": "code",
      "metadata": {
        "id": "cZl6dz06qqW0",
        "colab_type": "code",
        "outputId": "e485981c-bee7-45c6-cc2f-1cb065529dfc",
        "colab": {
          "base_uri": "https://localhost:8080/",
          "height": 35
        }
      },
      "source": [
        "birth_data[0]"
      ],
      "execution_count": 39,
      "outputs": [
        {
          "output_type": "execute_result",
          "data": {
            "text/plain": [
              "['1.0', '28.0', '113.0', '1.0', '1.0', '1.0', '0.0', '1.0', '709.0']"
            ]
          },
          "metadata": {
            "tags": []
          },
          "execution_count": 39
        }
      ]
    },
    {
      "cell_type": "code",
      "metadata": {
        "id": "BaKH0uwRqqXA",
        "colab_type": "code",
        "colab": {}
      },
      "source": [
        "# CREO UN DOBLE BUCLE PARA CONVERTIR A FLOAT LOS DATOS\n",
        "birth_data = [[float(x) for x in row] for row in birth_data]"
      ],
      "execution_count": 0,
      "outputs": []
    },
    {
      "cell_type": "code",
      "metadata": {
        "id": "cJR50AjvqqXJ",
        "colab_type": "code",
        "outputId": "cd7f49ff-7537-4852-bf5b-c4f14dd1ae74",
        "colab": {
          "base_uri": "https://localhost:8080/",
          "height": 35
        }
      },
      "source": [
        "birth_data[0]"
      ],
      "execution_count": 41,
      "outputs": [
        {
          "output_type": "execute_result",
          "data": {
            "text/plain": [
              "[1.0, 28.0, 113.0, 1.0, 1.0, 1.0, 0.0, 1.0, 709.0]"
            ]
          },
          "metadata": {
            "tags": []
          },
          "execution_count": 41
        }
      ]
    },
    {
      "cell_type": "code",
      "metadata": {
        "id": "CttSc62qqqXP",
        "colab_type": "code",
        "colab": {}
      },
      "source": [
        "# DIVIDIMOS LOS DATOS ( Y = primer columna y X = resto de datos)\n",
        "y_vals = np.array([x[0] for x in birth_data])\n",
        "x_vals = np.array([x[1:8] for x in birth_data])"
      ],
      "execution_count": 0,
      "outputs": []
    },
    {
      "cell_type": "code",
      "metadata": {
        "id": "TgvugA_qCXza",
        "colab_type": "code",
        "outputId": "ef2af9d0-5ae8-4593-e506-757c4973784e",
        "colab": {
          "base_uri": "https://localhost:8080/",
          "height": 145
        }
      },
      "source": [
        "x_vals"
      ],
      "execution_count": 43,
      "outputs": [
        {
          "output_type": "execute_result",
          "data": {
            "text/plain": [
              "array([[ 28., 113.,   1., ...,   1.,   0.,   1.],\n",
              "       [ 29., 130.,   0., ...,   0.,   0.,   1.],\n",
              "       [ 34., 187.,   1., ...,   0.,   1.,   0.],\n",
              "       ...,\n",
              "       [ 19., 120.,   0., ...,   0.,   1.,   0.],\n",
              "       [ 24., 216.,   0., ...,   0.,   0.,   0.],\n",
              "       [ 45., 123.,   0., ...,   1.,   0.,   0.]])"
            ]
          },
          "metadata": {
            "tags": []
          },
          "execution_count": 43
        }
      ]
    },
    {
      "cell_type": "markdown",
      "metadata": {
        "id": "9CZTi5BiqqXX",
        "colab_type": "text"
      },
      "source": [
        "### Dividir en entrenamiento y test"
      ]
    },
    {
      "cell_type": "code",
      "metadata": {
        "id": "FhiGxVfJqqXZ",
        "colab_type": "code",
        "colab": {}
      },
      "source": [
        "train_idx =np.random.choice(len(x_vals), size=round(len(x_vals)*0.8), replace=False)\n",
        "test_idx = np.array(list(set(range(len(x_vals)))-set(train_idx)))# quito los restantes"
      ],
      "execution_count": 0,
      "outputs": []
    },
    {
      "cell_type": "code",
      "metadata": {
        "id": "JwZl0-JzDEVK",
        "colab_type": "code",
        "outputId": "bd242e35-957c-44e4-b46b-ff351d1a0fdc",
        "colab": {
          "base_uri": "https://localhost:8080/",
          "height": 72
        }
      },
      "source": [
        "test_idx"
      ],
      "execution_count": 45,
      "outputs": [
        {
          "output_type": "execute_result",
          "data": {
            "text/plain": [
              "array([  0,   1, 129,   7,  12,  19,  21,  27, 155, 158, 162, 164, 165,\n",
              "        38,  39,  47, 176,  49,  50, 178,  52,  53, 181,  55, 186, 187,\n",
              "        68,  70,  71,  79,  80,  81,  87,  90, 101, 103, 118, 125])"
            ]
          },
          "metadata": {
            "tags": []
          },
          "execution_count": 45
        }
      ]
    },
    {
      "cell_type": "code",
      "metadata": {
        "id": "rON6AClTqqXg",
        "colab_type": "code",
        "colab": {}
      },
      "source": [
        "x_vals_train = x_vals[train_idx]\n",
        "y_vals_train = y_vals[train_idx]\n",
        "\n",
        "x_vals_test = x_vals[test_idx]\n",
        "y_vals_test = y_vals[test_idx]"
      ],
      "execution_count": 0,
      "outputs": []
    },
    {
      "cell_type": "markdown",
      "metadata": {
        "id": "y5onkrg-qqXn",
        "colab_type": "text"
      },
      "source": [
        "### Normalización"
      ]
    },
    {
      "cell_type": "code",
      "metadata": {
        "id": "fN6-yuWzqqXo",
        "colab_type": "code",
        "colab": {}
      },
      "source": [
        "def normalize_cols(m, col_min = np.array([None]), col_max=np.array([None])):\n",
        "    if not col_min[0]:\n",
        "        col_min = m.min(axis=0)\n",
        "    if not col_max[0]:\n",
        "        col_max = m.max(axis=0)\n",
        "    return (m-col_min)/(col_max-col_min), col_min, col_max"
      ],
      "execution_count": 0,
      "outputs": []
    },
    {
      "cell_type": "code",
      "metadata": {
        "id": "-pksL4LrqqXz",
        "colab_type": "code",
        "colab": {}
      },
      "source": [
        "x_vals_train, train_min, train_max = np.nan_to_num(normalize_cols(x_vals_train))"
      ],
      "execution_count": 0,
      "outputs": []
    },
    {
      "cell_type": "code",
      "metadata": {
        "id": "31uWXp7jqqX5",
        "colab_type": "code",
        "outputId": "1758a71b-8d0e-4108-d964-86465cc994fc",
        "colab": {
          "base_uri": "https://localhost:8080/",
          "height": 54
        }
      },
      "source": [
        "x_vals_train[0]"
      ],
      "execution_count": 49,
      "outputs": [
        {
          "output_type": "execute_result",
          "data": {
            "text/plain": [
              "array([0.16129032, 0.14705882, 1.        , 0.        , 0.        ,\n",
              "       0.        , 0.        ])"
            ]
          },
          "metadata": {
            "tags": []
          },
          "execution_count": 49
        }
      ]
    },
    {
      "cell_type": "code",
      "metadata": {
        "id": "se_xTuUVqqYA",
        "colab_type": "code",
        "outputId": "29022f37-5778-46ef-8784-f43d82ee1efb",
        "colab": {
          "base_uri": "https://localhost:8080/",
          "height": 35
        }
      },
      "source": [
        "train_min"
      ],
      "execution_count": 50,
      "outputs": [
        {
          "output_type": "execute_result",
          "data": {
            "text/plain": [
              "array([14., 80.,  0.,  0.,  0.,  0.,  0.])"
            ]
          },
          "metadata": {
            "tags": []
          },
          "execution_count": 50
        }
      ]
    },
    {
      "cell_type": "code",
      "metadata": {
        "id": "uN03d2D4qqYH",
        "colab_type": "code",
        "outputId": "e773e2d6-3c5a-4e27-bfe8-48dac5122f7b",
        "colab": {
          "base_uri": "https://localhost:8080/",
          "height": 35
        }
      },
      "source": [
        "train_max "
      ],
      "execution_count": 51,
      "outputs": [
        {
          "output_type": "execute_result",
          "data": {
            "text/plain": [
              "array([ 45., 250.,   1.,   1.,   1.,   1.,   1.])"
            ]
          },
          "metadata": {
            "tags": []
          },
          "execution_count": 51
        }
      ]
    },
    {
      "cell_type": "code",
      "metadata": {
        "id": "_BKN-hUqqqYQ",
        "colab_type": "code",
        "colab": {}
      },
      "source": [
        "x_vals_test = np.nan_to_num(normalize_cols(x_vals_test, col_min=train_min, col_max=train_max))"
      ],
      "execution_count": 0,
      "outputs": []
    },
    {
      "cell_type": "markdown",
      "metadata": {
        "id": "YTkA1fe-qqYY",
        "colab_type": "text"
      },
      "source": [
        "### Modelo de regresión logística"
      ]
    },
    {
      "cell_type": "markdown",
      "metadata": {
        "id": "hVCofiduqqYZ",
        "colab_type": "text"
      },
      "source": [
        "- $x \\in \\mathbb R^7$  espacio vectorial 7 dimenciones\n",
        "- $A \\in \\mathbb R_{7\\times 1}$ matrix 7 filas x 1 col\n",
        "- $b \\in \\mathbb R$  es un numero\n",
        "- $y = Ax+b\\in \\mathbb R$  numero real\n",
        "- $\\hat{y} = sigmoid(y)\\in (0,1) $ valor esta 0 y 1"
      ]
    },
    {
      "cell_type": "code",
      "metadata": {
        "id": "TKk42Ty-qqYa",
        "colab_type": "code",
        "colab": {}
      },
      "source": [
        "batch_size = 25\n",
        "x_data = tf.placeholder(shape=[None, 7], dtype = tf.float32)\n",
        "y_target = tf.placeholder(shape = [None, 1], dtype=tf.float32)\n",
        "A = tf.Variable(tf.random_normal(shape=[7,1]))\n",
        "b = tf.Variable(tf.random_normal(shape=[1,1]))\n",
        "y_pred = tf.add(tf.matmul(x_data, A), b)"
      ],
      "execution_count": 0,
      "outputs": []
    },
    {
      "cell_type": "code",
      "metadata": {
        "id": "PE_EVGWJqqYg",
        "colab_type": "code",
        "colab": {}
      },
      "source": [
        "loss = tf.reduce_mean(tf.nn.sigmoid_cross_entropy_with_logits(logits=y_pred, labels= y_target))\n",
        "init = tf.global_variables_initializer()\n",
        "session.run(init)\n",
        "my_optim = tf.train.GradientDescentOptimizer(learning_rate=0.01)\n",
        "train_step = my_optim.minimize(loss)"
      ],
      "execution_count": 0,
      "outputs": []
    },
    {
      "cell_type": "code",
      "metadata": {
        "id": "qsbaBQ-CqqYl",
        "colab_type": "code",
        "colab": {}
      },
      "source": [
        "classification_lr = tf.round(tf.sigmoid(y_pred))\n",
        "correct_classification = tf.cast(tf.equal(classification_lr, y_target), tf.float32)\n",
        "accuracy = tf.reduce_mean(correct_classification)"
      ],
      "execution_count": 0,
      "outputs": []
    },
    {
      "cell_type": "code",
      "metadata": {
        "id": "y8BPNJhWqqYq",
        "colab_type": "code",
        "outputId": "69f51832-ab33-48f5-e986-5eabde5a772d",
        "colab": {
          "base_uri": "https://localhost:8080/",
          "height": 381
        }
      },
      "source": [
        "loss_vec = []\n",
        "train_acc = []\n",
        "test_acc = []\n",
        "for i in range(2000):\n",
        "    rand_idx = np.random.choice(len(x_vals_train), size=batch_size)\n",
        "    rand_x = x_vals_train[rand_idx]\n",
        "    rand_y = np.transpose([y_vals_train[rand_idx]])\n",
        "    session.run(train_step, feed_dict={x_data: rand_x, y_target: rand_y})\n",
        "    temp_loss = session.run(loss, feed_dict={x_data: rand_x, y_target: rand_y})\n",
        "    loss_vec.append(temp_loss)\n",
        "    temp_acc_train = session.run(accuracy, \n",
        "                                 feed_dict={x_data: x_vals_train, y_target: np.transpose([y_vals_train])})\n",
        "    train_acc.append(temp_acc_train)\n",
        "    temp_acc_test = session.run(accuracy, \n",
        "                                feed_dict={x_data: x_vals_test[0], y_target: np.transpose([y_vals_test])})\n",
        "    test_acc.append(temp_acc_test)\n",
        "    if(i+1)%100==0:\n",
        "        print(\"Loss: \"+str(temp_loss))"
      ],
      "execution_count": 56,
      "outputs": [
        {
          "output_type": "stream",
          "text": [
            "Loss: 0.7049561\n",
            "Loss: 0.5599682\n",
            "Loss: 0.58395976\n",
            "Loss: 0.55832845\n",
            "Loss: 0.58837426\n",
            "Loss: 0.52394736\n",
            "Loss: 0.5159602\n",
            "Loss: 0.49336016\n",
            "Loss: 0.5471855\n",
            "Loss: 0.5594522\n",
            "Loss: 0.5164898\n",
            "Loss: 0.51929003\n",
            "Loss: 0.58581823\n",
            "Loss: 0.63815814\n",
            "Loss: 0.58020294\n",
            "Loss: 0.5957679\n",
            "Loss: 0.45519474\n",
            "Loss: 0.51659757\n",
            "Loss: 0.5329697\n",
            "Loss: 0.50551873\n"
          ],
          "name": "stdout"
        }
      ]
    },
    {
      "cell_type": "code",
      "metadata": {
        "id": "HVsmeCZUqqYw",
        "colab_type": "code",
        "outputId": "dc022350-2666-441c-eb8b-20a407b405bf",
        "colab": {
          "base_uri": "https://localhost:8080/",
          "height": 295
        }
      },
      "source": [
        "plt.plot(loss_vec, 'k-')\n",
        "plt.title(\"Función de pérdidas por iteración\")\n",
        "plt.xlabel(\"Iteración\")\n",
        "plt.ylabel(\"Pérdida\")\n",
        "plt.ylim([0,2])\n",
        "plt.show()"
      ],
      "execution_count": 57,
      "outputs": [
        {
          "output_type": "display_data",
          "data": {
            "image/png": "[encoded data removed]",
            "text/plain": [
              "<Figure size 432x288 with 1 Axes>"
            ]
          },
          "metadata": {
            "tags": [],
            "needs_background": "light"
          }
        }
      ]
    },
    {
      "cell_type": "code",
      "metadata": {
        "id": "82lq_uSpqqY1",
        "colab_type": "code",
        "outputId": "03eae71a-c6c9-4e58-ad85-2bc9e1b66cda",
        "colab": {
          "base_uri": "https://localhost:8080/",
          "height": 296
        }
      },
      "source": [
        "plt.plot(train_acc, 'b-', label = \"Precisión conjunto entrenamiento\")\n",
        "plt.plot(test_acc, 'r--', label = \"Precisión conjunto de pruebas\")\n",
        "plt.title(\"Precisión en entrenamiento y testing\")\n",
        "plt.xlabel(\"Iteración del algoritmo\")\n",
        "plt.ylabel(\"Precisión (proporción de clasifición OK)\")\n",
        "plt.legend(loc = 'lower right')\n",
        "plt.show()"
      ],
      "execution_count": 58,
      "outputs": [
        {
          "output_type": "display_data",
          "data": {
            "image/png": "[encoded data removed]",
            "text/plain": [
              "<Figure size 432x288 with 1 Axes>"
            ]
          },
          "metadata": {
            "tags": [],
            "needs_background": "light"
          }
        }
      ]
    },
    {
      "cell_type": "code",
      "metadata": {
        "id": "KonQngDgqqY8",
        "colab_type": "code",
        "colab": {}
      },
      "source": [
        ""
      ],
      "execution_count": 0,
      "outputs": []
    }
  ]
}